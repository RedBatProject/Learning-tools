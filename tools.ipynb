{
  "cells": [
    {
      "cell_type": "markdown",
      "metadata": {
        "id": "view-in-github",
        "colab_type": "text"
      },
      "source": [
        "<a href=\"https://colab.research.google.com/github/rizzaesh/Learning-tools/blob/main/tools.ipynb\" target=\"_parent\"><img src=\"https://colab.research.google.com/assets/colab-badge.svg\" alt=\"Open In Colab\"/></a>"
      ]
    },
    {
      "cell_type": "code",
      "source": [
        "!gdown https://drive.google.com/uc?id=1OTS726FHnYMqPg6gaz2Ga-WvvhnLv6v1"
      ],
      "metadata": {
        "colab": {
          "base_uri": "https://localhost:8080/"
        },
        "id": "4eH0R7kxFUn_",
        "outputId": "d5557b52-fccb-4a9c-c278-ae8edebf2caf"
      },
      "execution_count": null,
      "outputs": [
        {
          "output_type": "stream",
          "name": "stdout",
          "text": [
            "Downloading...\n",
            "From: https://drive.google.com/uc?id=1OTS726FHnYMqPg6gaz2Ga-WvvhnLv6v1\n",
            "To: /content/ddos_01_12_prep_training.csv\n",
            "\r  0% 0.00/15.5M [00:00<?, ?B/s]\r100% 15.5M/15.5M [00:00<00:00, 161MB/s]\n"
          ]
        }
      ]
    },
    {
      "cell_type": "code",
      "source": [
        "!gdown http://205.174.165.80/CICDataset/ISCX-SlowDoS-2016/Dataset/AppDDos.tar.bz"
      ],
      "metadata": {
        "colab": {
          "base_uri": "https://localhost:8080/"
        },
        "id": "griUdDkYvlA8",
        "outputId": "7742c6e2-e6e5-43c1-9986-cb1ca8a39a4e"
      },
      "execution_count": 1,
      "outputs": [
        {
          "output_type": "stream",
          "name": "stdout",
          "text": [
            "Downloading...\n",
            "From: http://205.174.165.80/CICDataset/ISCX-SlowDoS-2016/Dataset/AppDDos.tar.bz\n",
            "To: /content/AppDDos.tar.bz\n",
            "100% 1.52G/1.52G [05:49<00:00, 4.33MB/s]\n"
          ]
        }
      ]
    },
    {
      "cell_type": "code",
      "source": [
        "! gdown http://205.174.165.80/CICDataset/CIC-IDS-2017/Dataset/MachineLearningCSV.zip"
      ],
      "metadata": {
        "colab": {
          "base_uri": "https://localhost:8080/"
        },
        "id": "Mf6x_cUNwcaL",
        "outputId": "c3ab6f37-7a16-44a8-c9c5-80cedfe93ac7"
      },
      "execution_count": 2,
      "outputs": [
        {
          "output_type": "stream",
          "name": "stdout",
          "text": [
            "Downloading...\n",
            "From: http://205.174.165.80/CICDataset/CIC-IDS-2017/Dataset/MachineLearningCSV.zip\n",
            "To: /content/MachineLearningCSV.zip\n",
            "100% 235M/235M [01:21<00:00, 2.87MB/s]\n"
          ]
        }
      ]
    },
    {
      "cell_type": "code",
      "source": [
        ""
      ],
      "metadata": {
        "id": "pQklW22Z06xX"
      },
      "execution_count": null,
      "outputs": []
    },
    {
      "cell_type": "code",
      "execution_count": null,
      "metadata": {
        "colab": {
          "base_uri": "https://localhost:8080/"
        },
        "id": "BGAwc-LvuSdX",
        "outputId": "dfcc8291-c6c6-4546-f4e9-855e2609c68d"
      },
      "outputs": [
        {
          "output_type": "stream",
          "name": "stdout",
          "text": [
            "Collecting gtts\n",
            "  Downloading gTTS-2.2.3-py3-none-any.whl (25 kB)\n",
            "Requirement already satisfied: six in /usr/local/lib/python3.7/dist-packages (from gtts) (1.15.0)\n",
            "Requirement already satisfied: requests in /usr/local/lib/python3.7/dist-packages (from gtts) (2.23.0)\n",
            "Requirement already satisfied: click in /usr/local/lib/python3.7/dist-packages (from gtts) (7.1.2)\n",
            "Requirement already satisfied: chardet<4,>=3.0.2 in /usr/local/lib/python3.7/dist-packages (from requests->gtts) (3.0.4)\n",
            "Requirement already satisfied: certifi>=2017.4.17 in /usr/local/lib/python3.7/dist-packages (from requests->gtts) (2021.10.8)\n",
            "Requirement already satisfied: urllib3!=1.25.0,!=1.25.1,<1.26,>=1.21.1 in /usr/local/lib/python3.7/dist-packages (from requests->gtts) (1.24.3)\n",
            "Requirement already satisfied: idna<3,>=2.5 in /usr/local/lib/python3.7/dist-packages (from requests->gtts) (2.10)\n",
            "Installing collected packages: gtts\n",
            "Successfully installed gtts-2.2.3\n"
          ]
        }
      ],
      "source": [
        "import threading, tweepy,json\n",
        "import matplotlib.pyplot as plt\n",
        "import numpy as np\n",
        "import random as rn\n",
        "!pip install gtts\n",
        "import gtts\n"
      ]
    },
    {
      "cell_type": "code",
      "execution_count": null,
      "metadata": {
        "id": "M7HhMZWhVgFv"
      },
      "outputs": [],
      "source": [
        "\n",
        "def tweet():\n",
        "    #import files and give access to tokens and keys\n",
        "    access_token=\"1369691334051852293-IGWGrIUKFY6rTwmrA5WD3YLkJrlUk5\"\n",
        "    access_token_secret=\"7ftmxYiYnso7PNkPOWOWKCkNrguFFMhwwPTHhQ6bFVvgG\"\n",
        "    consumer_key=\"gEJhQtgiIvxzNB50u4JPic8f4\"\n",
        "    consumer_secret=\"iEfTG65lFX8cAzKJ4QIhJklvuh3tfWdaRAAWO3b17082dZaSiu\"\n",
        "    auth= tweepy.OAuthHandler(consumer_key,consumer_secret)\n",
        "    auth.set_access_token(access_token,access_token_secret)\n",
        "\n",
        "    tweet_list=[]\n",
        "    class MyStreamListener(tweepy.StreamListener):\n",
        "        def __init__(self,api=None):\n",
        "            super(MyStreamListener,self).__init__()\n",
        "            self.num_tweets=0\n",
        "            self.tweets_data=[]\n",
        "            # self.fille = open(\"tweet11.json\" , \"r\")\n",
        "            # for i in self.fille:\n",
        "            #     self.tweet=json.loads(i)\n",
        "            #     self.tweets_data.append(self.tweet)\n",
        "            self.file=open(\"tweet11.json\",\"w\")\n",
        "        def on_status(self,status):\n",
        "            tweet=status._json\n",
        "            self.file.write(json.dumps(tweet)+ '\\n')\n",
        "            tweet_list.append(status)\n",
        "            self.num_tweets+=1\n",
        "            if self.num_tweets<10:\n",
        "                return True\n",
        "            else:\n",
        "                for line in self.tweets_data:\n",
        "                  self.file.write(json.dumps(line)+ '\\n')\n",
        "                return False\n",
        "            self.file.close()\n",
        "            print(tweet_list)\n",
        "\n",
        "    #create streaming object and authenticate\n",
        "    l = MyStreamListener()\n",
        "    # print(l())\n",
        "    stream =tweepy.Stream(auth,l)\n",
        "    # print(stream)\n",
        "    #this line filters twiiter streams to capture data by keywords\n",
        "    stream.filter(track=[\"sex\"],)\n",
        "\n",
        "\n",
        "    # tweets_file=open('tweet1.json',\"r\")\n",
        "    # print(tweets_file[0])\n",
        "    #read in tweets and store on list\n",
        "    # for line in tweets_file:\n",
        "    #   print(line)\n",
        "    #   tweet=json.loads(line)\n",
        "    #   tweets_data.append(tweet)\n",
        "    # tweets_file.close()\n",
        "    # print(tweets_data)\n",
        "    # p = []\n",
        "    # fill = open(\"tweet1.json\")\n",
        "    # p.append(json.loads(fill))\n",
        "\n",
        "    # filew = open(\"tweet1.json\",\"r\")\n",
        "    # for i in filew:\n",
        "    #   j = json.loads(i)\n",
        "    #   k.append(j)"
      ]
    },
    {
      "cell_type": "code",
      "execution_count": null,
      "metadata": {
        "id": "D5m5FVx8bEpX"
      },
      "outputs": [],
      "source": [
        "file=open(\"tweet11.json\",\"w\")"
      ]
    },
    {
      "cell_type": "code",
      "execution_count": null,
      "metadata": {
        "id": "a609jD2at0Yl"
      },
      "outputs": [],
      "source": [
        "thread1 = threading.Thread(target=tweet)\n",
        "# thread1.start()\n",
        "thread10 = threading.Thread(target=tweet)\n",
        "# thread10.start()\n",
        "thread100 = threading.Thread(target=tweet)\n",
        "# thread100.start()\n",
        "thread1000 = threading.Thread(target=tweet)\n",
        "# thread1000.start()"
      ]
    },
    {
      "cell_type": "code",
      "execution_count": null,
      "metadata": {
        "id": "wblsZ5V2vfk-"
      },
      "outputs": [],
      "source": [
        "tweet()"
      ]
    },
    {
      "cell_type": "code",
      "execution_count": null,
      "metadata": {
        "id": "fS2DXBOqWHp8"
      },
      "outputs": [],
      "source": [
        "k = []\n",
        "file = open(\"tweet11.json\",\"r\")\n",
        "for i in file:\n",
        "  try:\n",
        "    k.append(json.loads(i))\n",
        "  except:\n",
        "    pass"
      ]
    },
    {
      "cell_type": "code",
      "execution_count": null,
      "metadata": {
        "id": "CgklPa0AUtDN"
      },
      "outputs": [],
      "source": [
        "k[0]"
      ]
    },
    {
      "cell_type": "code",
      "execution_count": null,
      "metadata": {
        "id": "H3GFFvWcVZbQ"
      },
      "outputs": [],
      "source": [
        "d =[]\n",
        "for i in k:\n",
        "  # print(i['created_at'])\n",
        "  d.append(i['id'])"
      ]
    },
    {
      "cell_type": "code",
      "execution_count": null,
      "metadata": {
        "id": "yXpsbyBhcW7y"
      },
      "outputs": [],
      "source": [
        "d"
      ]
    },
    {
      "cell_type": "code",
      "execution_count": null,
      "metadata": {
        "colab": {
          "base_uri": "https://localhost:8080/",
          "height": 304
        },
        "id": "zd1m4gocTzRH",
        "outputId": "a7a7087f-b108-4034-9094-4e6fd88ca4d2"
      },
      "outputs": [
        {
          "ename": "TypeError",
          "evalue": "ignored",
          "output_type": "error",
          "traceback": [
            "\u001b[0;31m---------------------------------------------------------------------------\u001b[0m",
            "\u001b[0;31mTypeError\u001b[0m                                 Traceback (most recent call last)",
            "\u001b[0;32m<ipython-input-71-547fcf4f2ae0>\u001b[0m in \u001b[0;36m<module>\u001b[0;34m()\u001b[0m\n\u001b[0;32m----> 1\u001b[0;31m \u001b[0mf\u001b[0m \u001b[0;34m=\u001b[0m \u001b[0mjson\u001b[0m\u001b[0;34m.\u001b[0m\u001b[0mloads\u001b[0m\u001b[0;34m(\u001b[0m\u001b[0mfile\u001b[0m\u001b[0;34m)\u001b[0m\u001b[0;34m\u001b[0m\u001b[0;34m\u001b[0m\u001b[0m\n\u001b[0m",
            "\u001b[0;32m/usr/lib/python3.7/json/__init__.py\u001b[0m in \u001b[0;36mloads\u001b[0;34m(s, encoding, cls, object_hook, parse_float, parse_int, parse_constant, object_pairs_hook, **kw)\u001b[0m\n\u001b[1;32m    339\u001b[0m     \u001b[0;32melse\u001b[0m\u001b[0;34m:\u001b[0m\u001b[0;34m\u001b[0m\u001b[0;34m\u001b[0m\u001b[0m\n\u001b[1;32m    340\u001b[0m         \u001b[0;32mif\u001b[0m \u001b[0;32mnot\u001b[0m \u001b[0misinstance\u001b[0m\u001b[0;34m(\u001b[0m\u001b[0ms\u001b[0m\u001b[0;34m,\u001b[0m \u001b[0;34m(\u001b[0m\u001b[0mbytes\u001b[0m\u001b[0;34m,\u001b[0m \u001b[0mbytearray\u001b[0m\u001b[0;34m)\u001b[0m\u001b[0;34m)\u001b[0m\u001b[0;34m:\u001b[0m\u001b[0;34m\u001b[0m\u001b[0;34m\u001b[0m\u001b[0m\n\u001b[0;32m--> 341\u001b[0;31m             raise TypeError(f'the JSON object must be str, bytes or bytearray, '\n\u001b[0m\u001b[1;32m    342\u001b[0m                             f'not {s.__class__.__name__}')\n\u001b[1;32m    343\u001b[0m         \u001b[0ms\u001b[0m \u001b[0;34m=\u001b[0m \u001b[0ms\u001b[0m\u001b[0;34m.\u001b[0m\u001b[0mdecode\u001b[0m\u001b[0;34m(\u001b[0m\u001b[0mdetect_encoding\u001b[0m\u001b[0;34m(\u001b[0m\u001b[0ms\u001b[0m\u001b[0;34m)\u001b[0m\u001b[0;34m,\u001b[0m \u001b[0;34m'surrogatepass'\u001b[0m\u001b[0;34m)\u001b[0m\u001b[0;34m\u001b[0m\u001b[0;34m\u001b[0m\u001b[0m\n",
            "\u001b[0;31mTypeError\u001b[0m: the JSON object must be str, bytes or bytearray, not TextIOWrapper"
          ]
        }
      ],
      "source": [
        "f = json.loads(file)"
      ]
    },
    {
      "cell_type": "code",
      "execution_count": null,
      "metadata": {
        "colab": {
          "base_uri": "https://localhost:8080/"
        },
        "id": "7Vss9ZVEEfYZ",
        "outputId": "72dc2628-84da-4b92-8a81-0f7b39e4acc5"
      },
      "outputs": [
        {
          "name": "stdout",
          "output_type": "stream",
          "text": [
            "18722\n"
          ]
        }
      ],
      "source": [
        "l = []\n",
        "for i in k:\n",
        "  l.append(i['id'])\n",
        "print(len(l))"
      ]
    },
    {
      "cell_type": "code",
      "execution_count": null,
      "metadata": {
        "colab": {
          "base_uri": "https://localhost:8080/"
        },
        "id": "LFMp7Lg8FLmY",
        "outputId": "1f2c2178-0fb8-4fb3-cb07-54b8427704ec"
      },
      "outputs": [
        {
          "data": {
            "text/plain": [
              "200"
            ]
          },
          "execution_count": 68,
          "metadata": {},
          "output_type": "execute_result"
        }
      ],
      "source": [
        "len(l)"
      ]
    },
    {
      "cell_type": "code",
      "execution_count": null,
      "metadata": {
        "colab": {
          "base_uri": "https://localhost:8080/",
          "height": 35
        },
        "id": "595D4gyhoEvC",
        "outputId": "7e98ac5f-858b-41f2-8c4d-e87890b17d20"
      },
      "outputs": [
        {
          "data": {
            "application/vnd.google.colaboratory.intrinsic+json": {
              "type": "string"
            },
            "text/plain": [
              "'س ل ب ه ل  ل ی ر و ب م ی ح ه د ک ب د ی د ب ک ه ش ن ژ ر ب ک م ی ح ب ک د غ ف ض ا ب ن د ک م ی ح ک ه ل ی ر و ب م ی ح'"
            ]
          },
          "execution_count": 14,
          "metadata": {},
          "output_type": "execute_result"
        }
      ],
      "source": [
        "j = \"س ل ب ه ل  ل ی ر و ب م ی ح ه د ک ب د ی د ب ک ه ش ن ژ ر ب ک م ی ح ب ک د غ ف ض ا ب ن د ک م ی ح ک ه ل ی ر و ب م ی ح\"\n",
        "len(j)\n",
        "# j = j.replace(\" \",\"\")\n",
        "len(j)\n",
        "C = \"ا ب پ ت ث ج چ ح خ د ذ ر ز ژ س ش ص ض ط ظ ع غ ف ق ک گ ل م ن و ه ی\"\n",
        "j"
      ]
    },
    {
      "cell_type": "code",
      "execution_count": null,
      "metadata": {
        "colab": {
          "base_uri": "https://localhost:8080/"
        },
        "id": "RA0nRRNDjzhS",
        "outputId": "79895076-38f4-448b-ce40-d9ab90147db9"
      },
      "outputs": [
        {
          "data": {
            "text/plain": [
              "32"
            ]
          },
          "execution_count": 16,
          "metadata": {},
          "output_type": "execute_result"
        }
      ],
      "source": [
        "len(C.split(\" \"))"
      ]
    },
    {
      "cell_type": "code",
      "execution_count": null,
      "metadata": {
        "id": "rnQUrBxTjM-c"
      },
      "outputs": [],
      "source": [
        "A= \"9.1 5.65 6.17 7.1 5.65 2.67 1.65 2.97 1.15 1.55 0.18 1.52 0.21 0.61 0.28 0.65 2.64 3.26 0.07 2.9 8.5 0.12 7.45 1.49 0.96 0.42 1.24 0.09 5.18 0.28 4.2 14.4\""
      ]
    },
    {
      "cell_type": "code",
      "execution_count": null,
      "metadata": {
        "id": "t6b0EYK2Y7co"
      },
      "outputs": [],
      "source": [
        "Css = []\n",
        "for i in Cs1:\n",
        "  i = float(i)\n",
        "  Css.append(i)\n"
      ]
    },
    {
      "cell_type": "code",
      "execution_count": null,
      "metadata": {
        "id": "leECNDXUs8DW"
      },
      "outputs": [],
      "source": [
        "AlphabetNum"
      ]
    },
    {
      "cell_type": "code",
      "execution_count": null,
      "metadata": {
        "colab": {
          "base_uri": "https://localhost:8080/",
          "height": 282
        },
        "id": "CVY8KsPdnFgW",
        "outputId": "211e8346-d146-439a-e9d0-0f54a4729dd3"
      },
      "outputs": [
        {
          "data": {
            "text/plain": [
              "[<matplotlib.lines.Line2D at 0x7f0a306a2b10>]"
            ]
          },
          "execution_count": 31,
          "metadata": {},
          "output_type": "execute_result"
        },
        {
          "data": {
            "image/png": "[encoded data removed]",
            "text/plain": [
              "<Figure size 432x288 with 1 Axes>"
            ]
          },
          "metadata": {},
          "output_type": "display_data"
        }
      ],
      "source": [
        "plt.plot(Css)\n",
        "plt.plot(AlphabetNum)"
      ]
    },
    {
      "cell_type": "code",
      "execution_count": null,
      "metadata": {
        "colab": {
          "base_uri": "https://localhost:8080/"
        },
        "id": "qS_K4QCnb8fW",
        "outputId": "88957877-4f54-4db2-b785-6194bd814fe8"
      },
      "outputs": [
        {
          "data": {
            "text/plain": [
              "[1,\n",
              " 8,\n",
              " 0,\n",
              " 0,\n",
              " 0,\n",
              " 0,\n",
              " 0,\n",
              " 4,\n",
              " 0,\n",
              " 5,\n",
              " 0,\n",
              " 3,\n",
              " 0,\n",
              " 1,\n",
              " 1,\n",
              " 1,\n",
              " 0,\n",
              " 1,\n",
              " 0,\n",
              " 0,\n",
              " 0,\n",
              " 1,\n",
              " 1,\n",
              " 0,\n",
              " 6,\n",
              " 0,\n",
              " 4,\n",
              " 4,\n",
              " 2,\n",
              " 2,\n",
              " 4,\n",
              " 7]"
            ]
          },
          "execution_count": 30,
          "metadata": {},
          "output_type": "execute_result"
        }
      ],
      "source": [
        "BB = \"AHTNA PEPC UPBNTP DCPNQ HC DHHI PSBPOQ QKCHXDK TNAZ NAI DCPNQ TRJQNFPJ.\"\n",
        "BB = j\n",
        "# C = \"A B C D E F G H I J K L M N O P Q R S T U V W X Y Z\"\n",
        "# C = C.split(\" \")\n",
        "Alphabet = [i for i in C.split(\" \")]\n",
        "AlphabetNum = [0 for i in range(32)]\n",
        "# BB = BB.replace(\" \",\"\")\n",
        "for i in BB:\n",
        "    for j,k in enumerate(Alphabet):\n",
        "      if i ==k:\n",
        "        # print(i)\n",
        "        AlphabetNum[j]+=1\n",
        "AlphabetNum"
      ]
    },
    {
      "cell_type": "code",
      "execution_count": null,
      "metadata": {
        "id": "vXmDARQhpu3a"
      },
      "outputs": [],
      "source": [
        "A= \"9.1 5.65 6.17 7.1 5.65 2.67 1.65 2.97 1.15 1.55 0.18 1.52 0.21 0.61 0.28 0.65 2.64 3.26 0.07 2.9 8.5 0.12 7.45 1.49 0.96 0.42 1.24 0.09 5.18 0.28 4.2 14.4\"\n"
      ]
    },
    {
      "cell_type": "code",
      "execution_count": null,
      "metadata": {
        "id": "v-83c_aVpv2Q"
      },
      "outputs": [],
      "source": [
        "import matplotlib.pyplot as plt"
      ]
    },
    {
      "cell_type": "code",
      "execution_count": null,
      "metadata": {
        "id": "d6oGwxUBrAmJ"
      },
      "outputs": [],
      "source": [
        "A = A.split(\" \")\n",
        "A"
      ]
    },
    {
      "cell_type": "code",
      "execution_count": null,
      "metadata": {
        "id": "ssYtNoYlp06j"
      },
      "outputs": [],
      "source": [
        "# plt.plot(AlphabetNum)\n",
        "plt.plot(A)"
      ]
    },
    {
      "cell_type": "code",
      "execution_count": null,
      "metadata": {
        "colab": {
          "base_uri": "https://localhost:8080/"
        },
        "id": "VY2gyNPwsjIP",
        "outputId": "d9f0c818-6953-4156-b802-6706f11a0c5e"
      },
      "outputs": [
        {
          "name": "stdout",
          "output_type": "stream",
          "text": [
            "[8.12, 1.49, 2.71, 4.32, 12.02, 2.3, 2.03, 5.92, 7.31, 0.1, 0.69, 3.98, 2.61, 6.95, 7.68, 1.86, 0.11, 6.02, 6.28, 9.1, 2.88, 1.11, 2.09, 0.17, 2.11, 0.07]\n"
          ]
        },
        {
          "data": {
            "text/plain": [
              "[5, 0, 5, 5, 14, 0, 2, 4, 4, 0, 1, 0, 1, 6, 2, 1, 0, 7, 5, 7, 3, 0, 1, 0, 4, 0]"
            ]
          },
          "execution_count": 218,
          "metadata": {},
          "output_type": "execute_result"
        }
      ],
      "source": [
        "BB = \"EOEYE GTRNP SECEH HETYH SNGND DDDET OCRAE RAEMH TECSE USIAR WKDRI RNYAR ANUEY ICNTT CEIETUS\"\n",
        "C = \"A B C D E F G H I J K L M N O P Q R S T U V W X Y Z\"\n",
        "# E = E            S = N         C = V          H = R  \n",
        "Alphabet = [i for i in C.split(\" \")]\n",
        "AlphabetNum = [0 for i in range(26)]\n",
        "BB = BB.replace(\" \",\"\")\n",
        "for i in BB:\n",
        "    for j,k in enumerate(Alphabet):\n",
        "      if i ==k:\n",
        "        # print(i)\n",
        "        AlphabetNum[j]+=1\n",
        "print(lan)\n",
        "AlphabetNum\n"
      ]
    },
    {
      "cell_type": "code",
      "execution_count": null,
      "metadata": {
        "id": "GPKkTTzfwqYR"
      },
      "outputs": [],
      "source": [
        "gg(C, pdisttotal2[ind][0],pdisttotal2[ind][1])"
      ]
    },
    {
      "cell_type": "code",
      "execution_count": null,
      "metadata": {
        "id": "Qao-ppb9tg6M"
      },
      "outputs": [],
      "source": [
        "for i,j in enumerate(lan):\n",
        "  print(Alphabet[i],\" \",lan[i],\" \",AlphabetNum[i],\"   \",kh[i]) "
      ]
    },
    {
      "cell_type": "code",
      "execution_count": null,
      "metadata": {
        "id": "pBAegyXa_Rb0"
      },
      "outputs": [],
      "source": [
        "plt.plot(Alphabet,AlphabetNum)\n",
        "# plt.plot(Alphabet,lan)"
      ]
    },
    {
      "cell_type": "code",
      "execution_count": null,
      "metadata": {
        "id": "PV6tdO_nelbs"
      },
      "outputs": [],
      "source": [
        "AlphabetNum\n",
        "# C = [1,1,0,0,0,0,6,6,6,6,2,0,0,2,5,0,3,1,0,0,0,0,3,1,4,6,3,1,1,3,3,0]\n",
        "# len(C)"
      ]
    },
    {
      "cell_type": "code",
      "execution_count": null,
      "metadata": {
        "colab": {
          "base_uri": "https://localhost:8080/"
        },
        "id": "VRJL6ymgghvI",
        "outputId": "aeeccb21-c9cb-4073-d65b-f3e49825e02b"
      },
      "outputs": [
        {
          "data": {
            "text/plain": [
              "26"
            ]
          },
          "execution_count": 3,
          "metadata": {},
          "output_type": "execute_result"
        }
      ],
      "source": [
        "lan = [8.12,1.49,2.71,4.32,12.02,2.30,2.03,5.92,7.31,0.1,0.69,3.98,2.61,6.95,7.68,1.86,0.11,6.02,6.28,9.10,2.88,1.11,2.09,0.17,2.11,0.07]\n",
        "len(lan)"
      ]
    },
    {
      "cell_type": "code",
      "execution_count": null,
      "metadata": {
        "id": "pxIbfSlDMn8I"
      },
      "outputs": [],
      "source": [
        "plt.plot(pdisttotal)"
      ]
    },
    {
      "cell_type": "code",
      "execution_count": null,
      "metadata": {
        "id": "cQu2zxer-pMs"
      },
      "outputs": [],
      "source": [
        "for i,j in enumerate(pdisttotal):\n",
        "  if j<60:\n",
        "    # print(i)\n",
        "    print(pdisttotal2[i])\n"
      ]
    },
    {
      "cell_type": "code",
      "execution_count": null,
      "metadata": {
        "id": "oXEC7-EqNNwo"
      },
      "outputs": [],
      "source": [
        "plt.plot(LL,alpha = 0.5)\n",
        "plt.plot(gg(C, 20,9),alpha = 0.9)"
      ]
    },
    {
      "cell_type": "code",
      "execution_count": null,
      "metadata": {
        "id": "24O9FBFyb3oi"
      },
      "outputs": [],
      "source": [
        "# # print(238%5)\n",
        "\n",
        "\n",
        "\n",
        "# A= \"9.1 5.65 6.17 7.1 5.65 2.67 1.65 2.97 1.15 1.55 0.18 1.52 0.21 0.61 0.28 0.65 2.64 3.26 0.07 2.9 8.5 0.12 7.45 1.49 0.96 0.42 1.24 0.09 5.18 0.28 4.2 14.4\"\n",
        "A = lan\n",
        "C = AlphabetNum\n",
        "# C = [1,1,0,0,0,0,0,0,0,0,2,0,0,2,5,0,3,1,0,0,0,0,3,1,4,6,3,1,1,3,3,0]\n",
        "\n",
        "u1 = max(lan)/max(AlphabetNum)\n",
        "u2 = max(AlphabetNum)/max(lan)\n",
        "if u1>u2:\n",
        "  u = u1\n",
        "else: u= u2\n",
        "# A = A.replace(\" \",\" ,\")\n",
        "\n",
        "B = []\n",
        "for i in A:\n",
        "\tB.append(float(i))\n",
        "import matplotlib.pyplot as plt\n",
        "def function(B,h):\n",
        "\tm= []\n",
        "\tfor i in B:\n",
        "\t\tm.append(i/h)\n",
        "\treturn m\n",
        "\n",
        "# function to change the batch in new list\n",
        "def g(C,l):\n",
        "\tk=[]\n",
        "\tfor i in C[l:-1]:\n",
        "\t\tk.append(i)\n",
        "\tk.append(C[-1])\n",
        "\tfor i in C[0:l]:\n",
        "\t\tk.append(i)\n",
        "\treturn k\n",
        "# \n",
        "def gg(C,l,d):\n",
        "  global Alphabetstar\n",
        "  Alphabetstar = [0 for i in range(26)]\n",
        "  k = [0 for i in range(26)]\n",
        "  if l ==0 or l ==13:\n",
        "    l=1\n",
        "  for i,f in enumerate(C):\n",
        "    j = (i*l)%26\n",
        "    k[j]=C[i]\n",
        "    Alphabetstar[j] = Alphabet[i]\n",
        "  return g(k,d)\n",
        "\n",
        "\n",
        "# bruteforce to find similarities\n",
        "LL = function(B,u)\n",
        "pdist = 0\n",
        "pdisttotal = []\n",
        "pdisttotal2 = []\n",
        "for j in range(26):\n",
        "    for k in range(26):\n",
        "      pdist = 0\n",
        "      CC = gg(C,j,k)\n",
        "      for i in range(len(LL)):\n",
        "        pdist+=abs(LL[i]-CC[i])\n",
        "      pdisttotal.append(pdist)\n",
        "      pdisttotal2.append((j,k))\n",
        "plt.plot(LL,alpha = 0.5)\n",
        "\n",
        "# plot the best found match\n",
        "import numpy as np\n",
        "ind = np.argmin(pdisttotal)\n",
        "print(pdisttotal2[ind])\n",
        "print(pdisttotal[ind])\n",
        "# print(f\"the best key is {26-ind}\")\n",
        "plt.plot(gg(C, pdisttotal2[ind][0],pdisttotal2[ind][1]),alpha = 0.9)\n",
        "# plt.\n",
        "plt.show()\n",
        "gg(C, pdisttotal2[ind][0],pdisttotal2[ind][1])\n",
        "Alphabetstar\n",
        "kh = g(Alphabetstar,pdisttotal2[ind][1])\n",
        "BC = []\n",
        "for i in BB:\n",
        "  BC.append(i)\n",
        "for i1,i2 in enumerate(BC):\n",
        "  for j1,j2 in enumerate(kh):\n",
        "    if j2==i2:\n",
        "      BC[i1]=j1\n",
        "for i1,i2 in enumerate(BC):\n",
        "  for j1,j2 in enumerate(Alphabet):\n",
        "    if j1==i2:\n",
        "      BC[i1]=j2\n",
        "tex = \"\"\n",
        "for i in BC:\n",
        "  tex=tex+i\n",
        "\n",
        "print(\"\\n\\n\\nyour text is:\",\"    \",tex)"
      ]
    },
    {
      "cell_type": "code",
      "execution_count": null,
      "metadata": {
        "id": "S_DKesIvzZXO"
      },
      "outputs": [],
      "source": [
        "gg(C, 15,13)\n",
        "Alphabetstar\n",
        "kh = g(Alphabetstar,13)\n",
        "print(kh)"
      ]
    },
    {
      "cell_type": "code",
      "execution_count": null,
      "metadata": {
        "id": "rw9G3SVa1cs5"
      },
      "outputs": [],
      "source": [
        "for i in range(26):\n",
        "  print(Alphabet[i],\" \",kh[i])"
      ]
    },
    {
      "cell_type": "code",
      "execution_count": null,
      "metadata": {
        "id": "NvagoAg1zrkC"
      },
      "outputs": [],
      "source": [
        "BB = \"AHTNA PEPC UPBNTP DCPNQ HC DHHI PSBPOQ QKCHXDK TNAZ NAI DCPNQ TRJQNFPJ.\""
      ]
    },
    {
      "cell_type": "code",
      "execution_count": null,
      "metadata": {
        "id": "SD4qReA554o9"
      },
      "outputs": [],
      "source": [
        "\n"
      ]
    },
    {
      "cell_type": "code",
      "execution_count": null,
      "metadata": {
        "id": "7JDh6kbA56Gp"
      },
      "outputs": [],
      "source": [
        "BC"
      ]
    },
    {
      "cell_type": "code",
      "execution_count": null,
      "metadata": {
        "colab": {
          "base_uri": "https://localhost:8080/",
          "height": 35
        },
        "id": "uxx6uwpI0MBz",
        "outputId": "afb7b7fd-a521-41ee-b3ce-922d25a47dbe"
      },
      "outputs": [
        {
          "data": {
            "application/vnd.google.colaboratory.intrinsic+json": {
              "type": "string"
            },
            "text/plain": [
              "'NOMAN EVER BECAME GREAT OR GOOD EXCEPT THROUGH MANY AND GREAT MISTAKES.'"
            ]
          },
          "execution_count": 158,
          "metadata": {},
          "output_type": "execute_result"
        }
      ],
      "source": [
        "BC = []\n",
        "for i in BB:\n",
        "  BC.append(i)\n",
        "for i1,i2 in enumerate(BC):\n",
        "  for j1,j2 in enumerate(kh):\n",
        "    if j2==i2:\n",
        "      BC[i1]=j1\n",
        "for i1,i2 in enumerate(BC):\n",
        "  for j1,j2 in enumerate(Alphabet):\n",
        "    if j1==i2:\n",
        "      BC[i1]=j2\n",
        "tex = \"\"\n",
        "for i in BC:\n",
        "  tex=tex+i\n",
        "tex"
      ]
    },
    {
      "cell_type": "code",
      "execution_count": null,
      "metadata": {
        "id": "43OOs8ap6Mi_"
      },
      "outputs": [],
      "source": [
        ""
      ]
    },
    {
      "cell_type": "code",
      "execution_count": null,
      "metadata": {
        "colab": {
          "base_uri": "https://localhost:8080/",
          "height": 35
        },
        "id": "O2TpMImf7YL7",
        "outputId": "b82019cc-cfa3-46cb-b3ef-6b14dbdf7158"
      },
      "outputs": [
        {
          "data": {
            "application/vnd.google.colaboratory.intrinsic+json": {
              "type": "string"
            },
            "text/plain": [
              "'NOMAN EVER BECAME GREAT OR GOOD EXCEPT THROUGH MANY AND GREAT MISTAKES.'"
            ]
          },
          "execution_count": 157,
          "metadata": {},
          "output_type": "execute_result"
        }
      ],
      "source": [
        ""
      ]
    },
    {
      "cell_type": "code",
      "execution_count": null,
      "metadata": {
        "id": "lpSJCzaU6TEu"
      },
      "outputs": [],
      "source": [
        "for i1,i2 in enumerate(BC):\n",
        "  "
      ]
    },
    {
      "cell_type": "code",
      "execution_count": null,
      "metadata": {
        "id": "8LQ6CjHPvEer"
      },
      "outputs": [],
      "source": [
        "plt.plot(gg(C, 15,12),alpha = 0.9)\n",
        "plt.plot(gg(C, 15,13),alpha = 0.4)\n"
      ]
    },
    {
      "cell_type": "code",
      "execution_count": null,
      "metadata": {
        "colab": {
          "base_uri": "https://localhost:8080/"
        },
        "id": "sM5X4qSMyDn0",
        "outputId": "75a470ba-fbd0-4628-aad4-15a5b2aa3cca"
      },
      "outputs": [
        {
          "data": {
            "text/plain": [
              "[2, 4, 1, 0, 1, 0, 0, 1, 4, 1, 1, 5, 9, 1, 7, 0, 0, 2, 2, 2, 5, 0, 1, 1, 4, 5]"
            ]
          },
          "execution_count": 124,
          "metadata": {},
          "output_type": "execute_result"
        }
      ],
      "source": [
        "CC"
      ]
    },
    {
      "cell_type": "code",
      "execution_count": null,
      "metadata": {
        "colab": {
          "base_uri": "https://localhost:8080/"
        },
        "id": "ot2HDCgryx1w",
        "outputId": "f38530bf-a6c5-4992-a4d4-71dfa6d29ad7"
      },
      "outputs": [
        {
          "data": {
            "text/plain": [
              "[4, 2, 5, 4, 1, 1, 0, 5, 2, 2, 2, 0, 0, 7, 1, 9, 5, 1, 1, 4, 1, 0, 0, 1, 0, 1]"
            ]
          },
          "execution_count": 125,
          "metadata": {},
          "output_type": "execute_result"
        }
      ],
      "source": [
        "AlphabetNum"
      ]
    },
    {
      "cell_type": "code",
      "execution_count": null,
      "metadata": {
        "id": "vq5PqEnzb3g2"
      },
      "outputs": [],
      "source": [
        "def g(C,l):\n",
        "\tk=[]\n",
        "\tfor i in C[l:-1]:\n",
        "\t\tk.append(i)\n",
        "\tk.append(C[-1])\n",
        "\tfor i in C[0:l]:\n",
        "\t\tk.append(i)\n",
        "\treturn k\n",
        "# \n",
        "def gg(C,l,d):\n",
        "  global Alphabetstar\n",
        "  Alphabetstar = [0 for i in range(26)]\n",
        "  k = [0 for i in range(26)]\n",
        "  if l ==0 or l ==13:\n",
        "    l=1\n",
        "  for i,f in enumerate(C):\n",
        "    j = (i*l)%26\n",
        "    k[j]=C[i]\n",
        "    # Alphabetstar[j] = Alphabet[i]\n",
        "  return g(k,d)\n"
      ]
    },
    {
      "cell_type": "code",
      "execution_count": null,
      "metadata": {
        "id": "3zARgWwcbibM"
      },
      "outputs": [],
      "source": [
        ""
      ]
    },
    {
      "cell_type": "markdown",
      "metadata": {
        "id": "LhVxFcLubjyf"
      },
      "source": [
        "## `**youtube downloader and threads**`\n",
        "\n",
        "---\n",
        "\n"
      ]
    },
    {
      "cell_type": "code",
      "execution_count": null,
      "metadata": {
        "colab": {
          "base_uri": "https://localhost:8080/"
        },
        "id": "J_1iGhHX49UL",
        "outputId": "8d75f43c-ffce-4bf7-de13-3c9a6dd6ac38"
      },
      "outputs": [
        {
          "output_type": "stream",
          "name": "stdout",
          "text": [
            "Collecting pytube\n",
            "  Downloading pytube-11.0.2-py3-none-any.whl (56 kB)\n",
            "\u001b[?25l\r\u001b[K     |█████▉                          | 10 kB 20.9 MB/s eta 0:00:01\r\u001b[K     |███████████▋                    | 20 kB 10.4 MB/s eta 0:00:01\r\u001b[K     |█████████████████▌              | 30 kB 9.0 MB/s eta 0:00:01\r\u001b[K     |███████████████████████▎        | 40 kB 8.2 MB/s eta 0:00:01\r\u001b[K     |█████████████████████████████▏  | 51 kB 5.2 MB/s eta 0:00:01\r\u001b[K     |████████████████████████████████| 56 kB 2.0 MB/s \n",
            "\u001b[?25hInstalling collected packages: pytube\n",
            "Successfully installed pytube-11.0.2\n"
          ]
        }
      ],
      "source": [
        "!pip install pytube\n",
        "from pytube import YouTube\n",
        "import threading"
      ]
    },
    {
      "cell_type": "code",
      "execution_count": null,
      "metadata": {
        "colab": {
          "background_save": true
        },
        "id": "0_XxsaSWpcVO"
      },
      "outputs": [],
      "source": [
        "def downloads1():\n",
        "  link = \"https://www.youtube.com/watch?v=l4-vpegxYPg ---22\"\n",
        "  yt = YouTube(link)\n",
        "  yt = YouTube(link.split('---')[0])\n",
        "  ys = yt.streams.get_by_itag(link.split('---')[1])\n",
        "  ys.download(\"/content/drive/MyDrive/U\")\n",
        "def downloads3():\n",
        "  link = \"https://www.youtube.com/watch?v=CD0QjLnzaog&list=RDLVl4-vpegxYPg&index=7 ---22\"\n",
        "  yt = YouTube(link)\n",
        "  yt = YouTube(link.split('---')[0])\n",
        "  ys = yt.streams.get_by_itag(link.split('---')[1])\n",
        "  ys.download(\"/content/drive/MyDrive/U\")\n",
        "# https://www.youtube.com/watch?v=o5cXttjjBVs\n",
        "def downloads2():\n",
        "  link = \"https://www.youtube.com/watch?v=ua-CiDNNj30 ---22\"\n",
        "  yt = YouTube(link)\n",
        "  yt = YouTube(link.split('---')[0])\n",
        "  ys = yt.streams.get_by_itag(link.split('---')[1])\n",
        "  ys.download(\"/content/drive/MyDrive/U\")\n",
        "def downloads9():\n",
        "  link = \"https://www.youtube.com/watch?v=ievmmrZRwhw&list=RDLVl4-vpegxYPg&index=32 ---22\"\n",
        "  yt = YouTube(link)\n",
        "  yt = YouTube(link.split('---')[0])\n",
        "  ys = yt.streams.get_by_itag(link.split('---')[1])\n",
        "  ys.download(\"/content/drive/MyDrive/U\")\n",
        "def downloads4():\n",
        "  link = \"https://www.youtube.com/watch?v=CY0UssgxYCM&list=RDLVl4-vpegxYPg&index=28 ---22\"\n",
        "  yt = YouTube(link)\n",
        "  yt = YouTube(link.split('---')[0])\n",
        "  ys = yt.streams.get_by_itag(link.split('---')[1])\n",
        "  ys.download(\"/content/drive/MyDrive/U\")\n",
        "def downloads5():\n",
        "  link = \"https://www.youtube.com/watch?v=cOKUs87KbSQ&list=RDLVl4-vpegxYPg&index=15 ---22\"\n",
        "  yt = YouTube(link)\n",
        "  yt = YouTube(link.split('---')[0])\n",
        "  ys = yt.streams.get_by_itag(link.split('---')[1])\n",
        "  ys.download(f\"/content/drive/MyDrive/{Ua}\")\n",
        "def downloads6():\n",
        "  link = \"https://www.youtube.com/watch?v=6EfN5ef5pc8&list=RDLVl4-vpegxYPg&index=14 ---22\"\n",
        "  yt = YouTube(link)\n",
        "  yt = YouTube(link.split('---')[0])\n",
        "  ys = yt.streams.get_by_itag(link.split('---')[1])\n",
        "  ys.download(f\"/content/drive/MyDrive/{Ua}\")\n",
        "def downloads7():\n",
        "  link = \"https://www.youtube.com/watch?v=pHrFjnZ56V4&list=RDLVl4-vpegxYPg&index=12 ---22\"\n",
        "  yt = YouTube(link)\n",
        "  yt = YouTube(link.split('---')[0])\n",
        "  ys = yt.streams.get_by_itag(link.split('---')[1])\n",
        "  ys.download(f\"/content/drive/MyDrive/{Ua}\")\n",
        "def downloads8():\n",
        "  link = \"https://www.youtube.com/watch?v=xYqWREPb3Lc&list=RDLVl4-vpegxYPg&index=11 ---22\"\n",
        "  yt = YouTube(link)\n",
        "  yt = YouTube(link.split('---')[0])\n",
        "  ys = yt.streams.get_by_itag(link.split('---')[1])\n",
        "  ys.download(f\"/content/drive/MyDrive/{Ua}\")"
      ]
    },
    {
      "cell_type": "code",
      "execution_count": null,
      "metadata": {
        "id": "jHpl-wrkANec"
      },
      "outputs": [],
      "source": [
        "def downloads2():\n",
        "  link = \"https://www.youtube.com/watch?v=h0e2HAPTGF4&t=23s ---248\"\n",
        "  # yt = YouTube(link)\n",
        "  yt = YouTube(link.split('---')[0])\n",
        "  ys = yt.streams.get_by_itag(link.split('---')[1])\n",
        "  ys.download(\"/content/drive/MyDrive/U11\")\n",
        "downloads2()"
      ]
    },
    {
      "cell_type": "code",
      "source": [
        "link = \"https://www.youtube.com/watch?v=h0e2HAPTGF4&t=23s ---18\"\n",
        "# yt = YouTube(link)\n",
        "yt = YouTube(link.split('---')[0])"
      ],
      "metadata": {
        "id": "y3QcgJ92ryEe"
      },
      "execution_count": null,
      "outputs": []
    },
    {
      "cell_type": "code",
      "source": [
        "yt."
      ],
      "metadata": {
        "id": "iGj2hU7btA72"
      },
      "execution_count": null,
      "outputs": []
    },
    {
      "cell_type": "code",
      "source": [
        "yt.streaming_data"
      ],
      "metadata": {
        "colab": {
          "base_uri": "https://localhost:8080/"
        },
        "id": "cUOicwJBr6Hg",
        "outputId": "8721bda7-0e99-414e-9422-77cdb3d4fd01"
      },
      "execution_count": null,
      "outputs": [
        {
          "output_type": "execute_result",
          "data": {
            "text/plain": [
              "{'adaptiveFormats': [{'approxDurationMs': '3090253',\n",
              "   'averageBitrate': 791660,\n",
              "   'bitrate': 1613504,\n",
              "   'contentLength': '305804050',\n",
              "   'fps': 30,\n",
              "   'height': 1080,\n",
              "   'indexRange': {'end': '8236', 'start': '741'},\n",
              "   'initRange': {'end': '740', 'start': '0'},\n",
              "   'is_otf': False,\n",
              "   'itag': 137,\n",
              "   'lastModified': '1610214116220350',\n",
              "   'mimeType': 'video/mp4; codecs=\"avc1.640028\"',\n",
              "   'projectionType': 'RECTANGULAR',\n",
              "   'quality': 'hd1080',\n",
              "   'qualityLabel': '1080p',\n",
              "   'url': 'https://rr2---sn-5ualdnee.googlevideo.com/videoplayback?expire=1642958766&ei=TjvtYe3pNZeQhgbI24TwCw&ip=34.75.100.234&id=o-AGsgk1-_IUJSlfVqh-nU6N41wdzAYTjcL-X2GcGs8Y9j&itag=137&source=youtube&requiressl=yes&mh=5t&mm=31%2C29&mn=sn-5ualdnee%2Csn-5uaeznyz&ms=au%2Crdu&mv=u&mvi=2&pl=20&vprv=1&mime=video%2Fmp4&gir=yes&clen=305804050&dur=3090.253&lmt=1610214116220350&mt=1642936505&fvip=2&keepalive=yes&fexp=24001373%2C24007246&c=ANDROID&txp=5535432&sparams=expire%2Cei%2Cip%2Cid%2Citag%2Csource%2Crequiressl%2Cvprv%2Cmime%2Cgir%2Cclen%2Cdur%2Clmt&sig=AOq0QJ8wRQIhAJpYq2Rh4I96XR5mZytDoKC5YjOCpYvkqCjTObm5x5AbAiByQkgIgTchBnkg2lWi431FS0dFREeBhHNGb_QQOvwp8g%3D%3D&lsparams=mh%2Cmm%2Cmn%2Cms%2Cmv%2Cmvi%2Cpl&lsig=AG3C_xAwRQIhAKdyLkiWb-k8Xc1mooqtYPJYHGJLT3sW6LhAGQ-TjsOmAiBKPhaGoFYAbBzLLpSZfICU-my8aQF3szYUAeRHDvWwdw%3D%3D',\n",
              "   'width': 1920},\n",
              "  {'approxDurationMs': '3090253',\n",
              "   'averageBitrate': 651354,\n",
              "   'bitrate': 1419013,\n",
              "   'colorInfo': {'matrixCoefficients': 'COLOR_MATRIX_COEFFICIENTS_BT709',\n",
              "    'primaries': 'COLOR_PRIMARIES_BT709',\n",
              "    'transferCharacteristics': 'COLOR_TRANSFER_CHARACTERISTICS_BT709'},\n",
              "   'contentLength': '251606465',\n",
              "   'fps': 30,\n",
              "   'height': 1080,\n",
              "   'indexRange': {'end': '10796', 'start': '220'},\n",
              "   'initRange': {'end': '219', 'start': '0'},\n",
              "   'is_otf': False,\n",
              "   'itag': 248,\n",
              "   'lastModified': '1540983194614505',\n",
              "   'mimeType': 'video/webm; codecs=\"vp9\"',\n",
              "   'projectionType': 'RECTANGULAR',\n",
              "   'quality': 'hd1080',\n",
              "   'qualityLabel': '1080p',\n",
              "   'url': 'https://rr2---sn-5ualdnee.googlevideo.com/videoplayback?expire=1642958766&ei=TjvtYe3pNZeQhgbI24TwCw&ip=34.75.100.234&id=o-AGsgk1-_IUJSlfVqh-nU6N41wdzAYTjcL-X2GcGs8Y9j&itag=248&source=youtube&requiressl=yes&mh=5t&mm=31%2C29&mn=sn-5ualdnee%2Csn-5uaeznyz&ms=au%2Crdu&mv=u&mvi=2&pl=20&vprv=1&mime=video%2Fwebm&gir=yes&clen=251606465&dur=3090.253&lmt=1540983194614505&mt=1642936505&fvip=2&keepalive=yes&fexp=24001373%2C24007246&c=ANDROID&txp=5533432&sparams=expire%2Cei%2Cip%2Cid%2Citag%2Csource%2Crequiressl%2Cvprv%2Cmime%2Cgir%2Cclen%2Cdur%2Clmt&sig=AOq0QJ8wRQIhAK3hz52em4FD9hJSoaCV7fLeTXeysVkSfQQjprNIxaV5AiATa7k-IEO1RWUxM_o0F0zfS1uwXQDisQHrXNY6S-O5iQ%3D%3D&lsparams=mh%2Cmm%2Cmn%2Cms%2Cmv%2Cmvi%2Cpl&lsig=AG3C_xAwRQIhAKdyLkiWb-k8Xc1mooqtYPJYHGJLT3sW6LhAGQ-TjsOmAiBKPhaGoFYAbBzLLpSZfICU-my8aQF3szYUAeRHDvWwdw%3D%3D',\n",
              "   'width': 1920},\n",
              "  {'approxDurationMs': '3090253',\n",
              "   'averageBitrate': 714125,\n",
              "   'bitrate': 1259362,\n",
              "   'colorInfo': {'matrixCoefficients': 'COLOR_MATRIX_COEFFICIENTS_BT709',\n",
              "    'primaries': 'COLOR_PRIMARIES_BT709',\n",
              "    'transferCharacteristics': 'COLOR_TRANSFER_CHARACTERISTICS_BT709'},\n",
              "   'contentLength': '275853607',\n",
              "   'fps': 30,\n",
              "   'height': 1080,\n",
              "   'indexRange': {'end': '7775', 'start': '700'},\n",
              "   'initRange': {'end': '699', 'start': '0'},\n",
              "   'is_otf': False,\n",
              "   'itag': 399,\n",
              "   'lastModified': '1632344294740808',\n",
              "   'mimeType': 'video/mp4; codecs=\"av01.0.08M.08\"',\n",
              "   'projectionType': 'RECTANGULAR',\n",
              "   'quality': 'hd1080',\n",
              "   'qualityLabel': '1080p',\n",
              "   'url': 'https://rr2---sn-5ualdnee.googlevideo.com/videoplayback?expire=1642958766&ei=TjvtYe3pNZeQhgbI24TwCw&ip=34.75.100.234&id=o-AGsgk1-_IUJSlfVqh-nU6N41wdzAYTjcL-X2GcGs8Y9j&itag=399&source=youtube&requiressl=yes&mh=5t&mm=31%2C29&mn=sn-5ualdnee%2Csn-5uaeznyz&ms=au%2Crdu&mv=u&mvi=2&pl=20&vprv=1&mime=video%2Fmp4&gir=yes&clen=275853607&dur=3090.253&lmt=1632344294740808&mt=1642936505&fvip=2&keepalive=yes&fexp=24001373%2C24007246&c=ANDROID&txp=5532434&sparams=expire%2Cei%2Cip%2Cid%2Citag%2Csource%2Crequiressl%2Cvprv%2Cmime%2Cgir%2Cclen%2Cdur%2Clmt&sig=AOq0QJ8wRQIhAJZ9HCMCSmeD04h2ZVk0Bkv3mXBhzikidQ1rZLcjYgapAiA8ilB8PjVYUryZAI2C9Il8Wp1k0J-o_0mrDj1m7hfSzA%3D%3D&lsparams=mh%2Cmm%2Cmn%2Cms%2Cmv%2Cmvi%2Cpl&lsig=AG3C_xAwRQIhAKdyLkiWb-k8Xc1mooqtYPJYHGJLT3sW6LhAGQ-TjsOmAiBKPhaGoFYAbBzLLpSZfICU-my8aQF3szYUAeRHDvWwdw%3D%3D',\n",
              "   'width': 1920},\n",
              "  {'approxDurationMs': '3090253',\n",
              "   'averageBitrate': 183534,\n",
              "   'bitrate': 392666,\n",
              "   'contentLength': '70896077',\n",
              "   'fps': 30,\n",
              "   'height': 720,\n",
              "   'indexRange': {'end': '8234', 'start': '739'},\n",
              "   'initRange': {'end': '738', 'start': '0'},\n",
              "   'is_otf': False,\n",
              "   'itag': 136,\n",
              "   'lastModified': '1610214370945911',\n",
              "   'mimeType': 'video/mp4; codecs=\"avc1.4d401f\"',\n",
              "   'projectionType': 'RECTANGULAR',\n",
              "   'quality': 'hd720',\n",
              "   'qualityLabel': '720p',\n",
              "   'url': 'https://rr2---sn-5ualdnee.googlevideo.com/videoplayback?expire=1642958766&ei=TjvtYe3pNZeQhgbI24TwCw&ip=34.75.100.234&id=o-AGsgk1-_IUJSlfVqh-nU6N41wdzAYTjcL-X2GcGs8Y9j&itag=136&source=youtube&requiressl=yes&mh=5t&mm=31%2C29&mn=sn-5ualdnee%2Csn-5uaeznyz&ms=au%2Crdu&mv=u&mvi=2&pl=20&vprv=1&mime=video%2Fmp4&gir=yes&clen=70896077&dur=3090.253&lmt=1610214370945911&mt=1642936505&fvip=2&keepalive=yes&fexp=24001373%2C24007246&c=ANDROID&txp=5535432&sparams=expire%2Cei%2Cip%2Cid%2Citag%2Csource%2Crequiressl%2Cvprv%2Cmime%2Cgir%2Cclen%2Cdur%2Clmt&sig=AOq0QJ8wRQIgYNVgOJ1AjOsb3ek4PCen0d05sWuXA1V-VYxbP-m-qzECIQDoeAdXm8AlYjzv5s4vC7yjg5S2M2QnYT8gzNNSkL5RlA%3D%3D&lsparams=mh%2Cmm%2Cmn%2Cms%2Cmv%2Cmvi%2Cpl&lsig=AG3C_xAwRQIhAKdyLkiWb-k8Xc1mooqtYPJYHGJLT3sW6LhAGQ-TjsOmAiBKPhaGoFYAbBzLLpSZfICU-my8aQF3szYUAeRHDvWwdw%3D%3D',\n",
              "   'width': 1280},\n",
              "  {'approxDurationMs': '3090253',\n",
              "   'averageBitrate': 358606,\n",
              "   'bitrate': 700952,\n",
              "   'colorInfo': {'matrixCoefficients': 'COLOR_MATRIX_COEFFICIENTS_BT709',\n",
              "    'primaries': 'COLOR_PRIMARIES_BT709',\n",
              "    'transferCharacteristics': 'COLOR_TRANSFER_CHARACTERISTICS_BT709'},\n",
              "   'contentLength': '138523156',\n",
              "   'fps': 30,\n",
              "   'height': 720,\n",
              "   'indexRange': {'end': '10765', 'start': '220'},\n",
              "   'initRange': {'end': '219', 'start': '0'},\n",
              "   'is_otf': False,\n",
              "   'itag': 247,\n",
              "   'lastModified': '1540983458308250',\n",
              "   'mimeType': 'video/webm; codecs=\"vp9\"',\n",
              "   'projectionType': 'RECTANGULAR',\n",
              "   'quality': 'hd720',\n",
              "   'qualityLabel': '720p',\n",
              "   'url': 'https://rr2---sn-5ualdnee.googlevideo.com/videoplayback?expire=1642958766&ei=TjvtYe3pNZeQhgbI24TwCw&ip=34.75.100.234&id=o-AGsgk1-_IUJSlfVqh-nU6N41wdzAYTjcL-X2GcGs8Y9j&itag=247&source=youtube&requiressl=yes&mh=5t&mm=31%2C29&mn=sn-5ualdnee%2Csn-5uaeznyz&ms=au%2Crdu&mv=u&mvi=2&pl=20&vprv=1&mime=video%2Fwebm&gir=yes&clen=138523156&dur=3090.253&lmt=1540983458308250&mt=1642936505&fvip=2&keepalive=yes&fexp=24001373%2C24007246&c=ANDROID&txp=5533432&sparams=expire%2Cei%2Cip%2Cid%2Citag%2Csource%2Crequiressl%2Cvprv%2Cmime%2Cgir%2Cclen%2Cdur%2Clmt&sig=AOq0QJ8wRQIgbyqUDL93fLxqDeHgBqRDtzpy13eDklmN6GNSZ8A02aMCIQC2vm3wqQa7T85kE1NxV-cDkFNJy_gefpnuA4rPG72bFw%3D%3D&lsparams=mh%2Cmm%2Cmn%2Cms%2Cmv%2Cmvi%2Cpl&lsig=AG3C_xAwRQIhAKdyLkiWb-k8Xc1mooqtYPJYHGJLT3sW6LhAGQ-TjsOmAiBKPhaGoFYAbBzLLpSZfICU-my8aQF3szYUAeRHDvWwdw%3D%3D',\n",
              "   'width': 1280},\n",
              "  {'approxDurationMs': '3090253',\n",
              "   'averageBitrate': 394885,\n",
              "   'bitrate': 724069,\n",
              "   'colorInfo': {'matrixCoefficients': 'COLOR_MATRIX_COEFFICIENTS_BT709',\n",
              "    'primaries': 'COLOR_PRIMARIES_BT709',\n",
              "    'transferCharacteristics': 'COLOR_TRANSFER_CHARACTERISTICS_BT709'},\n",
              "   'contentLength': '152536974',\n",
              "   'fps': 30,\n",
              "   'height': 720,\n",
              "   'indexRange': {'end': '7775', 'start': '700'},\n",
              "   'initRange': {'end': '699', 'start': '0'},\n",
              "   'is_otf': False,\n",
              "   'itag': 398,\n",
              "   'lastModified': '1632342184961746',\n",
              "   'mimeType': 'video/mp4; codecs=\"av01.0.05M.08\"',\n",
              "   'projectionType': 'RECTANGULAR',\n",
              "   'quality': 'hd720',\n",
              "   'qualityLabel': '720p',\n",
              "   'url': 'https://rr2---sn-5ualdnee.googlevideo.com/videoplayback?expire=1642958766&ei=TjvtYe3pNZeQhgbI24TwCw&ip=34.75.100.234&id=o-AGsgk1-_IUJSlfVqh-nU6N41wdzAYTjcL-X2GcGs8Y9j&itag=398&source=youtube&requiressl=yes&mh=5t&mm=31%2C29&mn=sn-5ualdnee%2Csn-5uaeznyz&ms=au%2Crdu&mv=u&mvi=2&pl=20&vprv=1&mime=video%2Fmp4&gir=yes&clen=152536974&dur=3090.253&lmt=1632342184961746&mt=1642936505&fvip=2&keepalive=yes&fexp=24001373%2C24007246&c=ANDROID&txp=5532434&sparams=expire%2Cei%2Cip%2Cid%2Citag%2Csource%2Crequiressl%2Cvprv%2Cmime%2Cgir%2Cclen%2Cdur%2Clmt&sig=AOq0QJ8wRQIhAIaT12kiR6BHLX7VtfaZnjYnR60zPI93V2cOU_f8iszbAiANR_JCDTZ4JZKSIbUYW2me1Dn0edb89y4-FTQssrRESQ%3D%3D&lsparams=mh%2Cmm%2Cmn%2Cms%2Cmv%2Cmvi%2Cpl&lsig=AG3C_xAwRQIhAKdyLkiWb-k8Xc1mooqtYPJYHGJLT3sW6LhAGQ-TjsOmAiBKPhaGoFYAbBzLLpSZfICU-my8aQF3szYUAeRHDvWwdw%3D%3D',\n",
              "   'width': 1280},\n",
              "  {'approxDurationMs': '3090253',\n",
              "   'averageBitrate': 110669,\n",
              "   'bitrate': 259259,\n",
              "   'contentLength': '42749687',\n",
              "   'fps': 30,\n",
              "   'height': 480,\n",
              "   'indexRange': {'end': '8234', 'start': '739'},\n",
              "   'initRange': {'end': '738', 'start': '0'},\n",
              "   'is_otf': False,\n",
              "   'itag': 135,\n",
              "   'lastModified': '1610214370940207',\n",
              "   'mimeType': 'video/mp4; codecs=\"avc1.4d401f\"',\n",
              "   'projectionType': 'RECTANGULAR',\n",
              "   'quality': 'large',\n",
              "   'qualityLabel': '480p',\n",
              "   'url': 'https://rr2---sn-5ualdnee.googlevideo.com/videoplayback?expire=1642958766&ei=TjvtYe3pNZeQhgbI24TwCw&ip=34.75.100.234&id=o-AGsgk1-_IUJSlfVqh-nU6N41wdzAYTjcL-X2GcGs8Y9j&itag=135&source=youtube&requiressl=yes&mh=5t&mm=31%2C29&mn=sn-5ualdnee%2Csn-5uaeznyz&ms=au%2Crdu&mv=u&mvi=2&pl=20&vprv=1&mime=video%2Fmp4&gir=yes&clen=42749687&dur=3090.253&lmt=1610214370940207&mt=1642936505&fvip=2&keepalive=yes&fexp=24001373%2C24007246&c=ANDROID&txp=5535432&sparams=expire%2Cei%2Cip%2Cid%2Citag%2Csource%2Crequiressl%2Cvprv%2Cmime%2Cgir%2Cclen%2Cdur%2Clmt&sig=AOq0QJ8wRQIhAPXxPHLwDNn4suBVCjxxYfGF5BTQRE1x9xakb1SSKQhMAiBFMY31ELA7JYr9sNaisu_ZjMVC2n6CjJKwVPH-fxh6hA%3D%3D&lsparams=mh%2Cmm%2Cmn%2Cms%2Cmv%2Cmvi%2Cpl&lsig=AG3C_xAwRQIhAKdyLkiWb-k8Xc1mooqtYPJYHGJLT3sW6LhAGQ-TjsOmAiBKPhaGoFYAbBzLLpSZfICU-my8aQF3szYUAeRHDvWwdw%3D%3D',\n",
              "   'width': 854},\n",
              "  {'approxDurationMs': '3090253',\n",
              "   'averageBitrate': 251525,\n",
              "   'bitrate': 524348,\n",
              "   'colorInfo': {'matrixCoefficients': 'COLOR_MATRIX_COEFFICIENTS_BT709',\n",
              "    'primaries': 'COLOR_PRIMARIES_BT709',\n",
              "    'transferCharacteristics': 'COLOR_TRANSFER_CHARACTERISTICS_BT709'},\n",
              "   'contentLength': '97159692',\n",
              "   'fps': 30,\n",
              "   'height': 480,\n",
              "   'indexRange': {'end': '10742', 'start': '220'},\n",
              "   'initRange': {'end': '219', 'start': '0'},\n",
              "   'is_otf': False,\n",
              "   'itag': 244,\n",
              "   'lastModified': '1540982888394234',\n",
              "   'mimeType': 'video/webm; codecs=\"vp9\"',\n",
              "   'projectionType': 'RECTANGULAR',\n",
              "   'quality': 'large',\n",
              "   'qualityLabel': '480p',\n",
              "   'url': 'https://rr2---sn-5ualdnee.googlevideo.com/videoplayback?expire=1642958766&ei=TjvtYe3pNZeQhgbI24TwCw&ip=34.75.100.234&id=o-AGsgk1-_IUJSlfVqh-nU6N41wdzAYTjcL-X2GcGs8Y9j&itag=244&source=youtube&requiressl=yes&mh=5t&mm=31%2C29&mn=sn-5ualdnee%2Csn-5uaeznyz&ms=au%2Crdu&mv=u&mvi=2&pl=20&vprv=1&mime=video%2Fwebm&gir=yes&clen=97159692&dur=3090.253&lmt=1540982888394234&mt=1642936505&fvip=2&keepalive=yes&fexp=24001373%2C24007246&c=ANDROID&txp=5533432&sparams=expire%2Cei%2Cip%2Cid%2Citag%2Csource%2Crequiressl%2Cvprv%2Cmime%2Cgir%2Cclen%2Cdur%2Clmt&sig=AOq0QJ8wRQIgG5tTBvERoh9Ph3ZKb7gsdvWkeGE-b3LFBKHR8LUQla0CIQC_-_w4PWqqyXqinetJYKgqsKrCU7W_xhd4xEhNnxVSdA%3D%3D&lsparams=mh%2Cmm%2Cmn%2Cms%2Cmv%2Cmvi%2Cpl&lsig=AG3C_xAwRQIhAKdyLkiWb-k8Xc1mooqtYPJYHGJLT3sW6LhAGQ-TjsOmAiBKPhaGoFYAbBzLLpSZfICU-my8aQF3szYUAeRHDvWwdw%3D%3D',\n",
              "   'width': 854},\n",
              "  {'approxDurationMs': '3090253',\n",
              "   'averageBitrate': 207795,\n",
              "   'bitrate': 385411,\n",
              "   'colorInfo': {'matrixCoefficients': 'COLOR_MATRIX_COEFFICIENTS_BT709',\n",
              "    'primaries': 'COLOR_PRIMARIES_BT709',\n",
              "    'transferCharacteristics': 'COLOR_TRANSFER_CHARACTERISTICS_BT709'},\n",
              "   'contentLength': '80267733',\n",
              "   'fps': 30,\n",
              "   'height': 480,\n",
              "   'indexRange': {'end': '7775', 'start': '700'},\n",
              "   'initRange': {'end': '699', 'start': '0'},\n",
              "   'is_otf': False,\n",
              "   'itag': 397,\n",
              "   'lastModified': '1632342270047423',\n",
              "   'mimeType': 'video/mp4; codecs=\"av01.0.04M.08\"',\n",
              "   'projectionType': 'RECTANGULAR',\n",
              "   'quality': 'large',\n",
              "   'qualityLabel': '480p',\n",
              "   'url': 'https://rr2---sn-5ualdnee.googlevideo.com/videoplayback?expire=1642958766&ei=TjvtYe3pNZeQhgbI24TwCw&ip=34.75.100.234&id=o-AGsgk1-_IUJSlfVqh-nU6N41wdzAYTjcL-X2GcGs8Y9j&itag=397&source=youtube&requiressl=yes&mh=5t&mm=31%2C29&mn=sn-5ualdnee%2Csn-5uaeznyz&ms=au%2Crdu&mv=u&mvi=2&pl=20&vprv=1&mime=video%2Fmp4&gir=yes&clen=80267733&dur=3090.253&lmt=1632342270047423&mt=1642936505&fvip=2&keepalive=yes&fexp=24001373%2C24007246&c=ANDROID&txp=5532434&sparams=expire%2Cei%2Cip%2Cid%2Citag%2Csource%2Crequiressl%2Cvprv%2Cmime%2Cgir%2Cclen%2Cdur%2Clmt&sig=AOq0QJ8wRQIgDPm5JgOwH1SNtfiReb7sV8VF9DiSh6YJoVuH2TDBNrECIQD4twzWOI07ImTxnNiYkKHM-IaFoLZs2Fdra4Ovmw56Sg%3D%3D&lsparams=mh%2Cmm%2Cmn%2Cms%2Cmv%2Cmvi%2Cpl&lsig=AG3C_xAwRQIhAKdyLkiWb-k8Xc1mooqtYPJYHGJLT3sW6LhAGQ-TjsOmAiBKPhaGoFYAbBzLLpSZfICU-my8aQF3szYUAeRHDvWwdw%3D%3D',\n",
              "   'width': 854},\n",
              "  {'approxDurationMs': '3090253',\n",
              "   'averageBitrate': 81219,\n",
              "   'bitrate': 197229,\n",
              "   'contentLength': '31373555',\n",
              "   'fps': 30,\n",
              "   'height': 360,\n",
              "   'highReplication': True,\n",
              "   'indexRange': {'end': '8234', 'start': '739'},\n",
              "   'initRange': {'end': '738', 'start': '0'},\n",
              "   'is_otf': False,\n",
              "   'itag': 134,\n",
              "   'lastModified': '1610214370940668',\n",
              "   'mimeType': 'video/mp4; codecs=\"avc1.4d401e\"',\n",
              "   'projectionType': 'RECTANGULAR',\n",
              "   'quality': 'medium',\n",
              "   'qualityLabel': '360p',\n",
              "   'url': 'https://rr2---sn-5ualdnee.googlevideo.com/videoplayback?expire=1642958766&ei=TjvtYe3pNZeQhgbI24TwCw&ip=34.75.100.234&id=o-AGsgk1-_IUJSlfVqh-nU6N41wdzAYTjcL-X2GcGs8Y9j&itag=134&source=youtube&requiressl=yes&mh=5t&mm=31%2C29&mn=sn-5ualdnee%2Csn-5uaeznyz&ms=au%2Crdu&mv=u&mvi=2&pl=20&vprv=1&mime=video%2Fmp4&gir=yes&clen=31373555&dur=3090.253&lmt=1610214370940668&mt=1642936505&fvip=2&keepalive=yes&fexp=24001373%2C24007246&c=ANDROID&txp=5535432&sparams=expire%2Cei%2Cip%2Cid%2Citag%2Csource%2Crequiressl%2Cvprv%2Cmime%2Cgir%2Cclen%2Cdur%2Clmt&sig=AOq0QJ8wRQIgLa5btg8L-rHtGziJwth6p7rm4z7AsYVVQVIozI-FpBoCIQCBvNWes7e8BXIv20QalAS_HPJI3E3nr7qkDP3LEamGnA%3D%3D&lsparams=mh%2Cmm%2Cmn%2Cms%2Cmv%2Cmvi%2Cpl&lsig=AG3C_xAwRQIhAKdyLkiWb-k8Xc1mooqtYPJYHGJLT3sW6LhAGQ-TjsOmAiBKPhaGoFYAbBzLLpSZfICU-my8aQF3szYUAeRHDvWwdw%3D%3D',\n",
              "   'width': 640},\n",
              "  {'approxDurationMs': '3090253',\n",
              "   'averageBitrate': 148609,\n",
              "   'bitrate': 326293,\n",
              "   'colorInfo': {'matrixCoefficients': 'COLOR_MATRIX_COEFFICIENTS_BT709',\n",
              "    'primaries': 'COLOR_PRIMARIES_BT709',\n",
              "    'transferCharacteristics': 'COLOR_TRANSFER_CHARACTERISTICS_BT709'},\n",
              "   'contentLength': '57404999',\n",
              "   'fps': 30,\n",
              "   'height': 360,\n",
              "   'indexRange': {'end': '10676', 'start': '220'},\n",
              "   'initRange': {'end': '219', 'start': '0'},\n",
              "   'is_otf': False,\n",
              "   'itag': 243,\n",
              "   'lastModified': '1540981664304048',\n",
              "   'mimeType': 'video/webm; codecs=\"vp9\"',\n",
              "   'projectionType': 'RECTANGULAR',\n",
              "   'quality': 'medium',\n",
              "   'qualityLabel': '360p',\n",
              "   'url': 'https://rr2---sn-5ualdnee.googlevideo.com/videoplayback?expire=1642958766&ei=TjvtYe3pNZeQhgbI24TwCw&ip=34.75.100.234&id=o-AGsgk1-_IUJSlfVqh-nU6N41wdzAYTjcL-X2GcGs8Y9j&itag=243&source=youtube&requiressl=yes&mh=5t&mm=31%2C29&mn=sn-5ualdnee%2Csn-5uaeznyz&ms=au%2Crdu&mv=u&mvi=2&pl=20&vprv=1&mime=video%2Fwebm&gir=yes&clen=57404999&dur=3090.253&lmt=1540981664304048&mt=1642936505&fvip=2&keepalive=yes&fexp=24001373%2C24007246&c=ANDROID&txp=5533432&sparams=expire%2Cei%2Cip%2Cid%2Citag%2Csource%2Crequiressl%2Cvprv%2Cmime%2Cgir%2Cclen%2Cdur%2Clmt&sig=AOq0QJ8wRAIgRWRjdthCpBzYddNk-cBA99pL8I7-IfG2u93i_K8nRbwCICkH0UH4P1jU6219pN8r9jgeQQntW_OOgfU1P3qTDLRF&lsparams=mh%2Cmm%2Cmn%2Cms%2Cmv%2Cmvi%2Cpl&lsig=AG3C_xAwRQIhAKdyLkiWb-k8Xc1mooqtYPJYHGJLT3sW6LhAGQ-TjsOmAiBKPhaGoFYAbBzLLpSZfICU-my8aQF3szYUAeRHDvWwdw%3D%3D',\n",
              "   'width': 640},\n",
              "  {'approxDurationMs': '3090253',\n",
              "   'averageBitrate': 126139,\n",
              "   'bitrate': 234721,\n",
              "   'colorInfo': {'matrixCoefficients': 'COLOR_MATRIX_COEFFICIENTS_BT709',\n",
              "    'primaries': 'COLOR_PRIMARIES_BT709',\n",
              "    'transferCharacteristics': 'COLOR_TRANSFER_CHARACTERISTICS_BT709'},\n",
              "   'contentLength': '48725364',\n",
              "   'fps': 30,\n",
              "   'height': 360,\n",
              "   'indexRange': {'end': '7775', 'start': '700'},\n",
              "   'initRange': {'end': '699', 'start': '0'},\n",
              "   'is_otf': False,\n",
              "   'itag': 396,\n",
              "   'lastModified': '1632342637079220',\n",
              "   'mimeType': 'video/mp4; codecs=\"av01.0.01M.08\"',\n",
              "   'projectionType': 'RECTANGULAR',\n",
              "   'quality': 'medium',\n",
              "   'qualityLabel': '360p',\n",
              "   'url': 'https://rr2---sn-5ualdnee.googlevideo.com/videoplayback?expire=1642958766&ei=TjvtYe3pNZeQhgbI24TwCw&ip=34.75.100.234&id=o-AGsgk1-_IUJSlfVqh-nU6N41wdzAYTjcL-X2GcGs8Y9j&itag=396&source=youtube&requiressl=yes&mh=5t&mm=31%2C29&mn=sn-5ualdnee%2Csn-5uaeznyz&ms=au%2Crdu&mv=u&mvi=2&pl=20&vprv=1&mime=video%2Fmp4&gir=yes&clen=48725364&dur=3090.253&lmt=1632342637079220&mt=1642936505&fvip=2&keepalive=yes&fexp=24001373%2C24007246&c=ANDROID&txp=5532434&sparams=expire%2Cei%2Cip%2Cid%2Citag%2Csource%2Crequiressl%2Cvprv%2Cmime%2Cgir%2Cclen%2Cdur%2Clmt&sig=AOq0QJ8wRAIgRJV4Da1mBCEY0VQZPlr0bqBUi8RIwaBdIwfFk4p0ec8CIFgOv9PjdXT6amY-GdfCxpoyTzmq62uREqmUswAZxio2&lsparams=mh%2Cmm%2Cmn%2Cms%2Cmv%2Cmvi%2Cpl&lsig=AG3C_xAwRQIhAKdyLkiWb-k8Xc1mooqtYPJYHGJLT3sW6LhAGQ-TjsOmAiBKPhaGoFYAbBzLLpSZfICU-my8aQF3szYUAeRHDvWwdw%3D%3D',\n",
              "   'width': 640},\n",
              "  {'approxDurationMs': '3090253',\n",
              "   'averageBitrate': 51541,\n",
              "   'bitrate': 112135,\n",
              "   'contentLength': '19909460',\n",
              "   'fps': 30,\n",
              "   'height': 240,\n",
              "   'indexRange': {'end': '8234', 'start': '739'},\n",
              "   'initRange': {'end': '738', 'start': '0'},\n",
              "   'is_otf': False,\n",
              "   'itag': 133,\n",
              "   'lastModified': '1610214370943361',\n",
              "   'mimeType': 'video/mp4; codecs=\"avc1.4d4015\"',\n",
              "   'projectionType': 'RECTANGULAR',\n",
              "   'quality': 'small',\n",
              "   'qualityLabel': '240p',\n",
              "   'url': 'https://rr2---sn-5ualdnee.googlevideo.com/videoplayback?expire=1642958766&ei=TjvtYe3pNZeQhgbI24TwCw&ip=34.75.100.234&id=o-AGsgk1-_IUJSlfVqh-nU6N41wdzAYTjcL-X2GcGs8Y9j&itag=133&source=youtube&requiressl=yes&mh=5t&mm=31%2C29&mn=sn-5ualdnee%2Csn-5uaeznyz&ms=au%2Crdu&mv=u&mvi=2&pl=20&vprv=1&mime=video%2Fmp4&gir=yes&clen=19909460&dur=3090.253&lmt=1610214370943361&mt=1642936505&fvip=2&keepalive=yes&fexp=24001373%2C24007246&c=ANDROID&txp=5535432&sparams=expire%2Cei%2Cip%2Cid%2Citag%2Csource%2Crequiressl%2Cvprv%2Cmime%2Cgir%2Cclen%2Cdur%2Clmt&sig=AOq0QJ8wRQIgeJf2gN0jilp_Im4Smje8CqcVlhuE7qNcdTsfRTm9LFsCIQD2UnLCEtbydLCimEk02DD1p3bdFZUoC_mA4k5nE8Bylg%3D%3D&lsparams=mh%2Cmm%2Cmn%2Cms%2Cmv%2Cmvi%2Cpl&lsig=AG3C_xAwRQIhAKdyLkiWb-k8Xc1mooqtYPJYHGJLT3sW6LhAGQ-TjsOmAiBKPhaGoFYAbBzLLpSZfICU-my8aQF3szYUAeRHDvWwdw%3D%3D',\n",
              "   'width': 426},\n",
              "  {'approxDurationMs': '3090253',\n",
              "   'averageBitrate': 75846,\n",
              "   'bitrate': 136818,\n",
              "   'colorInfo': {'matrixCoefficients': 'COLOR_MATRIX_COEFFICIENTS_BT709',\n",
              "    'primaries': 'COLOR_PRIMARIES_BT709',\n",
              "    'transferCharacteristics': 'COLOR_TRANSFER_CHARACTERISTICS_BT709'},\n",
              "   'contentLength': '29298106',\n",
              "   'fps': 30,\n",
              "   'height': 240,\n",
              "   'indexRange': {'end': '10519', 'start': '219'},\n",
              "   'initRange': {'end': '218', 'start': '0'},\n",
              "   'is_otf': False,\n",
              "   'itag': 242,\n",
              "   'lastModified': '1540982089091975',\n",
              "   'mimeType': 'video/webm; codecs=\"vp9\"',\n",
              "   'projectionType': 'RECTANGULAR',\n",
              "   'quality': 'small',\n",
              "   'qualityLabel': '240p',\n",
              "   'url': 'https://rr2---sn-5ualdnee.googlevideo.com/videoplayback?expire=1642958766&ei=TjvtYe3pNZeQhgbI24TwCw&ip=34.75.100.234&id=o-AGsgk1-_IUJSlfVqh-nU6N41wdzAYTjcL-X2GcGs8Y9j&itag=242&source=youtube&requiressl=yes&mh=5t&mm=31%2C29&mn=sn-5ualdnee%2Csn-5uaeznyz&ms=au%2Crdu&mv=u&mvi=2&pl=20&vprv=1&mime=video%2Fwebm&gir=yes&clen=29298106&dur=3090.253&lmt=1540982089091975&mt=1642936505&fvip=2&keepalive=yes&fexp=24001373%2C24007246&c=ANDROID&txp=5533432&sparams=expire%2Cei%2Cip%2Cid%2Citag%2Csource%2Crequiressl%2Cvprv%2Cmime%2Cgir%2Cclen%2Cdur%2Clmt&sig=AOq0QJ8wRgIhAPjx0OfbYKGL3ed-UR6-ly5DPgiTMDXZGAPDcvLcl6HSAiEAld16ZMFiQPpDx9IoqJ9efki8qbKRDb-99YMMQPIvGMc%3D&lsparams=mh%2Cmm%2Cmn%2Cms%2Cmv%2Cmvi%2Cpl&lsig=AG3C_xAwRQIhAKdyLkiWb-k8Xc1mooqtYPJYHGJLT3sW6LhAGQ-TjsOmAiBKPhaGoFYAbBzLLpSZfICU-my8aQF3szYUAeRHDvWwdw%3D%3D',\n",
              "   'width': 426},\n",
              "  {'approxDurationMs': '3090253',\n",
              "   'averageBitrate': 71469,\n",
              "   'bitrate': 127901,\n",
              "   'colorInfo': {'matrixCoefficients': 'COLOR_MATRIX_COEFFICIENTS_BT709',\n",
              "    'primaries': 'COLOR_PRIMARIES_BT709',\n",
              "    'transferCharacteristics': 'COLOR_TRANSFER_CHARACTERISTICS_BT709'},\n",
              "   'contentLength': '27607260',\n",
              "   'fps': 30,\n",
              "   'height': 240,\n",
              "   'indexRange': {'end': '7775', 'start': '700'},\n",
              "   'initRange': {'end': '699', 'start': '0'},\n",
              "   'is_otf': False,\n",
              "   'itag': 395,\n",
              "   'lastModified': '1632342283046948',\n",
              "   'mimeType': 'video/mp4; codecs=\"av01.0.00M.08\"',\n",
              "   'projectionType': 'RECTANGULAR',\n",
              "   'quality': 'small',\n",
              "   'qualityLabel': '240p',\n",
              "   'url': 'https://rr2---sn-5ualdnee.googlevideo.com/videoplayback?expire=1642958766&ei=TjvtYe3pNZeQhgbI24TwCw&ip=34.75.100.234&id=o-AGsgk1-_IUJSlfVqh-nU6N41wdzAYTjcL-X2GcGs8Y9j&itag=395&source=youtube&requiressl=yes&mh=5t&mm=31%2C29&mn=sn-5ualdnee%2Csn-5uaeznyz&ms=au%2Crdu&mv=u&mvi=2&pl=20&vprv=1&mime=video%2Fmp4&gir=yes&clen=27607260&dur=3090.253&lmt=1632342283046948&mt=1642936505&fvip=2&keepalive=yes&fexp=24001373%2C24007246&c=ANDROID&txp=5532434&sparams=expire%2Cei%2Cip%2Cid%2Citag%2Csource%2Crequiressl%2Cvprv%2Cmime%2Cgir%2Cclen%2Cdur%2Clmt&sig=AOq0QJ8wRgIhANhz1Wo5gkTLO2aoCnI4M8GUijT7VxY9KqVFKvClIhOFAiEA5Ls4TKp-V5lXF_ie9pSoLpYVMjauk1vU85UNOE5o0A0%3D&lsparams=mh%2Cmm%2Cmn%2Cms%2Cmv%2Cmvi%2Cpl&lsig=AG3C_xAwRQIhAKdyLkiWb-k8Xc1mooqtYPJYHGJLT3sW6LhAGQ-TjsOmAiBKPhaGoFYAbBzLLpSZfICU-my8aQF3szYUAeRHDvWwdw%3D%3D',\n",
              "   'width': 426},\n",
              "  {'approxDurationMs': '3090253',\n",
              "   'averageBitrate': 28695,\n",
              "   'bitrate': 57138,\n",
              "   'contentLength': '11084587',\n",
              "   'fps': 30,\n",
              "   'height': 144,\n",
              "   'indexRange': {'end': '8233', 'start': '738'},\n",
              "   'initRange': {'end': '737', 'start': '0'},\n",
              "   'is_otf': False,\n",
              "   'itag': 160,\n",
              "   'lastModified': '1610214370941244',\n",
              "   'mimeType': 'video/mp4; codecs=\"avc1.4d400c\"',\n",
              "   'projectionType': 'RECTANGULAR',\n",
              "   'quality': 'tiny',\n",
              "   'qualityLabel': '144p',\n",
              "   'url': 'https://rr2---sn-5ualdnee.googlevideo.com/videoplayback?expire=1642958766&ei=TjvtYe3pNZeQhgbI24TwCw&ip=34.75.100.234&id=o-AGsgk1-_IUJSlfVqh-nU6N41wdzAYTjcL-X2GcGs8Y9j&itag=160&source=youtube&requiressl=yes&mh=5t&mm=31%2C29&mn=sn-5ualdnee%2Csn-5uaeznyz&ms=au%2Crdu&mv=u&mvi=2&pl=20&vprv=1&mime=video%2Fmp4&gir=yes&clen=11084587&dur=3090.253&lmt=1610214370941244&mt=1642936505&fvip=2&keepalive=yes&fexp=24001373%2C24007246&c=ANDROID&txp=5535432&sparams=expire%2Cei%2Cip%2Cid%2Citag%2Csource%2Crequiressl%2Cvprv%2Cmime%2Cgir%2Cclen%2Cdur%2Clmt&sig=AOq0QJ8wRQIhANzJX9ywSkdpPADIARdsRFvgI2837Vflrhhc_Z_PBINqAiBS0mEZrKhWj-99UfEn_dtcEJ0yDGUqYl0tjKTRjyo35Q%3D%3D&lsparams=mh%2Cmm%2Cmn%2Cms%2Cmv%2Cmvi%2Cpl&lsig=AG3C_xAwRQIhAKdyLkiWb-k8Xc1mooqtYPJYHGJLT3sW6LhAGQ-TjsOmAiBKPhaGoFYAbBzLLpSZfICU-my8aQF3szYUAeRHDvWwdw%3D%3D',\n",
              "   'width': 256},\n",
              "  {'approxDurationMs': '3090253',\n",
              "   'averageBitrate': 68279,\n",
              "   'bitrate': 111728,\n",
              "   'colorInfo': {'matrixCoefficients': 'COLOR_MATRIX_COEFFICIENTS_BT709',\n",
              "    'primaries': 'COLOR_PRIMARIES_BT709',\n",
              "    'transferCharacteristics': 'COLOR_TRANSFER_CHARACTERISTICS_BT709'},\n",
              "   'contentLength': '26375138',\n",
              "   'fps': 30,\n",
              "   'height': 144,\n",
              "   'indexRange': {'end': '10485', 'start': '219'},\n",
              "   'initRange': {'end': '218', 'start': '0'},\n",
              "   'is_otf': False,\n",
              "   'itag': 278,\n",
              "   'lastModified': '1540983651730547',\n",
              "   'mimeType': 'video/webm; codecs=\"vp9\"',\n",
              "   'projectionType': 'RECTANGULAR',\n",
              "   'quality': 'tiny',\n",
              "   'qualityLabel': '144p',\n",
              "   'url': 'https://rr2---sn-5ualdnee.googlevideo.com/videoplayback?expire=1642958766&ei=TjvtYe3pNZeQhgbI24TwCw&ip=34.75.100.234&id=o-AGsgk1-_IUJSlfVqh-nU6N41wdzAYTjcL-X2GcGs8Y9j&itag=278&source=youtube&requiressl=yes&mh=5t&mm=31%2C29&mn=sn-5ualdnee%2Csn-5uaeznyz&ms=au%2Crdu&mv=u&mvi=2&pl=20&vprv=1&mime=video%2Fwebm&gir=yes&clen=26375138&dur=3090.253&lmt=1540983651730547&mt=1642936505&fvip=2&keepalive=yes&fexp=24001373%2C24007246&c=ANDROID&txp=5533432&sparams=expire%2Cei%2Cip%2Cid%2Citag%2Csource%2Crequiressl%2Cvprv%2Cmime%2Cgir%2Cclen%2Cdur%2Clmt&sig=AOq0QJ8wRQIgPwd5e94XGmkKwp4amysvEWlnYl81J2XJSiUWoohdqH8CIQDECuC5noyi8HcrU228qsvqEndUg3NejFkE2OVAtfywsg%3D%3D&lsparams=mh%2Cmm%2Cmn%2Cms%2Cmv%2Cmvi%2Cpl&lsig=AG3C_xAwRQIhAKdyLkiWb-k8Xc1mooqtYPJYHGJLT3sW6LhAGQ-TjsOmAiBKPhaGoFYAbBzLLpSZfICU-my8aQF3szYUAeRHDvWwdw%3D%3D',\n",
              "   'width': 256},\n",
              "  {'approxDurationMs': '3090253',\n",
              "   'averageBitrate': 49623,\n",
              "   'bitrate': 74710,\n",
              "   'colorInfo': {'matrixCoefficients': 'COLOR_MATRIX_COEFFICIENTS_BT709',\n",
              "    'primaries': 'COLOR_PRIMARIES_BT709',\n",
              "    'transferCharacteristics': 'COLOR_TRANSFER_CHARACTERISTICS_BT709'},\n",
              "   'contentLength': '19168695',\n",
              "   'fps': 30,\n",
              "   'height': 144,\n",
              "   'indexRange': {'end': '7775', 'start': '700'},\n",
              "   'initRange': {'end': '699', 'start': '0'},\n",
              "   'is_otf': False,\n",
              "   'itag': 394,\n",
              "   'lastModified': '1632343323685614',\n",
              "   'mimeType': 'video/mp4; codecs=\"av01.0.00M.08\"',\n",
              "   'projectionType': 'RECTANGULAR',\n",
              "   'quality': 'tiny',\n",
              "   'qualityLabel': '144p',\n",
              "   'url': 'https://rr2---sn-5ualdnee.googlevideo.com/videoplayback?expire=1642958766&ei=TjvtYe3pNZeQhgbI24TwCw&ip=34.75.100.234&id=o-AGsgk1-_IUJSlfVqh-nU6N41wdzAYTjcL-X2GcGs8Y9j&itag=394&source=youtube&requiressl=yes&mh=5t&mm=31%2C29&mn=sn-5ualdnee%2Csn-5uaeznyz&ms=au%2Crdu&mv=u&mvi=2&pl=20&vprv=1&mime=video%2Fmp4&gir=yes&clen=19168695&dur=3090.253&lmt=1632343323685614&mt=1642936505&fvip=2&keepalive=yes&fexp=24001373%2C24007246&c=ANDROID&txp=5532434&sparams=expire%2Cei%2Cip%2Cid%2Citag%2Csource%2Crequiressl%2Cvprv%2Cmime%2Cgir%2Cclen%2Cdur%2Clmt&sig=AOq0QJ8wRQIgfrzYjfq35oILp6w7IHl5ZTmkgiVGH1jMsq7CQtzlwTICIQC1YKBKCE5KBpZynZn30LR2tinbsrFsersZiMon2Vz_yw%3D%3D&lsparams=mh%2Cmm%2Cmn%2Cms%2Cmv%2Cmvi%2Cpl&lsig=AG3C_xAwRQIhAKdyLkiWb-k8Xc1mooqtYPJYHGJLT3sW6LhAGQ-TjsOmAiBKPhaGoFYAbBzLLpSZfICU-my8aQF3szYUAeRHDvWwdw%3D%3D',\n",
              "   'width': 256},\n",
              "  {'approxDurationMs': '3090436',\n",
              "   'audioChannels': 2,\n",
              "   'audioQuality': 'AUDIO_QUALITY_LOW',\n",
              "   'audioSampleRate': '22050',\n",
              "   'averageBitrate': 48783,\n",
              "   'bitrate': 52577,\n",
              "   'contentLength': '18845440',\n",
              "   'indexRange': {'end': '4392', 'start': '641'},\n",
              "   'initRange': {'end': '640', 'start': '0'},\n",
              "   'is_otf': False,\n",
              "   'itag': 139,\n",
              "   'lastModified': '1610211980792738',\n",
              "   'mimeType': 'audio/mp4; codecs=\"mp4a.40.5\"',\n",
              "   'projectionType': 'RECTANGULAR',\n",
              "   'quality': 'tiny',\n",
              "   'url': 'https://rr2---sn-5ualdnee.googlevideo.com/videoplayback?expire=1642958766&ei=TjvtYe3pNZeQhgbI24TwCw&ip=34.75.100.234&id=o-AGsgk1-_IUJSlfVqh-nU6N41wdzAYTjcL-X2GcGs8Y9j&itag=139&source=youtube&requiressl=yes&mh=5t&mm=31%2C29&mn=sn-5ualdnee%2Csn-5uaeznyz&ms=au%2Crdu&mv=u&mvi=2&pl=20&vprv=1&mime=audio%2Fmp4&gir=yes&clen=18845440&dur=3090.436&lmt=1610211980792738&mt=1642936505&fvip=2&keepalive=yes&fexp=24001373%2C24007246&c=ANDROID&txp=5531432&sparams=expire%2Cei%2Cip%2Cid%2Citag%2Csource%2Crequiressl%2Cvprv%2Cmime%2Cgir%2Cclen%2Cdur%2Clmt&sig=AOq0QJ8wRgIhAN-vY1WptTb66u_lcMT5mK9yJG3xgWFQ6MO8kKBTsUWVAiEA0-UC5qn9R-KesN07DhN-v0CPMRePwYUmkZ-6GkzdE54%3D&lsparams=mh%2Cmm%2Cmn%2Cms%2Cmv%2Cmvi%2Cpl&lsig=AG3C_xAwRQIhAKdyLkiWb-k8Xc1mooqtYPJYHGJLT3sW6LhAGQ-TjsOmAiBKPhaGoFYAbBzLLpSZfICU-my8aQF3szYUAeRHDvWwdw%3D%3D'},\n",
              "  {'approxDurationMs': '3090366',\n",
              "   'audioChannels': 2,\n",
              "   'audioQuality': 'AUDIO_QUALITY_MEDIUM',\n",
              "   'audioSampleRate': '44100',\n",
              "   'averageBitrate': 129472,\n",
              "   'bitrate': 133122,\n",
              "   'contentLength': '50014859',\n",
              "   'highReplication': True,\n",
              "   'indexRange': {'end': '4383', 'start': '632'},\n",
              "   'initRange': {'end': '631', 'start': '0'},\n",
              "   'is_otf': False,\n",
              "   'itag': 140,\n",
              "   'lastModified': '1610212058273669',\n",
              "   'mimeType': 'audio/mp4; codecs=\"mp4a.40.2\"',\n",
              "   'projectionType': 'RECTANGULAR',\n",
              "   'quality': 'tiny',\n",
              "   'url': 'https://rr2---sn-5ualdnee.googlevideo.com/videoplayback?expire=1642958766&ei=TjvtYe3pNZeQhgbI24TwCw&ip=34.75.100.234&id=o-AGsgk1-_IUJSlfVqh-nU6N41wdzAYTjcL-X2GcGs8Y9j&itag=140&source=youtube&requiressl=yes&mh=5t&mm=31%2C29&mn=sn-5ualdnee%2Csn-5uaeznyz&ms=au%2Crdu&mv=u&mvi=2&pl=20&vprv=1&mime=audio%2Fmp4&gir=yes&clen=50014859&dur=3090.366&lmt=1610212058273669&mt=1642936505&fvip=2&keepalive=yes&fexp=24001373%2C24007246&c=ANDROID&txp=5531432&sparams=expire%2Cei%2Cip%2Cid%2Citag%2Csource%2Crequiressl%2Cvprv%2Cmime%2Cgir%2Cclen%2Cdur%2Clmt&sig=AOq0QJ8wRAIgR_juadV5SSnsCDIfhrVKcWKUDNj5LLGNWcG3YZ_O9vsCIBEUIwBP7IiF1G8JXz6xV5wSpG8JvRxKHKZIW52BINBD&lsparams=mh%2Cmm%2Cmn%2Cms%2Cmv%2Cmvi%2Cpl&lsig=AG3C_xAwRQIhAKdyLkiWb-k8Xc1mooqtYPJYHGJLT3sW6LhAGQ-TjsOmAiBKPhaGoFYAbBzLLpSZfICU-my8aQF3szYUAeRHDvWwdw%3D%3D'},\n",
              "  {'approxDurationMs': '3090341',\n",
              "   'audioChannels': 2,\n",
              "   'audioQuality': 'AUDIO_QUALITY_LOW',\n",
              "   'audioSampleRate': '48000',\n",
              "   'averageBitrate': 50772,\n",
              "   'bitrate': 52446,\n",
              "   'contentLength': '19613044',\n",
              "   'indexRange': {'end': '5576', 'start': '266'},\n",
              "   'initRange': {'end': '265', 'start': '0'},\n",
              "   'is_otf': False,\n",
              "   'itag': 249,\n",
              "   'lastModified': '1540988171464416',\n",
              "   'mimeType': 'audio/webm; codecs=\"opus\"',\n",
              "   'projectionType': 'RECTANGULAR',\n",
              "   'quality': 'tiny',\n",
              "   'url': 'https://rr2---sn-5ualdnee.googlevideo.com/videoplayback?expire=1642958766&ei=TjvtYe3pNZeQhgbI24TwCw&ip=34.75.100.234&id=o-AGsgk1-_IUJSlfVqh-nU6N41wdzAYTjcL-X2GcGs8Y9j&itag=249&source=youtube&requiressl=yes&mh=5t&mm=31%2C29&mn=sn-5ualdnee%2Csn-5uaeznyz&ms=au%2Crdu&mv=u&mvi=2&pl=20&vprv=1&mime=audio%2Fwebm&gir=yes&clen=19613044&dur=3090.341&lmt=1540988171464416&mt=1642936505&fvip=2&keepalive=yes&fexp=24001373%2C24007246&c=ANDROID&txp=5511222&sparams=expire%2Cei%2Cip%2Cid%2Citag%2Csource%2Crequiressl%2Cvprv%2Cmime%2Cgir%2Cclen%2Cdur%2Clmt&sig=AOq0QJ8wRgIhALLN_F0dRovKa98RXOMx6lIirYeAWya5RxgbGfcTeD7nAiEA8mQNeMmh2jIqPEJN4ndtr3KJo1tV6X3JfkbEFGpMpwY%3D&lsparams=mh%2Cmm%2Cmn%2Cms%2Cmv%2Cmvi%2Cpl&lsig=AG3C_xAwRQIhAKdyLkiWb-k8Xc1mooqtYPJYHGJLT3sW6LhAGQ-TjsOmAiBKPhaGoFYAbBzLLpSZfICU-my8aQF3szYUAeRHDvWwdw%3D%3D'},\n",
              "  {'approxDurationMs': '3090341',\n",
              "   'audioChannels': 2,\n",
              "   'audioQuality': 'AUDIO_QUALITY_LOW',\n",
              "   'audioSampleRate': '48000',\n",
              "   'averageBitrate': 60878,\n",
              "   'bitrate': 69968,\n",
              "   'contentLength': '23516800',\n",
              "   'indexRange': {'end': '5621', 'start': '266'},\n",
              "   'initRange': {'end': '265', 'start': '0'},\n",
              "   'is_otf': False,\n",
              "   'itag': 250,\n",
              "   'lastModified': '1540988168579313',\n",
              "   'mimeType': 'audio/webm; codecs=\"opus\"',\n",
              "   'projectionType': 'RECTANGULAR',\n",
              "   'quality': 'tiny',\n",
              "   'url': 'https://rr2---sn-5ualdnee.googlevideo.com/videoplayback?expire=1642958766&ei=TjvtYe3pNZeQhgbI24TwCw&ip=34.75.100.234&id=o-AGsgk1-_IUJSlfVqh-nU6N41wdzAYTjcL-X2GcGs8Y9j&itag=250&source=youtube&requiressl=yes&mh=5t&mm=31%2C29&mn=sn-5ualdnee%2Csn-5uaeznyz&ms=au%2Crdu&mv=u&mvi=2&pl=20&vprv=1&mime=audio%2Fwebm&gir=yes&clen=23516800&dur=3090.341&lmt=1540988168579313&mt=1642936505&fvip=2&keepalive=yes&fexp=24001373%2C24007246&c=ANDROID&txp=5511222&sparams=expire%2Cei%2Cip%2Cid%2Citag%2Csource%2Crequiressl%2Cvprv%2Cmime%2Cgir%2Cclen%2Cdur%2Clmt&sig=AOq0QJ8wRgIhAJtfAvdmMIic2KWk3egxGiQbBqteQdBl4CaIixcnTL57AiEAo5WtBZiIJEwcvGDaLeirG_MpIxvLL7FMBQI0rEVuEkQ%3D&lsparams=mh%2Cmm%2Cmn%2Cms%2Cmv%2Cmvi%2Cpl&lsig=AG3C_xAwRQIhAKdyLkiWb-k8Xc1mooqtYPJYHGJLT3sW6LhAGQ-TjsOmAiBKPhaGoFYAbBzLLpSZfICU-my8aQF3szYUAeRHDvWwdw%3D%3D'},\n",
              "  {'approxDurationMs': '3090341',\n",
              "   'audioChannels': 2,\n",
              "   'audioQuality': 'AUDIO_QUALITY_MEDIUM',\n",
              "   'audioSampleRate': '48000',\n",
              "   'averageBitrate': 111192,\n",
              "   'bitrate': 126552,\n",
              "   'contentLength': '42952961',\n",
              "   'indexRange': {'end': '5720', 'start': '266'},\n",
              "   'initRange': {'end': '265', 'start': '0'},\n",
              "   'is_otf': False,\n",
              "   'itag': 251,\n",
              "   'lastModified': '1540988169231516',\n",
              "   'mimeType': 'audio/webm; codecs=\"opus\"',\n",
              "   'projectionType': 'RECTANGULAR',\n",
              "   'quality': 'tiny',\n",
              "   'url': 'https://rr2---sn-5ualdnee.googlevideo.com/videoplayback?expire=1642958766&ei=TjvtYe3pNZeQhgbI24TwCw&ip=34.75.100.234&id=o-AGsgk1-_IUJSlfVqh-nU6N41wdzAYTjcL-X2GcGs8Y9j&itag=251&source=youtube&requiressl=yes&mh=5t&mm=31%2C29&mn=sn-5ualdnee%2Csn-5uaeznyz&ms=au%2Crdu&mv=u&mvi=2&pl=20&vprv=1&mime=audio%2Fwebm&gir=yes&clen=42952961&dur=3090.341&lmt=1540988169231516&mt=1642936505&fvip=2&keepalive=yes&fexp=24001373%2C24007246&c=ANDROID&txp=5511222&sparams=expire%2Cei%2Cip%2Cid%2Citag%2Csource%2Crequiressl%2Cvprv%2Cmime%2Cgir%2Cclen%2Cdur%2Clmt&sig=AOq0QJ8wRQIhAKXARVwRcsTD3uGgP-3ynt3lrvDR7t0xddIOm7IzdJfqAiA-1hCo2ITLGEOINWFPxAFTJsT2mNe8ZNO46JOLLfR0-g%3D%3D&lsparams=mh%2Cmm%2Cmn%2Cms%2Cmv%2Cmvi%2Cpl&lsig=AG3C_xAwRQIhAKdyLkiWb-k8Xc1mooqtYPJYHGJLT3sW6LhAGQ-TjsOmAiBKPhaGoFYAbBzLLpSZfICU-my8aQF3szYUAeRHDvWwdw%3D%3D'}],\n",
              " 'expiresInSeconds': '21540',\n",
              " 'formats': [{'approxDurationMs': '3090436',\n",
              "   'audioChannels': 1,\n",
              "   'audioQuality': 'AUDIO_QUALITY_LOW',\n",
              "   'audioSampleRate': '22050',\n",
              "   'averageBitrate': 65738,\n",
              "   'bitrate': 65741,\n",
              "   'contentLength': '25395249',\n",
              "   'fps': 7,\n",
              "   'height': 144,\n",
              "   'is_otf': False,\n",
              "   'itag': 17,\n",
              "   'lastModified': '1540925490471335',\n",
              "   'mimeType': 'video/3gpp; codecs=\"mp4v.20.3, mp4a.40.2\"',\n",
              "   'projectionType': 'RECTANGULAR',\n",
              "   'quality': 'small',\n",
              "   'qualityLabel': '144p',\n",
              "   'url': 'https://rr2---sn-5ualdnee.googlevideo.com/videoplayback?expire=1642958766&ei=TjvtYe3pNZeQhgbI24TwCw&ip=34.75.100.234&id=o-AGsgk1-_IUJSlfVqh-nU6N41wdzAYTjcL-X2GcGs8Y9j&itag=17&source=youtube&requiressl=yes&mh=5t&mm=31%2C29&mn=sn-5ualdnee%2Csn-5uaeznyz&ms=au%2Crdu&mv=u&mvi=2&pl=20&vprv=1&mime=video%2F3gpp&gir=yes&clen=25395249&dur=3090.436&lmt=1540925490471335&mt=1642936505&fvip=2&fexp=24001373%2C24007246&c=ANDROID&txp=5531432&sparams=expire%2Cei%2Cip%2Cid%2Citag%2Csource%2Crequiressl%2Cvprv%2Cmime%2Cgir%2Cclen%2Cdur%2Clmt&sig=AOq0QJ8wRQIgJa97zgEVnQSDygxPSKZQNv1yxRhj-SXun87O7P0RjOICIQD27Tic5IlaQdfmShoXtqQimPSo0i5adeL12rZVJQU0LA%3D%3D&lsparams=mh%2Cmm%2Cmn%2Cms%2Cmv%2Cmvi%2Cpl&lsig=AG3C_xAwRQIhAKdyLkiWb-k8Xc1mooqtYPJYHGJLT3sW6LhAGQ-TjsOmAiBKPhaGoFYAbBzLLpSZfICU-my8aQF3szYUAeRHDvWwdw%3D%3D',\n",
              "   'width': 176},\n",
              "  {'approxDurationMs': '3090366',\n",
              "   'audioChannels': 2,\n",
              "   'audioQuality': 'AUDIO_QUALITY_LOW',\n",
              "   'audioSampleRate': '44100',\n",
              "   'averageBitrate': 312095,\n",
              "   'bitrate': 312106,\n",
              "   'contentLength': '120561087',\n",
              "   'fps': 30,\n",
              "   'height': 360,\n",
              "   'is_otf': False,\n",
              "   'itag': 18,\n",
              "   'lastModified': '1540924696673324',\n",
              "   'mimeType': 'video/mp4; codecs=\"avc1.42001E, mp4a.40.2\"',\n",
              "   'projectionType': 'RECTANGULAR',\n",
              "   'quality': 'medium',\n",
              "   'qualityLabel': '360p',\n",
              "   'url': 'https://rr2---sn-5ualdnee.googlevideo.com/videoplayback?expire=1642958766&ei=TjvtYe3pNZeQhgbI24TwCw&ip=34.75.100.234&id=o-AGsgk1-_IUJSlfVqh-nU6N41wdzAYTjcL-X2GcGs8Y9j&itag=18&source=youtube&requiressl=yes&mh=5t&mm=31%2C29&mn=sn-5ualdnee%2Csn-5uaeznyz&ms=au%2Crdu&mv=u&mvi=2&pl=20&vprv=1&mime=video%2Fmp4&gir=yes&clen=120561087&ratebypass=yes&dur=3090.366&lmt=1540924696673324&mt=1642936505&fvip=2&fexp=24001373%2C24007246&c=ANDROID&txp=5531432&sparams=expire%2Cei%2Cip%2Cid%2Citag%2Csource%2Crequiressl%2Cvprv%2Cmime%2Cgir%2Cclen%2Cratebypass%2Cdur%2Clmt&sig=AOq0QJ8wRQIhAJQ-DxCXeW86XX2wtPArxeNQQytCd5Y2f-FA0E0UQTxyAiB1RzDbrQ8QPlVwOGJGRMWfmwQBirYqIOnDqbfflApeoQ%3D%3D&lsparams=mh%2Cmm%2Cmn%2Cms%2Cmv%2Cmvi%2Cpl&lsig=AG3C_xAwRQIhAKdyLkiWb-k8Xc1mooqtYPJYHGJLT3sW6LhAGQ-TjsOmAiBKPhaGoFYAbBzLLpSZfICU-my8aQF3szYUAeRHDvWwdw%3D%3D',\n",
              "   'width': 640},\n",
              "  {'approxDurationMs': '3090366',\n",
              "   'audioChannels': 2,\n",
              "   'audioQuality': 'AUDIO_QUALITY_MEDIUM',\n",
              "   'audioSampleRate': '44100',\n",
              "   'bitrate': 312553,\n",
              "   'fps': 30,\n",
              "   'height': 720,\n",
              "   'is_otf': False,\n",
              "   'itag': 22,\n",
              "   'lastModified': '1610214467001032',\n",
              "   'mimeType': 'video/mp4; codecs=\"avc1.64001F, mp4a.40.2\"',\n",
              "   'projectionType': 'RECTANGULAR',\n",
              "   'quality': 'hd720',\n",
              "   'qualityLabel': '720p',\n",
              "   'url': 'https://rr2---sn-5ualdnee.googlevideo.com/videoplayback?expire=1642958766&ei=TjvtYe3pNZeQhgbI24TwCw&ip=34.75.100.234&id=o-AGsgk1-_IUJSlfVqh-nU6N41wdzAYTjcL-X2GcGs8Y9j&itag=22&source=youtube&requiressl=yes&mh=5t&mm=31%2C29&mn=sn-5ualdnee%2Csn-5uaeznyz&ms=au%2Crdu&mv=u&mvi=2&pl=20&vprv=1&mime=video%2Fmp4&cnr=14&ratebypass=yes&dur=3090.366&lmt=1610214467001032&mt=1642936505&fvip=2&fexp=24001373%2C24007246&c=ANDROID&txp=5535432&sparams=expire%2Cei%2Cip%2Cid%2Citag%2Csource%2Crequiressl%2Cvprv%2Cmime%2Ccnr%2Cratebypass%2Cdur%2Clmt&sig=AOq0QJ8wRgIhAL7UGksiKAyIWUuZkmQJD8wgOu4W42xzewWwOz-4PHU1AiEA0CWi1sOF5CbyGlxbYNpuhPOrJ9TdLz4R1jSM9VvPmds%3D&lsparams=mh%2Cmm%2Cmn%2Cms%2Cmv%2Cmvi%2Cpl&lsig=AG3C_xAwRQIhAKdyLkiWb-k8Xc1mooqtYPJYHGJLT3sW6LhAGQ-TjsOmAiBKPhaGoFYAbBzLLpSZfICU-my8aQF3szYUAeRHDvWwdw%3D%3D',\n",
              "   'width': 1280}],\n",
              " 'onesieStreamingUrl': 'https://rr2---sn-5ualdnee.googlevideo.com/initplayback?source=youtube&orc=1&oeis=1&c=ANDROID&oss=1&oda=1&oad=7000&ovd=7000&oaad=11000&oavd=11000&ocs=550&oewis=1&ohct=2&oaf1=1&oputc=1&ofpcc=2&osbr=1&osnz=1&id=8747b61c03d3185e&ip=34.75.100.234&omo=1&msp=0&mt=1642936505&fvip=2'}"
            ]
          },
          "metadata": {},
          "execution_count": 16
        }
      ]
    },
    {
      "cell_type": "code",
      "execution_count": null,
      "metadata": {
        "colab": {
          "base_uri": "https://localhost:8080/"
        },
        "id": "JXIwdZn3vKbT",
        "outputId": "689e5817-56f8-4fd5-909b-78d4689e8085"
      },
      "outputs": [
        {
          "name": "stdout",
          "output_type": "stream",
          "text": [
            "thread 1 is working\n",
            "thread 2 is working\n",
            "thread 3 is working\n"
          ]
        }
      ],
      "source": [
        "# link = \"https://www.youtube.com/watch?v=Wp2RCReHtsI ---18\"\n",
        "t1 = threading.Thread(target=downloads1)\n",
        "t1.start()\n",
        "print(\"thread 1 is working\")\n",
        "# link2 = \"https://www.youtube.com/watch?v=qvDg17PbSnU ---22\"\n",
        "\n",
        "t2 = threading.Thread(target=downloads2)\n",
        "t2.start()\n",
        "print(\"thread 2 is working\")\n",
        "t3 = threading.Thread(target=downloads3)\n",
        "t3.start()\n",
        "print(\"thread 3 is working\")\n",
        "t4 = threading.Thread(target=downloads4)\n",
        "t4.start()\n",
        "t5 = threading.Thread(target=downloads5)\n",
        "t5.start()\n",
        "t6 = threading.Thread(target=downloads6)\n",
        "t6.start()\n",
        "t7 = threading.Thread(target=downloads7)\n",
        "t7.start()\n",
        "t8 = threading.Thread(target=downloads8)\n",
        "t8.start()\n",
        "t9 = threading.Thread(target=downloads9)\n",
        "t9.start()"
      ]
    },
    {
      "cell_type": "code",
      "execution_count": null,
      "metadata": {
        "id": "JqqiOefGo3mM"
      },
      "outputs": [],
      "source": [
        "def fibonacci_of(n):\n",
        "    if n in {0, 1}:  # Base case\n",
        "      return(n)\n",
        "    return(fibonacci_of(n - 1) + fibonacci_of(n - 2))  # Recursive case"
      ]
    },
    {
      "cell_type": "code",
      "execution_count": null,
      "metadata": {
        "colab": {
          "background_save": true
        },
        "id": "sDDpn00MY2IK"
      },
      "outputs": [],
      "source": [
        "import time"
      ]
    },
    {
      "cell_type": "code",
      "execution_count": null,
      "metadata": {
        "id": "0Kh4H0yso9Ut"
      },
      "outputs": [],
      "source": [
        "def g():\n",
        "  for i in range(10):\n",
        "    print(\"fuck\")\n",
        "    (1)"
      ]
    },
    {
      "cell_type": "code",
      "execution_count": null,
      "metadata": {
        "colab": {
          "background_save": true
        },
        "id": "slK4KxbaYpcu"
      },
      "outputs": [],
      "source": [
        "g()"
      ]
    },
    {
      "cell_type": "code",
      "execution_count": null,
      "metadata": {
        "colab": {
          "base_uri": "https://localhost:8080/"
        },
        "id": "sTgEhK52nlSv",
        "outputId": "be614887-cae6-4428-cdd8-1c5738c3ebbe"
      },
      "outputs": [
        {
          "name": "stderr",
          "output_type": "stream",
          "text": [
            "Exception in thread Thread-12:\n",
            "Traceback (most recent call last):\n",
            "  File \"/usr/lib/python3.7/threading.py\", line 926, in _bootstrap_inner\n",
            "    self.run()\n",
            "  File \"/usr/lib/python3.7/threading.py\", line 870, in run\n",
            "    self._target(*self._args, **self._kwargs)\n",
            "TypeError: fibonacci_of() argument after * must be an iterable, not int\n",
            "\n"
          ]
        }
      ],
      "source": [
        "import threading\n",
        "t1 = threading.Thread(target=fibonacci_of,args=(10))\n",
        "t1.start()"
      ]
    },
    {
      "cell_type": "code",
      "execution_count": null,
      "metadata": {
        "id": "MejDgetIqhnV"
      },
      "outputs": [],
      "source": [
        "# def downloads2()\n",
        "\n",
        "# t2 = threading.Thread(target=downloads2)\n",
        "# t2.start()"
      ]
    },
    {
      "cell_type": "code",
      "execution_count": null,
      "metadata": {
        "id": "vLeTdR6-s0pv"
      },
      "outputs": [],
      "source": [
        ""
      ]
    },
    {
      "cell_type": "code",
      "execution_count": null,
      "metadata": {
        "id": "M9PLwUais0lR"
      },
      "outputs": [],
      "source": [
        "from threading import * \n",
        "outside = []\n",
        "arrayofkeywords=[1,2,3,4,5,6,7]\n",
        "def handler(outList):\n",
        "    # Modify existing object (important!)\n",
        "    outList.append(1)\n",
        "    print(1)\n",
        "\n",
        "def doStuffWith(keyword):\n",
        "    ...\n",
        "    result = []\n",
        "    thread = Thread(target=handler, args=(result,))\n",
        "    print(2)\n",
        "    return (thread, result)\n",
        "\n",
        "def main():\n",
        "    threads = [ doStuffWith(k) for k in arrayofkeywords]\n",
        "    for t in threads:\n",
        "        t[0].start()\n",
        "    for t in threads:\n",
        "        t[0].join()\n",
        "        global ret\n",
        "        ret = t[1]\n",
        "\n",
        "        # process return value here\n",
        "main()\n",
        "print(ret)"
      ]
    },
    {
      "cell_type": "code",
      "execution_count": null,
      "metadata": {
        "id": "P4NT63LJs0FI"
      },
      "outputs": [],
      "source": [
        ""
      ]
    },
    {
      "cell_type": "code",
      "execution_count": null,
      "metadata": {
        "colab": {
          "background_save": true,
          "base_uri": "https://localhost:8080/"
        },
        "id": "iwxixOl6BDDa",
        "outputId": "a08eeb1e-8e5c-4893-c99e-e9af39628d11"
      },
      "outputs": [
        {
          "name": "stdout",
          "output_type": "stream",
          "text": [
            "Collecting gtts\n",
            "  Downloading gTTS-2.2.3-py3-none-any.whl (25 kB)\n",
            "Requirement already satisfied: six in /usr/local/lib/python3.7/dist-packages (from gtts) (1.15.0)\n",
            "Requirement already satisfied: click in /usr/local/lib/python3.7/dist-packages (from gtts) (7.1.2)\n",
            "Requirement already satisfied: requests in /usr/local/lib/python3.7/dist-packages (from gtts) (2.23.0)\n",
            "Requirement already satisfied: idna<3,>=2.5 in /usr/local/lib/python3.7/dist-packages (from requests->gtts) (2.10)\n",
            "Requirement already satisfied: certifi>=2017.4.17 in /usr/local/lib/python3.7/dist-packages (from requests->gtts) (2021.10.8)\n",
            "Requirement already satisfied: urllib3!=1.25.0,!=1.25.1,<1.26,>=1.21.1 in /usr/local/lib/python3.7/dist-packages (from requests->gtts) (1.24.3)\n",
            "Requirement already satisfied: chardet<4,>=3.0.2 in /usr/local/lib/python3.7/dist-packages (from requests->gtts) (3.0.4)\n",
            "Installing collected packages: gtts\n",
            "Successfully installed gtts-2.2.3\n"
          ]
        }
      ],
      "source": [
        "!pip install gtts"
      ]
    },
    {
      "cell_type": "code",
      "execution_count": null,
      "metadata": {
        "id": "AppjyIylIJgo"
      },
      "outputs": [],
      "source": [
        "text = \"\"\"Abstract\n",
        "Fifty years of research in Networks coincides with 50 years of advances in resilience\n",
        "theory and applications. The purpose of this review is to identify how these two technical communities influenced each other in the past and can bolster each other in\n",
        "the future. Advances in resilience theory show that there are at least four ways networks demonstrate resilience: robustness, rebound, extensibility, and adaptability.\n",
        "Research published in Networks and by the broader network optimization community\n",
        "has focused primarily on technical methods for robustness and rebound. We review\n",
        "this literature to organize seminal problems and papers on the ability of networks to\n",
        "manage increasing stressors and return to normal activities after a stressful event.\"\"\""
      ]
    },
    {
      "cell_type": "code",
      "execution_count": null,
      "metadata": {
        "colab": {
          "base_uri": "https://localhost:8080/"
        },
        "id": "1Aw2He0QNX4E",
        "outputId": "6a40f273-972d-41a8-8778-6b7bdda07d52"
      },
      "outputs": [
        {
          "name": "stdout",
          "output_type": "stream",
          "text": [
            "649\n",
            "649\n"
          ]
        }
      ],
      "source": [
        "print(len(text))\n",
        "text = text.replace(\" \",\"\")\n",
        "text\n",
        "print(len(text))"
      ]
    },
    {
      "cell_type": "code",
      "execution_count": null,
      "metadata": {
        "colab": {
          "base_uri": "https://localhost:8080/"
        },
        "id": "NlyQNpYd_0vT",
        "outputId": "a53f270d-f555-4bfb-ab95-56ea8310e4b5"
      },
      "outputs": [
        {
          "name": "stdout",
          "output_type": "stream",
          "text": [
            "114553\n",
            "113610\n",
            "113610\n",
            "113610\n"
          ]
        }
      ],
      "source": [
        "# text preprocessing\n",
        "print(len(text))\n",
        "text=text.replace(\"\\n\", \"\")\n",
        "print(len(text))\n",
        "text=text.replace(\"     \", \" \")\n",
        "print(len(text))\n",
        "text=text.replace(\"    \", \" \")\n",
        "text=text.replace(\"   \", \" \")\n",
        "text=text.replace(\"  \", \" \")\n",
        "text=text.replace(\" \", \" \")\n",
        "# text=text.replace(\"    \", \" \")\n",
        "# text=text.replace(\"\\n\", \"\")\n",
        "print(len(text))\n",
        "# text=text.replace(\"i.\\ne.\\n\", \"ie.\")\n",
        "# text=text.replace(\"Fig.\\n\", \".fig.\")\n",
        "# text"
      ]
    },
    {
      "cell_type": "code",
      "execution_count": null,
      "metadata": {
        "id": "9HYQoAajPCIB"
      },
      "outputs": [],
      "source": [
        "text = \"\"\"Abstract\n",
        "Fifty years of research in Networks coincides with 50 years of advances in resilience theory and applications. The purpose of this review is to identify how these two technical communities influenced each other in the past and can bolster each other in the future. Advances in resilience theory show that there are at least four ways networks demonstrate resilience: robustness, rebound, extensibility, and adaptability. Research published in Networks and by the broader network optimization community has focused primarily on technical methods for robustness and rebound. We review this literature to organize seminal problems and papers on the ability of networks to manage increasing stressors and return to normal activities after a stressful event.\"\"\""
      ]
    },
    {
      "cell_type": "code",
      "execution_count": null,
      "metadata": {
        "id": "wQ4nHGGlXZra"
      },
      "outputs": [],
      "source": [
        "# text to audio\n",
        "import gtts\n",
        "def savefile():\n",
        "  name = \"writve_essbbay_dis1t\"\n",
        "  # text = \n",
        "\n",
        "  tts = gtts.gTTS(text,slow=False,tld=\"co.uk\")\n",
        "  tts.save(f\"/content/drive/MyDrive/paper_resiliency/{name}.mp3\")\n",
        "\n",
        "savefile()"
      ]
    },
    {
      "cell_type": "code",
      "execution_count": null,
      "metadata": {
        "colab": {
          "base_uri": "https://localhost:8080/"
        },
        "id": "nmy3lx33Xnzw",
        "outputId": "02a1ceff-1ef4-4642-e81d-08792788d3b9"
      },
      "outputs": [
        {
          "name": "stdout",
          "output_type": "stream",
          "text": [
            "Requirement already satisfied: gtts in /usr/local/lib/python3.7/dist-packages (2.2.3)\n",
            "Requirement already satisfied: six in /usr/local/lib/python3.7/dist-packages (from gtts) (1.15.0)\n",
            "Requirement already satisfied: requests in /usr/local/lib/python3.7/dist-packages (from gtts) (2.23.0)\n",
            "Requirement already satisfied: click in /usr/local/lib/python3.7/dist-packages (from gtts) (7.1.2)\n",
            "Requirement already satisfied: urllib3!=1.25.0,!=1.25.1,<1.26,>=1.21.1 in /usr/local/lib/python3.7/dist-packages (from requests->gtts) (1.24.3)\n",
            "Requirement already satisfied: idna<3,>=2.5 in /usr/local/lib/python3.7/dist-packages (from requests->gtts) (2.10)\n",
            "Requirement already satisfied: chardet<4,>=3.0.2 in /usr/local/lib/python3.7/dist-packages (from requests->gtts) (3.0.4)\n",
            "Requirement already satisfied: certifi>=2017.4.17 in /usr/local/lib/python3.7/dist-packages (from requests->gtts) (2021.10.8)\n"
          ]
        }
      ],
      "source": [
        "!pip install gtts"
      ]
    },
    {
      "cell_type": "code",
      "execution_count": null,
      "metadata": {
        "id": "AkNjtDoGZ8B_"
      },
      "outputs": [],
      "source": [
        "text= \"\"\"lready satisfied: idna<3,>=2.5 in /usr/local/lib/python3.7/dist-pa\"\"\""
      ]
    },
    {
      "cell_type": "code",
      "execution_count": null,
      "metadata": {
        "colab": {
          "base_uri": "https://localhost:8080/",
          "height": 432
        },
        "id": "_l3fIQOrIsmo",
        "outputId": "aee30b36-9ed8-4b59-f31a-dba6b6bd03b5"
      },
      "outputs": [
        {
          "ename": "gTTSError",
          "evalue": "ignored",
          "output_type": "error",
          "traceback": [
            "\u001b[0;31m---------------------------------------------------------------------------\u001b[0m",
            "\u001b[0;31mHTTPError\u001b[0m                                 Traceback (most recent call last)",
            "\u001b[0;32m/usr/local/lib/python3.7/dist-packages/gtts/tts.py\u001b[0m in \u001b[0;36mwrite_to_fp\u001b[0;34m(self, fp)\u001b[0m\n\u001b[1;32m    271\u001b[0m \u001b[0;34m\u001b[0m\u001b[0m\n\u001b[0;32m--> 272\u001b[0;31m                 \u001b[0mr\u001b[0m\u001b[0;34m.\u001b[0m\u001b[0mraise_for_status\u001b[0m\u001b[0;34m(\u001b[0m\u001b[0;34m)\u001b[0m\u001b[0;34m\u001b[0m\u001b[0;34m\u001b[0m\u001b[0m\n\u001b[0m\u001b[1;32m    273\u001b[0m             \u001b[0;32mexcept\u001b[0m \u001b[0mrequests\u001b[0m\u001b[0;34m.\u001b[0m\u001b[0mexceptions\u001b[0m\u001b[0;34m.\u001b[0m\u001b[0mHTTPError\u001b[0m \u001b[0;32mas\u001b[0m \u001b[0me\u001b[0m\u001b[0;34m:\u001b[0m  \u001b[0;31m# pragma: no cover\u001b[0m\u001b[0;34m\u001b[0m\u001b[0;34m\u001b[0m\u001b[0m\n",
            "\u001b[0;32m/usr/local/lib/python3.7/dist-packages/requests/models.py\u001b[0m in \u001b[0;36mraise_for_status\u001b[0;34m(self)\u001b[0m\n\u001b[1;32m    940\u001b[0m         \u001b[0;32mif\u001b[0m \u001b[0mhttp_error_msg\u001b[0m\u001b[0;34m:\u001b[0m\u001b[0;34m\u001b[0m\u001b[0;34m\u001b[0m\u001b[0m\n\u001b[0;32m--> 941\u001b[0;31m             \u001b[0;32mraise\u001b[0m \u001b[0mHTTPError\u001b[0m\u001b[0;34m(\u001b[0m\u001b[0mhttp_error_msg\u001b[0m\u001b[0;34m,\u001b[0m \u001b[0mresponse\u001b[0m\u001b[0;34m=\u001b[0m\u001b[0mself\u001b[0m\u001b[0;34m)\u001b[0m\u001b[0;34m\u001b[0m\u001b[0;34m\u001b[0m\u001b[0m\n\u001b[0m\u001b[1;32m    942\u001b[0m \u001b[0;34m\u001b[0m\u001b[0m\n",
            "\u001b[0;31mHTTPError\u001b[0m: 429 Client Error: Too Many Requests for url: https://www.google.com/sorry/index?continue=https://translate.google.co.uk/_/TranslateWebserverUi/data/batchexecute&q=EgQiQq_1GN6s_Y0GIhAxq4GV_9sVVPFMPpZ4mVn_MgFy",
            "\nDuring handling of the above exception, another exception occurred:\n",
            "\u001b[0;31mgTTSError\u001b[0m                                 Traceback (most recent call last)",
            "\u001b[0;32m<ipython-input-132-0d2c353526fa>\u001b[0m in \u001b[0;36m<module>\u001b[0;34m()\u001b[0m\n\u001b[1;32m      8\u001b[0m   \u001b[0mtts\u001b[0m\u001b[0;34m.\u001b[0m\u001b[0msave\u001b[0m\u001b[0;34m(\u001b[0m\u001b[0;34mf\"/content/drive/MyDrive/paper_resiliency/{name}.mp3\"\u001b[0m\u001b[0;34m)\u001b[0m\u001b[0;34m\u001b[0m\u001b[0;34m\u001b[0m\u001b[0m\n\u001b[1;32m      9\u001b[0m \u001b[0;34m\u001b[0m\u001b[0m\n\u001b[0;32m---> 10\u001b[0;31m \u001b[0msavefile\u001b[0m\u001b[0;34m(\u001b[0m\u001b[0;34m)\u001b[0m\u001b[0;34m\u001b[0m\u001b[0;34m\u001b[0m\u001b[0m\n\u001b[0m",
            "\u001b[0;32m<ipython-input-132-0d2c353526fa>\u001b[0m in \u001b[0;36msavefile\u001b[0;34m()\u001b[0m\n\u001b[1;32m      6\u001b[0m \u001b[0;34m\u001b[0m\u001b[0m\n\u001b[1;32m      7\u001b[0m   \u001b[0mtts\u001b[0m \u001b[0;34m=\u001b[0m \u001b[0mgtts\u001b[0m\u001b[0;34m.\u001b[0m\u001b[0mgTTS\u001b[0m\u001b[0;34m(\u001b[0m\u001b[0mtext\u001b[0m\u001b[0;34m,\u001b[0m\u001b[0mslow\u001b[0m\u001b[0;34m=\u001b[0m\u001b[0;32mFalse\u001b[0m\u001b[0;34m,\u001b[0m\u001b[0mtld\u001b[0m\u001b[0;34m=\u001b[0m\u001b[0;34m\"co.uk\"\u001b[0m\u001b[0;34m)\u001b[0m\u001b[0;34m\u001b[0m\u001b[0;34m\u001b[0m\u001b[0m\n\u001b[0;32m----> 8\u001b[0;31m   \u001b[0mtts\u001b[0m\u001b[0;34m.\u001b[0m\u001b[0msave\u001b[0m\u001b[0;34m(\u001b[0m\u001b[0;34mf\"/content/drive/MyDrive/paper_resiliency/{name}.mp3\"\u001b[0m\u001b[0;34m)\u001b[0m\u001b[0;34m\u001b[0m\u001b[0;34m\u001b[0m\u001b[0m\n\u001b[0m\u001b[1;32m      9\u001b[0m \u001b[0;34m\u001b[0m\u001b[0m\n\u001b[1;32m     10\u001b[0m \u001b[0msavefile\u001b[0m\u001b[0;34m(\u001b[0m\u001b[0;34m)\u001b[0m\u001b[0;34m\u001b[0m\u001b[0;34m\u001b[0m\u001b[0m\n",
            "\u001b[0;32m/usr/local/lib/python3.7/dist-packages/gtts/tts.py\u001b[0m in \u001b[0;36msave\u001b[0;34m(self, savefile)\u001b[0m\n\u001b[1;32m    311\u001b[0m         \"\"\"\n\u001b[1;32m    312\u001b[0m         \u001b[0;32mwith\u001b[0m \u001b[0mopen\u001b[0m\u001b[0;34m(\u001b[0m\u001b[0mstr\u001b[0m\u001b[0;34m(\u001b[0m\u001b[0msavefile\u001b[0m\u001b[0;34m)\u001b[0m\u001b[0;34m,\u001b[0m \u001b[0;34m'wb'\u001b[0m\u001b[0;34m)\u001b[0m \u001b[0;32mas\u001b[0m \u001b[0mf\u001b[0m\u001b[0;34m:\u001b[0m\u001b[0;34m\u001b[0m\u001b[0;34m\u001b[0m\u001b[0m\n\u001b[0;32m--> 313\u001b[0;31m             \u001b[0mself\u001b[0m\u001b[0;34m.\u001b[0m\u001b[0mwrite_to_fp\u001b[0m\u001b[0;34m(\u001b[0m\u001b[0mf\u001b[0m\u001b[0;34m)\u001b[0m\u001b[0;34m\u001b[0m\u001b[0;34m\u001b[0m\u001b[0m\n\u001b[0m\u001b[1;32m    314\u001b[0m             \u001b[0mlog\u001b[0m\u001b[0;34m.\u001b[0m\u001b[0mdebug\u001b[0m\u001b[0;34m(\u001b[0m\u001b[0;34m\"Saved to %s\"\u001b[0m\u001b[0;34m,\u001b[0m \u001b[0msavefile\u001b[0m\u001b[0;34m)\u001b[0m\u001b[0;34m\u001b[0m\u001b[0;34m\u001b[0m\u001b[0m\n\u001b[1;32m    315\u001b[0m \u001b[0;34m\u001b[0m\u001b[0m\n",
            "\u001b[0;32m/usr/local/lib/python3.7/dist-packages/gtts/tts.py\u001b[0m in \u001b[0;36mwrite_to_fp\u001b[0;34m(self, fp)\u001b[0m\n\u001b[1;32m    274\u001b[0m                 \u001b[0;31m# Request successful, bad response\u001b[0m\u001b[0;34m\u001b[0m\u001b[0;34m\u001b[0m\u001b[0;34m\u001b[0m\u001b[0m\n\u001b[1;32m    275\u001b[0m                 \u001b[0mlog\u001b[0m\u001b[0;34m.\u001b[0m\u001b[0mdebug\u001b[0m\u001b[0;34m(\u001b[0m\u001b[0mstr\u001b[0m\u001b[0;34m(\u001b[0m\u001b[0me\u001b[0m\u001b[0;34m)\u001b[0m\u001b[0;34m)\u001b[0m\u001b[0;34m\u001b[0m\u001b[0;34m\u001b[0m\u001b[0m\n\u001b[0;32m--> 276\u001b[0;31m                 \u001b[0;32mraise\u001b[0m \u001b[0mgTTSError\u001b[0m\u001b[0;34m(\u001b[0m\u001b[0mtts\u001b[0m\u001b[0;34m=\u001b[0m\u001b[0mself\u001b[0m\u001b[0;34m,\u001b[0m \u001b[0mresponse\u001b[0m\u001b[0;34m=\u001b[0m\u001b[0mr\u001b[0m\u001b[0;34m)\u001b[0m\u001b[0;34m\u001b[0m\u001b[0;34m\u001b[0m\u001b[0m\n\u001b[0m\u001b[1;32m    277\u001b[0m             \u001b[0;32mexcept\u001b[0m \u001b[0mrequests\u001b[0m\u001b[0;34m.\u001b[0m\u001b[0mexceptions\u001b[0m\u001b[0;34m.\u001b[0m\u001b[0mRequestException\u001b[0m \u001b[0;32mas\u001b[0m \u001b[0me\u001b[0m\u001b[0;34m:\u001b[0m  \u001b[0;31m# pragma: no cover\u001b[0m\u001b[0;34m\u001b[0m\u001b[0;34m\u001b[0m\u001b[0m\n\u001b[1;32m    278\u001b[0m                 \u001b[0;31m# Request failed\u001b[0m\u001b[0;34m\u001b[0m\u001b[0;34m\u001b[0m\u001b[0;34m\u001b[0m\u001b[0m\n",
            "\u001b[0;31mgTTSError\u001b[0m: 429 (Too Many Requests) from TTS API. Probable cause: Unknown"
          ]
        }
      ],
      "source": [
        "# text to audio\n",
        "import gtts\n",
        "def savefile():\n",
        "  name = \"write_esdsay_dist\"\n",
        "  # text = \n",
        "\n",
        "  tts = gtts.gTTS(text,slow=False,tld=\"co.uk\")\n",
        "  tts.save(f\"/content/drive/MyDrive/paper_resiliency/{name}.mp3\")\n",
        "\n",
        "savefile()"
      ]
    },
    {
      "cell_type": "code",
      "execution_count": null,
      "metadata": {
        "id": "UZduX5a9QOZ6"
      },
      "outputs": [],
      "source": [
        "text = \"\"\"Abstract\n",
        "Fifty years of research in Networks coincides with 50 years of advances in resilience\n",
        "theory and applications. The purpose of this review is to identify how these two technical communities influenced each other in the past and can bolster each other in\n",
        "the future. Advances in resilience theory show that there are at least four ways networks demonstrate resilience: robustness, rebound, extensibility, and adaptability.\n",
        "Research published in Networks and by the broader network optimization community\n",
        "has focused primarily on technical methods for robustness and rebound. We review\n",
        "this literature to organize seminal problems and papers on the ability of networks to\n",
        "manage increasing stressors and return to normal activities after a stressful event./INTRODUCTION\n",
        "Over the last 50 years, the concept of resilience has become popular for characterizing behavior in the presence of stress. The\n",
        "current popularity of the term is often traced back to the work of Holling [108], where resilience is presented as a dynamic\n",
        "property of complex systems to, “measure [the] persistence of systems and of their ability to absorb change and disturbance\n",
        "and still maintain the same relationships between populations or state variables.” The term has since been applied to behavior\n",
        "at the level of a system, organization, or individual, and has become increasingly used across a variety of disciplines, including\n",
        "material science, ecology, psychology, emergency management, engineering, and national security (see Park et al. [168] and\n",
        "Seager et al. [192] for a review of the rise in popularity of this term).\n",
        "There is no single agreed-upon definition of resilience. However, many notions of resilience align with Holling’s early\n",
        "definition and refer to the ability of the system to respond or adapt when challenged by stressful events. For example, the National\n",
        "Research Council [152] defines resilience as “The ability to prepare and plan for, absorb, recover from, or more successfully\n",
        "adapt to actual or potential adverse events”—a definition that largely follows the five phases of emergency management as\n",
        "defined by the Federal Emergency Management Agency [81]. Similarly, resilience of engineered infrastructure is often defined\n",
        "as the capability of the social and physical systems to respond to threats via a combination of robustness, redundancy, resource\u0002fulness, and rapidity abilities [44] or via absorptive, restorative, and adaptive capacities [87]. Social–ecological definitions of\n",
        "resilience also emphasize the adaptive capacity of complex systems, but further emphasize transformability, learning, and inno\u0002vation as key aspects of resilience [11, 83]. These and other resilience definitions differ between application domains, where organizational, social, economic, and engineering domains define and study resilience differently [112]. Despite the lack of\n",
        "consensus on what resilience is or how to define it, there is common agreement on what it is not; the opposite of resilience is\n",
        "commonly termed vulnerability, fragility, or brittleness [221].\n",
        "In this article, we focus on network resilience and the role of optimization models for studying it. Irrespective of definition\n",
        "or application domain, resilience research tends to focus on network representations of systems for demonstrating theory and\n",
        "developing resilience analysis methods. For example, measuring system performance can involve solving a network optimiza\u0002tion problem given the current state of the system. Thus, the research published in Networks and the community of experts\n",
        "involved in network modeling and analysis offer important contributions for advancing the science of resilience. We focus on the\n",
        "development and application of optimization models—along with corresponding algorithms for solving them—for assessing\n",
        "and improving network resilience.\n",
        "We hope to provide the audience of Networks with an appreciation that a particular optimization model can improve an aspect\n",
        "of network resilience and that selecting an appropriate model is important when one wants to “improve network resilience.”\n",
        "The scope of this review is on the resilience of physical or cyber-physical systems and how networks can be used to study it.\n",
        "However, research published in Networks and by the resilience community extends beyond cyber-physical systems, meaning\n",
        "conclusions drawn from this work may inform broad applications and systems. Furthermore, our scope tends to focus on the\n",
        "underlying models and not, in detail, discussing the solution methods developed to solve the models. We review related literature\n",
        "published in Networks and of interest to the readership of Networks and discuss how it contributes to the resilience literature. We\n",
        "hope to broaden the ways in which this community views network resilience and provide an understanding of how optimization\n",
        "models fit into broader discussions of resilience. Finally, we outline some of the most promising and important directions for\n",
        "continued research and contribution, especially in areas of resilience that have been under-studied by the Networks community./MAPPING OPTIMIZATION MODELS TO FOUR CONCEPTS OF\n",
        "RESILIENCE\n",
        "We use the following standard notation throughout. Let G = (N, A) denote a network, where N is the set of nodes (with n = ∣ N∣)\n",
        "and A is the set of directed arcs (with m = ∣ A∣). We denote f(G) = f(N, A) as the performance function of network G. In general,\n",
        "we assume the performance of the network is determined from the solution of an optimization problem that achieves the best\n",
        "objective subject to constraints on network operations. For example, f(G) could capture the maximum flow between a source\n",
        "node s and sink node t subject to flow balance constraints and arc capacities. Furthermore, note that we may seek to design the\n",
        "network G in a way to achieve a certain level of performance.\n",
        "As a start to mapping optimization models to network resilience, we review a common context for how resilience has been\n",
        "defined: (i) there is some set of potential events that stress the system (we purposefully use the term stress since an event does\n",
        "not need to disrupt the system), so there are clear pre-event and post-event time frames, (ii) there is some way to measure the\n",
        "performance of the system before, during, and/or after the event, and (iii) there is some method to measure the impact of the set\n",
        "of events (e.g., average impact, worst-case impact, conditional value-at-risk [CVaR] impact). Optimization models can inform\n",
        "network resilience by measuring how f(G) changes due to stress impacting the network structure and its operations. They can also\n",
        "identify operations and design recommendations to overcome vulnerabilities, fragilities, or brittleness. Optimization models of\n",
        "this form often address a single aspect of resilience (e.g., robustness) and, therefore, can be viewed as a “tool” for a very specific\n",
        "resilience purpose. There can also be “multi-headed tools” (e.g., multi-objective models) that allow for an understanding of the\n",
        "tradeoffs between multiple aspects of network resilience. This approach may be helpful when recommendations to improve one\n",
        "aspect of network resilience (e.g., robustness) may conflict with efforts to improve another (e.g., adaptability).\n",
        "However, because there is no agreed-upon view of resilience, there is no comprehensive way to define a complete tradeoff\n",
        "space. Some aspects of resilience may not be possible to study alongside others due to inherent conflict when defining model\n",
        "primitives, objectives, or constraints. An important role that the Networks community can play in resilience research is to expand\n",
        "the set of optimization models available for analyzing aspects of network resilience that emerge from the literature. Moreover,\n",
        "of particular importance are the perspectives that come from practitioners and/or applications that inform when a particular\n",
        "view of resilience might be most relevant.\n",
        "This concept of using the appropriate model for improving an aspect of resilience is especially important when the outputs\n",
        "of optimization models are used to recommend network operations. A basic assumption for improving network resilience is\n",
        "that there are decisions that can be made before, during, and/or after a stressful event resulting in a desired system structure or\n",
        "function.\n",
        "Woods [220] has identified four distinct concepts for resilience that are relevant for networks:Robustness: managing increasing stressors, complexity, and challenges with limited-to-no impact on normal activities;Rebound: returning to normal activities after a stressful event;\n",
        "• Extensibility: extending system performance or capabilities to respond to surprise events that challenge current activities;\n",
        "and\n",
        "• Adaptability: managing tradeoffs to build adaptive capacity to continuously evolving contexts.\n",
        "The fundamental goals and outcomes for networks differ for each resilience concept. Resilience as robustness emphasizes\n",
        "the need for networks to continue to function as intended in lieu of stress. Resilience as rebound emphasizes the need for stressed\n",
        "networks to recover lost function. Resilience as extensibility emphasizes the need for networks to change intended functions to\n",
        "respond to stress. Resilience as adaptability emphasizes the need for networks to balance robustness, rebound, and extensibility\n",
        "capabilities as systems and their environments change. Together, these four concepts, while limited, provide a framework for\n",
        "the way the Networks community has influenced resilience research and can approach it in the future.\n",
        "In examining the literature produced by the Networks community, it is clear that it has made valuable contributions to the\n",
        "robustness and rebound concepts. Therefore, we will take a retrospective look at literature in these areas including: fault tolerant\n",
        "and/or survivable network design, two-stage stochastic network optimization problems, interdiction problems, N −k problems,\n",
        "defender-attacker-defender problems, robust network flows and design, problems focusing on reinstalling connectivity into\n",
        "disrupted networks, and network recovery problems. This retrospective look discusses how these problems address resilience\n",
        "within them and/or how they can be used to analyze resilience. In contrast, the Networks community has made fewer contri\u0002butions that progress extensibility and adaptability. We will take a more prospective look at the types of network optimization\n",
        "problems that may advance these concepts.\n",
        "In the following sections, we review optimization models that inform network resilience. We organize model formulations,\n",
        "analyses, and uses by the aspects of resilience they are meant to improve: robustness, rebound, extensibility, and adaptability. We\n",
        "identify areas of research that the Networks community has historically contributed to, and we reveal new avenues of research\n",
        "that require more attention. Where appropriate, we point the reader to existing reviews of network resilience, discuss advances\n",
        "in these areas, and provide a number of critical open areas for future research. We conclude with open issues and questions\n",
        "meant to provoke future advances on network resilience in the Networks community./Resilience as robustness in optimization models\n",
        "We proceed by outlining network optimization literature that incorporates aspects of resilience as robustness. Here, we outline\n",
        "how resilience as robustness can be analyzed through the use of existing network optimization models./Survivable network design and fault tolerance problems\n",
        "Survivable network design and fault tolerance problems focus on designing networks so that a minimum number of (typically\n",
        "node or arc disjoint) “structures” exist (call this number ) within the network. These problems ensure that the network is robust\n",
        "for this structure against perturbations that remove up to k −1 network components. In this case, if the perturbation set is focused\n",
        "on removing nodes, we have N = {(N′\n",
        ", A′\n",
        ") ∶ N′ ⊆ N, A′ ⊆ A, (i, j) ∈ A′ implies i ∈ N′ or j ∈ N′\n",
        ", and ∣N′\n",
        "∣ ≤ k − 1} where\n",
        "p ∈ N provides a set of nodes and arcs to remove from the network in the perturbation. If the perturbation set focused on\n",
        "removing arcs, we have A = {(N, A′\n",
        ") ∶ A′ ⊆ A such that ∣ A′ ∣ ≤ k − 1}. Kerivin and Mahjoub [126] review the literature\n",
        "on survivable network design problems where an s−t path is considered the “structure.” The node (arc) survivable network\n",
        "design problem is then defined to build a least cost network that has at least k node (arc) disjoint paths between s and t. This\n",
        "ensures that there remains an s−t path for any perturbation that removes up to k −1 nodes, that is, in any p∈PN (or up to k −1\n",
        "arcs, i.e., in p ∈ A), thus ensuring that an s−t path robustly operates across a large number of perturbations.\n",
        "We now consider a number of papers that have built upon the survivable network design problems reviewed by Kerivin and\n",
        "Mahjoub [126]. Bendali et al. [31] provide a branch-and-cut algorithm for the k-arc survivable network design problem (note\n",
        "that they call this problem the k-edge connected network design problem). Chimani et al. [56] provide integer programming\n",
        "formulations based on graph theory for k = 0,1,2-node survivable problems. Fortz et al. [84] examine a branch-and-cut method\n",
        "for 2-arc survivable problems that requires no arcs are included in a cycle of more than a certain length. Huygens et al. [115]\n",
        "study a branch-and-cut method for the extension of the 2-arc survivable network design that bounds the length of the paths to\n",
        "L (or “hops” taken by the path). Diarrassouba et al. [64] consider integer programming formulations for the k-arc problem with\n",
        "L=3 hops. Botton et al. [37,38] examine Benders decomposition approaches for these problems with general k and L parameters.\n",
        "Balakrishnan et al. [23] propose large-scale solution methods that integrate decomposition, tabu search, and optimization to\n",
        "solve general survivable network design problems. Gouveia and Leitner [100] examine a survivable network design problem\n",
        "that focuses on path lengths and requires that a path exists between s and t of length less than or equal to Hst pre-perturbation\n",
        "and a length of most H′\n",
        "st after k −1 arcs are removed. Terblanche et al. [208], Ljubic et al. [137], and Matthews et al. [143] have ´\n",
        "studied stochastic survivable network design problems where not all design data are known initially.\n",
        "Survivable network design and fault tolerance problems are closely related to one another; we refer the reader to Al-Kuwaiti\n",
        "et al. [2] for a discussion on the similarities and differences between fault-tolerance, reliability, and survivability in the context\n",
        "of communications and computer systems. Within the Networks journal, fault tolerance is often used to describe more general\n",
        "structures (or required operations) beyond s−t paths. Liestman [134] examines fault tolerance of calling schemes for broad\u0002casting messages in networks. Farrag and Dawson [79] and Dawson and Farrag [63] examine fault tolerance as it relates to\n",
        "preserving star configurations in networks. Harary and Hayes [102] survey results for fault tolerance with structures including\n",
        "cycles and various types of trees.\n",
        "An important area of application for survivable network design and fault tolerant problems is designing and operat\u0002ing resilient telecommunications networks. This may require not only designing survivable networks but also in routing\n",
        "post-perturbation to maintain system operations. There are several special issues of Networks that focus on resilient telecom\u0002munications networks. Rak and Sterbenz [175] describe the contributions made by papers in the issue “Optimization Issues in\n",
        "Resilient Network Design and Modeling.” Jonsson et al. [122] describe the contributions made by papers in the issue “Design\n",
        "of Resilient Communications Networks.” Rak et al. [176] describe the contributions made by papers in the issue “Resilience\n",
        "of Communication Networks to Random Failures and Disasters.” We refer the reader to these overviews for a more detailed\n",
        "discussion of the papers; here we provide a high-level categorization of the papers across these special issues.\n",
        "Silva et al. [199], Canale et al. [47], Sen et al. [195], Canale et al. [48], Martins et al. [141], Ghedini et al. [92], Barbosa et al.\n",
        "[25], Castillo et al. [50], Lin and Zhou [135], and Vass et al. [212] analyze problems in survivability, reliability, or fault-tolerance\n",
        "for different required structures and/or operations. Kucharzak et al. [129], Fouquet et al. [86], Yang et al. [225], Cheng et al.\n",
        "[54], Myslitski et al. [150], Busing et al. [45], and Natalino et al. [151] examine novel post-perturbation routing or path selection\n",
        "protocols. Houthooft et al. [114], Papadimitriou and Fortz [167], Gomes et al. [97], Hmaity et al. [107], Girão-Silva et al. [94],and Kalesnikau et al. [123] consider problems that integrate network design or operations pre-perturbation with effective routing\n",
        "post-perturbation. Ali et al. [8] and Pasic et al. [169] examine methods to identify locations of failures after a disruption./ Two-stage stochastic network optimization problems\n",
        "Stochastic network optimization problems, such as network design, are broadly focused on making decisions in the face of\n",
        "uncertainty about the operating conditions of the network. We could view each potential operating scenario as belonging to the\n",
        "set of perturbations in examining how these problems build in aspects of resilience as robustness. Therefore, there is no standard\n",
        "way to define  for these problems although it is standard that there will be a probability (likelihood) of a particular perturba\u0002tion. Two-stage stochastic problems would make decisions prior to the perturbation being revealed (i.e., first-stage preparation\n",
        "decisions) and then can make perturbation-specific decisions once it is revealed. Any two-stage network design problem where\n",
        "we are seeking to optimize the expected performance of the network across all perturbations (or other measures, like CVaR) or\n",
        "seeking to minimize design costs to ensure some level of post-perturbation performance can be viewed as addressing resilience\n",
        "as robustness. Note that the latter viewpoint is similar to that of survivable network design problems.\n",
        "The literature on stochastic network optimization problems is vast and review papers typically focus on a specific application\n",
        "area [101,203,204]. Work within the Networks journal that addresses these types of problems may not specifically mention\n",
        "resilience, but it contributes to the area nonetheless. We will highlight a number of contributions from the journal and then\n",
        "discuss specific application areas.\n",
        "In Networks, Atamturk and Bhardwaj [16] consider the problem of minimizing the cost of installed edges into a network\n",
        "so that the maximum flow is above a certain level with probability 1−𝜀, where the capacities of the installed arcs are ran\u0002dom variables. Although the paper does not specifically mention resilience, it is addressing a problem to ensure that network\n",
        "performance is robust across a wide set of perturbations (the realized arc capacities).\n",
        "Crainic et al. [59], and its follow-up paper Rahmaniani et al. [174], examine how to solve a multicommodity, capacitated\n",
        "network design problem with stochastic demands using metaheuristics and Benders decomposition, respectively. The perturba\u0002tions are defined based on the demands of nodes and the problem seeks to minimize the sum of the pre-planning costs (including\n",
        "the costs associated with building arcs) and the expected transportation costs after the perturbation occurs. By applying dif\u0002ferent weights to the pre-planning costs and the transportation costs, it would be possible to use their work to understand the\n",
        "tradeoffs between preparing for the perturbation and in the post-perturbation network performance.\n",
        "Rysz et al. [180] consider a general class of problems which seeks to detect a “structure” (e.g., a clique) in a network with\n",
        "a certain property prior to the perturbation so that the structure can be repaired quickly after the perturbation to maintain this\n",
        "property. In other words, they seek to identify a portion of the network so that the property is quickly re-established after any\n",
        "perturbation. This type of problem is one where robustness includes a measure as to how the system rebounds (Section 4) from\n",
        "the perturbation. The papers of Heath et al. [103], Tan et al. [206], Aslan and Çelik [15], Sanci and Daskin [185], and Fang\n",
        "et al. [76] consider similar two-stage problems where the robustness is measured based on how well the system rebounds after\n",
        "the perturbation and include decisions modeling the rebound process.\n",
        "There have been literature reviews that focus on stochastic network optimization problems for specific applications. Snyder\n",
        "[203] provides a review of facility location problems under uncertainty. In these problems, the location of the facilities is\n",
        "often the first-stage decisions and perturbations can be used to capture the uncertainty about facility capacities, demands, and\n",
        "connection costs to customers. These problems contribute to analyzing resilience as robustness for applications that can be\n",
        "modeled within the various classes of facility location problems. Grass and Fischer [101] provide an overview of two-stage\n",
        "stochastic programming in disaster management, with a specific focus on reviewing papers that are related to pre-positioning\n",
        "humanitarian aid within a network as well as providing an overview of solution methods. Snyder et al. [204] broadly examine\n",
        "supply chain planning under disruptions, and many of its referenced papers fall into how to design supply chain networks when\n",
        "faced with perturbations of their characteristics. Hosseini et al. [113] classify how different pre-perturbation decisions within a\n",
        "supply chain network impact its ability to handle (or recover from) the perturbation.\n",
        "Specific papers that focus on designing resilient supply chains include [89,140,155,210]. Margolis et al. [140] examine a\n",
        "multi-objective network design problem that assesses the tradeoffs between design costs and the post-perturbation connectivity\n",
        "of the supply chain. Ni et al. [155] examine a two-stage problem where the second stage specifically accounts for losing cus\u0002tomers in the supply chain due to disruptions after the perturbation. Gao et al. [89] propose a conic programming approach to\n",
        "identify the optimal inventory positioning policy for problems concerned with minimizing the CVaR of lost sales. Tucker et al.\n",
        "[210] study two-stage and multi-stage stochastic problems that seek to limit drug shortages and provide incentives to certain\n",
        "suppliers to improve the overall resilience of pharmaceutical supply chains.\n",
        "Faturechi and Miller-Hooks [80] review methods to quantify the resilience of transportation infrastructure and discuss the\n",
        "role of two-stage optimization problems in this area. For power grid resilience, Wang et al. [215] provide a review and discussion\n",
        "of the types of pre-event and post-event strategies that can improve resilience; these can be modeled in two-stage problems to\n",
        "improve the robustness of power grid networks. It is also important to note that infrastructures are increasingly interdependent\n",
        "[44,162] and network models have been created to understand the performance of interdependent infrastructures [132]. In this\n",
        "area, Fotouhi et al. [85] examine two-stage problems for robustness of interdependent traffic and power systems./Interdiction problems\n",
        "Network interdiction problems focus on situations where an attacker will select the perturbation to the network in a way\n",
        "that most impacts its performance and then a defender will operate the network, post-perturbation. These problems study\n",
        "resilience as robustness by helping to understand the worst-case impact of a perturbation to network operations. Typically, the\n",
        "perturbation set is defined by a feasible region of which arcs can be removed (as noted previously, this, without loss of gen\u0002erality, can model node removals); for example, if the arc removals follow a budget constraint, then  = {\n",
        "(N, A′\n",
        ") ∶ A′ ⊆ A\n",
        "such that ∑\n",
        "(i,j)∈A′ bij ≤ B\n",
        "}\n",
        ", where A′\n",
        "is the set of arcs removed from the network.\n",
        "This type of problem has been studied extensively within the Networks community; in fact, a virtual issue of the journal\n",
        "is available that highlights contributions of the following papers: Alvarez et al. [9], Bayrak and Bailey [30], Cullenbine et al.\n",
        "[61], Israeli and Wood [118], Janjarassuk and Linderoth [120], Pan and Morton [165], Salmerón [181], and Shen and Smith\n",
        "[198]. We refer the interested reader to the review of Smith and Song [202] for an extensive discussion of interdiction problems,\n",
        "solution methods, and applications.\n",
        "Two fundamental network interdiction problems are the max flow interdiction and shortest path interdiction. The max flow\n",
        "interdiction problem typically focuses on perturbations that remove arcs from the network so that the total arc removal costs did\n",
        "not exceed a budget. The shortest path interdiction problem typically focuses on perturbations that increase the length of arcs,\n",
        "subject to a budget. The study of these problems within the Networks community has helped to inform resilience analysis done\n",
        "by a wide range of communities and we will touch upon some of this work later in this section.\n",
        "Research on the max flow network interdiction problem (MFNIP) can be traced back to the work of Wollmer [216], McMas\u0002ters and Mustin [145], and Ghare et al. [91]. The seminal work of Wood [217] renewed interest in the MFNIP and set the stage\n",
        "for how network interdiction can be used to understand the vulnerabilities of infrastructure systems and defend them from dis\u0002ruptions [42]. Research on the shortest path network interdiction problem can be traced back to the work of Fulkerson and\n",
        "Harding [88] and Golden [96] with an impactful paper being Israeli and Wood [118], published in Networks.\n",
        "An important extension of interdiction problems that can offer a different viewpoint on resilience is one that considers\n",
        "asymmetric information. Information asymmetry refers to the situation where the attacker and defender may have different\n",
        "information about the network; for example, the attacker may not understand the supply/demand, capacities, or costs of arcs in\n",
        "the network. This framework would be important in examining resilience as robustness for networks that may be attacked by\n",
        "malicious actors who only have partial information. We refer the reader to the works of Bayrak and Bailey [30], Salmerón [181],\n",
        "and Baycik and Sullivan [28] for examples of interdiction under asymmetric information. An important aspect of analyzing\n",
        "these problems is whether or not the attacker can learn information about the network that they initially did not have. Borrero\n",
        "et al. [35,36] consider learning in the context of network interdiction and show that greedy and robust learning policies will\n",
        "eventually match the interdiction decisions of an attacker with perfect information. Pay et al. [171] examine problems where\n",
        "the defender’s risk preferences can be expressed using utility theory and are learned by the attacker. Interdiction with learning\n",
        "falls into the broader class of dynamic interdiction problems (see, e.g., [193,194]). We refer the reader to Smith and Song [202]\n",
        "for more details.\n",
        "Interdiction problems have been applied to specifically understand the robustness of different types of infrastructure net\u0002works. There are a number of papers seeking to understand resilience as robustness of the power grid. For example, the papers\n",
        "of Salmerón et al. [183,184] and Salmerón and Wood [182] examine interdicting power grid networks, where the operations of\n",
        "the grid are modeled using the direct current (DC) flow constraints. Wang and Baldick [214] present more detailed analysis on\n",
        "the consequences of an interdiction in terms of both short (minutes) and near term (days) impacts. Rocco et al. [179] assess the\n",
        "vulnerabilities of a power grid and Zhang et al. [228] examine how to fortify supply systems against deliberate attacks.\n",
        "In terms of applying interdiction to understand the resilience as robustness of transportation systems, many different\n",
        "transportation modes have been considered. Laporte et al. [131] examine designing robust passenger railway transit systems.\n",
        "Murray-Tuite and Fei [149] examine the impact of smart attacks on the travel times between origin-destination (O-D) pairs in a\n",
        "road transportation network. Gedik et al. [90] examine interdiction problems where the network is modeled based on operating\n",
        "principles of coal freight trains.\n",
        "In terms of other civil infrastructure systems, the work of Jeong et al. [121] focuses on modeling the post-attack operations\n",
        "of a water infrastructure. Baycik and Sharkey [27] use interdiction to understand the damage done to a set of infrastructures\n",
        "with dependencies between them. This is based on the work of Baycik et al. [29] that examined interdicting networks where\n",
        "there was both an information layer (e.g., the supervisory control and data acquisition of an infrastructure) and a physical flow\n",
        "layer (the infrastructure), and disruptions in one could spread to the other.\n",
        "/N −k problems\n",
        "The N −k problem seeks to understand whether or not there exists a perturbation that removes up to k arcs from the network\n",
        "and causes it to fail, that is, its performance drops below a certain level. It contributes to analyzing resilience as robustness by\n",
        "determining if the network will be operational should or fewer components be disrupted. Mathematically, the set of perturbations\n",
        "is defined as  = {(N, A′\n",
        ") ∶ A′ ⊆ A such that ∣ A′ ∣≤ k}, that is, we can remove up to k arcs from the network.\n",
        "This problem has been extensively studied in power grids and is of practical importance since grids are often designed to\n",
        "not fail in the N −1 setting. The book of Bienstock [33] provides an extensive discussion of how optimization can be used to\n",
        "examine vulnerabilities of the power grid.\n",
        "From an optimization perspective, Bienstock and Verma [34] provide new models and formulations for the N −k problem in\n",
        "power grids. Schumacher et al. [191] present approaches to address N −k planning problems in the presence of line-switching\n",
        "that are capable of solving problems with k = 1, 2 for networks with up to 96 nodes. Sundar et al. [205] consider a version of\n",
        "the N −k problem where they seek to find a set of k arcs whose removal has the highest weighted impact, where the weight\n",
        "corresponds to the probability that those k arcs will fail and the impact measures the loss in performance.\n",
        "Wang et al. [213] examine a robust optimization framework for the unit commitment problem under N −k contingency con\u0002straints and provide a decomposition framework that can solve problems with 118 buses (nodes). Kaplunovich and Turitsyn\n",
        "[125] utilize heuristics common in constraint programming to identify critical contingencies for the N −2 problem and their\n",
        "methods scale to 300 node networks. Ding et al. [65] and Faghih and Dahleh [74] examine bilevel optimization models that com\u0002pute a N −k contingency plan which maximizes the probability it occurs times its load loss. Kim et al. [127] offer decomposition\n",
        "approaches to solve more general interdiction problems on power grids than N −k problems, where their work is able to model\n",
        "power grid operations using the alternating current (AC) flow equations. Liu et al. [136] propose a simulation-optimization\n",
        "approach for the N −1 problem that recognizes that a simulation may need to be run to determine if the system fails when a\n",
        "certain component is removed./Defender-attacker-defender problems\n",
        "Defender-attacker-defender (DAD) models are problems that incorporate three stages of sequential decision making: (1)\n",
        "the defender first protects certain network components prior to a perturbation, (2) an attacker selects a feasible pertur\u0002bation to the network in a way that most impacts its performance, and (3) the defender then selects decisions so that the\n",
        "network operates as best as possible after the perturbation. DAD models incorporate resilience as robustness into optimiza\u0002tion models by focusing on preparing the network, pre-perturbation, so that its worst-case performance, post-perturbation,\n",
        "is as good as possible. For example, if the operations of the network seek to maximize flow, then the defender prepares\n",
        "the network by protecting components as to maximize the minimum max flow across all possible perturbations. Typi\u0002cally, the perturbation set is focused on imposing arc removals in the network that satisfy the attacker’s budget, that is,\n",
        " = {(N, A′\n",
        ") ∶ A′ ⊆ A such that ∑\n",
        "(i,j)∈A′ bij ≤ B} where bij is the cost of removing arc (i, j), although a more general set\n",
        "of constraints could dictate the feasible perturbations. Note that the initial defense decisions can protect an arc from being\n",
        "disrupted, that is, (i, j) will be in the network even if (i, j)∈A′\n",
        "in the perturbation (although attacking a protected arc would be\n",
        "suboptimal for the attacker). DAD models build off network interdiction problems by incorporating the protection decisions.\n",
        "Brown et al. [42] discuss the role that DAD models play in defending critical infrastructure and apply a DAD model in\n",
        "protecting a power network. Alderson et al. [4,5] discuss decomposition schemes for solving DAD models. The DAD frame\u0002work has been applied to several different types of networks including the power grid, transportation systems, supply chains,\n",
        "telecommunications, and interdependent infrastructures. We now discuss some examples in each of these areas; see additional\n",
        "examples in Alderson et al. [5].\n",
        "Alguacil et al. [7] examine minimizing load shed in a power grid where the operations are modeled using the DC model.\n",
        "Yuan et al. [227] offer a constraint and column generation approach to a similar problem of Alguacil et al. [7]. Ding et al. [66]\n",
        "extend the analysis of DAD models for power grids to the situation where there is uncertainty in the impact of the efforts of the\n",
        "attackers. Ouyang and Fang [164] examine not only the immediate performance of the network after the perturbation but also\n",
        "on how the network recovers over time for both the DC power grid model and a generic max flow network.\n",
        "Alderson et al. [6] examine highway transportation systems where the operations of the network are based on routing between\n",
        "O-D pairs and travel times are nonlinear functions of congestion. Sarhadi et al. [186] offer a decomposition-based heuristic for\n",
        "a DAD model that examines protecting components within a rail-truck multi-modal transportation network.\n",
        "In terms of supply chains and facility location, Church and Scaparra [57] and Scaparra and Church [188] examine fortifying\n",
        "q facilities, of p initial facilities, so that the worst-case perturbation of removing r non-fortified facilities is as good as possible,\n",
        "where the inner problem connects a demand point to the closest operational facility. Liberatore et al. [133] examine an exten\u0002sion of the problem where the number of lost facilities (r) is unknown to the defender during the first stage. Bao et al. [24] consider facility location problems in the DAD framework where the defender can protect facilities initially and then determine\n",
        "a combination of customer reassignments and repairs to disrupted facilities to best recover from the perturbation.\n",
        "Nicholas and Alderson [156] apply the DAD framework to telecommunications infrastructure by considering the fast design\n",
        "of wireless mesh networks so that they are robust to worst-case jamming attacks.\n",
        "Ouyang [163] examines DAD models where the operations involve multiple interdependent networks and the flows in one\n",
        "depend on the flows in another. For example, if power was out to a substation, then certain components within the water network\n",
        "would no longer be available. Ghorbani-Renani et al. [93] examine DAD models for interdependent networks that specifically\n",
        "capture the rebound process after the perturbation. We refer the reader to the review of Ouyang [162] that discusses modeling\n",
        "approaches for interdependent infrastructures. Fang and Zio [78] offer an alternative framework to that of Ouyang [163] which\n",
        "also involves a tri-level optimization problem but the outer problem focuses on the probabilistic impacts of a natural hazard and\n",
        "then an adjustable robust optimization problem is examined to capture preparation decisions prior to the actual perturbation./Robust optimization and networks\n",
        "Robust optimization deals with selecting decisions that perform well across all perturbations within an uncertainty set. For\n",
        "example, a very conservative uncertainty set could define the perturbation set as:  = {(N, A) with (c + c𝜀, u + u𝜀, b + b𝜀) ∶\n",
        "c𝜀 ∈ [c𝜀\n",
        "min, c𝜀\n",
        "max], u𝜀 ∈ [u𝜀\n",
        "min, u𝜀\n",
        "max], b𝜀 ∈ [b𝜀\n",
        "min, b𝜀\n",
        "max], and ∑\n",
        "i∈Nb𝜀\n",
        "i = 0\n",
        "}\n",
        "where (c, u, b) are the initial parameters of network (N,\n",
        "A). This uncertainty set allows all parameters to change simultaneously which may be overly conservative; the more common\n",
        "budgeted framework [32] would only allow a fixed number of parameters (say K) to be different from their initial parameters\n",
        "(i.e., we only consider perturbations in  with K or fewer parameters of the form c𝜀\n",
        "ij, u𝜀\n",
        "ij, and b𝜀\n",
        "i are nonzero).\n",
        "Robust optimization can incorporate resilience as robustness into optimization models by ensuring that decisions made\n",
        "pre-perturbation perform well under all perturbations within the uncertainty set and has been applied to understanding flows\n",
        "through a network and/or in designing networks when there is uncertain data about the network. For example, Bertsimas and Sim\n",
        "[32] examine robust network flow problems including a robust version of the minimum cost flow problem where the uncertainty\n",
        "set focuses on perturbations of the costs. This problem could be applicable to situations where the flow decisions are difficult\n",
        "to alter and we seek to be robust against changes to the flow cost structure. As another example, Atamturk and Zhang [17]\n",
        "examine robust network design and flow problems where the design decisions are selected prior to demand realization and then\n",
        "flow decisions can be made as recourse once demand is revealed. This problem falls under the general area of adjustable robust\n",
        "optimization; see Yan𝚤koglu et al. [226] for a review.\n",
        "In general, robust network design problems would contribute to studying resilience as robustness. Within Networks, Ordonez\n",
        "and Zhao [160] examine a problem that determines how to expand capacities of a network and route flow along the arcs to be\n",
        "robust to uncertainty about flow costs and supply/demands within the network. This model essentially requires flows to be static\n",
        "(fixed) prior to the uncertainty being revealed. One could consider a problem with fully adjustable flow decisions; however, this\n",
        "model may be intractable. Poss and Raack [172] examine robust network design where the flows must follow affine recourse,\n",
        "that is, the flow may be adjusted based on the realized demand in a way that is an affine function of the demand. Aissi and\n",
        "Vanderpooten [1] examine bi-objective robust network design problems (with static flow decisions) that consider both cost and\n",
        "quality-of-service within the network.Using optimization models to analyze resilience as robustness\n",
        "Fundamental network optimization models can be used to analyze resilience as robustness since these models can provide\n",
        "insights into the post-perturbation performance of the system. For example, the operations of the network may be modeled by\n",
        "solving a maximum flow problem. In order to understand the expected impact of a stressful event, we can apply a sampling\n",
        "strategy over the set of perturbations and solve the maximum flow problem for each generated perturbation. It should be noted\n",
        "that if the number of perturbations is large, then this may not be computationally effective and advanced sampling strategies may\n",
        "be necessary. In general, the model should be carefully constructed in order to provide the insights into the desired characteristics\n",
        "of the system and its limitations should be carefully understood [72].\n",
        "For example, Brown et al. [42] discuss how interdiction and DAD models can be applied to understand the vulnerabilities\n",
        "of infrastructure systems, including petroleum reserve supply chains and electric power grids. Alderson et al. [5] provide a\n",
        "detailed overview of how to use DAD models to study infrastructure resilience. This detailed approach includes how to model\n",
        "the network operations (the inner problem), the applicability of classic network optimization problems as the inner problem,\n",
        "and how the types of protection options should be modeled for infrastructures including the power grid, highway transportation\n",
        "systems, and undersea communications systems.\n",
        "The examples of Brown et al. [42] and Alderson et al. [5] focus on more strategic (long-term) decisions to improve resilience.\n",
        "Alternatively, optimization models can also factor in a combination of short-term preparations and long-term planning to\n",
        "improve resilience. For example, the work of Bynum et al. [46] and Zhao et al. [229] considers a combination of long-term\n",
        "decisions (e.g., transmission system hardening and generator procurement) and short-term decisions (dispatch) to improve the\n",
        "resilience of power networks./OPTIMIZATION MODELS AND NETWORK REBOUND\n",
        "In this section, we focus on network optimization problems that can be applied to analyze resilience as rebound. Resilience as\n",
        "rebound focuses on “bouncing back” or returning network performance to normal (or an acceptable level) after the stressful\n",
        "event. Unlike robustness, which emphasizes the design and operation of networks that continue to function in the presence\n",
        "of stress, rebound focuses on the design and operation of networks that restore function after stress. To achieve this rebound,\n",
        "network performance is restored by updating the properties of the network after the event. This could be accomplished by\n",
        "repairing damaged components in the network, installing new components into the network, and/or allocating the necessary\n",
        "resources to provide such services.\n",
        "After a stressful event, a network could experience many different types or combinations of impacts. First, the stressful event\n",
        "could damage the network topology by causing a subset of the arcs and/or nodes to be either fully or partially non-operational. As\n",
        "was indicated in Section 3, without loss of generality, we can focus solely on the operational status of arcs. When arcs are either\n",
        "operational or non-operational, the impact from a stressful event can be modeled by indicating a set A ⊆ A as the subset of arcs\n",
        "that are initially non-operational. When arcs can be partially non-operational, we can, instead, associate a continuous parameter\n",
        "𝛽ij with arc (i, j)∈A to indicate the level of impact from the stressful event. In this context, 𝛽ij could impact the function of each\n",
        "arc, through, for example, changes to the arc capacity (i.e., 𝛽ij ∈(0,1) where the arc capacity is uij𝛽ij) or restoration processing\n",
        "time (i.e., 𝛽ij ∈[0, 1] models the impact and where the restoration processing time is (1−𝛽ij)pij).\n",
        "A stressful event could also impact the parameters or resources necessary to operate the network at a normal level. For\n",
        "example, the supply at specific nodes could be reduced due to disruptions caused in other interdependent networks. Further\u0002more, the resources (e.g., humans) could be reduced based on their ability to reach the necessary locations for conducting tasks\n",
        "to operate the network. Additionally, immediately following a stressful event, there is often uncertainty about the operational\n",
        "status of the components of the network which would impact the types of optimization models used for rebound. For example,\n",
        "in rebounding civil infrastructure networks from natural hazards, assessment activities of damage may not be able to be imple\u0002mented immediately after the event to gather necessary information about the status of the network. How a stressful event\n",
        "impacts a network often influences what actions are taken to enable it to rebound.\n",
        "We proceed by first outlining the current network optimization literature that studies resilience as rebound. Next, we outline\n",
        "how resilience as rebound can be analyzed through the use of optimization models. We then summarize how this network\n",
        "optimization literature has impacted resilience literature outside of the Networks community./Resilience as rebound in optimization models\n",
        "To date, the most studied aspect of resilience as rebound within our community is network restoration optimization models.\n",
        "Typically, network restoration optimization models seek to update the network topology by selecting a subset Â ⊆ A of the\n",
        "non-operational components to repair. How the network performance is evaluated influences the selection of the subset Â, or,\n",
        "equivalently, the associated changes to the network topology. We can view the selection of Â as network design decisions. These\n",
        "selected network design decisions are often scheduled over time in order to quickly restore the services provided by the network\n",
        "or, equivalently, have the network “rebound.” Resources are then allocated to implement these network design decisions. For\n",
        "example, in infrastructure restoration, work crews can be viewed as resources that are allocated to rebound the network. In a\n",
        "slightly different context, rebound can also be modeled as updating the network parameters and/or resources needed to operate\n",
        "the network. Specifically, the supply nodes in a network might not be damaged but could generate or require additional supply\n",
        "amounts (e.g., if the commodities are patients, new relief supplies).\n",
        "The effectiveness of network rebound can be measured in many ways. Decision makers could set a service level they are\n",
        "seeking to achieve in their rebound efforts and want to minimize the time needed to meet or exceed it. Rebound could be\n",
        "measured as the cumulative weighted network performance over time, where performance is specific to the type of network (e.g.,\n",
        "shortest path values between key locations, maximizing the flow through the network to meet demand). As a single network\n",
        "is often not the only impacted system after a stressful event, rebound could be measured as services flowing through a set of\n",
        "networks. Lastly, when uncertainty is present, decision makers could seek to maximize the expected performance over different\n",
        "uncertainty scenarios.\n",
        "/Optimization models with rebound as establishing connectivity\n",
        "Repairing network components to establish or reinstate network connectivity between key nodes in the network is one common\n",
        "network performance metric. Averbakh [18] and Averbakh and Pereira [20] look to optimize the total recovery time of nodes for\n",
        "problems with single and multiple servers (i.e., work crews, construction crews), respectively. A node is recovered when there\n",
        "is a path between a central depot and the node, which is equivalent to saying connectivity has been established between the\n",
        "node and the depot. When considering multiple servers, Averbakh [19] seeks to minimize the time the last node is recovered,\n",
        "that is, the makespan required to rebound the network. Averbakh and Pereira [21] seek to minimize the maximum lateness and\n",
        "minimize the number of tardy jobs when each node has a due date for its desired recovery.\n",
        "Other researchers have focused on connectivity between all pairs of nodes. After assigning each pair of nodes a restoration\n",
        "due date, Averbakh and Pereira [22] look to minimize the maximum lateness of connecting all node pairs. For interested readers,\n",
        "Mattsson and Jenelius [144] review vulnerability and resilience of transportation systems, which often focus on connectivity\n",
        "between O-D pairs. Additionally, Çelik [52] provides a review wherein the infrastructure restoration and network construc\u0002tion classifications are most similar to establishing network connectivity. This review also considers the idea of establishing\n",
        "connectivity in debris clearance, debris collection and disposal, and snow removal.\n",
        "For applications such as debris clearance, resources (e.g., work crews) can only move on network components which are\n",
        "connected to their current location. In this case, the set of arcs available for movement (i.e., connected) at a particular point in\n",
        "time depends on the set of tasks completed by or before this time. Furthermore, arcs that can be cleared next (to increase the\n",
        "overall network connectivity) are limited to those currently reachable, that is, only if a path has been established from the current\n",
        "location of the resource to the arc in consideration for clearance. When in a deterministic environment, Ulusan and Ergun [211]\n",
        "route work crews to remove debris in a transportation network. Çelik et al. [53] also route debris removal work crews through\n",
        "a transportation network, but consider that there is an uncertain amount of debris that must be removed on each arc./Optimization models with rebound as network flow measures\n",
        "We now examine literature that uses network flow problems to measure performance in studying resilience as rebound. These\n",
        "network flow problems have included the shortest path, max flow, min cost flow, minimum spanning tree, and multi-commodity\n",
        "flow problems. Our focus here is on papers that advance theory or methodology of interest to the Networks community. This\n",
        "rebound literature focuses not just on how the network performs at a single point in time, but how the performance changes over\n",
        "time due to the completion of rebound-focused tasks. Thus, many problems consider aspects of scheduling rebound tasks and\n",
        "the cumulative performance of a network over time as tasks are completed. Network performance at time t is then based on the\n",
        "network after the stressful event and all tasks completed by time t.\n",
        "Incremental network design problems consider restoring/installing non-operational arcs into a network over time as the\n",
        "rebound-focused tasks. In these problems, each non-operational arc takes one period to install and has an installation cost;\n",
        "during each period t there is a budget Bt limiting the total cost of arcs installed. Within this framework, Baxter et al. [26] seek\n",
        "to minimize the cumulative shortest path performance, Engel et al. [73] seek to minimize the cumulative value of the minimum\n",
        "spanning tree, and Kalinowski et al. [124] seek to maximize cumulative flow. Matisziw et al. [142] look to restore network\n",
        "components to balance the multi-objective problem of maximizing cumulative flow between O-D node pairs and restoration\n",
        "costs.\n",
        "Nurre et al. [159] introduce the class of integrated network design and scheduling problems (INDS) which both selects\n",
        "which network components to restore/install and schedules the restoration/installation by assigning the selected arcs to resources\n",
        "(e.g., work crews) and sequencing the tasks over time. Contrary to incremental network design problems, INDS problems do\n",
        "not assume that each restoration task takes one time period and instead associates a restoration processing time pij to each\n",
        "non-operational arc (i, j). In this context, a non-operational arc can represent an arc damaged due to a stressful event or an arc\n",
        "not from the original pre-event network but one which embodies an element of extensibility, which once installed improves the\n",
        "network’s performance. Nurre et al. [159] select and schedule arcs in an INDS problem to maximize the cumulative maximum\n",
        "flow. Nurre and Sharkey [157] consider a broader range of INDS problems which consider different network performance\n",
        "metrics. Specifically, Nurre and Sharkey [157] consider maximizing flow, minimizing the average shortest path length between\n",
        "O-D pairs, minimizing the maximum shortest path length between O-D pairs, minimizing the cost of a spanning tree, and\n",
        "minimizing the flow cost as network performance metrics. As in prior work, they consider optimizing the cumulative network\n",
        "performance but also consider minimizing the time it takes to achieve a desired input network performance value (e.g., restoring\n",
        "80% of the lost flow).\n",
        "Research in this area has progressed to not just considering restoring arcs damaged by a stressful event, but installing\n",
        "new arcs to improve the resulting network performance. Similar to Nurre et al. [159], Fang and Sansavini [75] consider both\n",
        "repairing damaged components and installing new components to minimize two objectives: the negative of the maximum flow\n",
        "and the investment cost of system restoration. The authors impose an antifragility constraint where the total cost of restoration\n",
        " (repairing selected damaged components+installing selected new components) must not exceed the total cost to repair all\n",
        "damaged components.\n",
        "These types of models have also been applied to specific infrastructure networks, especially the power grid. Arab et al. [12]\n",
        "consider both the uncertainties surrounding mobilizing repair work crews prior to an event and the deterministic recovery of a\n",
        "power network. Tan et al. [207] consider restoration scheduling in the context of a distribution system within the power grid.\n",
        "Researchers also focus on the recovery of the power grid [190] by considering economic impacts [13]. In addition, Bao et al.\n",
        "[24] have examined the recovery of facilities as part of a DAD model for protecting facilities (see Section 3.1)./Optimization models with rebound as centering/coverage measures\n",
        "Next, we focus on rebound papers which consider measures, such as centering or coverage, typically used in location problems\n",
        "to evaluate network performance. Iloglu and Albert [116,117] seek to minimize the cumulative weighted distance between the\n",
        "location of emergency responders and calls for service (at demand nodes) over time. This research considers both repairing the\n",
        "network topology with work crews but also uses an extension to the P-median problem to dynamically relocate the emergency\n",
        "responders at nodes over time. Thus, both locations for emergency responders and connections between the established locations\n",
        "and demand nodes must be established throughout the duration of the problem.\n",
        "Arulselvan et al. [14] consider the incremental connected facility location problem which determines facilities to open and\n",
        "assigns customers to open facilities over time in order to minimize total costs. This work ensures that once a customer is assigned\n",
        "to a facility it maintains an assignment to an open facility and that a minimum coverage of customers is met./Optimization models with rebound for interdependent networks\n",
        "Stressful events do not often solely impact a single network, but instead cause stress to multiple networks within an interdepen\u0002dent system. Traditionally in an interdependent system, the state of one network depends on another network [178]. Thus, there\n",
        "is a growing body of knowledge which focuses on quantifying resilience as rebound for systems of interdependent networks.\n",
        "Cavdaroglu et al. [51] consider an INDS problem for interdependent networks. The selection and scheduling decisions are made\n",
        "in order to minimize a function of the flow costs, unmet demand costs, and restoration/installation costs. Building on this work,\n",
        "Sharkey et al. [196] incorporate new restoration interdependencies, as defined in Sharkey et al. [197], which link not just the\n",
        "operations of interdependent networks but also how the restoration efforts across systems are linked. They examine how central\u0002ized and decentralized decision making environments, representing different levels of coordination between networks, impact\n",
        "restoration. Smith et al. [201] also consider decentralized restoration planning for interdependent networks using a sequential\n",
        "game theoretic approach. With an input restoration budget limiting the resources used, González et al. [98] determine which net\u0002work components should be restored for an interdependent system. González et al. [99] examine different recovery operators for\n",
        "interdependent infrastructure that were created through dynamic models. Goldbeck et al. [95] consider interdependent networks\n",
        "where the relationship between network flow and infrastructure assets (e.g., electric transformers, metro stations) is modeled.\n",
        "They capture logic dependencies, asset utilization dependencies, resource input dependencies, and also stochastic failure prop\u0002agation dependencies. Loggins et al. [138] have created interdependent restoration models that account for social infrastructure\n",
        "that rely on civil infrastructure systems. Ghorbani-Renani et al. [93] examine rebound for interdependent networks as the inner\n",
        "problem within a DAD model. For a comprehensive overview of work related to interdependent networks, we point the reader\n",
        "to Ouyang [162]./Optimization models with rebound under uncertainty\n",
        "In order to address the uncertainty associated with the stressful event in resilience as rebound models, researchers have used\n",
        "two-stage stochastic programming, two-stage robust optimization, and online optimization.\n",
        "Using two-stage robust optimization, Álvarez-Miranda and Pereira [10] consider a traditional network design problem in the\n",
        "first stage, and a network construction problem in the second stage. The uncertainty in the system is characterized by the neces\u0002sary construction resources (e.g., cost, time) for a network design policy. Aslan and Çelik [15] formulate a two-stage stochastic\n",
        "program for a multi-echelon humanitarian response network. In the first stage of their model, they determine where to locate\n",
        "warehouses and preposition relief items. In the second stage, subject to uncertainties in the operational status of distribution\n",
        "centers, operational status of transportation arcs (e.g., travel times, repair times), and relief item demand, they determine the\n",
        "restoration of arcs to open transportation routes and the shipment of supplies through these routes. In addition, the papers of\n",
        "Heath et al. [103], Sanci and Daskin [185], and Fang et al. [76] consider similar two-stage problems where the first stage helps\n",
        "to design the network and the second stage considers how the network rebounds from the disruptive event. Fang and Sansavini\n",
        "[77] consider how to select and schedule restoration tasks for an infrastructure network when faced with uncertain repair times\n",
        "and resources. In the first stage, they select which components to repair and in the second stage, they determine which selected\n",
        "components are scheduled to be repaired over time. These decisions are made to maximize the expected percentage of damaged\n",
        "flow that has been restored.\n",
        "Often uncertainties associated with stressful events are hard to forecast and predict. Online optimization, which reacts to the\n",
        "arrival of new information over time, is one way to overcome this challenge. Nurre and Sharkey [158] consider an INDS problem\n",
        "where the time when it is safe to restore/install an arc is uncertain and revealed over time. They create new online optimization\n",
        "algorithms which dynamically select arcs to repair/install and schedule them with work crews based on this dynamic arrival of\n",
        "new information and benchmark them against a best case deterministic model with all information known./Using optimization models to analyze resilience as rebound\n",
        "In addition to incorporating aspects of resilience into optimization models to capture rebound, optimization models can be used\n",
        "to assess rebound. For example, one could run different what-if scenarios by changing the input network data set, the stressful\n",
        "event, and/or the model parameters/resources. The results from these what-if scenarios can then be used to deduce insights about\n",
        "how such a model is appropriate for informing resilience as rebound. Miles et al. [147] discuss the importance of modelers (and\n",
        "models) in building the community of disaster recovery researchers, which serves as an important opportunity for the Networks\n",
        "community.\n",
        "For example, analysis can be used to incorporate improvised restoration options in terms of rebound focused activities.\n",
        "For example, instead of solely looking to repair damaged network components, researchers have considered the installation of\n",
        "temporary components. After the 2001 World Trade Center (WTC) attack, temporary shunts were used to restore the electric\n",
        "power network in lower Manhattan [146]. These shunts were temporary power lines laid down on city streets and protected by\n",
        "wooden boxes. We can capture such decisions by examining the installation of arcs from the set AI not originally in the network,\n",
        "that is, AI ∩ A = ∅. The foundation of optimization models can also be adapted to incorporate application and infrastructure\n",
        "network specific elements. For example, we could schedule the recovery of a disrupted power network by adapting an INDS\n",
        "problem [157] to consider the physics of AC or DC power flow. Furthermore, optimization models can be used to quantify the\n",
        "impacts of different decision making environments, such as pure centralized or decentralized decision making [196]./OPTIMIZATION MODELS AND NETWORK EXTENSIBILITY\n",
        "In this section, we focus on network optimization to analyze resilience as extensibility. Network extensibility is a dynamic capa\u0002bility to reconfigure and prolong the use of constrained resources to accommodate new operations and survive stressful events.\n",
        "Unlike robustness and rebound, which emphasize the continuation and restoration of existing network function, extensibility\n",
        "focuses on creating new network function to exceed predefined operational thresholds or change functional requirements. In\n",
        "resilience literature, network extensibility refers to models and measures for, “how well systems stretch to handle surprises,”\n",
        "[220]. The term surprise is used to describe stressors where network operations and functional requirements may not be known\n",
        "a priori [72]. Methods for analyzing network robustness and rebound are limited for managing surprises because they only con\u0002sider perturbations within the predefined set, p ∈ , or produce results constrained by predefined network structure (G = (N,\n",
        "A)), design options, and objectives. Thus, extensible networks are those designed with the capacity to serve new operational\n",
        "and functional needs, rather than maintain or restore existing functions.\n",
        "Understanding the concept of extensibility requires additional nuance to ways a network may be vulnerable to stress and\n",
        "might not be resilient. Networks do not exhibitresilience as robustnessif they cannot maintain predefined operational thresholds\n",
        "during perturbations, and networks do not exhibit resilience as rebound if they cannot restore function. In contrast, networks do\n",
        "not exhibit resilience as extensibility if network function is so tightly constrained that minor perturbations in resource allocation\n",
        "or functional requirements lead to extreme and cascading losses. To emphasize this fact, Woods [220] introduces the notion of\n",
        "“graceful” extensibility as a play on the software term graceful degradation, emphasizing that extensible systems must be able\n",
        "to stretch in ways that do not lead to brittle failures. Here, brittle failure refers to the process when networks catastrophically\n",
        "break down as resource and functional requirements push networks beyond their operational thresholds. In the words of Woods\n",
        "[220], “systems with high graceful extensibility have capabilities to anticipate bottlenecks ahead, to learn about the changing\n",
        "shape of disturbances and possess the readiness-to-respond to adjust responses to fit the challenges [82,223,224].” In contrast,\n",
        "networks that are unable to redistribute limited resources, adjust operational thresholds, or serve multiple purposes will likely\n",
        "experience brittle failure when surprises require network operations to change.\n",
        "Unlike network resilience as robustness or rebound, the optimization community has put less focus on studies of extensibility.\n",
        "In the history of the journal Networks, only Pradhan and Meyer [173] ever use the word extensible or extensibility. Despite this\n",
        "dearth of research, several aspects of optimization models lend themselves to the study of how systems anticipate bottlenecks\n",
        "to stretch and handle surprises.\n",
        "/Network extensibility in optimization models\n",
        "A key element of network optimization models that influences extensibility and deserves more research is the model boundary.\n",
        "Network resilience through extensibility implies that systems have an operational boundary that can be extended during stressful\n",
        "events. However, the operational boundary in network optimization models is often treated as a “hard” limit that cannot be\n",
        "exceeded or altered during analysis. For example, the boundary on an objective function is commonly defined by a block of\n",
        "algebraic constraints, for example, Ax≤b, where the operational boundary for a single network element is represented by a subset\n",
        "of constraints. Despite this common representation, real systems rarely fail to function when operated in infeasible regions that\n",
        "exceed these thresholds (e.g., Ax=b+ ϵ). For example, some real networks are operated in this infeasible region during disasters,\n",
        "such as electric power systems increasing powerline capacity and overloading equipment during an impending blackout [128].\n",
        "System operators use overloading operations to adapt these and other systems to novel stressors. Rather than assume systems\n",
        "fail to function once constraints are violated, one goal of network extensibility is to understand how networks stretch beyond\n",
        "their stated boundary and continue to function. Network optimization studies that inform resilience as extensibility should aim\n",
        "to understand the costs and benefits of crossing these thresholds. Moreover, if the operational boundary nominally defined by\n",
        "model constraints can be exceeded in practice, then identifying the real “hard” operational boundary where the system will fail\n",
        "is a non-trivial task (e.g., understanding how increased power flow on lines will eventually lead to their failure which then, in\n",
        "turn, can lead to cascading blackouts).\n",
        "Both resilience and network optimization communities use similar language and techniques for assessing the cost of extend\u0002ing system operation beyond expected boundaries. One way resilience research discusses the assessment of extensibility is\n",
        "through the analysis of system slack [187]. Here, resilience experts discuss slack with respect to the dynamic re-balancing of\n",
        "capabilities via resilience processes. The resilience literature discussion on slack is similar to the use of slack variables in net\u0002work optimization to measure the implications of extending beyond a given constraint. In the simplest terms, given an explicit\n",
        "cost function for exceeding a threshold, one can use the slack variables to study extensibility related questions like, “at what\n",
        "cost would it make sense to violate a constraint, and by how much?”\n",
        "Slack may relate to real network operations via the short- and long-term degradation of network performance when extending\n",
        "beyond normal boundaries. Systems commonly studied with robustness and rebound methods often have known surge capacities\n",
        "that enable extended operations during emergencies. For example, power system components like powerlines and transformers\n",
        "have emergency ratings that relax flow limits during blackout operations [128].\n",
        "An even more dynamic use of slack beyond overloading network components is when part of the system compensates\n",
        "for another. This process of compensation can be thought of as network reciprocity, where nodes or links within a system\n",
        "take on or redistribute flow to protect other parts of the same or interdependent systems. In practice, compensation has been\n",
        "identified in many critical systems, where tradeoffs within and among network operators stretch systems to function in ways\n",
        "they were not originally intended for [220,221]. Effective compensation can increase network boundaries in unanticipated ways,\n",
        "such as compensating for a surge in hospital patients through triage and accessing resources like beds from other parts of the\n",
        "hospital [153]. In contrast, these dynamic interactions can also lead to decompensation—when one part of a system consumes\n",
        "the available slack of another, reducing the overall the ability of the system to adapt. Decompensation is known to be a key\n",
        "contributor to how adaptive systems fail [222]. Network optimization models can make use of shared budget constraints to\n",
        "capture this ability for compensation (and decompensation).\n",
        "Broader still would be studies that capture the difficulty of changing current operations to enable greater access to slack. This\n",
        "could be studied using techniques for model persistence where changes to model structure that lead to new optimal solutions\n",
        "are constrained by past optimal solutions that may have already been implemented [41,43]. In other words, there are more costs\n",
        "to consider than just the performance degradation from overloading or sharing resources, such as simply the cost of rebalancing\n",
        "systems to enable extensibility./Using optimization models to analyze network extensibility\n",
        "Although the language of mathematical optimization already has much of the vocabulary for representing network extensibility,\n",
        "there are several elements that remain largely unaddressed. Here we present potential ways to analyze network extensibility\n",
        "using optimization models./Identifying the “true” network operational boundary\n",
        "In optimization models, a boundary condition Ax≤b is often viewed only through the lens of whether it is feasible or not, and\n",
        "this implicitly assumes that all feasible solutions are equivalent. Resilience as extensibility suggests that these simple notions of\n",
        "boundary are not sufficient for understanding the adaptive capacity of networks. Instead, the boundary of network operations\n",
        "lies well beyond the constraints built into an optimization model, and this “true” boundary may be unknown in normal practice.\n",
        "Importantly, significant resilience research indicates that the amount of work that a system does to adapt “far away from its\n",
        "boundary” is very different (and typically much less) than the amount of work that a system does “near its boundary” [221].\n",
        "That is, a system might have to dedicate more resources (and perhaps reconfigure its operating procedures) to handle events that\n",
        "stress it as it approaches the boundary condition. A classic example is the emergency department at a hospital for which there\n",
        "is no sharp boundary on the capacity to treat incoming patients; rather the operations and effort of staff dramatically change as\n",
        "the load on the system approaches and exceeds its nominal boundary [153].\n",
        "In some network optimization models, increasing effort near a boundary is represented in terms of a nonlinear function\n",
        "intended to capture the growing effort or cost on the system as it approaches some implicit constraint. For example, congestion\n",
        "on road systems is known to be highly nonlinear, and as traffic density approaches a practical threshold the traffic speed and\n",
        "throughput dramatically decrease (see, e.g., the classic Bureau of Public Roads function for road congestion as implemented\n",
        "for regional traffic in the San Francisco Bay Area [6]). Indicators of this nonlinear loss of functionality as networks reach their\n",
        "boundaries are referred to as critical slowing down [62,189] and have been identified in numerous complex systems studied by\n",
        "the Networks community like power grids [104,105,106]. Still, past work considering either slack or critical slowing down is\n",
        "limited to system operations that we have recognized and parameterized a priori. A broader challenge for thinking about network\n",
        "extensibility is how we address operational boundaries that have not been considered in advance. A first step is understanding\n",
        "how overloading and compensation reveal new possibilities for network operations during stressful events. Future work needs\n",
        "to build on this to recognize where “true” network operational boundaries exist and how systems work harder to adapt (i.e.,\n",
        "experience nonlinear losses) near operational boundaries./Network operations when faced with fundamental surprise\n",
        "The concept of extensibility further challenges how stressful events are parameterized and modeled to inform network resilience.\n",
        "The types of events that can stress the network can be divided into two broad classes: (1) events that stress the network in\n",
        "a way that we previously predicted, planned for, or understood and (2) events that stress the network in ways that we never\n",
        "envisioned and changes our view on what can potentially happen. The former is often called situational surprise [130] and\n",
        "can be explicitly considered as either data or stochastic processes that alter network operations. In contrast, the latter is called\n",
        "fundamental surprise [130,219] and cannot be explicitly considered with current network optimization methods.\n",
        "Fundamental surprise challenges the efficacy of existing network optimization methods for capturing aspects of extensi\u0002bility. In general, surprise can be viewed as uncertainty about the decision making environment. Stochastic programming and\n",
        "robust optimization require one to characterize or parameterize uncertainty, which means these methods can only capture situ\u0002ational surprise and cannot consider fundamental surprise. Online methods to adapt optimization models for network operators\n",
        "in situ may be more appropriate for uncertainty that cannot be characterized a priori. However, current applications of online\n",
        "methods are unable to capture fundamental surprise. Current applications of online optimization [119] support decision making\n",
        "where the future is unknown but requires a model of the decisions that can be implemented in response to current operations.\n",
        "This implementation of online optimization assumes the network operators know the appropriate decisions and decision vari\u0002ables prior to a stressful event. Systems dealing with fundamental surprise may also require consideration of new, improvised\n",
        "decisions and actions that were not known until the stressful event occurs. In both cases, the characterization of uncertainty\n",
        "or the static nature of online models suggests that current methods for considering surprise are insufficient for resilience as\n",
        "extensibility.\n",
        "Two brief examples help to illustrate the concept of fundamental surprise. One is the impact of the 2001 WTC attack on\n",
        "the infrastructure networks of lower Manhattan as there was no prediction or contingency plan for when an entire section of\n",
        "the infrastructure network disappeared [146]. Another example occurred in October 2017 when Hurricane Ophelia hit Ireland,\n",
        "making it the easternmost Atlantic hurricane; it was completely unexpected that a hurricane could travel like Ophelia and impact\n",
        "Western Europe, and analytic tools designed to model hurricane winds had to be reconfigured in real time to adapt [72].\n",
        "Typically, networks dealing with situational surprise can be managed by updating the objectives and/or data into our network\n",
        "models. Here, the models that have been built for network resilience can be used in contingency planning for all the types of\n",
        "“surprise” that we can imagine. Some methods developed for situational surprise may also support adaptation to fundamental\n",
        "surprise. For example, temporary shunts were used to restore the electric power network in lower Manhattan after the 2001\n",
        "WTC attack [146]. These shunts could be prepositioned to a situational surprise (e.g., thunderstorms) to schedule the recovery\n",
        "of a disrupted power network (similar to the INDS problems of [157]). Reformulating the same INDS problem could support\n",
        "the 2001 WTC response where a new model would need to be quickly created to guide recovery decisions over the “temporary”\n",
        "network. Research is needed to understand how to adapt existing network optimization problems for fundamental surprise.\n",
        "Still, many fundamental surprise events cannot yet be parametrized like situational surprises, suggesting there are numerous\n",
        "examples of network extensibility that cannot yet be studied. Despite there being no model prior to the 2001 WTC attack or\n",
        "Hurricane Ophelia that could predict the events, numerous actions taken in response helped alleviate damages and protect critical systems. Real-world extensibility suggests that there are unexplored models and methods for fundamental surprise in network\n",
        "optimization. Importantly, fundamental surprise occurs when optimization models themselves are proven to be inappropriate to\n",
        "novel stressors and need to change. This phenomenon called model surprise emphasizes that there is limited research within the\n",
        "Networks and other related optimization communities about how appropriate existing problems are to fundamentally surprising\n",
        "events./OPTIMIZATION MODELS AND NETWORK ADAPTABILITY\n",
        "Finally, we consider the role of network optimization to analyze resilience as adaptability. Network resilience viewed through\n",
        "the lens of adaptability deals with the need for networks to manage tradeoffs to build adaptive capacity to continuously evolving\n",
        "contexts, often over longer timescales. Sometimes this is also called sustained adaptability because it tends to focus attention on\n",
        "how a network survives over long-term future uses and contexts. Unlike robustness, rebound, and extensibility that are concerned\n",
        "with the impacts of stress on a network in a single event (or several events closely related in time), sustained adaptability is less\n",
        "concerned with the outcome of a single event, and more concerned with how a network survives many stressful events over its\n",
        "life-cycle. Thus, sustained adaptability is less focused on network operations and more focused with network design problems\n",
        "that consider tradeoffs between robustness, rebound, and extensibility to maximize adaptability into the future. For example,\n",
        "network adaptability must manage tradeoffs between robustness to situational surprise and extensibility to fundamental surprise\n",
        "[70]. Network adaptability must also manage tradeoffs between the fast recovery of existing systems and slowing recovery to\n",
        "redesign systems and “bounce back better.”\n",
        "Similar to extensibility, a network might not exhibit resilience as adaptability in at least two ways: (1) not being able to\n",
        "manage short-term tradeoffs for maintaining, restoring, and extending system structure and function, and (2) not being able to\n",
        "manage long-term tradeoffs to balance these adaptive capacities into the future. Woods [220] describes at least five challenges\n",
        "that an adaptable system should be able to manage over its intended life:\n",
        "• challenges to network model boundary conditions as surprises continue to reoccur;\n",
        "• challenges to assumptions about network conditions and contexts of use;\n",
        "• challenges to network adaptability that lead to resource shortfalls and necessary operator compensation to fill the breach;\n",
        "• challenges to network robustness and extensibility, where the factors that produce or erode both forms of resilience will\n",
        "change; and,\n",
        "• challenges to network definition that question the purpose of the system itself, requiring the system to readjust its\n",
        "relationships with respect to interdependent and interacting systems.\n",
        "Similar to extensibility, sustained adaptability has received less focus from the Networks community. Miller-Hooks [148]\n",
        "studies an algorithm to provide an adaptive route to a destination in a network with stochastic travel times and congestion\n",
        "based on the arrival time at a particular node. Nemeth and Retvari [154] study an adaptive routing algorithm to control the\n",
        "rate at which traffic is sent along paths. Silva et al. [200] consider a robust network design where the first stage determines\n",
        "potential routing schemes and the second stage selects which one to implement. In general, the Networks community tends to\n",
        "focus on adaptation in terms of routing in networks. Essentially no studies exist that address the tradeoffs between robustness,\n",
        "rebound, and extensibility and/or address the challenges laid out by Woods [220]. Still, several key network concepts and network\n",
        "optimization methods provide avenues for advancing research on how to maximize adaptive capacity to an uncertain future./Network adaptability in optimization models\n",
        "A key element of network optimization models that influences sustained adaptability and deserves more research is network\n",
        "architecture. Network resilience as adaptability suggests that there is internal and external architecture that enables survival of\n",
        "system function over long time-scales. Here, architecture is used broadly to refer to the elements that comprise a networked\n",
        "system, including the structure of the system, the rules that govern network operations, the available decisions and decision\n",
        "variables, as well as the objectives that dictate system function and model results. Thus, architecture is more than just the con\u0002nectivity pattern of a network, and it ultimately “must facilitate system-level functionality as well as robustness and evolvability\n",
        "to uncertainty and change in components, function, and environment” [3].\n",
        "The Internet is one example of a complex networked system whose architecture has received considerable study, both from\n",
        "a historical perspective [58] and a modern theoretical framework [166]. The layered transmission control protocol (TCP/IP)\n",
        "protocol stack, in particular, has received considerable attention from a network optimization perspective. At the transmission\n",
        "layer, the combination of the TCP running in the end hosts at the network periphery and active queue management running in\n",
        "routers within the network interior is now understood to be solving a decentralized primal-dual algorithm for network resource\n",
        "allocation [139]. Moreover, the separation and interaction of functionality across protocol layers can further be understood as a\n",
        "form of optimization decomposition [55]. Collectively, this enhanced view has enabled rigorous proofs of the global efficiency,\n",
        "dynamics, and stability of these networking protocols, and has generated new ideas for creating robustness and adaptability\n",
        "in design. Similar notions of architecture are prevalent in the study of biology, where the highly-evolved design of natural\n",
        "systems display a remarkably parallel organization for managing tradeoffs [60,67], for example, signaling mechanisms in bio\u0002logical organisms (e.g., neural networks) [60,68]. Similar ideas can also be found in rules for command and control systems in\n",
        "large-scale organizations like the military [71]. Important questions for the Networks community are: What are the architec\u0002tures of systems that produce adaptive networks in the future? What are the design principles to create an adaptive network?,\n",
        "and How can one ensure adaptive network design in the long-term?\n",
        "Advances in identifying adaptive network architectures may be possible with existing scenario analysis for network design.\n",
        "For example, it is possible to formulate separate optimization problems for the same network that consider robustness to\n",
        "well-modeled stressors, rebound after stressful events, and extensibility to adjust operational boundaries. Subjecting these sys\u0002tems to projected long-term scenarios (via forecasting or backcasting) provides one way to compare the effectiveness of one\n",
        "form of resilience over another. Results of this comparison may reveal that a given network architecture is better off focusing\n",
        "on robustness, rebound, or extensibility in the near term.\n",
        "Multi-objective programs and novel network optimization methods like multistage stochastic programming also support the\n",
        "development of new models and tools for network adaptability. Optimization models that can incorporate objectives that con\u0002sider robustness, rebound, and extensibility together may provide further insight on network architecture and resilience tradeoffs.\n",
        "Since network adaptability deals with uncertain future scenarios, network optimization methods like multistage stochastic pro\u0002gramming lend themselves to adaptability questions with known or assumed probabilities for future events. However, sustained\n",
        "adaptability also deals with optimization over uncertainty sets we cannot characterize a priori. Moreover, the design criteria and\n",
        "objectives required to ensure robustness, rebound, or extensibility may not be evident, or, more likely, will conflict. This sug\u0002gests that multi-objective, online, robust, and/or stochastic approaches will be necessary, but potentially untenable for a normal\n",
        "network life-cycle. Advances in methods that relate different perspectives on resilience and/or consider uncertainty sets into the\n",
        "far future would support models that reveal adaptive network architectures./Using optimization models to analyze network adaptability\n",
        "Scenario-based analysis and multi-objective or multistage stochastic programs may reveal network architecture that is resilient\n",
        "over long time-scales. However, there are open issues that inhibit the implementation of these methods to generate resilient\n",
        "architectures./Defining objectives to resolve network adaptability problems\n",
        "To compare scenarios, one first requires a means to balance different forms of adaptive capacity. There is limited work within\n",
        "the resilience research community to draw on that provides a mathematical and computational basis to formulate an objective\n",
        "that balances simultaneous needs for robustness, rebound, and extensibility. Recent advances in theory propose the notion of\n",
        "net adaptive value as a goal for adaptability in the long term [221]. Net adaptive value draws on biological and neurological\n",
        "literature where adaptive value refers to advantage in fitness gained when an organism adapts to its environment [40]. A model\n",
        "objective centered on net adaptive value would seek to maximize adaptive value over the lifespan or multiple epochs that a\n",
        "network may exist. Still, besides neurological and biological research showing the existence of adaptive value tradeoffs, there is\n",
        "essentially no work organizing these tradeoffs in networked systems. Moreover, there is even less work framing these tradeoffs\n",
        "through the lens of robustness, rebound, and extensibility. Research is needed to determine how to formulate objectives that\n",
        "capture the goals of sustained adaptability.\n",
        "An equally difficult problem to formulating a proper objective function is defining the planning horizon for network adapt\u0002ability models. The need to sustain adaptability implies that net adaptive value must be maximized in the long term through a\n",
        "particular mix of robustness, rebound, and extensibility. However, the short-term effects of stressors means adaptability may\n",
        "only be realized in the short term. What defines long- and short-term analyses is poorly understood for many network optimiza\u0002tion problems. Generally, many real-world networks have particular time frames for which they are designed, for example, civil\n",
        "infrastructure designed for a 30 to 60-year operational life, or established planning horizons, for example, 10 years for the elec\u0002tric power industry. However, these time horizons for analysis may be inappropriate as infrastructure is recommissioned and/or\n",
        "used well beyond its intended operational life. Tradeoffs among resilience capacities may reveal that maximizing net adaptive\n",
        "value for one time horizon (e.g., 30 years) may be very sensitive to minor changes (e.g., 31 years). Importantly, the combina\u0002tion of network resilience capacities for one time horizon may be prone to failure in another by increasing network fragility,\n",
        "overemphasizing fast recovery of outdated systems, and promoting decompensation.\n",
        "/Knowing if, when, and how to switch from one form of resilience to another\n",
        "Confounding the analysis of sustained adaptability is the fact that short-term stressful events do change systems in ways that will\n",
        "impact long-term tradeoffs. While robustness, rebound, and extensibility achieve resilience in different ways, the effectiveness\n",
        "of one approach influences the effectiveness of another. For example, consider a network that seeks to meet the demands within\n",
        "it during “normal” operations. This situation implicitly assumes that the network has the capacity to meet its demands and is,\n",
        "therefore, seeking to minimize costs under a set of constraints (e.g., flow-balance and arc capacity constraints). If a disruptive\n",
        "event causes damage to supply nodes and/or arcs within the network, it may no longer be possible for the network to meet all\n",
        "demand. Therefore, the objective of the network may then switch to meeting as much demand as possible after the disruptive\n",
        "event which could be modeled as a maximum flow problem. After such an event, we may seek to make decisions to restore\n",
        "disrupted flow within the network until all demand can then be met. At this point, we may then switch and seek to make\n",
        "restoration decisions to reduce the cost of meeting demand.\n",
        "Determining how this switching occurs can influence recommendations for sustained adaptability. In some cases, it is not\n",
        "necessary for the underlying model of network operations to change to consider different aspects of resilience. For example, a\n",
        "transportation network may have steady-state O-D pairs and the model for normal operations may be to understand the average\n",
        "travel times within the network. If a hurricane (or other forecastable event) were to impact the area of this network, then the\n",
        "O-D pairs may now reflect those of an emergency evacuation but we would still be interested in knowing the travel times within\n",
        "the network. In this case, the input into the network model would need to be switched between normal and stressful operations.\n",
        "Similarly, choice of input parameters and model objectives may need to switch to assess robustness, rebound, and extensibility.\n",
        "Because robustness, rebound, and extensibility all deal with travel times, it is feasible to imagine that the underlying model\n",
        "would not need to change to determine adaptability tradeoffs between aspects of resilience.\n",
        "However, in other cases the model framing may need to change to switch between approaches to resilience. Here, switching\n",
        "is not simply altering a model input or objective, it relates to a network operator’s ability to reflect on current situations and\n",
        "improvise new ways to respond to stressors. Thus, an important aspect of sustained adaptability is how network operators and\n",
        "model developers influence the switching process. Assessing this process requires a better understanding of how the people\n",
        "embedded in networked systems respond and adapt to stress. Knowing if, when, and how to switch from one form of resilience\n",
        "to another is confounded by not just the output of multiple conflicting models, but by the ways people use and develop them in\n",
        "improvised ways./NETWORK OPTIMIZATION AND RESILIENCE, REVISITED\n",
        "The development and application of network optimization models and algorithms can provide a critical perspective on the\n",
        "resilience of systems. In practice, the resilience of real-world networks depends on both the construction and analysis of the\n",
        "optimization model itself and how decision makers interact with it [72]. Within the Networks research community, we identify\n",
        "three practical ways network optimization advances knowledge of resilience: (1) building aspects of resilience into a network\n",
        "optimization model; (2) using network optimization models to study the resilience of a system; and (3) adaptation by users of\n",
        "optimization models for resilience. This is a progression that moves from a focus on the model, to the use of the model, to the\n",
        "user of the model.\n",
        "Building aspects of resilience into an optimization model: The explicit output(s) from solving an optimization model can\n",
        "inform assessments of network resilience. Here, the optimization model itself must be structured to answer a specific resilience\n",
        "question. Often this requires one to consider network disruptions, measures of network performance, operational constraints,\n",
        "and desired resilience capabilities and capacities. Questions relevant to the development of an optimization model capable of\n",
        "improving network resilience include:\n",
        "a. What are potential events or disruptions that stress the network?\n",
        "b. What are the physics or dynamics governing network performance? How will network performance be measured before,\n",
        "during, and/or after an event?\n",
        "c. What decisions are available to adapt the network before, during, and/or after an event?\n",
        "d. What constrains these decisions to adapt?\n",
        "e. What are the resilience objectives for the network? What criteria define optimality?\n",
        "This last question is of particular importance because many researchers working in the area of resilience engineering use\n",
        "the term “optimization” as a synonym with the drive for “faster, better, and cheaper” solutions to operational problems that\n",
        "often lead to brittle systems. Just as we are deliberate in pointing out to optimization researchers that resilience is more than just\n",
        "robustness or rebound, we also want to make the point that the use of optimization models does not necessarily imply a drive\n",
        "for efficiency. It is possible to make some measure of resilience the explicit objective of an optimization model, or to use the\n",
        "optimization model in novel ways.\n",
        "Using optimization models to analyze aspects of resilience: The innovative use of optimization models and/or the analysis of\n",
        "model output(s) can provide further insight on how to improve network resilience. Here, the focus is not on model formulation,\n",
        "but rather insight gained from using established models to answer what-if questions by including new input data represent\u0002ing new scenarios, changes in constraints, or changes in objectives. Questions relevant for the selection and use of existing\n",
        "optimization models for improving network resilience include:\n",
        "a. How would network resilience be informed by parametric analysis and what-if scenarios?\n",
        "b. What are the appropriate use cases for the optimization model? What are their limitations?\n",
        "It is important to note that one can use optimization models that do not have an aspect of resilience built into them to\n",
        "analyze aspects of resilience. For example, one could enumerate all possible stressful events (let i index the stressful event and\n",
        "Gi represent the resulting network) and solve for f(Gi\n",
        ") for each one of them to understand the potential impacts of the stressful\n",
        "event. This simply would require using the network optimization problem that captures f(Gi\n",
        "). As another example, one could\n",
        "solve an interdiction problem to understand the worst-case scenario in terms of the performance of the network across a set of\n",
        "potential disruptions. In both these examples, we are using optimization models to quantify or improve an aspect of resilience.\n",
        "Adaptation by users of optimization models to provide resilience: Because optimization models are ultimately meant to\n",
        "inform real network operations, the ease with which decision makers implement, update, or abandon models further influences\n",
        "how optimization can improve network resilience. A major theme of the resilience engineering literature over the last 20 years is\n",
        "that the humans embedded in networked systems (not models or algorithms) are primary enablers of resilience. This is possible\n",
        "because humans can reframe a problem in the presence of surprise and update or abandon a model when it becomes inappropriate\n",
        "for the problem at hand [72,110,111,218,219]. Thus, how well a model enables its “user” to adapt the decision making process\n",
        "is equally as important as the model formulation and parametric analysis. Questions relevant to the use of optimization models\n",
        "in this context include:\n",
        "a. How do model users know what aspect of network resilience the model output(s) and/or analysis is meant to improve?\n",
        "b. How does the user interact with model output(s) and/or analysis to respond to network events or disruptions?\n",
        "c. How does the user know the appropriate real-world context for the model output(s) and/or analysis? How does the user\n",
        "recognize an inappropriate use of model output(s) and/or analysis?\n",
        "d. How can the user know when to ignore, switch, change, modify, or abandon model output(s) and/or analysis for one more\n",
        "appropriate to the current context?\n",
        "e. How easy it is to implement, or change, or abandon the model, and what are the implications for the underlying decision\n",
        "processes? What recourse is available when the model becomes stale?\n",
        "The ultimate goal is to make optimization models accessible, usable, and adaptable in a variety of different contexts, pro\u0002cesses, and systems. For a detailed discussion of the way optimization modelers and users can adapt in the presence of surprise,\n",
        "see Eisenberg et al. [72].\n",
        "The Networks community has established the importance of its work in a variety of contexts, processes, and systems\n",
        "surrounding resilience. To highlight this importance, we provide a retrospective analysis of the references in this paper in\n",
        "Section 7.1. We then look to the future in Section 7.2 by discussing how, in our opinion, the Networks community can expand\n",
        "its impact in resilience by tackling problems related to extensibility and adaptability./A retrospective view: impact of the Networks community on resilience concepts\n",
        "In this section, we analyze the impact that the Networks community has had with respect to resilience. This impact can be seen\n",
        "by where papers citing the discussed references in this paper are being published. Therefore, we analyze the types of subject\n",
        "categoriesfrom the Web of Science (WoS) (originally produced by the Institute for Scientific Information) where these citations\n",
        "appear. We do so for all papers referenced in Section 3, Section 4, and those referenced published in Networks.\n",
        "In each of these three areas, each citing article counts once (i.e., it is not weighted by the number of papers it cites from the\n",
        "area) in the total counts for a particular journal it appears in. However, note that the journal it is published in may appear in\n",
        "multiple categories, so the count for the journal would be added to each subject category. We will point out that these subject\n",
        "category classifications may not be perfect but given the prevalence of WoS are sufficient for purposes of this analysis. The\n",
        "data for citations was collected on May 15, 2020. Our analysis examines a total of 133 referenced articles for the analysis of\n",
        "Section 3 yielding 4783 citing articles, 42 referenced articles for the analysis of Section 4 yielding 1508 citing articles, and 53\n",
        "referenced articles for the Networks analysis yielding 742 citing articles.\n",
        "Tables 1 to 3 provide the top 20 categories of citations for references in Section 3, Section 4, and in papers published in\n",
        "Networks referenced in Sections 3 and 4, respectively. In the remainder of this analysis, we refer to these areas as robustness,\n",
        "rebound, and Networks. Table 4 provides a comparative summary of each category that appears in the top 20 for at least one of\n",
        "robustness, rebound, and Networks and provides the ranking of each category across these areas.\n",
        "As expected, Operations Research & Management Science is the highest ranking category in all three tables. Electrical\n",
        "& Electronic Engineering is also highly ranked (second, second, third) across robustness, rebound, and Networks. This indi\u0002cates that the work done by the Networks community is impacting research into power grid resilience. The categories of Civil\n",
        " Engineering, Transportation, and Transportation Science & Technology also all appear in the top 20 for robustness, rebound,\n",
        "and Networks indicating that the Networks community is impacting research into resilience of civil infrastructure, especially\n",
        "transportation systems. Telecommunications appears in the top 20 for all three areas and in the top 10 for Networks, which is\n",
        "to be expected given the number of special issues published by Networks on resilient telecommunications systems. Industrial\n",
        "Engineering appears in the top 10 for all three areas and Management appears in the top 10 for robustness and Networks. This\n",
        "demonstrates the impact of these areas on supply chain and business resilience. The data also show the reach of the Networks\n",
        "community in a broad range of non-traditional categories including Environmental Sciences, Green & Sustainable Science &\n",
        "Technology, Water Resources, and Multidisciplinary Sciences. When examining these categories, we observe impacts in wildlife\n",
        "conservation research, hazard risk and mitigation modeling, electric vehicles, urban water design, and renewable energy.\n",
        "In terms of examining the uniqueness of Networks for these categories, Applied Mathematics ranks second in Table 3 and\n",
        "other mathematical categories appear in the top 20. There are also six different categories associated with Computer Science\n",
        "that appear in the Networks top 20. Note that the high ranking of Computer Science, Hardware & Architecture in Table 3 comes\n",
        "from Networks own classification in this category. The appearance of the mathematical and computer science categories speaks\n",
        "to the reputation of Networks across these areas. It is also interesting to observe that there is much more overlap in the top 20\n",
        "of Networks and robustness than Networks and rebound. We believe this comes from the fact that robustness has more research\n",
        "to date and that Networks has established its presence in the communities that are applying optimization to study robustness of\n",
        "their physical systems.\n",
        "It is clear from comparing Table 1 with Table 2 that resilience as robustness has significantly more research surrounding it\n",
        "to date. This fact arises because optimization approaches for resilience as rebound is a relatively recent development: with the\n",
        "exception of a reference helping to introduce the concept of interdependencies, the earliest referenced paper in Section 4 is in\n",
        "2010 [142]. No papers referenced in Section 4 appeared in 2011 and only three papers in 2012 [18,20,159]. Figure 1 analyzes\n",
        "the trend in citations for robustness and rebound. In both cases, rapid growth in the number of citations occurred starting in\n",
        "2013. In particular, robustness citations grew from 208 in 2013 to 771 in 2019 and rebound citations from 56 to 281. Part of this\n",
        "growth is a function of the number of papers analyzed. In Figure 2, we normalize the data by presenting the number of citations\n",
        "in year divided by the total number of papers published before or during year t (i.e., the cumulative number of papers published)\n",
        "which all could have contributed to the citations for that year. With this metric, we observe a spike for rebound in 2009 which\n",
        "corresponds to the emergence of the field as a small number of papers led to the growth of many future papers. The trend for\n",
        "rebound appears to level out to an impact value consistent with robustness. Furthermore, in terms of overall comparison, there\n",
        "are 133 referenced articles for robustness and 4783 citing articles, for a ratio of citing articles to references of 35.96. This is\n",
        "compared to 42 referenced articles for rebound and 1508 citing articles, for a ratio of 35.90. Therefore, the normalized impact\n",
        "of the papers produced by the network optimization community influencing robustness and rebound is almost identical.\n",
        "Figure 3 presents a similar analysis for the Networks references. Although impressive growth still occurred from 36 citations\n",
        "in 2013 to 83 citations in 2019, there is room for the journal to be part of a larger dialogue on resilience. We now transition to\n",
        "a prospective view on how we believe this may be accomplished.\n",
        "/A prospective view: resilience concepts that require greater consideration by the Networks\n",
        "community\n",
        "Robustness and rebound are two resilience concepts that are most commonly studied by the Networks community, but they do\n",
        "not capture all aspects of network resilience. Robustness and rebound are important because they characterize how systems\n",
        "perform immediately before or after a stressful event. However, they tend to focus only on what happened as opposed to what\n",
        "was done. That is, robustness and rebound optimization problems focus on resilient outcomes, such as limiting impacts to current\n",
        "operations or speeding up recovery, but do not provide knowledge about the processes that are present to govern such behavior.\n",
        "Understanding the processes that govern resilience in addition to measuring resilient outcomes is important because there is\n",
        "a longstanding opinion in the resilience research community, that, “resilience is not just about what you have, it’s what you\n",
        "do” [72].\n",
        "Extensibility and sustained adaptability focus attention on the processes that govern how well a network will adapt to current\n",
        "and future stress. Extensibility and adaptability focus on managing interconnected resources as systems change or as the effects\n",
        "of a stressful event are materializing. The goal of extensibility and sustained adaptability is to maximize the adaptive capacity of\n",
        "a network, which differs from robustness and rebound approaches to minimize the negative impacts of stress. Thus, extensibility\n",
        "and adaptability are more about the process and are concepts that focus less on outcomes and more on capabilities (sometimes\n",
        "referred to as capacity to maneuver [221]).\n",
        "Resilience processes that underlie extensibility and sustained adaptability have been defined in a number of ways across\n",
        "the literature [170,177], but generally refer to four interrelated activities that enable adaptive capacity. For example, Boyd [39]\n",
        "introduced the observe-orient-decide-act loop to characterize the ability of a pilot to gain advantage in combat by adapting\n",
        "faster than an adversary [161]. Hollnagel [109] re-characterizes these processes as monitoring-responding-learning-anticipating\n",
        "to emphasize the need for learning new ways to anticipate future events. Park et al. [168] operationalize these processes for\n",
        "networked systems using the terms sensing-anticipating-adapting-learning. Seager et al. [192], Eisenberg et al. [71], and Thomas\n",
        "et al. [209] advance these perspectives with greater definition and integration:Observing/orienting/monitoring/sensing: the process of acquiring, apprehending, or accessing information about network\n",
        "operational states and conditions;\n",
        "Deciding/anticipating: the process of using existing or new models to interpret sensed information and decide a course\n",
        "of action;\n",
        "• Acting/responding/adapting: the process of taking actions to change network structure or function in response to stress;\n",
        "and\n",
        "• Learning: the process of updating and revising sensing, anticipating, and adapting processes to changing conditions.\n",
        "These processes are not traditionally considered by the Networks community. However, they could be. Solving optimiza\u0002tion problems for robustness and rebound that overlook these processes cannot provide new knowledge or decision support to\n",
        "improve extensibility or sustain adaptability. Importantly, a focus on resilience processes emphasizes the role of the individuals\n",
        "who create and use network optimization models to adapt in addition to the models themselves. For example, significant research\n",
        "shows that there are tradeoffs between perspectives on resilience, such as increasing robustness to particular stressors produces\n",
        "brittle networks that lack adaptive capacity [49,69]. How model developers and users interpret and implement these resilience\n",
        "goals provides information about resilience processes. Many of the modeling techniques used by the Networks community could\n",
        "be applied to these concepts. In Section 8, we articulate several opportunities for contributions./IN SEARCH OF NETWORK RESILIENCE: A RESEARCH AGENDA FOR\n",
        "THE NETWORKS COMMUNITY\n",
        "Advances in network optimization championed by the journal Networks over the last 50 years coincide with similar efforts\n",
        "to understand and apply concepts of resilience. The journal has helped establish a vibrant community of researchers that has\n",
        "made significant contributions to the resilience literature. In particular, the Networks community has created and analyzed\n",
        "many network optimization problems that help address aspects of resilience. At the same time, advances made by the resilience\n",
        "community over its 50 years inform the themes that the Networks community should be building into our optimization problems\n",
        "in the future.\n",
        "There is no single agreed upon definition of resilience, but several aspects of resilient systems inform network optimization\n",
        "research. There are at least four ways networks demonstrate resilience: robustness, rebound, extensibility, and adaptability.\n",
        "Network robustness and rebound emphasize desired resilience outcomes for networked systems via limiting the impacts of\n",
        "stressful events and speeding up recovery from losses. Network extensibility and adaptability emphasize improving resilience\n",
        "processes to maximize adaptive capacity to unforeseen stressors and uncertain futures. Together, resilience is not just about the\n",
        "network itself (i.e., what you have) but what decision makers do in response to a stressful event. These fundamental differences\n",
        "between robustness, rebound, extensibility, and adaptability emphasize that there is no “uber model” that offers support for\n",
        "all aspects of resilience simultaneously. They also emphasize that it does not make sense to “optimize resilience”—we can\n",
        "optimize an aspect of resilience or analyze tradeoffs between aspects within the models and analysis conducted by the Networks\n",
        "community, but not all aspects simultaneously.\n",
        "Network optimization models can be used to address each of the four concepts of resilience. To date, the literature produced\n",
        "by the Networks community has been dominated by work addressing robustness and rebound. The research agenda for our\n",
        "community going forward should seek to address key challenges that will enable continued contributions to robustness and\n",
        "rebound and new contributions to extensibility and adaptability. These challenges include:\n",
        "• Capturing the boundary of network operations: A focus on the level of network performance (e.g., current maximum\n",
        "flow) does not provide an understanding of how hard the network is working to deliver that performance. Moreover, the\n",
        "boundaries embedded in network models that define model feasibility are not often the “true” boundaries on network\n",
        "operations. An understanding of how close the network is to its “true” boundary where performance degrades and the\n",
        "system will fail is necessary to study its extensibility. An improved understanding of boundary could also provide an\n",
        "alternative understanding of robustness. Knowing how hard the network is working to operate provides a new reference\n",
        "point to measure the impacts of stressful events. Furthermore, by understanding the boundary, we can capture where\n",
        "rebound activities are essential to restore network performance.\n",
        "• Methods to better handle “unknown” uncertainty that surprise parameters, decisions, and constraints: Methods\n",
        "to model or handle uncertainty are critical when characterizing the surprise from stressful events. Research can be under\u0002taken to examine rebound from events where there is uncertain information about the impact of the stressful event. A\n",
        "critical future research direction for the Networks community is on modeling uncertainty with regard to the types of deci\u0002sions and constraints that arise after situational and fundamental surprises. While classic methods to handle decision\n",
        "making under uncertainty (e.g., stochastic programming, robust optimization, or online optimization) can handle param\u0002eter uncertainty, it is less clear how to model uncertainty when it impacts the types of decisions that can be implemented.\n",
        "If research is conducted in this area, it will help to address how networks handle fundamental surprise.\n",
        "Revealing the implications of network architecture: Despite the importance of architecture in networks, like the inter\u0002net, there is limited work within the network optimization community studying the implications of architecture on\n",
        "resilience. Important research directions should include an understanding of how architecture optimized for one aspect\n",
        "of resilience influences another. For example, how do interpretations of fast recovery or extensibility change for robust\n",
        "or brittle networks? Similar questions can be asked of networks optimized for rebound and extensibility.\n",
        "• Problems balancing tradeoffs among multiple aspects of resilience: Research has begun to incorporate multiple\n",
        "aspects of resilience into the same problem; for example, we can examine network robustness by measuring rebound\n",
        "after stressful events. There are many important directions in this area since network adaptability must be sustained in\n",
        "the short- and long-term. Identifying and managing the tradeoffs between robustness, rebound, and extensibility is essen\u0002tial for adaptability. Another important direction is on problems that examine the tradeoff between immediate rebound\n",
        "and implementing recovery decisions that improve robustness and/or extensibility for future stressful events, thereby\n",
        "embodying sustained adaptability.\n",
        "• Models and/or methods that enable improvisation: Models that capture a network’s ability to improvise its operations\n",
        "based on the current state of the world would help to address aspects related to extensibility and adaptability. Methods\n",
        "that enable network operators and modelers to improvise new, reformulated, optimization models would also overcome\n",
        "issues with fundamental surprise. Future research directions should seemlessly inform network operators to implement\n",
        "improvised decisions while modelers reformulate and validate new models directly related to fundamental surprise.\n",
        "• Methods for model switching: The types of optimization problems that impact an aspect of resilience are part of the\n",
        "toolbox available to network operators. Methods that can formalize when an operator can and should switch the problem\n",
        "being applied to resilience is valuable in practice. This process of switching also has implications for long-term network\n",
        "adaptability. An important area of research is examining the current state of network optimization models and their use to\n",
        "determine whether these models are fit for purpose. Determining if, when, and how to switch models will help establish\n",
        "how to best employ the current toolbox of resilience methods. Furthermore, research should examine how to determine\n",
        "when parts of the toolbox fit or if, instead, new optimization problems, models, and methods should be developed.\n",
        "Ultimately, the use of network optimization to address these challenges must remain pragmatic because resilience is not just\n",
        "about the model. Future work must frame the importance of new models and methods alongside the modelers and the operators\n",
        "who will use them. All will have to work together to achieve resilience in the presence of future stress.\"\"\""
      ]
    },
    {
      "cell_type": "code",
      "execution_count": null,
      "metadata": {
        "id": "vaa7jeQ2YGMc"
      },
      "outputs": [],
      "source": [
        "l = len(text.split(\"/\"))"
      ]
    },
    {
      "cell_type": "code",
      "execution_count": null,
      "metadata": {
        "colab": {
          "base_uri": "https://localhost:8080/",
          "height": 109
        },
        "id": "BRNcPkDkajAW",
        "outputId": "a6e081f3-b307-49b2-df51-0012e3097d74"
      },
      "outputs": [
        {
          "data": {
            "application/vnd.google.colaboratory.intrinsic+json": {
              "type": "string"
            },
            "text/plain": [
              "'AbstractFifty years of research in Networks coincides with 50 years of advances in resiliencetheory and applications.\\n The purpose of this review is to identify how these two technical communities influenced each other in the past and can bolster each other inthe future.\\n Advances in resilience theory show that there are at least four ways networks demonstrate resilience: robustness, rebound, extensibility, and adaptability.\\nResearch published in Networks and by the broader network optimization communityhas focused primarily on technical methods for robustness and rebound.\\n We reviewthis literature to organize seminal problems and papers on the ability of networks tomanage increasing stressors and return to normal activities after a stressful event.\\n/INTRODUCTIONOver the last 50 years, the concept of resilience has become popular for characterizing behavior in the presence of stress.\\n Thecurrent popularity of the term is often traced back to the work of Holling [108], where resilience is presented as a dynamicproperty of complex systems to, “measure [the] persistence of systems and of their ability to absorb change and disturbanceand still maintain the same relationships between populations or state variables.\\n” The term has since been applied to behaviorat the level of a system, organization, or individual, and has become increasingly used across a variety of disciplines, includingmaterial science, ecology, psychology, emergency management, engineering, and national security (see Park et al.\\n [168] andSeager et al.\\n [192] for a review of the rise in popularity of this term).\\nThere is no single agreed-upon definition of resilience.\\n However, many notions of resilience align with Holling’s earlydefinition and refer to the ability of the system to respond or adapt when challenged by stressful events.\\n For example, the NationalResearch Council [152] defines resilience as “The ability to prepare and plan for, absorb, recover from, or more successfullyadapt to actual or potential adverse events”—a definition that largely follows the five phases of emergency management asdefined by the Federal Emergency Management Agency [81].\\n Similarly, resilience of engineered infrastructure is often definedas the capability of the social and physical systems to respond to threats via a combination of robustness, redundancy, resource\\x02fulness, and rapidity abilities [44] or via absorptive, restorative, and adaptive capacities [87].\\n Social–ecological definitions ofresilience also emphasize the adaptive capacity of complex systems, but further emphasize transformability, learning, and inno\\x02vation as key aspects of resilience [11, 83].\\n These and other resilience definitions differ between application domains, where organizational, social, economic, and engineering domains define and study resilience differently [112].\\n Despite the lack ofconsensus on what resilience is or how to define it, there is common agreement on what it is not; the opposite of resilience iscommonly termed vulnerability, fragility, or brittleness [221].\\nIn this article, we focus on network resilience and the role of optimization models for studying it.\\n Irrespective of definitionor application domain, resilience research tends to focus on network representations of systems for demonstrating theory anddeveloping resilience analysis methods.\\n For example, measuring system performance can involve solving a network optimiza\\x02tion problem given the current state of the system.\\n Thus, the research published in Networks and the community of expertsinvolved in network modeling and analysis offer important contributions for advancing the science of resilience.\\n We focus on thedevelopment and application of optimization models—along with corresponding algorithms for solving them—for assessingand improving network resilience.\\nWe hope to provide the audience of Networks with an appreciation that a particular optimization model can improve an aspectof network resilience and that selecting an appropriate model is important when one wants to “improve network resilience.\\n”The scope of this review is on the resilience of physical or cyber-physical systems and how networks can be used to study it.\\nHowever, research published in Networks and by the resilience community extends beyond cyber-physical systems, meaningconclusions drawn from this work may inform broad applications and systems.\\n Furthermore, our scope tends to focus on theunderlying models and not, in detail, discussing the solution methods developed to solve the models.\\n We review related literaturepublished in Networks and of interest to the readership of Networks and discuss how it contributes to the resilience literature.\\n Wehope to broaden the ways in which this community views network resilience and provide an understanding of how optimizationmodels fit into broader discussions of resilience.\\n Finally, we outline some of the most promising and important directions forcontinued research and contribution, especially in areas of resilience that have been under-studied by the Networks community.\\n/MAPPING OPTIMIZATION MODELS TO FOUR CONCEPTS OFRESILIENCEWe use the following standard notation throughout.\\n Let G = (N, A) denote a network, where N is the set of nodes (with n = ∣ N∣)and A is the set of directed arcs (with m = ∣ A∣).\\n We denote f(G) = f(N, A) as the performance function of network G.\\n In general,we assume the performance of the network is determined from the solution of an optimization problem that achieves the bestobjective subject to constraints on network operations.\\n For example, f(G) could capture the maximum flow between a sourcenode s and sink node t subject to flow balance constraints and arc capacities.\\n Furthermore, note that we may seek to design thenetwork G in a way to achieve a certain level of performance.\\nAs a start to mapping optimization models to network resilience, we review a common context for how resilience has beendefined: (i) there is some set of potential events that stress the system (we purposefully use the term stress since an event doesnot need to disrupt the system), so there are clear pre-event and post-event time frames, (ii) there is some way to measure theperformance of the system before, during, and/or after the event, and (iii) there is some method to measure the impact of the setof events (e.\\ng.\\n, average impact, worst-case impact, conditional value-at-risk [CVaR] impact).\\n Optimization models can informnetwork resilience by measuring how f(G) changes due to stress impacting the network structure and its operations.\\n They can alsoidentify operations and design recommendations to overcome vulnerabilities, fragilities, or brittleness.\\n Optimization models ofthis form often address a single aspect of resilience (e.\\ng.\\n, robustness) and, therefore, can be viewed as a “tool” for a very specificresilience purpose.\\n There can also be “multi-headed tools” (e.\\ng.\\n, multi-objective models) that allow for an understanding of thetradeoffs between multiple aspects of network resilience.\\n This approach may be helpful when recommendations to improve oneaspect of network resilience (e.\\ng.\\n, robustness) may conflict with efforts to improve another (e.\\ng.\\n, adaptability).\\nHowever, because there is no agreed-upon view of resilience, there is no comprehensive way to define a complete tradeoffspace.\\n Some aspects of resilience may not be possible to study alongside others due to inherent conflict when defining modelprimitives, objectives, or constraints.\\n An important role that the Networks community can play in resilience research is to expandthe set of optimization models available for analyzing aspects of network resilience that emerge from the literature.\\n Moreover,of particular importance are the perspectives that come from practitioners and/or applications that inform when a particularview of resilience might be most relevant.\\nThis concept of using the appropriate model for improving an aspect of resilience is especially important when the outputsof optimization models are used to recommend network operations.\\n A basic assumption for improving network resilience isthat there are decisions that can be made before, during, and/or after a stressful event resulting in a desired system structure orfunction.\\nWoods [220] has identified four distinct concepts for resilience that are relevant for networks:Robustness: managing increasing stressors, complexity, and challenges with limited-to-no impact on normal activities;Rebound: returning to normal activities after a stressful event;• Extensibility: extending system performance or capabilities to respond to surprise events that challenge current activities;and• Adaptability: managing tradeoffs to build adaptive capacity to continuously evolving contexts.\\nThe fundamental goals and outcomes for networks differ for each resilience concept.\\n Resilience as robustness emphasizesthe need for networks to continue to function as intended in lieu of stress.\\n Resilience as rebound emphasizes the need for stressednetworks to recover lost function.\\n Resilience as extensibility emphasizes the need for networks to change intended functions torespond to stress.\\n Resilience as adaptability emphasizes the need for networks to balance robustness, rebound, and extensibilitycapabilities as systems and their environments change.\\n Together, these four concepts, while limited, provide a framework forthe way the Networks community has influenced resilience research and can approach it in the future.\\nIn examining the literature produced by the Networks community, it is clear that it has made valuable contributions to therobustness and rebound concepts.\\n Therefore, we will take a retrospective look at literature in these areas including: fault tolerantand/or survivable network design, two-stage stochastic network optimization problems, interdiction problems, N −k problems,defender-attacker-defender problems, robust network flows and design, problems focusing on reinstalling connectivity intodisrupted networks, and network recovery problems.\\n This retrospective look discusses how these problems address resiliencewithin them and/or how they can be used to analyze resilience.\\n In contrast, the Networks community has made fewer contri\\x02butions that progress extensibility and adaptability.\\n We will take a more prospective look at the types of network optimizationproblems that may advance these concepts.\\nIn the following sections, we review optimization models that inform network resilience.\\n We organize model formulations,analyses, and uses by the aspects of resilience they are meant to improve: robustness, rebound, extensibility, and adaptability.\\n Weidentify areas of research that the Networks community has historically contributed to, and we reveal new avenues of researchthat require more attention.\\n Where appropriate, we point the reader to existing reviews of network resilience, discuss advancesin these areas, and provide a number of critical open areas for future research.\\n We conclude with open issues and questionsmeant to provoke future advances on network resilience in the Networks community.\\n/Resilience as robustness in optimization modelsWe proceed by outlining network optimization literature that incorporates aspects of resilience as robustness.\\n Here, we outlinehow resilience as robustness can be analyzed through the use of existing network optimization models.\\n/Survivable network design and fault tolerance problemsSurvivable network design and fault tolerance problems focus on designing networks so that a minimum number of (typicallynode or arc disjoint) “structures” exist (call this number ) within the network.\\n These problems ensure that the network is robustfor this structure against perturbations that remove up to k −1 network components.\\n In this case, if the perturbation set is focusedon removing nodes, we have \\ue23cN = {(N′, A′) ∶ N′ ⊆ N, A′ ⊆ A, (i, j) ∈ A′ implies i ∈ N′ or j ∈ N′, and ∣N′∣ ≤ k − 1} wherep ∈ \\ue23cN provides a set of nodes and arcs to remove from the network in the perturbation.\\n If the perturbation set focused onremoving arcs, we have \\ue23cA = {(N, A′) ∶ A′ ⊆ A such that ∣ A′ ∣ ≤ k − 1}.\\n Kerivin and Mahjoub [126] review the literatureon survivable network design problems where an s−t path is considered the “structure.\\n” The node (arc) survivable networkdesign problem is then defined to build a least cost network that has at least k node (arc) disjoint paths between s and t.\\n Thisensures that there remains an s−t path for any perturbation that removes up to k −1 nodes, that is, in any p∈PN (or up to k −1arcs, i.\\ne.\\n, in p ∈ \\ue23cA), thus ensuring that an s−t path robustly operates across a large number of perturbations.\\nWe now consider a number of papers that have built upon the survivable network design problems reviewed by Kerivin andMahjoub [126].\\n Bendali et al.\\n [31] provide a branch-and-cut algorithm for the k-arc survivable network design problem (notethat they call this problem the k-edge connected network design problem).\\n Chimani et al.\\n [56] provide integer programmingformulations based on graph theory for k = 0,1,2-node survivable problems.\\n Fortz et al.\\n [84] examine a branch-and-cut methodfor 2-arc survivable problems that requires no arcs are included in a cycle of more than a certain length.\\n Huygens et al.\\n [115]study a branch-and-cut method for the extension of the 2-arc survivable network design that bounds the length of the paths toL (or “hops” taken by the path).\\n Diarrassouba et al.\\n [64] consider integer programming formulations for the k-arc problem withL=3 hops.\\n Botton et al.\\n [37,38] examine Benders decomposition approaches for these problems with general k and L parameters.\\nBalakrishnan et al.\\n [23] propose large-scale solution methods that integrate decomposition, tabu search, and optimization tosolve general survivable network design problems.\\n Gouveia and Leitner [100] examine a survivable network design problemthat focuses on path lengths and requires that a path exists between s and t of length less than or equal to Hst pre-perturbationand a length of most H′st after k −1 arcs are removed.\\n Terblanche et al.\\n [208], Ljubic et al.\\n [137], and Matthews et al.\\n [143] have ´studied stochastic survivable network design problems where not all design data are known initially.\\nSurvivable network design and fault tolerance problems are closely related to one another; we refer the reader to Al-Kuwaitiet al.\\n [2] for a discussion on the similarities and differences between fault-tolerance, reliability, and survivability in the contextof communications and computer systems.\\n Within the Networks journal, fault tolerance is often used to describe more generalstructures (or required operations) beyond s−t paths.\\n Liestman [134] examines fault tolerance of calling schemes for broad\\x02casting messages in networks.\\n Farrag and Dawson [79] and Dawson and Farrag [63] examine fault tolerance as it relates topreserving star configurations in networks.\\n Harary and Hayes [102] survey results for fault tolerance with structures includingcycles and various types of trees.\\nAn important area of application for survivable network design and fault tolerant problems is designing and operat\\x02ing resilient telecommunications networks.\\n This may require not only designing survivable networks but also in routingpost-perturbation to maintain system operations.\\n There are several special issues of Networks that focus on resilient telecom\\x02munications networks.\\n Rak and Sterbenz [175] describe the contributions made by papers in the issue “Optimization Issues inResilient Network Design and Modeling.\\n” Jonsson et al.\\n [122] describe the contributions made by papers in the issue “Designof Resilient Communications Networks.\\n” Rak et al.\\n [176] describe the contributions made by papers in the issue “Resilienceof Communication Networks to Random Failures and Disasters.\\n” We refer the reader to these overviews for a more detaileddiscussion of the papers; here we provide a high-level categorization of the papers across these special issues.\\nSilva et al.\\n [199], Canale et al.\\n [47], Sen et al.\\n [195], Canale et al.\\n [48], Martins et al.\\n [141], Ghedini et al.\\n [92], Barbosa et al.\\n[25], Castillo et al.\\n [50], Lin and Zhou [135], and Vass et al.\\n [212] analyze problems in survivability, reliability, or fault-tolerancefor different required structures and/or operations.\\n Kucharzak et al.\\n [129], Fouquet et al.\\n [86], Yang et al.\\n [225], Cheng et al.\\n[54], Myslitski et al.\\n [150], Busing et al.\\n [45], and Natalino et al.\\n [151] examine novel post-perturbation routing or path selectionprotocols.\\n Houthooft et al.\\n [114], Papadimitriou and Fortz [167], Gomes et al.\\n [97], Hmaity et al.\\n [107], Girão-Silva et al.\\n [94],and Kalesnikau et al.\\n [123] consider problems that integrate network design or operations pre-perturbation with effective routingpost-perturbation.\\n Ali et al.\\n [8] and Pasic et al.\\n [169] examine methods to identify locations of failures after a disruption.\\n/ Two-stage stochastic network optimization problemsStochastic network optimization problems, such as network design, are broadly focused on making decisions in the face ofuncertainty about the operating conditions of the network.\\n We could view each potential operating scenario as belonging to theset of perturbations in examining how these problems build in aspects of resilience as robustness.\\n Therefore, there is no standardway to define \\ue23c for these problems although it is standard that there will be a probability (likelihood) of a particular perturba\\x02tion.\\n Two-stage stochastic problems would make decisions prior to the perturbation being revealed (i.\\ne.\\n, first-stage preparationdecisions) and then can make perturbation-specific decisions once it is revealed.\\n Any two-stage network design problem wherewe are seeking to optimize the expected performance of the network across all perturbations (or other measures, like CVaR) orseeking to minimize design costs to ensure some level of post-perturbation performance can be viewed as addressing resilienceas robustness.\\n Note that the latter viewpoint is similar to that of survivable network design problems.\\nThe literature on stochastic network optimization problems is vast and review papers typically focus on a specific applicationarea [101,203,204].\\n Work within the Networks journal that addresses these types of problems may not specifically mentionresilience, but it contributes to the area nonetheless.\\n We will highlight a number of contributions from the journal and thendiscuss specific application areas.\\nIn Networks, Atamturk and Bhardwaj [16] consider the problem of minimizing the cost of installed edges into a networkso that the maximum flow is above a certain level with probability 1−𝜀, where the capacities of the installed arcs are ran\\x02dom variables.\\n Although the paper does not specifically mention resilience, it is addressing a problem to ensure that networkperformance is robust across a wide set of perturbations (the realized arc capacities).\\nCrainic et al.\\n [59], and its follow-up paper Rahmaniani et al.\\n [174], examine how to solve a multicommodity, capacitatednetwork design problem with stochastic demands using metaheuristics and Benders decomposition, respectively.\\n The perturba\\x02tions are defined based on the demands of nodes and the problem seeks to minimize the sum of the pre-planning costs (includingthe costs associated with building arcs) and the expected transportation costs after the perturbation occurs.\\n By applying dif\\x02ferent weights to the pre-planning costs and the transportation costs, it would be possible to use their work to understand thetradeoffs between preparing for the perturbation and in the post-perturbation network performance.\\nRysz et al.\\n [180] consider a general class of problems which seeks to detect a “structure” (e.\\ng.\\n, a clique) in a network witha certain property prior to the perturbation so that the structure can be repaired quickly after the perturbation to maintain thisproperty.\\n In other words, they seek to identify a portion of the network so that the property is quickly re-established after anyperturbation.\\n This type of problem is one where robustness includes a measure as to how the system rebounds (Section 4) fromthe perturbation.\\n The papers of Heath et al.\\n [103], Tan et al.\\n [206], Aslan and Çelik [15], Sanci and Daskin [185], and Fanget al.\\n [76] consider similar two-stage problems where the robustness is measured based on how well the system rebounds afterthe perturbation and include decisions modeling the rebound process.\\nThere have been literature reviews that focus on stochastic network optimization problems for specific applications.\\n Snyder[203] provides a review of facility location problems under uncertainty.\\n In these problems, the location of the facilities isoften the first-stage decisions and perturbations can be used to capture the uncertainty about facility capacities, demands, andconnection costs to customers.\\n These problems contribute to analyzing resilience as robustness for applications that can bemodeled within the various classes of facility location problems.\\n Grass and Fischer [101] provide an overview of two-stagestochastic programming in disaster management, with a specific focus on reviewing papers that are related to pre-positioninghumanitarian aid within a network as well as providing an overview of solution methods.\\n Snyder et al.\\n [204] broadly examinesupply chain planning under disruptions, and many of its referenced papers fall into how to design supply chain networks whenfaced with perturbations of their characteristics.\\n Hosseini et al.\\n [113] classify how different pre-perturbation decisions within asupply chain network impact its ability to handle (or recover from) the perturbation.\\nSpecific papers that focus on designing resilient supply chains include [89,140,155,210].\\n Margolis et al.\\n [140] examine amulti-objective network design problem that assesses the tradeoffs between design costs and the post-perturbation connectivityof the supply chain.\\n Ni et al.\\n [155] examine a two-stage problem where the second stage specifically accounts for losing cus\\x02tomers in the supply chain due to disruptions after the perturbation.\\n Gao et al.\\n [89] propose a conic programming approach toidentify the optimal inventory positioning policy for problems concerned with minimizing the CVaR of lost sales.\\n Tucker et al.\\n[210] study two-stage and multi-stage stochastic problems that seek to limit drug shortages and provide incentives to certainsuppliers to improve the overall resilience of pharmaceutical supply chains.\\nFaturechi and Miller-Hooks [80] review methods to quantify the resilience of transportation infrastructure and discuss therole of two-stage optimization problems in this area.\\n For power grid resilience, Wang et al.\\n [215] provide a review and discussionof the types of pre-event and post-event strategies that can improve resilience; these can be modeled in two-stage problems toimprove the robustness of power grid networks.\\n It is also important to note that infrastructures are increasingly interdependent[44,162] and network models have been created to understand the performance of interdependent infrastructures [132].\\n In thisarea, Fotouhi et al.\\n [85] examine two-stage problems for robustness of interdependent traffic and power systems.\\n/Interdiction problemsNetwork interdiction problems focus on situations where an attacker will select the perturbation to the network in a waythat most impacts its performance and then a defender will operate the network, post-perturbation.\\n These problems studyresilience as robustness by helping to understand the worst-case impact of a perturbation to network operations.\\n Typically, theperturbation set is defined by a feasible region of which arcs can be removed (as noted previously, this, without loss of gen\\x02erality, can model node removals); for example, if the arc removals follow a budget constraint, then \\ue23c = {(N, A′) ∶ A′ ⊆ Asuch that ∑(i,j)∈A′ bij ≤ B}, where A′is the set of arcs removed from the network.\\nThis type of problem has been studied extensively within the Networks community; in fact, a virtual issue of the journalis available that highlights contributions of the following papers: Alvarez et al.\\n [9], Bayrak and Bailey [30], Cullenbine et al.\\n[61], Israeli and Wood [118], Janjarassuk and Linderoth [120], Pan and Morton [165], Salmerón [181], and Shen and Smith[198].\\n We refer the interested reader to the review of Smith and Song [202] for an extensive discussion of interdiction problems,solution methods, and applications.\\nTwo fundamental network interdiction problems are the max flow interdiction and shortest path interdiction.\\n The max flowinterdiction problem typically focuses on perturbations that remove arcs from the network so that the total arc removal costs didnot exceed a budget.\\n The shortest path interdiction problem typically focuses on perturbations that increase the length of arcs,subject to a budget.\\n The study of these problems within the Networks community has helped to inform resilience analysis doneby a wide range of communities and we will touch upon some of this work later in this section.\\nResearch on the max flow network interdiction problem (MFNIP) can be traced back to the work of Wollmer [216], McMas\\x02ters and Mustin [145], and Ghare et al.\\n [91].\\n The seminal work of Wood [217] renewed interest in the MFNIP and set the stagefor how network interdiction can be used to understand the vulnerabilities of infrastructure systems and defend them from dis\\x02ruptions [42].\\n Research on the shortest path network interdiction problem can be traced back to the work of Fulkerson andHarding [88] and Golden [96] with an impactful paper being Israeli and Wood [118], published in Networks.\\nAn important extension of interdiction problems that can offer a different viewpoint on resilience is one that considersasymmetric information.\\n Information asymmetry refers to the situation where the attacker and defender may have differentinformation about the network; for example, the attacker may not understand the supply/demand, capacities, or costs of arcs inthe network.\\n This framework would be important in examining resilience as robustness for networks that may be attacked bymalicious actors who only have partial information.\\n We refer the reader to the works of Bayrak and Bailey [30], Salmerón [181],and Baycik and Sullivan [28] for examples of interdiction under asymmetric information.\\n An important aspect of analyzingthese problems is whether or not the attacker can learn information about the network that they initially did not have.\\n Borreroet al.\\n [35,36] consider learning in the context of network interdiction and show that greedy and robust learning policies willeventually match the interdiction decisions of an attacker with perfect information.\\n Pay et al.\\n [171] examine problems wherethe defender’s risk preferences can be expressed using utility theory and are learned by the attacker.\\n Interdiction with learningfalls into the broader class of dynamic interdiction problems (see, e.\\ng.\\n, [193,194]).\\n We refer the reader to Smith and Song [202]for more details.\\nInterdiction problems have been applied to specifically understand the robustness of different types of infrastructure net\\x02works.\\n There are a number of papers seeking to understand resilience as robustness of the power grid.\\n For example, the papersof Salmerón et al.\\n [183,184] and Salmerón and Wood [182] examine interdicting power grid networks, where the operations ofthe grid are modeled using the direct current (DC) flow constraints.\\n Wang and Baldick [214] present more detailed analysis onthe consequences of an interdiction in terms of both short (minutes) and near term (days) impacts.\\n Rocco et al.\\n [179] assess thevulnerabilities of a power grid and Zhang et al.\\n [228] examine how to fortify supply systems against deliberate attacks.\\nIn terms of applying interdiction to understand the resilience as robustness of transportation systems, many differenttransportation modes have been considered.\\n Laporte et al.\\n [131] examine designing robust passenger railway transit systems.\\nMurray-Tuite and Fei [149] examine the impact of smart attacks on the travel times between origin-destination (O-D) pairs in aroad transportation network.\\n Gedik et al.\\n [90] examine interdiction problems where the network is modeled based on operatingprinciples of coal freight trains.\\nIn terms of other civil infrastructure systems, the work of Jeong et al.\\n [121] focuses on modeling the post-attack operationsof a water infrastructure.\\n Baycik and Sharkey [27] use interdiction to understand the damage done to a set of infrastructureswith dependencies between them.\\n This is based on the work of Baycik et al.\\n [29] that examined interdicting networks wherethere was both an information layer (e.\\ng.\\n, the supervisory control and data acquisition of an infrastructure) and a physical flowlayer (the infrastructure), and disruptions in one could spread to the other.\\n/N −k problemsThe N −k problem seeks to understand whether or not there exists a perturbation that removes up to k arcs from the networkand causes it to fail, that is, its performance drops below a certain level.\\n It contributes to analyzing resilience as robustness bydetermining if the network will be operational should or fewer components be disrupted.\\n Mathematically, the set of perturbationsis defined as \\ue23c = {(N, A′) ∶ A′ ⊆ A such that ∣ A′ ∣≤ k}, that is, we can remove up to k arcs from the network.\\nThis problem has been extensively studied in power grids and is of practical importance since grids are often designed tonot fail in the N −1 setting.\\n The book of Bienstock [33] provides an extensive discussion of how optimization can be used toexamine vulnerabilities of the power grid.\\nFrom an optimization perspective, Bienstock and Verma [34] provide new models and formulations for the N −k problem inpower grids.\\n Schumacher et al.\\n [191] present approaches to address N −k planning problems in the presence of line-switchingthat are capable of solving problems with k = 1, 2 for networks with up to 96 nodes.\\n Sundar et al.\\n [205] consider a version ofthe N −k problem where they seek to find a set of k arcs whose removal has the highest weighted impact, where the weightcorresponds to the probability that those k arcs will fail and the impact measures the loss in performance.\\nWang et al.\\n [213] examine a robust optimization framework for the unit commitment problem under N −k contingency con\\x02straints and provide a decomposition framework that can solve problems with 118 buses (nodes).\\n Kaplunovich and Turitsyn[125] utilize heuristics common in constraint programming to identify critical contingencies for the N −2 problem and theirmethods scale to 300 node networks.\\n Ding et al.\\n [65] and Faghih and Dahleh [74] examine bilevel optimization models that com\\x02pute a N −k contingency plan which maximizes the probability it occurs times its load loss.\\n Kim et al.\\n [127] offer decompositionapproaches to solve more general interdiction problems on power grids than N −k problems, where their work is able to modelpower grid operations using the alternating current (AC) flow equations.\\n Liu et al.\\n [136] propose a simulation-optimizationapproach for the N −1 problem that recognizes that a simulation may need to be run to determine if the system fails when acertain component is removed.\\n/Defender-attacker-defender problemsDefender-attacker-defender (DAD) models are problems that incorporate three stages of sequential decision making: (1)the defender first protects certain network components prior to a perturbation, (2) an attacker selects a feasible pertur\\x02bation to the network in a way that most impacts its performance, and (3) the defender then selects decisions so that thenetwork operates as best as possible after the perturbation.\\n DAD models incorporate resilience as robustness into optimiza\\x02tion models by focusing on preparing the network, pre-perturbation, so that its worst-case performance, post-perturbation,is as good as possible.\\n For example, if the operations of the network seek to maximize flow, then the defender preparesthe network by protecting components as to maximize the minimum max flow across all possible perturbations.\\n Typi\\x02cally, the perturbation set is focused on imposing arc removals in the network that satisfy the attacker’s budget, that is,\\ue23c = {(N, A′) ∶ A′ ⊆ A such that ∑(i,j)∈A′ bij ≤ B} where bij is the cost of removing arc (i, j), although a more general setof constraints could dictate the feasible perturbations.\\n Note that the initial defense decisions can protect an arc from beingdisrupted, that is, (i, j) will be in the network even if (i, j)∈A′in the perturbation (although attacking a protected arc would besuboptimal for the attacker).\\n DAD models build off network interdiction problems by incorporating the protection decisions.\\nBrown et al.\\n [42] discuss the role that DAD models play in defending critical infrastructure and apply a DAD model inprotecting a power network.\\n Alderson et al.\\n [4,5] discuss decomposition schemes for solving DAD models.\\n The DAD frame\\x02work has been applied to several different types of networks including the power grid, transportation systems, supply chains,telecommunications, and interdependent infrastructures.\\n We now discuss some examples in each of these areas; see additionalexamples in Alderson et al.\\n [5].\\nAlguacil et al.\\n [7] examine minimizing load shed in a power grid where the operations are modeled using the DC model.\\nYuan et al.\\n [227] offer a constraint and column generation approach to a similar problem of Alguacil et al.\\n [7].\\n Ding et al.\\n [66]extend the analysis of DAD models for power grids to the situation where there is uncertainty in the impact of the efforts of theattackers.\\n Ouyang and Fang [164] examine not only the immediate performance of the network after the perturbation but alsoon how the network recovers over time for both the DC power grid model and a generic max flow network.\\nAlderson et al.\\n [6] examine highway transportation systems where the operations of the network are based on routing betweenO-D pairs and travel times are nonlinear functions of congestion.\\n Sarhadi et al.\\n [186] offer a decomposition-based heuristic fora DAD model that examines protecting components within a rail-truck multi-modal transportation network.\\nIn terms of supply chains and facility location, Church and Scaparra [57] and Scaparra and Church [188] examine fortifyingq facilities, of p initial facilities, so that the worst-case perturbation of removing r non-fortified facilities is as good as possible,where the inner problem connects a demand point to the closest operational facility.\\n Liberatore et al.\\n [133] examine an exten\\x02sion of the problem where the number of lost facilities (r) is unknown to the defender during the first stage.\\n Bao et al.\\n [24] consider facility location problems in the DAD framework where the defender can protect facilities initially and then determinea combination of customer reassignments and repairs to disrupted facilities to best recover from the perturbation.\\nNicholas and Alderson [156] apply the DAD framework to telecommunications infrastructure by considering the fast designof wireless mesh networks so that they are robust to worst-case jamming attacks.\\nOuyang [163] examines DAD models where the operations involve multiple interdependent networks and the flows in onedepend on the flows in another.\\n For example, if power was out to a substation, then certain components within the water networkwould no longer be available.\\n Ghorbani-Renani et al.\\n [93] examine DAD models for interdependent networks that specificallycapture the rebound process after the perturbation.\\n We refer the reader to the review of Ouyang [162] that discusses modelingapproaches for interdependent infrastructures.\\n Fang and Zio [78] offer an alternative framework to that of Ouyang [163] whichalso involves a tri-level optimization problem but the outer problem focuses on the probabilistic impacts of a natural hazard andthen an adjustable robust optimization problem is examined to capture preparation decisions prior to the actual perturbation.\\n/Robust optimization and networksRobust optimization deals with selecting decisions that perform well across all perturbations within an uncertainty set.\\n Forexample, a very conservative uncertainty set could define the perturbation set as: \\ue23c = {(N, A) with (c + c𝜀, u + u𝜀, b + b𝜀) ∶c𝜀 ∈ [c𝜀min, c𝜀max], u𝜀 ∈ [u𝜀min, u𝜀max], b𝜀 ∈ [b𝜀min, b𝜀max], and ∑i∈Nb𝜀i = 0}where (c, u, b) are the initial parameters of network (N,A).\\n This uncertainty set allows all parameters to change simultaneously which may be overly conservative; the more commonbudgeted framework [32] would only allow a fixed number of parameters (say K) to be different from their initial parameters(i.\\ne.\\n, we only consider perturbations in \\ue23c with K or fewer parameters of the form c𝜀ij, u𝜀ij, and b𝜀i are nonzero).\\nRobust optimization can incorporate resilience as robustness into optimization models by ensuring that decisions madepre-perturbation perform well under all perturbations within the uncertainty set and has been applied to understanding flowsthrough a network and/or in designing networks when there is uncertain data about the network.\\n For example, Bertsimas and Sim[32] examine robust network flow problems including a robust version of the minimum cost flow problem where the uncertaintyset focuses on perturbations of the costs.\\n This problem could be applicable to situations where the flow decisions are difficultto alter and we seek to be robust against changes to the flow cost structure.\\n As another example, Atamturk and Zhang [17]examine robust network design and flow problems where the design decisions are selected prior to demand realization and thenflow decisions can be made as recourse once demand is revealed.\\n This problem falls under the general area of adjustable robustoptimization; see Yan𝚤koglu et al.\\n [226] for a review.\\nIn general, robust network design problems would contribute to studying resilience as robustness.\\n Within Networks, Ordonezand Zhao [160] examine a problem that determines how to expand capacities of a network and route flow along the arcs to berobust to uncertainty about flow costs and supply/demands within the network.\\n This model essentially requires flows to be static(fixed) prior to the uncertainty being revealed.\\n One could consider a problem with fully adjustable flow decisions; however, thismodel may be intractable.\\n Poss and Raack [172] examine robust network design where the flows must follow affine recourse,that is, the flow may be adjusted based on the realized demand in a way that is an affine function of the demand.\\n Aissi andVanderpooten [1] examine bi-objective robust network design problems (with static flow decisions) that consider both cost andquality-of-service within the network.\\nUsing optimization models to analyze resilience as robustnessFundamental network optimization models can be used to analyze resilience as robustness since these models can provideinsights into the post-perturbation performance of the system.\\n For example, the operations of the network may be modeled bysolving a maximum flow problem.\\n In order to understand the expected impact of a stressful event, we can apply a samplingstrategy over the set of perturbations and solve the maximum flow problem for each generated perturbation.\\n It should be notedthat if the number of perturbations is large, then this may not be computationally effective and advanced sampling strategies maybe necessary.\\n In general, the model should be carefully constructed in order to provide the insights into the desired characteristicsof the system and its limitations should be carefully understood [72].\\nFor example, Brown et al.\\n [42] discuss how interdiction and DAD models can be applied to understand the vulnerabilitiesof infrastructure systems, including petroleum reserve supply chains and electric power grids.\\n Alderson et al.\\n [5] provide adetailed overview of how to use DAD models to study infrastructure resilience.\\n This detailed approach includes how to modelthe network operations (the inner problem), the applicability of classic network optimization problems as the inner problem,and how the types of protection options should be modeled for infrastructures including the power grid, highway transportationsystems, and undersea communications systems.\\nThe examples of Brown et al.\\n [42] and Alderson et al.\\n [5] focus on more strategic (long-term) decisions to improve resilience.\\nAlternatively, optimization models can also factor in a combination of short-term preparations and long-term planning toimprove resilience.\\n For example, the work of Bynum et al.\\n [46] and Zhao et al.\\n [229] considers a combination of long-termdecisions (e.\\ng.\\n, transmission system hardening and generator procurement) and short-term decisions (dispatch) to improve theresilience of power networks.\\n/OPTIMIZATION MODELS AND NETWORK REBOUNDIn this section, we focus on network optimization problems that can be applied to analyze resilience as rebound.\\n Resilience asrebound focuses on “bouncing back” or returning network performance to normal (or an acceptable level) after the stressfulevent.\\n Unlike robustness, which emphasizes the design and operation of networks that continue to function in the presenceof stress, rebound focuses on the design and operation of networks that restore function after stress.\\n To achieve this rebound,network performance is restored by updating the properties of the network after the event.\\n This could be accomplished byrepairing damaged components in the network, installing new components into the network, and/or allocating the necessaryresources to provide such services.\\nAfter a stressful event, a network could experience many different types or combinations of impacts.\\n First, the stressful eventcould damage the network topology by causing a subset of the arcs and/or nodes to be either fully or partially non-operational.\\n Aswas indicated in Section 3, without loss of generality, we can focus solely on the operational status of arcs.\\n When arcs are eitheroperational or non-operational, the impact from a stressful event can be modeled by indicating a set A ⊆ A as the subset of arcsthat are initially non-operational.\\n When arcs can be partially non-operational, we can, instead, associate a continuous parameter𝛽ij with arc (i, j)∈A to indicate the level of impact from the stressful event.\\n In this context, 𝛽ij could impact the function of eacharc, through, for example, changes to the arc capacity (i.\\ne.\\n, 𝛽ij ∈(0,1) where the arc capacity is uij𝛽ij) or restoration processingtime (i.\\ne.\\n, 𝛽ij ∈[0, 1] models the impact and where the restoration processing time is (1−𝛽ij)pij).\\nA stressful event could also impact the parameters or resources necessary to operate the network at a normal level.\\n Forexample, the supply at specific nodes could be reduced due to disruptions caused in other interdependent networks.\\n Further\\x02more, the resources (e.\\ng.\\n, humans) could be reduced based on their ability to reach the necessary locations for conducting tasksto operate the network.\\n Additionally, immediately following a stressful event, there is often uncertainty about the operationalstatus of the components of the network which would impact the types of optimization models used for rebound.\\n For example,in rebounding civil infrastructure networks from natural hazards, assessment activities of damage may not be able to be imple\\x02mented immediately after the event to gather necessary information about the status of the network.\\n How a stressful eventimpacts a network often influences what actions are taken to enable it to rebound.\\nWe proceed by first outlining the current network optimization literature that studies resilience as rebound.\\n Next, we outlinehow resilience as rebound can be analyzed through the use of optimization models.\\n We then summarize how this networkoptimization literature has impacted resilience literature outside of the Networks community.\\n/Resilience as rebound in optimization modelsTo date, the most studied aspect of resilience as rebound within our community is network restoration optimization models.\\nTypically, network restoration optimization models seek to update the network topology by selecting a subset Â ⊆ A of thenon-operational components to repair.\\n How the network performance is evaluated influences the selection of the subset Â, or,equivalently, the associated changes to the network topology.\\n We can view the selection of Â as network design decisions.\\n Theseselected network design decisions are often scheduled over time in order to quickly restore the services provided by the networkor, equivalently, have the network “rebound.\\n” Resources are then allocated to implement these network design decisions.\\n Forexample, in infrastructure restoration, work crews can be viewed as resources that are allocated to rebound the network.\\n In aslightly different context, rebound can also be modeled as updating the network parameters and/or resources needed to operatethe network.\\n Specifically, the supply nodes in a network might not be damaged but could generate or require additional supplyamounts (e.\\ng.\\n, if the commodities are patients, new relief supplies).\\nThe effectiveness of network rebound can be measured in many ways.\\n Decision makers could set a service level they areseeking to achieve in their rebound efforts and want to minimize the time needed to meet or exceed it.\\n Rebound could bemeasured as the cumulative weighted network performance over time, where performance is specific to the type of network (e.\\ng.\\n,shortest path values between key locations, maximizing the flow through the network to meet demand).\\n As a single networkis often not the only impacted system after a stressful event, rebound could be measured as services flowing through a set ofnetworks.\\n Lastly, when uncertainty is present, decision makers could seek to maximize the expected performance over differentuncertainty scenarios.\\n/Optimization models with rebound as establishing connectivityRepairing network components to establish or reinstate network connectivity between key nodes in the network is one commonnetwork performance metric.\\n Averbakh [18] and Averbakh and Pereira [20] look to optimize the total recovery time of nodes forproblems with single and multiple servers (i.\\ne.\\n, work crews, construction crews), respectively.\\n A node is recovered when thereis a path between a central depot and the node, which is equivalent to saying connectivity has been established between thenode and the depot.\\n When considering multiple servers, Averbakh [19] seeks to minimize the time the last node is recovered,that is, the makespan required to rebound the network.\\n Averbakh and Pereira [21] seek to minimize the maximum lateness andminimize the number of tardy jobs when each node has a due date for its desired recovery.\\nOther researchers have focused on connectivity between all pairs of nodes.\\n After assigning each pair of nodes a restorationdue date, Averbakh and Pereira [22] look to minimize the maximum lateness of connecting all node pairs.\\n For interested readers,Mattsson and Jenelius [144] review vulnerability and resilience of transportation systems, which often focus on connectivitybetween O-D pairs.\\n Additionally, Çelik [52] provides a review wherein the infrastructure restoration and network construc\\x02tion classifications are most similar to establishing network connectivity.\\n This review also considers the idea of establishingconnectivity in debris clearance, debris collection and disposal, and snow removal.\\nFor applications such as debris clearance, resources (e.\\ng.\\n, work crews) can only move on network components which areconnected to their current location.\\n In this case, the set of arcs available for movement (i.\\ne.\\n, connected) at a particular point intime depends on the set of tasks completed by or before this time.\\n Furthermore, arcs that can be cleared next (to increase theoverall network connectivity) are limited to those currently reachable, that is, only if a path has been established from the currentlocation of the resource to the arc in consideration for clearance.\\n When in a deterministic environment, Ulusan and Ergun [211]route work crews to remove debris in a transportation network.\\n Çelik et al.\\n [53] also route debris removal work crews througha transportation network, but consider that there is an uncertain amount of debris that must be removed on each arc.\\n/Optimization models with rebound as network flow measuresWe now examine literature that uses network flow problems to measure performance in studying resilience as rebound.\\n Thesenetwork flow problems have included the shortest path, max flow, min cost flow, minimum spanning tree, and multi-commodityflow problems.\\n Our focus here is on papers that advance theory or methodology of interest to the Networks community.\\n Thisrebound literature focuses not just on how the network performs at a single point in time, but how the performance changes overtime due to the completion of rebound-focused tasks.\\n Thus, many problems consider aspects of scheduling rebound tasks andthe cumulative performance of a network over time as tasks are completed.\\n Network performance at time t is then based on thenetwork after the stressful event and all tasks completed by time t.\\nIncremental network design problems consider restoring/installing non-operational arcs into a network over time as therebound-focused tasks.\\n In these problems, each non-operational arc takes one period to install and has an installation cost;during each period t there is a budget Bt limiting the total cost of arcs installed.\\n Within this framework, Baxter et al.\\n [26] seekto minimize the cumulative shortest path performance, Engel et al.\\n [73] seek to minimize the cumulative value of the minimumspanning tree, and Kalinowski et al.\\n [124] seek to maximize cumulative flow.\\n Matisziw et al.\\n [142] look to restore networkcomponents to balance the multi-objective problem of maximizing cumulative flow between O-D node pairs and restorationcosts.\\nNurre et al.\\n [159] introduce the class of integrated network design and scheduling problems (INDS) which both selectswhich network components to restore/install and schedules the restoration/installation by assigning the selected arcs to resources(e.\\ng.\\n, work crews) and sequencing the tasks over time.\\n Contrary to incremental network design problems, INDS problems donot assume that each restoration task takes one time period and instead associates a restoration processing time pij to eachnon-operational arc (i, j).\\n In this context, a non-operational arc can represent an arc damaged due to a stressful event or an arcnot from the original pre-event network but one which embodies an element of extensibility, which once installed improves thenetwork’s performance.\\n Nurre et al.\\n [159] select and schedule arcs in an INDS problem to maximize the cumulative maximumflow.\\n Nurre and Sharkey [157] consider a broader range of INDS problems which consider different network performancemetrics.\\n Specifically, Nurre and Sharkey [157] consider maximizing flow, minimizing the average shortest path length betweenO-D pairs, minimizing the maximum shortest path length between O-D pairs, minimizing the cost of a spanning tree, andminimizing the flow cost as network performance metrics.\\n As in prior work, they consider optimizing the cumulative networkperformance but also consider minimizing the time it takes to achieve a desired input network performance value (e.\\ng.\\n, restoring80% of the lost flow).\\nResearch in this area has progressed to not just considering restoring arcs damaged by a stressful event, but installingnew arcs to improve the resulting network performance.\\n Similar to Nurre et al.\\n [159], Fang and Sansavini [75] consider bothrepairing damaged components and installing new components to minimize two objectives: the negative of the maximum flowand the investment cost of system restoration.\\n The authors impose an antifragility constraint where the total cost of restoration (repairing selected damaged components+installing selected new components) must not exceed the total cost to repair alldamaged components.\\nThese types of models have also been applied to specific infrastructure networks, especially the power grid.\\n Arab et al.\\n [12]consider both the uncertainties surrounding mobilizing repair work crews prior to an event and the deterministic recovery of apower network.\\n Tan et al.\\n [207] consider restoration scheduling in the context of a distribution system within the power grid.\\nResearchers also focus on the recovery of the power grid [190] by considering economic impacts [13].\\n In addition, Bao et al.\\n[24] have examined the recovery of facilities as part of a DAD model for protecting facilities (see Section 3.\\n1).\\n/Optimization models with rebound as centering/coverage measuresNext, we focus on rebound papers which consider measures, such as centering or coverage, typically used in location problemsto evaluate network performance.\\n Iloglu and Albert [116,117] seek to minimize the cumulative weighted distance between thelocation of emergency responders and calls for service (at demand nodes) over time.\\n This research considers both repairing thenetwork topology with work crews but also uses an extension to the P-median problem to dynamically relocate the emergencyresponders at nodes over time.\\n Thus, both locations for emergency responders and connections between the established locationsand demand nodes must be established throughout the duration of the problem.\\nArulselvan et al.\\n [14] consider the incremental connected facility location problem which determines facilities to open andassigns customers to open facilities over time in order to minimize total costs.\\n This work ensures that once a customer is assignedto a facility it maintains an assignment to an open facility and that a minimum coverage of customers is met.\\n/Optimization models with rebound for interdependent networksStressful events do not often solely impact a single network, but instead cause stress to multiple networks within an interdepen\\x02dent system.\\n Traditionally in an interdependent system, the state of one network depends on another network [178].\\n Thus, thereis a growing body of knowledge which focuses on quantifying resilience as rebound for systems of interdependent networks.\\nCavdaroglu et al.\\n [51] consider an INDS problem for interdependent networks.\\n The selection and scheduling decisions are madein order to minimize a function of the flow costs, unmet demand costs, and restoration/installation costs.\\n Building on this work,Sharkey et al.\\n [196] incorporate new restoration interdependencies, as defined in Sharkey et al.\\n [197], which link not just theoperations of interdependent networks but also how the restoration efforts across systems are linked.\\n They examine how central\\x02ized and decentralized decision making environments, representing different levels of coordination between networks, impactrestoration.\\n Smith et al.\\n [201] also consider decentralized restoration planning for interdependent networks using a sequentialgame theoretic approach.\\n With an input restoration budget limiting the resources used, González et al.\\n [98] determine which net\\x02work components should be restored for an interdependent system.\\n González et al.\\n [99] examine different recovery operators forinterdependent infrastructure that were created through dynamic models.\\n Goldbeck et al.\\n [95] consider interdependent networkswhere the relationship between network flow and infrastructure assets (e.\\ng.\\n, electric transformers, metro stations) is modeled.\\nThey capture logic dependencies, asset utilization dependencies, resource input dependencies, and also stochastic failure prop\\x02agation dependencies.\\n Loggins et al.\\n [138] have created interdependent restoration models that account for social infrastructurethat rely on civil infrastructure systems.\\n Ghorbani-Renani et al.\\n [93] examine rebound for interdependent networks as the innerproblem within a DAD model.\\n For a comprehensive overview of work related to interdependent networks, we point the readerto Ouyang [162].\\n/Optimization models with rebound under uncertaintyIn order to address the uncertainty associated with the stressful event in resilience as rebound models, researchers have usedtwo-stage stochastic programming, two-stage robust optimization, and online optimization.\\nUsing two-stage robust optimization, Álvarez-Miranda and Pereira [10] consider a traditional network design problem in thefirst stage, and a network construction problem in the second stage.\\n The uncertainty in the system is characterized by the neces\\x02sary construction resources (e.\\ng.\\n, cost, time) for a network design policy.\\n Aslan and Çelik [15] formulate a two-stage stochasticprogram for a multi-echelon humanitarian response network.\\n In the first stage of their model, they determine where to locatewarehouses and preposition relief items.\\n In the second stage, subject to uncertainties in the operational status of distributioncenters, operational status of transportation arcs (e.\\ng.\\n, travel times, repair times), and relief item demand, they determine therestoration of arcs to open transportation routes and the shipment of supplies through these routes.\\n In addition, the papers ofHeath et al.\\n [103], Sanci and Daskin [185], and Fang et al.\\n [76] consider similar two-stage problems where the first stage helpsto design the network and the second stage considers how the network rebounds from the disruptive event.\\n Fang and Sansavini[77] consider how to select and schedule restoration tasks for an infrastructure network when faced with uncertain repair timesand resources.\\n In the first stage, they select which components to repair and in the second stage, they determine which selectedcomponents are scheduled to be repaired over time.\\n These decisions are made to maximize the expected percentage of damagedflow that has been restored.\\nOften uncertainties associated with stressful events are hard to forecast and predict.\\n Online optimization, which reacts to thearrival of new information over time, is one way to overcome this challenge.\\n Nurre and Sharkey [158] consider an INDS problemwhere the time when it is safe to restore/install an arc is uncertain and revealed over time.\\n They create new online optimizationalgorithms which dynamically select arcs to repair/install and schedule them with work crews based on this dynamic arrival ofnew information and benchmark them against a best case deterministic model with all information known.\\n/Using optimization models to analyze resilience as reboundIn addition to incorporating aspects of resilience into optimization models to capture rebound, optimization models can be usedto assess rebound.\\n For example, one could run different what-if scenarios by changing the input network data set, the stressfulevent, and/or the model parameters/resources.\\n The results from these what-if scenarios can then be used to deduce insights abouthow such a model is appropriate for informing resilience as rebound.\\n Miles et al.\\n [147] discuss the importance of modelers (andmodels) in building the community of disaster recovery researchers, which serves as an important opportunity for the Networkscommunity.\\nFor example, analysis can be used to incorporate improvised restoration options in terms of rebound focused activities.\\nFor example, instead of solely looking to repair damaged network components, researchers have considered the installation oftemporary components.\\n After the 2001 World Trade Center (WTC) attack, temporary shunts were used to restore the electricpower network in lower Manhattan [146].\\n These shunts were temporary power lines laid down on city streets and protected bywooden boxes.\\n We can capture such decisions by examining the installation of arcs from the set AI not originally in the network,that is, AI ∩ A = ∅.\\n The foundation of optimization models can also be adapted to incorporate application and infrastructurenetwork specific elements.\\n For example, we could schedule the recovery of a disrupted power network by adapting an INDSproblem [157] to consider the physics of AC or DC power flow.\\n Furthermore, optimization models can be used to quantify theimpacts of different decision making environments, such as pure centralized or decentralized decision making [196].\\n/OPTIMIZATION MODELS AND NETWORK EXTENSIBILITYIn this section, we focus on network optimization to analyze resilience as extensibility.\\n Network extensibility is a dynamic capa\\x02bility to reconfigure and prolong the use of constrained resources to accommodate new operations and survive stressful events.\\nUnlike robustness and rebound, which emphasize the continuation and restoration of existing network function, extensibilityfocuses on creating new network function to exceed predefined operational thresholds or change functional requirements.\\n Inresilience literature, network extensibility refers to models and measures for, “how well systems stretch to handle surprises,”[220].\\n The term surprise is used to describe stressors where network operations and functional requirements may not be knowna priori [72].\\n Methods for analyzing network robustness and rebound are limited for managing surprises because they only con\\x02sider perturbations within the predefined set, p ∈ \\ue23c, or produce results constrained by predefined network structure (G = (N,A)), design options, and objectives.\\n Thus, extensible networks are those designed with the capacity to serve new operationaland functional needs, rather than maintain or restore existing functions.\\nUnderstanding the concept of extensibility requires additional nuance to ways a network may be vulnerable to stress andmight not be resilient.\\n Networks do not exhibitresilience as robustnessif they cannot maintain predefined operational thresholdsduring perturbations, and networks do not exhibit resilience as rebound if they cannot restore function.\\n In contrast, networks donot exhibit resilience as extensibility if network function is so tightly constrained that minor perturbations in resource allocationor functional requirements lead to extreme and cascading losses.\\n To emphasize this fact, Woods [220] introduces the notion of“graceful” extensibility as a play on the software term graceful degradation, emphasizing that extensible systems must be ableto stretch in ways that do not lead to brittle failures.\\n Here, brittle failure refers to the process when networks catastrophicallybreak down as resource and functional requirements push networks beyond their operational thresholds.\\n In the words of Woods[220], “systems with high graceful extensibility have capabilities to anticipate bottlenecks ahead, to learn about the changingshape of disturbances and possess the readiness-to-respond to adjust responses to fit the challenges [82,223,224].\\n” In contrast,networks that are unable to redistribute limited resources, adjust operational thresholds, or serve multiple purposes will likelyexperience brittle failure when surprises require network operations to change.\\nUnlike network resilience as robustness or rebound, the optimization community has put less focus on studies of extensibility.\\nIn the history of the journal Networks, only Pradhan and Meyer [173] ever use the word extensible or extensibility.\\n Despite thisdearth of research, several aspects of optimization models lend themselves to the study of how systems anticipate bottlenecksto stretch and handle surprises.\\n/Network extensibility in optimization modelsA key element of network optimization models that influences extensibility and deserves more research is the model boundary.\\nNetwork resilience through extensibility implies that systems have an operational boundary that can be extended during stressfulevents.\\n However, the operational boundary in network optimization models is often treated as a “hard” limit that cannot beexceeded or altered during analysis.\\n For example, the boundary on an objective function is commonly defined by a block ofalgebraic constraints, for example, Ax≤b, where the operational boundary for a single network element is represented by a subsetof constraints.\\n Despite this common representation, real systems rarely fail to function when operated in infeasible regions thatexceed these thresholds (e.\\ng.\\n, Ax=b+ ϵ).\\n For example, some real networks are operated in this infeasible region during disasters,such as electric power systems increasing powerline capacity and overloading equipment during an impending blackout [128].\\nSystem operators use overloading operations to adapt these and other systems to novel stressors.\\n Rather than assume systemsfail to function once constraints are violated, one goal of network extensibility is to understand how networks stretch beyondtheir stated boundary and continue to function.\\n Network optimization studies that inform resilience as extensibility should aimto understand the costs and benefits of crossing these thresholds.\\n Moreover, if the operational boundary nominally defined bymodel constraints can be exceeded in practice, then identifying the real “hard” operational boundary where the system will failis a non-trivial task (e.\\ng.\\n, understanding how increased power flow on lines will eventually lead to their failure which then, inturn, can lead to cascading blackouts).\\nBoth resilience and network optimization communities use similar language and techniques for assessing the cost of extend\\x02ing system operation beyond expected boundaries.\\n One way resilience research discusses the assessment of extensibility isthrough the analysis of system slack [187].\\n Here, resilience experts discuss slack with respect to the dynamic re-balancing ofcapabilities via resilience processes.\\n The resilience literature discussion on slack is similar to the use of slack variables in net\\x02work optimization to measure the implications of extending beyond a given constraint.\\n In the simplest terms, given an explicitcost function for exceeding a threshold, one can use the slack variables to study extensibility related questions like, “at whatcost would it make sense to violate a constraint, and by how much?”Slack may relate to real network operations via the short- and long-term degradation of network performance when extendingbeyond normal boundaries.\\n Systems commonly studied with robustness and rebound methods often have known surge capacitiesthat enable extended operations during emergencies.\\n For example, power system components like powerlines and transformershave emergency ratings that relax flow limits during blackout operations [128].\\nAn even more dynamic use of slack beyond overloading network components is when part of the system compensatesfor another.\\n This process of compensation can be thought of as network reciprocity, where nodes or links within a systemtake on or redistribute flow to protect other parts of the same or interdependent systems.\\n In practice, compensation has beenidentified in many critical systems, where tradeoffs within and among network operators stretch systems to function in waysthey were not originally intended for [220,221].\\n Effective compensation can increase network boundaries in unanticipated ways,such as compensating for a surge in hospital patients through triage and accessing resources like beds from other parts of thehospital [153].\\n In contrast, these dynamic interactions can also lead to decompensation—when one part of a system consumesthe available slack of another, reducing the overall the ability of the system to adapt.\\n Decompensation is known to be a keycontributor to how adaptive systems fail [222].\\n Network optimization models can make use of shared budget constraints tocapture this ability for compensation (and decompensation).\\nBroader still would be studies that capture the difficulty of changing current operations to enable greater access to slack.\\n Thiscould be studied using techniques for model persistence where changes to model structure that lead to new optimal solutionsare constrained by past optimal solutions that may have already been implemented [41,43].\\n In other words, there are more coststo consider than just the performance degradation from overloading or sharing resources, such as simply the cost of rebalancingsystems to enable extensibility.\\n/Using optimization models to analyze network extensibilityAlthough the language of mathematical optimization already has much of the vocabulary for representing network extensibility,there are several elements that remain largely unaddressed.\\n Here we present potential ways to analyze network extensibilityusing optimization models.\\n/Identifying the “true” network operational boundaryIn optimization models, a boundary condition Ax≤b is often viewed only through the lens of whether it is feasible or not, andthis implicitly assumes that all feasible solutions are equivalent.\\n Resilience as extensibility suggests that these simple notions ofboundary are not sufficient for understanding the adaptive capacity of networks.\\n Instead, the boundary of network operationslies well beyond the constraints built into an optimization model, and this “true” boundary may be unknown in normal practice.\\nImportantly, significant resilience research indicates that the amount of work that a system does to adapt “far away from itsboundary” is very different (and typically much less) than the amount of work that a system does “near its boundary” [221].\\nThat is, a system might have to dedicate more resources (and perhaps reconfigure its operating procedures) to handle events thatstress it as it approaches the boundary condition.\\n A classic example is the emergency department at a hospital for which thereis no sharp boundary on the capacity to treat incoming patients; rather the operations and effort of staff dramatically change asthe load on the system approaches and exceeds its nominal boundary [153].\\nIn some network optimization models, increasing effort near a boundary is represented in terms of a nonlinear functionintended to capture the growing effort or cost on the system as it approaches some implicit constraint.\\n For example, congestionon road systems is known to be highly nonlinear, and as traffic density approaches a practical threshold the traffic speed andthroughput dramatically decrease (see, e.\\ng.\\n, the classic Bureau of Public Roads function for road congestion as implementedfor regional traffic in the San Francisco Bay Area [6]).\\n Indicators of this nonlinear loss of functionality as networks reach theirboundaries are referred to as critical slowing down [62,189] and have been identified in numerous complex systems studied bythe Networks community like power grids [104,105,106].\\n Still, past work considering either slack or critical slowing down islimited to system operations that we have recognized and parameterized a priori.\\n A broader challenge for thinking about networkextensibility is how we address operational boundaries that have not been considered in advance.\\n A first step is understandinghow overloading and compensation reveal new possibilities for network operations during stressful events.\\n Future work needsto build on this to recognize where “true” network operational boundaries exist and how systems work harder to adapt (i.\\ne.\\n,experience nonlinear losses) near operational boundaries.\\n/Network operations when faced with fundamental surpriseThe concept of extensibility further challenges how stressful events are parameterized and modeled to inform network resilience.\\nThe types of events that can stress the network can be divided into two broad classes: (1) events that stress the network ina way that we previously predicted, planned for, or understood and (2) events that stress the network in ways that we neverenvisioned and changes our view on what can potentially happen.\\n The former is often called situational surprise [130] andcan be explicitly considered as either data or stochastic processes that alter network operations.\\n In contrast, the latter is calledfundamental surprise [130,219] and cannot be explicitly considered with current network optimization methods.\\nFundamental surprise challenges the efficacy of existing network optimization methods for capturing aspects of extensi\\x02bility.\\n In general, surprise can be viewed as uncertainty about the decision making environment.\\n Stochastic programming androbust optimization require one to characterize or parameterize uncertainty, which means these methods can only capture situ\\x02ational surprise and cannot consider fundamental surprise.\\n Online methods to adapt optimization models for network operatorsin situ may be more appropriate for uncertainty that cannot be characterized a priori.\\n However, current applications of onlinemethods are unable to capture fundamental surprise.\\n Current applications of online optimization [119] support decision makingwhere the future is unknown but requires a model of the decisions that can be implemented in response to current operations.\\nThis implementation of online optimization assumes the network operators know the appropriate decisions and decision vari\\x02ables prior to a stressful event.\\n Systems dealing with fundamental surprise may also require consideration of new, improviseddecisions and actions that were not known until the stressful event occurs.\\n In both cases, the characterization of uncertaintyor the static nature of online models suggests that current methods for considering surprise are insufficient for resilience asextensibility.\\nTwo brief examples help to illustrate the concept of fundamental surprise.\\n One is the impact of the 2001 WTC attack onthe infrastructure networks of lower Manhattan as there was no prediction or contingency plan for when an entire section ofthe infrastructure network disappeared [146].\\n Another example occurred in October 2017 when Hurricane Ophelia hit Ireland,making it the easternmost Atlantic hurricane; it was completely unexpected that a hurricane could travel like Ophelia and impactWestern Europe, and analytic tools designed to model hurricane winds had to be reconfigured in real time to adapt [72].\\nTypically, networks dealing with situational surprise can be managed by updating the objectives and/or data into our networkmodels.\\n Here, the models that have been built for network resilience can be used in contingency planning for all the types of“surprise” that we can imagine.\\n Some methods developed for situational surprise may also support adaptation to fundamentalsurprise.\\n For example, temporary shunts were used to restore the electric power network in lower Manhattan after the 2001WTC attack [146].\\n These shunts could be prepositioned to a situational surprise (e.\\ng.\\n, thunderstorms) to schedule the recoveryof a disrupted power network (similar to the INDS problems of [157]).\\n Reformulating the same INDS problem could supportthe 2001 WTC response where a new model would need to be quickly created to guide recovery decisions over the “temporary”network.\\n Research is needed to understand how to adapt existing network optimization problems for fundamental surprise.\\nStill, many fundamental surprise events cannot yet be parametrized like situational surprises, suggesting there are numerousexamples of network extensibility that cannot yet be studied.\\n Despite there being no model prior to the 2001 WTC attack orHurricane Ophelia that could predict the events, numerous actions taken in response helped alleviate damages and protect critical systems.\\n Real-world extensibility suggests that there are unexplored models and methods for fundamental surprise in networkoptimization.\\n Importantly, fundamental surprise occurs when optimization models themselves are proven to be inappropriate tonovel stressors and need to change.\\n This phenomenon called model surprise emphasizes that there is limited research within theNetworks and other related optimization communities about how appropriate existing problems are to fundamentally surprisingevents.\\n/OPTIMIZATION MODELS AND NETWORK ADAPTABILITYFinally, we consider the role of network optimization to analyze resilience as adaptability.\\n Network resilience viewed throughthe lens of adaptability deals with the need for networks to manage tradeoffs to build adaptive capacity to continuously evolvingcontexts, often over longer timescales.\\n Sometimes this is also called sustained adaptability because it tends to focus attention onhow a network survives over long-term future uses and contexts.\\n Unlike robustness, rebound, and extensibility that are concernedwith the impacts of stress on a network in a single event (or several events closely related in time), sustained adaptability is lessconcerned with the outcome of a single event, and more concerned with how a network survives many stressful events over itslife-cycle.\\n Thus, sustained adaptability is less focused on network operations and more focused with network design problemsthat consider tradeoffs between robustness, rebound, and extensibility to maximize adaptability into the future.\\n For example,network adaptability must manage tradeoffs between robustness to situational surprise and extensibility to fundamental surprise[70].\\n Network adaptability must also manage tradeoffs between the fast recovery of existing systems and slowing recovery toredesign systems and “bounce back better.\\n”Similar to extensibility, a network might not exhibit resilience as adaptability in at least two ways: (1) not being able tomanage short-term tradeoffs for maintaining, restoring, and extending system structure and function, and (2) not being able tomanage long-term tradeoffs to balance these adaptive capacities into the future.\\n Woods [220] describes at least five challengesthat an adaptable system should be able to manage over its intended life:• challenges to network model boundary conditions as surprises continue to reoccur;• challenges to assumptions about network conditions and contexts of use;• challenges to network adaptability that lead to resource shortfalls and necessary operator compensation to fill the breach;• challenges to network robustness and extensibility, where the factors that produce or erode both forms of resilience willchange; and,• challenges to network definition that question the purpose of the system itself, requiring the system to readjust itsrelationships with respect to interdependent and interacting systems.\\nSimilar to extensibility, sustained adaptability has received less focus from the Networks community.\\n Miller-Hooks [148]studies an algorithm to provide an adaptive route to a destination in a network with stochastic travel times and congestionbased on the arrival time at a particular node.\\n Nemeth and Retvari [154] study an adaptive routing algorithm to control therate at which traffic is sent along paths.\\n Silva et al.\\n [200] consider a robust network design where the first stage determinespotential routing schemes and the second stage selects which one to implement.\\n In general, the Networks community tends tofocus on adaptation in terms of routing in networks.\\n Essentially no studies exist that address the tradeoffs between robustness,rebound, and extensibility and/or address the challenges laid out by Woods [220].\\n Still, several key network concepts and networkoptimization methods provide avenues for advancing research on how to maximize adaptive capacity to an uncertain future.\\n/Network adaptability in optimization modelsA key element of network optimization models that influences sustained adaptability and deserves more research is networkarchitecture.\\n Network resilience as adaptability suggests that there is internal and external architecture that enables survival ofsystem function over long time-scales.\\n Here, architecture is used broadly to refer to the elements that comprise a networkedsystem, including the structure of the system, the rules that govern network operations, the available decisions and decisionvariables, as well as the objectives that dictate system function and model results.\\n Thus, architecture is more than just the con\\x02nectivity pattern of a network, and it ultimately “must facilitate system-level functionality as well as robustness and evolvabilityto uncertainty and change in components, function, and environment” [3].\\nThe Internet is one example of a complex networked system whose architecture has received considerable study, both froma historical perspective [58] and a modern theoretical framework [166].\\n The layered transmission control protocol (TCP/IP)protocol stack, in particular, has received considerable attention from a network optimization perspective.\\n At the transmissionlayer, the combination of the TCP running in the end hosts at the network periphery and active queue management running inrouters within the network interior is now understood to be solving a decentralized primal-dual algorithm for network resourceallocation [139].\\n Moreover, the separation and interaction of functionality across protocol layers can further be understood as aform of optimization decomposition [55].\\n Collectively, this enhanced view has enabled rigorous proofs of the global efficiency,dynamics, and stability of these networking protocols, and has generated new ideas for creating robustness and adaptabilityin design.\\n Similar notions of architecture are prevalent in the study of biology, where the highly-evolved design of naturalsystems display a remarkably parallel organization for managing tradeoffs [60,67], for example, signaling mechanisms in bio\\x02logical organisms (e.\\ng.\\n, neural networks) [60,68].\\n Similar ideas can also be found in rules for command and control systems inlarge-scale organizations like the military [71].\\n Important questions for the Networks community are: What are the architec\\x02tures of systems that produce adaptive networks in the future? What are the design principles to create an adaptive network?,and How can one ensure adaptive network design in the long-term?Advances in identifying adaptive network architectures may be possible with existing scenario analysis for network design.\\nFor example, it is possible to formulate separate optimization problems for the same network that consider robustness towell-modeled stressors, rebound after stressful events, and extensibility to adjust operational boundaries.\\n Subjecting these sys\\x02tems to projected long-term scenarios (via forecasting or backcasting) provides one way to compare the effectiveness of oneform of resilience over another.\\n Results of this comparison may reveal that a given network architecture is better off focusingon robustness, rebound, or extensibility in the near term.\\nMulti-objective programs and novel network optimization methods like multistage stochastic programming also support thedevelopment of new models and tools for network adaptability.\\n Optimization models that can incorporate objectives that con\\x02sider robustness, rebound, and extensibility together may provide further insight on network architecture and resilience tradeoffs.\\nSince network adaptability deals with uncertain future scenarios, network optimization methods like multistage stochastic pro\\x02gramming lend themselves to adaptability questions with known or assumed probabilities for future events.\\n However, sustainedadaptability also deals with optimization over uncertainty sets we cannot characterize a priori.\\n Moreover, the design criteria andobjectives required to ensure robustness, rebound, or extensibility may not be evident, or, more likely, will conflict.\\n This sug\\x02gests that multi-objective, online, robust, and/or stochastic approaches will be necessary, but potentially untenable for a normalnetwork life-cycle.\\n Advances in methods that relate different perspectives on resilience and/or consider uncertainty sets into thefar future would support models that reveal adaptive network architectures.\\n/Using optimization models to analyze network adaptabilityScenario-based analysis and multi-objective or multistage stochastic programs may reveal network architecture that is resilientover long time-scales.\\n However, there are open issues that inhibit the implementation of these methods to generate resilientarchitectures.\\n/Defining objectives to resolve network adaptability problemsTo compare scenarios, one first requires a means to balance different forms of adaptive capacity.\\n There is limited work withinthe resilience research community to draw on that provides a mathematical and computational basis to formulate an objectivethat balances simultaneous needs for robustness, rebound, and extensibility.\\n Recent advances in theory propose the notion ofnet adaptive value as a goal for adaptability in the long term [221].\\n Net adaptive value draws on biological and neurologicalliterature where adaptive value refers to advantage in fitness gained when an organism adapts to its environment [40].\\n A modelobjective centered on net adaptive value would seek to maximize adaptive value over the lifespan or multiple epochs that anetwork may exist.\\n Still, besides neurological and biological research showing the existence of adaptive value tradeoffs, there isessentially no work organizing these tradeoffs in networked systems.\\n Moreover, there is even less work framing these tradeoffsthrough the lens of robustness, rebound, and extensibility.\\n Research is needed to determine how to formulate objectives thatcapture the goals of sustained adaptability.\\nAn equally difficult problem to formulating a proper objective function is defining the planning horizon for network adapt\\x02ability models.\\n The need to sustain adaptability implies that net adaptive value must be maximized in the long term through aparticular mix of robustness, rebound, and extensibility.\\n However, the short-term effects of stressors means adaptability mayonly be realized in the short term.\\n What defines long- and short-term analyses is poorly understood for many network optimiza\\x02tion problems.\\n Generally, many real-world networks have particular time frames for which they are designed, for example, civilinfrastructure designed for a 30 to 60-year operational life, or established planning horizons, for example, 10 years for the elec\\x02tric power industry.\\n However, these time horizons for analysis may be inappropriate as infrastructure is recommissioned and/orused well beyond its intended operational life.\\n Tradeoffs among resilience capacities may reveal that maximizing net adaptivevalue for one time horizon (e.\\ng.\\n, 30 years) may be very sensitive to minor changes (e.\\ng.\\n, 31 years).\\n Importantly, the combina\\x02tion of network resilience capacities for one time horizon may be prone to failure in another by increasing network fragility,overemphasizing fast recovery of outdated systems, and promoting decompensation.\\n/Knowing if, when, and how to switch from one form of resilience to anotherConfounding the analysis of sustained adaptability is the fact that short-term stressful events do change systems in ways that willimpact long-term tradeoffs.\\n While robustness, rebound, and extensibility achieve resilience in different ways, the effectivenessof one approach influences the effectiveness of another.\\n For example, consider a network that seeks to meet the demands withinit during “normal” operations.\\n This situation implicitly assumes that the network has the capacity to meet its demands and is,therefore, seeking to minimize costs under a set of constraints (e.\\ng.\\n, flow-balance and arc capacity constraints).\\n If a disruptiveevent causes damage to supply nodes and/or arcs within the network, it may no longer be possible for the network to meet alldemand.\\n Therefore, the objective of the network may then switch to meeting as much demand as possible after the disruptiveevent which could be modeled as a maximum flow problem.\\n After such an event, we may seek to make decisions to restoredisrupted flow within the network until all demand can then be met.\\n At this point, we may then switch and seek to makerestoration decisions to reduce the cost of meeting demand.\\nDetermining how this switching occurs can influence recommendations for sustained adaptability.\\n In some cases, it is notnecessary for the underlying model of network operations to change to consider different aspects of resilience.\\n For example, atransportation network may have steady-state O-D pairs and the model for normal operations may be to understand the averagetravel times within the network.\\n If a hurricane (or other forecastable event) were to impact the area of this network, then theO-D pairs may now reflect those of an emergency evacuation but we would still be interested in knowing the travel times withinthe network.\\n In this case, the input into the network model would need to be switched between normal and stressful operations.\\nSimilarly, choice of input parameters and model objectives may need to switch to assess robustness, rebound, and extensibility.\\nBecause robustness, rebound, and extensibility all deal with travel times, it is feasible to imagine that the underlying modelwould not need to change to determine adaptability tradeoffs between aspects of resilience.\\nHowever, in other cases the model framing may need to change to switch between approaches to resilience.\\n Here, switchingis not simply altering a model input or objective, it relates to a network operator’s ability to reflect on current situations andimprovise new ways to respond to stressors.\\n Thus, an important aspect of sustained adaptability is how network operators andmodel developers influence the switching process.\\n Assessing this process requires a better understanding of how the peopleembedded in networked systems respond and adapt to stress.\\n Knowing if, when, and how to switch from one form of resilienceto another is confounded by not just the output of multiple conflicting models, but by the ways people use and develop them inimprovised ways.\\n/NETWORK OPTIMIZATION AND RESILIENCE, REVISITEDThe development and application of network optimization models and algorithms can provide a critical perspective on theresilience of systems.\\n In practice, the resilience of real-world networks depends on both the construction and analysis of theoptimization model itself and how decision makers interact with it [72].\\n Within the Networks research community, we identifythree practical ways network optimization advances knowledge of resilience: (1) building aspects of resilience into a networkoptimization model; (2) using network optimization models to study the resilience of a system; and (3) adaptation by users ofoptimization models for resilience.\\n This is a progression that moves from a focus on the model, to the use of the model, to theuser of the model.\\nBuilding aspects of resilience into an optimization model: The explicit output(s) from solving an optimization model caninform assessments of network resilience.\\n Here, the optimization model itself must be structured to answer a specific resiliencequestion.\\n Often this requires one to consider network disruptions, measures of network performance, operational constraints,and desired resilience capabilities and capacities.\\n Questions relevant to the development of an optimization model capable ofimproving network resilience include:a.\\n What are potential events or disruptions that stress the network?b.\\n What are the physics or dynamics governing network performance? How will network performance be measured before,during, and/or after an event?c.\\n What decisions are available to adapt the network before, during, and/or after an event?d.\\n What constrains these decisions to adapt?e.\\n What are the resilience objectives for the network? What criteria define optimality?This last question is of particular importance because many researchers working in the area of resilience engineering usethe term “optimization” as a synonym with the drive for “faster, better, and cheaper” solutions to operational problems thatoften lead to brittle systems.\\n Just as we are deliberate in pointing out to optimization researchers that resilience is more than justrobustness or rebound, we also want to make the point that the use of optimization models does not necessarily imply a drivefor efficiency.\\n It is possible to make some measure of resilience the explicit objective of an optimization model, or to use theoptimization model in novel ways.\\nUsing optimization models to analyze aspects of resilience: The innovative use of optimization models and/or the analysis ofmodel output(s) can provide further insight on how to improve network resilience.\\n Here, the focus is not on model formulation,but rather insight gained from using established models to answer what-if questions by including new input data represent\\x02ing new scenarios, changes in constraints, or changes in objectives.\\n Questions relevant for the selection and use of existingoptimization models for improving network resilience include:a.\\n How would network resilience be informed by parametric analysis and what-if scenarios?b.\\n What are the appropriate use cases for the optimization model? What are their limitations?It is important to note that one can use optimization models that do not have an aspect of resilience built into them toanalyze aspects of resilience.\\n For example, one could enumerate all possible stressful events (let i index the stressful event andGi represent the resulting network) and solve for f(Gi) for each one of them to understand the potential impacts of the stressfulevent.\\n This simply would require using the network optimization problem that captures f(Gi).\\n As another example, one couldsolve an interdiction problem to understand the worst-case scenario in terms of the performance of the network across a set ofpotential disruptions.\\n In both these examples, we are using optimization models to quantify or improve an aspect of resilience.\\nAdaptation by users of optimization models to provide resilience: Because optimization models are ultimately meant toinform real network operations, the ease with which decision makers implement, update, or abandon models further influenceshow optimization can improve network resilience.\\n A major theme of the resilience engineering literature over the last 20 years isthat the humans embedded in networked systems (not models or algorithms) are primary enablers of resilience.\\n This is possiblebecause humans can reframe a problem in the presence of surprise and update or abandon a model when it becomes inappropriatefor the problem at hand [72,110,111,218,219].\\n Thus, how well a model enables its “user” to adapt the decision making processis equally as important as the model formulation and parametric analysis.\\n Questions relevant to the use of optimization modelsin this context include:a.\\n How do model users know what aspect of network resilience the model output(s) and/or analysis is meant to improve?b.\\n How does the user interact with model output(s) and/or analysis to respond to network events or disruptions?c.\\n How does the user know the appropriate real-world context for the model output(s) and/or analysis? How does the userrecognize an inappropriate use of model output(s) and/or analysis?d.\\n How can the user know when to ignore, switch, change, modify, or abandon model output(s) and/or analysis for one moreappropriate to the current context?e.\\n How easy it is to implement, or change, or abandon the model, and what are the implications for the underlying decisionprocesses? What recourse is available when the model becomes stale?The ultimate goal is to make optimization models accessible, usable, and adaptable in a variety of different contexts, pro\\x02cesses, and systems.\\n For a detailed discussion of the way optimization modelers and users can adapt in the presence of surprise,see Eisenberg et al.\\n [72].\\nThe Networks community has established the importance of its work in a variety of contexts, processes, and systemssurrounding resilience.\\n To highlight this importance, we provide a retrospective analysis of the references in this paper inSection 7.\\n1.\\n We then look to the future in Section 7.\\n2 by discussing how, in our opinion, the Networks community can expandits impact in resilience by tackling problems related to extensibility and adaptability.\\n/A retrospective view: impact of the Networks community on resilience conceptsIn this section, we analyze the impact that the Networks community has had with respect to resilience.\\n This impact can be seenby where papers citing the discussed references in this paper are being published.\\n Therefore, we analyze the types of subjectcategoriesfrom the Web of Science (WoS) (originally produced by the Institute for Scientific Information) where these citationsappear.\\n We do so for all papers referenced in Section 3, Section 4, and those referenced published in Networks.\\nIn each of these three areas, each citing article counts once (i.\\ne.\\n, it is not weighted by the number of papers it cites from thearea) in the total counts for a particular journal it appears in.\\n However, note that the journal it is published in may appear inmultiple categories, so the count for the journal would be added to each subject category.\\n We will point out that these subjectcategory classifications may not be perfect but given the prevalence of WoS are sufficient for purposes of this analysis.\\n Thedata for citations was collected on May 15, 2020.\\n Our analysis examines a total of 133 referenced articles for the analysis ofSection 3 yielding 4783 citing articles, 42 referenced articles for the analysis of Section 4 yielding 1508 citing articles, and 53referenced articles for the Networks analysis yielding 742 citing articles.\\nTables 1 to 3 provide the top 20 categories of citations for references in Section 3, Section 4, and in papers published inNetworks referenced in Sections 3 and 4, respectively.\\n In the remainder of this analysis, we refer to these areas as robustness,rebound, and Networks.\\n Table 4 provides a comparative summary of each category that appears in the top 20 for at least one ofrobustness, rebound, and Networks and provides the ranking of each category across these areas.\\nAs expected, Operations Research & Management Science is the highest ranking category in all three tables.\\n Electrical& Electronic Engineering is also highly ranked (second, second, third) across robustness, rebound, and Networks.\\n This indi\\x02cates that the work done by the Networks community is impacting research into power grid resilience.\\n The categories of Civil Engineering, Transportation, and Transportation Science & Technology also all appear in the top 20 for robustness, rebound,and Networks indicating that the Networks community is impacting research into resilience of civil infrastructure, especiallytransportation systems.\\n Telecommunications appears in the top 20 for all three areas and in the top 10 for Networks, which isto be expected given the number of special issues published by Networks on resilient telecommunications systems.\\n IndustrialEngineering appears in the top 10 for all three areas and Management appears in the top 10 for robustness and Networks.\\n Thisdemonstrates the impact of these areas on supply chain and business resilience.\\n The data also show the reach of the Networkscommunity in a broad range of non-traditional categories including Environmental Sciences, Green & Sustainable Science &Technology, Water Resources, and Multidisciplinary Sciences.\\n When examining these categories, we observe impacts in wildlifeconservation research, hazard risk and mitigation modeling, electric vehicles, urban water design, and renewable energy.\\nIn terms of examining the uniqueness of Networks for these categories, Applied Mathematics ranks second in Table 3 andother mathematical categories appear in the top 20.\\n There are also six different categories associated with Computer Sciencethat appear in the Networks top 20.\\n Note that the high ranking of Computer Science, Hardware & Architecture in Table 3 comesfrom Networks own classification in this category.\\n The appearance of the mathematical and computer science categories speaksto the reputation of Networks across these areas.\\n It is also interesting to observe that there is much more overlap in the top 20of Networks and robustness than Networks and rebound.\\n We believe this comes from the fact that robustness has more researchto date and that Networks has established its presence in the communities that are applying optimization to study robustness oftheir physical systems.\\nIt is clear from comparing Table 1 with Table 2 that resilience as robustness has significantly more research surrounding itto date.\\n This fact arises because optimization approaches for resilience as rebound is a relatively recent development: with theexception of a reference helping to introduce the concept of interdependencies, the earliest referenced paper in Section 4 is in2010 [142].\\n No papers referenced in Section 4 appeared in 2011 and only three papers in 2012 [18,20,159].\\n Figure 1 analyzesthe trend in citations for robustness and rebound.\\n In both cases, rapid growth in the number of citations occurred starting in2013.\\n In particular, robustness citations grew from 208 in 2013 to 771 in 2019 and rebound citations from 56 to 281.\\n Part of thisgrowth is a function of the number of papers analyzed.\\n In Figure 2, we normalize the data by presenting the number of citationsin year divided by the total number of papers published before or during year t (i.\\ne.\\n, the cumulative number of papers published)which all could have contributed to the citations for that year.\\n With this metric, we observe a spike for rebound in 2009 whichcorresponds to the emergence of the field as a small number of papers led to the growth of many future papers.\\n The trend forrebound appears to level out to an impact value consistent with robustness.\\n Furthermore, in terms of overall comparison, thereare 133 referenced articles for robustness and 4783 citing articles, for a ratio of citing articles to references of 35.\\n96.\\n This iscompared to 42 referenced articles for rebound and 1508 citing articles, for a ratio of 35.\\n90.\\n Therefore, the normalized impactof the papers produced by the network optimization community influencing robustness and rebound is almost identical.\\nFigure 3 presents a similar analysis for the Networks references.\\n Although impressive growth still occurred from 36 citationsin 2013 to 83 citations in 2019, there is room for the journal to be part of a larger dialogue on resilience.\\n We now transition toa prospective view on how we believe this may be accomplished.\\n/A prospective view: resilience concepts that require greater consideration by the NetworkscommunityRobustness and rebound are two resilience concepts that are most commonly studied by the Networks community, but they donot capture all aspects of network resilience.\\n Robustness and rebound are important because they characterize how systemsperform immediately before or after a stressful event.\\n However, they tend to focus only on what happened as opposed to whatwas done.\\n That is, robustness and rebound optimization problems focus on resilient outcomes, such as limiting impacts to currentoperations or speeding up recovery, but do not provide knowledge about the processes that are present to govern such behavior.\\nUnderstanding the processes that govern resilience in addition to measuring resilient outcomes is important because there isa longstanding opinion in the resilience research community, that, “resilience is not just about what you have, it’s what youdo” [72].\\nExtensibility and sustained adaptability focus attention on the processes that govern how well a network will adapt to currentand future stress.\\n Extensibility and adaptability focus on managing interconnected resources as systems change or as the effectsof a stressful event are materializing.\\n The goal of extensibility and sustained adaptability is to maximize the adaptive capacity ofa network, which differs from robustness and rebound approaches to minimize the negative impacts of stress.\\n Thus, extensibilityand adaptability are more about the process and are concepts that focus less on outcomes and more on capabilities (sometimesreferred to as capacity to maneuver [221]).\\nResilience processes that underlie extensibility and sustained adaptability have been defined in a number of ways acrossthe literature [170,177], but generally refer to four interrelated activities that enable adaptive capacity.\\n For example, Boyd [39]introduced the observe-orient-decide-act loop to characterize the ability of a pilot to gain advantage in combat by adaptingfaster than an adversary [161].\\n Hollnagel [109] re-characterizes these processes as monitoring-responding-learning-anticipatingto emphasize the need for learning new ways to anticipate future events.\\n Park et al.\\n [168] operationalize these processes fornetworked systems using the terms sensing-anticipating-adapting-learning.\\n Seager et al.\\n [192], Eisenberg et al.\\n [71], and Thomaset al.\\n [209] advance these perspectives with greater definition and integration:Observing/orienting/monitoring/sensing: the process of acquiring, apprehending, or accessing information about networkoperational states and conditions;Deciding/anticipating: the process of using existing or new models to interpret sensed information and decide a courseof action;• Acting/responding/adapting: the process of taking actions to change network structure or function in response to stress;and• Learning: the process of updating and revising sensing, anticipating, and adapting processes to changing conditions.\\nThese processes are not traditionally considered by the Networks community.\\n However, they could be.\\n Solving optimiza\\x02tion problems for robustness and rebound that overlook these processes cannot provide new knowledge or decision support toimprove extensibility or sustain adaptability.\\n Importantly, a focus on resilience processes emphasizes the role of the individualswho create and use network optimization models to adapt in addition to the models themselves.\\n For example, significant researchshows that there are tradeoffs between perspectives on resilience, such as increasing robustness to particular stressors producesbrittle networks that lack adaptive capacity [49,69].\\n How model developers and users interpret and implement these resiliencegoals provides information about resilience processes.\\n Many of the modeling techniques used by the Networks community couldbe applied to these concepts.\\n In Section 8, we articulate several opportunities for contributions.\\n/IN SEARCH OF NETWORK RESILIENCE: A RESEARCH AGENDA FORTHE NETWORKS COMMUNITYAdvances in network optimization championed by the journal Networks over the last 50 years coincide with similar effortsto understand and apply concepts of resilience.\\n The journal has helped establish a vibrant community of researchers that hasmade significant contributions to the resilience literature.\\n In particular, the Networks community has created and analyzedmany network optimization problems that help address aspects of resilience.\\n At the same time, advances made by the resiliencecommunity over its 50 years inform the themes that the Networks community should be building into our optimization problemsin the future.\\nThere is no single agreed upon definition of resilience, but several aspects of resilient systems inform network optimizationresearch.\\n There are at least four ways networks demonstrate resilience: robustness, rebound, extensibility, and adaptability.\\nNetwork robustness and rebound emphasize desired resilience outcomes for networked systems via limiting the impacts ofstressful events and speeding up recovery from losses.\\n Network extensibility and adaptability emphasize improving resilienceprocesses to maximize adaptive capacity to unforeseen stressors and uncertain futures.\\n Together, resilience is not just about thenetwork itself (i.\\ne.\\n, what you have) but what decision makers do in response to a stressful event.\\n These fundamental differencesbetween robustness, rebound, extensibility, and adaptability emphasize that there is no “uber model” that offers support forall aspects of resilience simultaneously.\\n They also emphasize that it does not make sense to “optimize resilience”—we canoptimize an aspect of resilience or analyze tradeoffs between aspects within the models and analysis conducted by the Networkscommunity, but not all aspects simultaneously.\\nNetwork optimization models can be used to address each of the four concepts of resilience.\\n To date, the literature producedby the Networks community has been dominated by work addressing robustness and rebound.\\n The research agenda for ourcommunity going forward should seek to address key challenges that will enable continued contributions to robustness andrebound and new contributions to extensibility and adaptability.\\n These challenges include:• Capturing the boundary of network operations: A focus on the level of network performance (e.\\ng.\\n, current maximumflow) does not provide an understanding of how hard the network is working to deliver that performance.\\n Moreover, theboundaries embedded in network models that define model feasibility are not often the “true” boundaries on networkoperations.\\n An understanding of how close the network is to its “true” boundary where performance degrades and thesystem will fail is necessary to study its extensibility.\\n An improved understanding of boundary could also provide analternative understanding of robustness.\\n Knowing how hard the network is working to operate provides a new referencepoint to measure the impacts of stressful events.\\n Furthermore, by understanding the boundary, we can capture whererebound activities are essential to restore network performance.\\n• Methods to better handle “unknown” uncertainty that surprise parameters, decisions, and constraints: Methodsto model or handle uncertainty are critical when characterizing the surprise from stressful events.\\n Research can be under\\x02taken to examine rebound from events where there is uncertain information about the impact of the stressful event.\\n Acritical future research direction for the Networks community is on modeling uncertainty with regard to the types of deci\\x02sions and constraints that arise after situational and fundamental surprises.\\n While classic methods to handle decisionmaking under uncertainty (e.\\ng.\\n, stochastic programming, robust optimization, or online optimization) can handle param\\x02eter uncertainty, it is less clear how to model uncertainty when it impacts the types of decisions that can be implemented.\\nIf research is conducted in this area, it will help to address how networks handle fundamental surprise.\\nRevealing the implications of network architecture: Despite the importance of architecture in networks, like the inter\\x02net, there is limited work within the network optimization community studying the implications of architecture onresilience.\\n Important research directions should include an understanding of how architecture optimized for one aspectof resilience influences another.\\n For example, how do interpretations of fast recovery or extensibility change for robustor brittle networks? Similar questions can be asked of networks optimized for rebound and extensibility.\\n• Problems balancing tradeoffs among multiple aspects of resilience: Research has begun to incorporate multipleaspects of resilience into the same problem; for example, we can examine network robustness by measuring reboundafter stressful events.\\n There are many important directions in this area since network adaptability must be sustained inthe short- and long-term.\\n Identifying and managing the tradeoffs between robustness, rebound, and extensibility is essen\\x02tial for adaptability.\\n Another important direction is on problems that examine the tradeoff between immediate reboundand implementing recovery decisions that improve robustness and/or extensibility for future stressful events, therebyembodying sustained adaptability.\\n• Models and/or methods that enable improvisation: Models that capture a network’s ability to improvise its operationsbased on the current state of the world would help to address aspects related to extensibility and adaptability.\\n Methodsthat enable network operators and modelers to improvise new, reformulated, optimization models would also overcomeissues with fundamental surprise.\\n Future research directions should seemlessly inform network operators to implementimprovised decisions while modelers reformulate and validate new models directly related to fundamental surprise.\\n• Methods for model switching: The types of optimization problems that impact an aspect of resilience are part of thetoolbox available to network operators.\\n Methods that can formalize when an operator can and should switch the problembeing applied to resilience is valuable in practice.\\n This process of switching also has implications for long-term networkadaptability.\\n An important area of research is examining the current state of network optimization models and their use todetermine whether these models are fit for purpose.\\n Determining if, when, and how to switch models will help establishhow to best employ the current toolbox of resilience methods.\\n Furthermore, research should examine how to determinewhen parts of the toolbox fit or if, instead, new optimization problems, models, and methods should be developed.\\nUltimately, the use of network optimization to address these challenges must remain pragmatic because resilience is not justabout the model.\\n Future work must frame the importance of new models and methods alongside the modelers and the operatorswho will use them.\\n All will have to work together to achieve resilience in the presence of future stress.\\n'"
            ]
          },
          "execution_count": 139,
          "metadata": {},
          "output_type": "execute_result"
        }
      ],
      "source": [
        "text"
      ]
    },
    {
      "cell_type": "code",
      "execution_count": null,
      "metadata": {
        "colab": {
          "base_uri": "https://localhost:8080/",
          "height": 38
        },
        "id": "lrLa2VIXXSsT",
        "outputId": "e7251f21-2356-43d7-dd04-f07338932773"
      },
      "outputs": [
        {
          "data": {
            "application/vnd.google.colaboratory.intrinsic+json": {
              "type": "string"
            },
            "text/plain": [
              "'A'"
            ]
          },
          "execution_count": 112,
          "metadata": {},
          "output_type": "execute_result"
        }
      ],
      "source": [
        "p = text.split(\"/\")[0]\n",
        "# p.replace(\" ' \",\"\")\n",
        "p"
      ]
    },
    {
      "cell_type": "code",
      "execution_count": null,
      "metadata": {
        "id": "p5wcSm2MYPHC"
      },
      "outputs": [],
      "source": [
        "for i in range(l):\n",
        "  p = text.split(\"/\")[i]\n",
        "  # p.replace(\" ' \",\"\")\n",
        "  p\n",
        "  def savefile():\n",
        "    name = text[0:35].replace(\" \",\"_\")\n",
        "    # text = \n",
        "\n",
        "    tts = gtts.gTTS(p,slow=False,tld=\"co.uk\")\n",
        "    tts.save(f\"/content/drive/MyDrive/Untitl/{name}.mp3\")\n",
        "\n",
        "  savefile()"
      ]
    },
    {
      "cell_type": "code",
      "execution_count": null,
      "metadata": {
        "colab": {
          "base_uri": "https://localhost:8080/"
        },
        "id": "Lo2ZMM9WQNMV",
        "outputId": "6c4e53c3-9751-4095-b117-9963c58d9743"
      },
      "outputs": [
        {
          "name": "stdout",
          "output_type": "stream",
          "text": [
            "114553\n",
            "113610\n",
            "113610\n",
            "114470\n"
          ]
        }
      ],
      "source": [
        "# text preprocessing\n",
        "print(len(text))\n",
        "text=text.replace(\"\\n\", \"\")\n",
        "print(len(text))\n",
        "text=text.replace(\"     \", \" \")\n",
        "print(len(text))\n",
        "text=text.replace(\"    \", \" \")\n",
        "text=text.replace(\"   \", \" \")\n",
        "text=text.replace(\"  \", \" \")\n",
        "text=text.replace(\" \", \" \")\n",
        "text=text.replace(\".\", \".\\n\")\n",
        "# text=text.replace(\"\\n\", \"\")\n",
        "print(len(text))\n",
        "# text=text.replace(\"i.\\ne.\\n\", \"ie.\")\n",
        "# text=text.replace(\"Fig.\\n\", \".fig.\")\n",
        "# text"
      ]
    },
    {
      "cell_type": "code",
      "execution_count": null,
      "metadata": {
        "id": "FgyLcM6HxTW8"
      },
      "outputs": [],
      "source": [
        "# text to audio using threads\n",
        "import threading\n",
        "import gtts\n",
        "def savefile():\n",
        "  name = text[0:35].replace(\" \",\"_\")\n",
        "  # text = \n",
        "\n",
        "  tts = gtts.gTTS(p,slow=False,tld=\"co.uk\")\n",
        "  tts.save(f\"/content/drive/MyDrive/Untitl/{name}.mp3\")\n",
        "\n",
        "t5 = threading.Thread(target=savefile)\n",
        "t5.start()\n",
        "# savefile()"
      ]
    }
  ],
  "metadata": {
    "colab": {
      "collapsed_sections": [],
      "name": "youwilly1.ipynb",
      "provenance": [],
      "mount_file_id": "1u5kDfMgFuT0Q9XLDHLFG7ptu4e8Mqcso",
      "authorship_tag": "ABX9TyOgcYWvdkj+b1dz5AT+9tSb",
      "include_colab_link": true
    },
    "kernelspec": {
      "display_name": "Python 3",
      "name": "python3"
    },
    "language_info": {
      "name": "python"
    }
  },
  "nbformat": 4,
  "nbformat_minor": 0
}