{
  "nbformat": 4,
  "nbformat_minor": 0,
  "metadata": {
    "colab": {
      "name": "graph_thesis.ipynb",
      "provenance": [],
      "collapsed_sections": [],
      "authorship_tag": "ABX9TyPhvpteH5E81mCWJmbAi2xX",
      "include_colab_link": true
    },
    "kernelspec": {
      "name": "python3",
      "display_name": "Python 3"
    },
    "language_info": {
      "name": "python"
    }
  },
  "cells": [
    {
      "cell_type": "markdown",
      "metadata": {
        "id": "view-in-github",
        "colab_type": "text"
      },
      "source": [
        "<a href=\"https://colab.research.google.com/github/rizzaesh/Learning-tools/blob/main/graph_thesis.ipynb\" target=\"_parent\"><img src=\"https://colab.research.google.com/assets/colab-badge.svg\" alt=\"Open In Colab\"/></a>"
      ]
    },
    {
      "cell_type": "code",
      "source": [
        "!echo \"deb http://downloads.skewed.de/apt bionic main\" >> /etc/apt/sources.list\n",
        "!apt-key adv --keyserver keyserver.ubuntu.com --recv-key 612DEFB798507F25\n",
        "!apt-get update\n",
        "!apt-get install python3-graph-tool python3-matplotlib python3-cairo"
      ],
      "metadata": {
        "id": "NQOC7gfxCKI2"
      },
      "execution_count": null,
      "outputs": []
    },
    {
      "cell_type": "code",
      "source": [
        "#python3-cairo from Ubuntu's reposity is linked with a different python version; we need to improvise\n",
        "!apt purge python3-cairo\n",
        "!apt install libcairo2-dev pkg-config python3-dev\n",
        "!pip install --force-reinstall pycairo"
      ],
      "metadata": {
        "id": "HuI_ar_a6lGk"
      },
      "execution_count": null,
      "outputs": []
    },
    {
      "cell_type": "code",
      "source": [
        "from graph_tool.all import *"
      ],
      "metadata": {
        "id": "CzL0iNAH-rWf"
      },
      "execution_count": 4,
      "outputs": []
    },
    {
      "cell_type": "code",
      "execution_count": 6,
      "metadata": {
        "colab": {
          "base_uri": "https://localhost:8080/"
        },
        "id": "Ro8nClzy41db",
        "outputId": "7e1f7259-7ab6-4169-9732-878bc5c01eef"
      },
      "outputs": [
        {
          "output_type": "stream",
          "name": "stdout",
          "text": [
            "<Graph object, directed, with 8 vertices and 2 edges, at 0x7f7b21a3f610>\n"
          ]
        }
      ],
      "source": [
        "\n",
        "\n",
        "# create a graph with four nodes and two edges\n",
        "g = Graph(directed=True)\n",
        "g.add_edge(1, 2)\n",
        "g.add_edge(2, 3)\n",
        "g.add_vertex(4)\n",
        "print(g)\n",
        "\n",
        "# # find the all shortest paths from vertex 1\n",
        "# dist, prev = g.dijkstra(1)\n",
        "# print(dist)\n",
        "\n",
        "# # generate BA graph with 100 vertices\n",
        "# g = Graph(directed=False).create_graph('barabasi', 100)\n",
        "\n",
        "# # check if all vertices are mutually connected\n",
        "# print(g.is_connected())\n",
        "\n",
        "# # compute the betweenness centrality of vertex 1\n",
        "# print(g.betweenness(1))"
      ]
    },
    {
      "cell_type": "code",
      "source": [
        "g = Graph(directed=False)"
      ],
      "metadata": {
        "id": "kb6L7En37W_A"
      },
      "execution_count": 14,
      "outputs": []
    },
    {
      "cell_type": "code",
      "source": [
        "ug = Graph(directed=False)\n",
        "ug"
      ],
      "metadata": {
        "colab": {
          "base_uri": "https://localhost:8080/"
        },
        "id": "9ug9Fnrc8FtZ",
        "outputId": "bc8acb8e-2864-4c98-d9ae-0fd976605f08"
      },
      "execution_count": 8,
      "outputs": [
        {
          "output_type": "execute_result",
          "data": {
            "text/plain": [
              "<Graph object, undirected, with 0 vertices and 0 edges, at 0x7f7b21a40790>"
            ]
          },
          "metadata": {},
          "execution_count": 8
        }
      ]
    },
    {
      "cell_type": "code",
      "source": [
        "v1 = g.add_vertex\n",
        "v2 = g.add_vertex"
      ],
      "metadata": {
        "id": "pFjNKs5y8LeH"
      },
      "execution_count": 15,
      "outputs": []
    },
    {
      "cell_type": "code",
      "source": [
        "v1 = g.add_vertex()\n",
        "v2 = g.add_vertex()"
      ],
      "metadata": {
        "id": "wCKX4y3L7i0z"
      },
      "execution_count": 16,
      "outputs": []
    },
    {
      "cell_type": "code",
      "source": [
        "e = g.add_edge(v1,v2)"
      ],
      "metadata": {
        "id": "opH_-luD8zOr"
      },
      "execution_count": 17,
      "outputs": []
    },
    {
      "cell_type": "code",
      "source": [
        "graph_draw(g, vertex_text=g.vertex_index, output=\"two-nodes.pdf\")"
      ],
      "metadata": {
        "colab": {
          "base_uri": "https://localhost:8080/"
        },
        "id": "s76oXJX088_z",
        "outputId": "7c65d717-dc84-4ffa-e725-6c30adc8ef67"
      },
      "execution_count": 18,
      "outputs": [
        {
          "output_type": "execute_result",
          "data": {
            "text/plain": [
              "<VertexPropertyMap object with value type 'vector<double>', for Graph 0x7f7b2298e0d0, at 0x7f7b22988150>"
            ]
          },
          "metadata": {},
          "execution_count": 18
        }
      ]
    },
    {
      "cell_type": "code",
      "source": [
        "print(e.source(), e.target())"
      ],
      "metadata": {
        "colab": {
          "base_uri": "https://localhost:8080/"
        },
        "id": "d4crx29aAJBY",
        "outputId": "e8cd798f-c59e-44b3-bc03-ae7cc07f5e73"
      },
      "execution_count": 31,
      "outputs": [
        {
          "output_type": "stream",
          "name": "stdout",
          "text": [
            "0 1\n"
          ]
        }
      ]
    },
    {
      "cell_type": "code",
      "source": [
        "vlist = g.add_vertex(10)\n",
        "print(len(list(vlist)))"
      ],
      "metadata": {
        "colab": {
          "base_uri": "https://localhost:8080/"
        },
        "id": "Kk57UrOnAMKE",
        "outputId": "8b577302-bb2b-49aa-fec7-4db3a31d8ccb"
      },
      "execution_count": 20,
      "outputs": [
        {
          "output_type": "stream",
          "name": "stdout",
          "text": [
            "10\n"
          ]
        }
      ]
    },
    {
      "cell_type": "code",
      "source": [
        "v = g.add_vertex()\n",
        "print(g.vertex_index[v])"
      ],
      "metadata": {
        "colab": {
          "base_uri": "https://localhost:8080/"
        },
        "id": "v-4NiWpEATn7",
        "outputId": "0eb45b90-075e-4f01-ba10-c7d78499ddd1"
      },
      "execution_count": 26,
      "outputs": [
        {
          "output_type": "stream",
          "name": "stdout",
          "text": [
            "17\n"
          ]
        }
      ]
    },
    {
      "cell_type": "code",
      "source": [
        "graph_draw(g,vertex_text=g.vertex_index,output = 'h.pdf')"
      ],
      "metadata": {
        "colab": {
          "base_uri": "https://localhost:8080/"
        },
        "id": "R4T7gBVkAdfp",
        "outputId": "c47186e3-89f4-479d-835a-8eae75c4a7ce"
      },
      "execution_count": 58,
      "outputs": [
        {
          "output_type": "execute_result",
          "data": {
            "text/plain": [
              "<VertexPropertyMap object with value type 'vector<double>', for Graph 0x7f7b2298e0d0, at 0x7f7b103e9490>"
            ]
          },
          "metadata": {},
          "execution_count": 58
        }
      ]
    },
    {
      "cell_type": "code",
      "source": [
        "v = g.vertex(8)\n",
        "v"
      ],
      "metadata": {
        "colab": {
          "base_uri": "https://localhost:8080/"
        },
        "id": "xDG1Z3LEA90C",
        "outputId": "3e70bd3f-890d-4529-fa0b-09f7572f28a1"
      },
      "execution_count": 30,
      "outputs": [
        {
          "output_type": "execute_result",
          "data": {
            "text/plain": [
              "<Vertex object with index '8' at 0x7f7b103a7b10>"
            ]
          },
          "metadata": {},
          "execution_count": 30
        }
      ]
    },
    {
      "cell_type": "code",
      "source": [
        "g.add_edge(g.vertex(8),g.vertex(4))"
      ],
      "metadata": {
        "colab": {
          "base_uri": "https://localhost:8080/"
        },
        "id": "RqCh6IWzBIzA",
        "outputId": "75e88437-170e-4816-9cc1-849ce4932417"
      },
      "execution_count": 37,
      "outputs": [
        {
          "output_type": "execute_result",
          "data": {
            "text/plain": [
              "<Edge object with source '8' and target '4' at 0x7f7b10390a30>"
            ]
          },
          "metadata": {},
          "execution_count": 37
        }
      ]
    },
    {
      "cell_type": "code",
      "source": [
        "for i in g.vertices():\n",
        "    g.add_edge(g.vertex(i),g.vertex(4))\n",
        "    print(i)"
      ],
      "metadata": {
        "id": "Nb5lIQvIBWCJ"
      },
      "execution_count": null,
      "outputs": []
    },
    {
      "cell_type": "code",
      "source": [
        "for i in g.edges():\n",
        "    print(i)"
      ],
      "metadata": {
        "colab": {
          "base_uri": "https://localhost:8080/"
        },
        "id": "P_Fmua_GCSps",
        "outputId": "b3525dbc-5d35-4a54-9297-b86b43ff5967"
      },
      "execution_count": 56,
      "outputs": [
        {
          "output_type": "stream",
          "name": "stdout",
          "text": [
            "(0, 1)\n",
            "(2, 4)\n",
            "(3, 4)\n",
            "(4, 4)\n",
            "(6, 4)\n",
            "(7, 4)\n",
            "(8, 4)\n"
          ]
        }
      ]
    },
    {
      "cell_type": "code",
      "source": [
        ""
      ],
      "metadata": {
        "id": "uvjBvJfcCWUo"
      },
      "execution_count": null,
      "outputs": []
    }
  ]
}