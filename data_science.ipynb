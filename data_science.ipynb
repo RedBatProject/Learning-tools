{
  "nbformat": 4,
  "nbformat_minor": 0,
  "metadata": {
    "colab": {
      "name": "data_science.ipynb",
      "provenance": [],
      "collapsed_sections": [],
      "mount_file_id": "1BxJCmUzatr3vtx4P6TTD3h2gJj1ZoHuE",
      "authorship_tag": "ABX9TyMun+PSNcDED1iLJ2ArVDDd",
      "include_colab_link": true
    },
    "kernelspec": {
      "name": "python3",
      "display_name": "Python 3"
    },
    "language_info": {
      "name": "python"
    }
  },
  "cells": [
    {
      "cell_type": "markdown",
      "metadata": {
        "id": "view-in-github",
        "colab_type": "text"
      },
      "source": [
        "<a href=\"https://colab.research.google.com/github/rizzaesht/Learning-tools/blob/main/data_science.ipynb\" target=\"_parent\"><img src=\"https://colab.research.google.com/assets/colab-badge.svg\" alt=\"Open In Colab\"/></a>"
      ]
    },
    {
      "cell_type": "code",
      "execution_count": 48,
      "metadata": {
        "id": "msmmqnxwi-Te"
      },
      "outputs": [],
      "source": [
        "import zipfile"
      ]
    },
    {
      "cell_type": "code",
      "source": [
        "# importing required modules\n",
        "from zipfile import ZipFile\n",
        "import os\n",
        "  \n",
        "def get_all_file_paths(directory):\n",
        "  \n",
        "    # initializing empty file paths list\n",
        "    file_paths = []\n",
        "  \n",
        "    # crawling through directory and subdirectories\n",
        "    for root, directories, files in os.walk(directory):\n",
        "        for filename in files:\n",
        "            # join the two strings in order to form the full filepath.\n",
        "            filepath = os.path.join(root, filename)\n",
        "            file_paths.append(filepath)\n",
        "  \n",
        "    # returning all file paths\n",
        "    return file_paths        \n",
        "  \n",
        "def main():\n",
        "    # path to folder which needs to be zipped\n",
        "    directory = './python_files'\n",
        "  \n",
        "    # calling function to get all file paths in the directory\n",
        "    file_paths = get_all_file_paths(directory)\n",
        "  \n",
        "    # printing the list of all files to be zipped\n",
        "    print('Following files will be zipped:')\n",
        "    for file_name in file_paths:\n",
        "        print(file_name)\n",
        "  \n",
        "    # writing files to a zipfile\n",
        "    with ZipFile('my_python_files.zip','w') as zip:\n",
        "        # writing each file one by one\n",
        "        for file in file_paths:\n",
        "            zip.write(file)\n",
        "  \n",
        "    print('All files zipped successfully!')        \n",
        "  \n",
        "  \n",
        "if __name__ == \"__main__\":\n",
        "    main()"
      ],
      "metadata": {
        "id": "yLccecq0mfCp"
      },
      "execution_count": null,
      "outputs": []
    },
    {
      "cell_type": "code",
      "source": [
        "# importing required modules\n",
        "from zipfile import ZipFile\n",
        "  \n",
        "# specifying the zip file name\n",
        "file_name = \"my_python_files.zip\"\n",
        "  \n",
        "# opening the zip file in READ mode\n",
        "with ZipFile(file_name, 'r') as zip:\n",
        "    # printing all the contents of the zip file\n",
        "    zip.printdir()\n",
        "  \n",
        "    # extracting all the files\n",
        "    print('Extracting all the files now...')\n",
        "    zip.extractall()\n",
        "    print('Done!')"
      ],
      "metadata": {
        "id": "oXpw_eBxmgwB"
      },
      "execution_count": null,
      "outputs": []
    },
    {
      "cell_type": "code",
      "source": [
        "unzipped_file = zipfile.ZipFile(\"/content/drive/MyDrive/dataset3/iot_device_train.csv.zip\", \"r\")\n",
        "unzipped_file.extractall('/content/drive/MyDrive/dataset3')"
      ],
      "metadata": {
        "id": "uoKqw9Wtlq5M"
      },
      "execution_count": 81,
      "outputs": []
    },
    {
      "cell_type": "code",
      "source": [
        ""
      ],
      "metadata": {
        "id": "NYMYfqYFlzcB"
      },
      "execution_count": 55,
      "outputs": []
    },
    {
      "cell_type": "code",
      "source": [
        "import numpy as np\n",
        "import pandas as pd\n",
        "import matplotlib.pyplot as plt\n",
        "import threading"
      ],
      "metadata": {
        "id": "xdEdWLaKm18_"
      },
      "execution_count": 1,
      "outputs": []
    },
    {
      "cell_type": "markdown",
      "source": [
        "data = pd.read_csv(\"/content/drive/MyDrive/data/DDoSdata.csv\")"
      ],
      "metadata": {
        "id": "-lFSm6mym3mo"
      }
    },
    {
      "cell_type": "code",
      "source": [
        "data = pd.read_csv(\"/content/drive/MyDrive/data/museums.csv\")"
      ],
      "metadata": {
        "colab": {
          "base_uri": "https://localhost:8080/"
        },
        "id": "Q7FuIJd-nPLV",
        "outputId": "58babdf1-3033-4b63-b705-6b9edfcfeedd"
      },
      "execution_count": 58,
      "outputs": [
        {
          "output_type": "stream",
          "name": "stderr",
          "text": [
            "/usr/local/lib/python3.7/dist-packages/IPython/core/interactiveshell.py:2718: DtypeWarning: Columns (9,14,21) have mixed types.Specify dtype option on import or set low_memory=False.\n",
            "  interactivity=interactivity, compiler=compiler, result=result)\n"
          ]
        }
      ]
    },
    {
      "cell_type": "code",
      "source": [
        "data.head()"
      ],
      "metadata": {
        "colab": {
          "base_uri": "https://localhost:8080/",
          "height": 635
        },
        "id": "VVND7YsFnSaH",
        "outputId": "b35ed598-85e0-43bf-b758-7b6fbdb02f68"
      },
      "execution_count": 59,
      "outputs": [
        {
          "output_type": "execute_result",
          "data": {
            "text/html": [
              "\n",
              "  <div id=\"df-34be2ee9-d808-4368-aa86-0b41a3cd47e4\">\n",
              "    <div class=\"colab-df-container\">\n",
              "      <div>\n",
              "<style scoped>\n",
              "    .dataframe tbody tr th:only-of-type {\n",
              "        vertical-align: middle;\n",
              "    }\n",
              "\n",
              "    .dataframe tbody tr th {\n",
              "        vertical-align: top;\n",
              "    }\n",
              "\n",
              "    .dataframe thead th {\n",
              "        text-align: right;\n",
              "    }\n",
              "</style>\n",
              "<table border=\"1\" class=\"dataframe\">\n",
              "  <thead>\n",
              "    <tr style=\"text-align: right;\">\n",
              "      <th></th>\n",
              "      <th>Museum ID</th>\n",
              "      <th>Museum Name</th>\n",
              "      <th>Legal Name</th>\n",
              "      <th>Alternate Name</th>\n",
              "      <th>Museum Type</th>\n",
              "      <th>Institution Name</th>\n",
              "      <th>Street Address (Administrative Location)</th>\n",
              "      <th>City (Administrative Location)</th>\n",
              "      <th>State (Administrative Location)</th>\n",
              "      <th>Zip Code (Administrative Location)</th>\n",
              "      <th>Street Address (Physical Location)</th>\n",
              "      <th>City (Physical Location)</th>\n",
              "      <th>State (Physical Location)</th>\n",
              "      <th>Zip Code (Physical Location)</th>\n",
              "      <th>Phone Number</th>\n",
              "      <th>Latitude</th>\n",
              "      <th>Longitude</th>\n",
              "      <th>Locale Code (NCES)</th>\n",
              "      <th>County Code (FIPS)</th>\n",
              "      <th>State Code (FIPS)</th>\n",
              "      <th>Region Code (AAM)</th>\n",
              "      <th>Employer ID Number</th>\n",
              "      <th>Tax Period</th>\n",
              "      <th>Income</th>\n",
              "      <th>Revenue</th>\n",
              "    </tr>\n",
              "  </thead>\n",
              "  <tbody>\n",
              "    <tr>\n",
              "      <th>0</th>\n",
              "      <td>8400200098</td>\n",
              "      <td>ALASKA AVIATION HERITAGE MUSEUM</td>\n",
              "      <td>ALASKA AVIATION HERITAGE MUSEUM</td>\n",
              "      <td>NaN</td>\n",
              "      <td>HISTORY MUSEUM</td>\n",
              "      <td>NaN</td>\n",
              "      <td>4721 AIRCRAFT DR</td>\n",
              "      <td>ANCHORAGE</td>\n",
              "      <td>AK</td>\n",
              "      <td>99502</td>\n",
              "      <td>NaN</td>\n",
              "      <td>NaN</td>\n",
              "      <td>NaN</td>\n",
              "      <td>NaN</td>\n",
              "      <td>9072485325</td>\n",
              "      <td>61.17925</td>\n",
              "      <td>-149.97254</td>\n",
              "      <td>1.0</td>\n",
              "      <td>20.0</td>\n",
              "      <td>2.0</td>\n",
              "      <td>6</td>\n",
              "      <td>920071852</td>\n",
              "      <td>201312.0</td>\n",
              "      <td>602912.0</td>\n",
              "      <td>550236.0</td>\n",
              "    </tr>\n",
              "    <tr>\n",
              "      <th>1</th>\n",
              "      <td>8400200117</td>\n",
              "      <td>ALASKA BOTANICAL GARDEN</td>\n",
              "      <td>ALASKA BOTANICAL GARDEN INC</td>\n",
              "      <td>NaN</td>\n",
              "      <td>ARBORETUM, BOTANICAL GARDEN, OR NATURE CENTER</td>\n",
              "      <td>NaN</td>\n",
              "      <td>4601 CAMPBELL AIRSTRIP RD</td>\n",
              "      <td>ANCHORAGE</td>\n",
              "      <td>AK</td>\n",
              "      <td>99507</td>\n",
              "      <td>NaN</td>\n",
              "      <td>NaN</td>\n",
              "      <td>NaN</td>\n",
              "      <td>NaN</td>\n",
              "      <td>9077703692</td>\n",
              "      <td>61.16890</td>\n",
              "      <td>-149.76708</td>\n",
              "      <td>4.0</td>\n",
              "      <td>20.0</td>\n",
              "      <td>2.0</td>\n",
              "      <td>6</td>\n",
              "      <td>920115504</td>\n",
              "      <td>201312.0</td>\n",
              "      <td>1379576.0</td>\n",
              "      <td>1323742.0</td>\n",
              "    </tr>\n",
              "    <tr>\n",
              "      <th>2</th>\n",
              "      <td>8400200153</td>\n",
              "      <td>ALASKA CHALLENGER CENTER FOR SPACE SCIENCE TEC...</td>\n",
              "      <td>ALASKA CHALLENGER CENTER FOR SPACE SCIENCE TEC...</td>\n",
              "      <td>NaN</td>\n",
              "      <td>SCIENCE &amp; TECHNOLOGY MUSEUM OR PLANETARIUM</td>\n",
              "      <td>NaN</td>\n",
              "      <td>9711 KENAI SPUR HWY</td>\n",
              "      <td>KENAI</td>\n",
              "      <td>AK</td>\n",
              "      <td>99611</td>\n",
              "      <td>NaN</td>\n",
              "      <td>NaN</td>\n",
              "      <td>NaN</td>\n",
              "      <td>NaN</td>\n",
              "      <td>9072832000</td>\n",
              "      <td>60.56149</td>\n",
              "      <td>-151.21598</td>\n",
              "      <td>3.0</td>\n",
              "      <td>122.0</td>\n",
              "      <td>2.0</td>\n",
              "      <td>6</td>\n",
              "      <td>921761906</td>\n",
              "      <td>201312.0</td>\n",
              "      <td>740030.0</td>\n",
              "      <td>729080.0</td>\n",
              "    </tr>\n",
              "    <tr>\n",
              "      <th>3</th>\n",
              "      <td>8400200143</td>\n",
              "      <td>ALASKA EDUCATORS HISTORICAL SOCIETY</td>\n",
              "      <td>ALASKA EDUCATORS HISTORICAL SOCIETY</td>\n",
              "      <td>NaN</td>\n",
              "      <td>HISTORIC PRESERVATION</td>\n",
              "      <td>NaN</td>\n",
              "      <td>214 BIRCH STREET</td>\n",
              "      <td>KENAI</td>\n",
              "      <td>AK</td>\n",
              "      <td>99611</td>\n",
              "      <td>NaN</td>\n",
              "      <td>NaN</td>\n",
              "      <td>NaN</td>\n",
              "      <td>NaN</td>\n",
              "      <td>2142472478</td>\n",
              "      <td>60.56280</td>\n",
              "      <td>-151.26597</td>\n",
              "      <td>3.0</td>\n",
              "      <td>122.0</td>\n",
              "      <td>2.0</td>\n",
              "      <td>6</td>\n",
              "      <td>920165178</td>\n",
              "      <td>201412.0</td>\n",
              "      <td>0.0</td>\n",
              "      <td>0.0</td>\n",
              "    </tr>\n",
              "    <tr>\n",
              "      <th>4</th>\n",
              "      <td>8400200027</td>\n",
              "      <td>ALASKA HERITAGE MUSEUM</td>\n",
              "      <td>ALASKA AVIATION HERITAGE MUSEUM</td>\n",
              "      <td>NaN</td>\n",
              "      <td>HISTORY MUSEUM</td>\n",
              "      <td>NaN</td>\n",
              "      <td>301 W NORTHERN LIGHTS BLVD</td>\n",
              "      <td>ANCHORAGE</td>\n",
              "      <td>AK</td>\n",
              "      <td>99503</td>\n",
              "      <td>NaN</td>\n",
              "      <td>NaN</td>\n",
              "      <td>NaN</td>\n",
              "      <td>NaN</td>\n",
              "      <td>9072652834</td>\n",
              "      <td>61.17925</td>\n",
              "      <td>-149.97254</td>\n",
              "      <td>1.0</td>\n",
              "      <td>20.0</td>\n",
              "      <td>2.0</td>\n",
              "      <td>6</td>\n",
              "      <td>920071852</td>\n",
              "      <td>201312.0</td>\n",
              "      <td>602912.0</td>\n",
              "      <td>550236.0</td>\n",
              "    </tr>\n",
              "  </tbody>\n",
              "</table>\n",
              "</div>\n",
              "      <button class=\"colab-df-convert\" onclick=\"convertToInteractive('df-34be2ee9-d808-4368-aa86-0b41a3cd47e4')\"\n",
              "              title=\"Convert this dataframe to an interactive table.\"\n",
              "              style=\"display:none;\">\n",
              "        \n",
              "  <svg xmlns=\"http://www.w3.org/2000/svg\" height=\"24px\"viewBox=\"0 0 24 24\"\n",
              "       width=\"24px\">\n",
              "    <path d=\"M0 0h24v24H0V0z\" fill=\"none\"/>\n",
              "    <path d=\"M18.56 5.44l.94 2.06.94-2.06 2.06-.94-2.06-.94-.94-2.06-.94 2.06-2.06.94zm-11 1L8.5 8.5l.94-2.06 2.06-.94-2.06-.94L8.5 2.5l-.94 2.06-2.06.94zm10 10l.94 2.06.94-2.06 2.06-.94-2.06-.94-.94-2.06-.94 2.06-2.06.94z\"/><path d=\"M17.41 7.96l-1.37-1.37c-.4-.4-.92-.59-1.43-.59-.52 0-1.04.2-1.43.59L10.3 9.45l-7.72 7.72c-.78.78-.78 2.05 0 2.83L4 21.41c.39.39.9.59 1.41.59.51 0 1.02-.2 1.41-.59l7.78-7.78 2.81-2.81c.8-.78.8-2.07 0-2.86zM5.41 20L4 18.59l7.72-7.72 1.47 1.35L5.41 20z\"/>\n",
              "  </svg>\n",
              "      </button>\n",
              "      \n",
              "  <style>\n",
              "    .colab-df-container {\n",
              "      display:flex;\n",
              "      flex-wrap:wrap;\n",
              "      gap: 12px;\n",
              "    }\n",
              "\n",
              "    .colab-df-convert {\n",
              "      background-color: #E8F0FE;\n",
              "      border: none;\n",
              "      border-radius: 50%;\n",
              "      cursor: pointer;\n",
              "      display: none;\n",
              "      fill: #1967D2;\n",
              "      height: 32px;\n",
              "      padding: 0 0 0 0;\n",
              "      width: 32px;\n",
              "    }\n",
              "\n",
              "    .colab-df-convert:hover {\n",
              "      background-color: #E2EBFA;\n",
              "      box-shadow: 0px 1px 2px rgba(60, 64, 67, 0.3), 0px 1px 3px 1px rgba(60, 64, 67, 0.15);\n",
              "      fill: #174EA6;\n",
              "    }\n",
              "\n",
              "    [theme=dark] .colab-df-convert {\n",
              "      background-color: #3B4455;\n",
              "      fill: #D2E3FC;\n",
              "    }\n",
              "\n",
              "    [theme=dark] .colab-df-convert:hover {\n",
              "      background-color: #434B5C;\n",
              "      box-shadow: 0px 1px 3px 1px rgba(0, 0, 0, 0.15);\n",
              "      filter: drop-shadow(0px 1px 2px rgba(0, 0, 0, 0.3));\n",
              "      fill: #FFFFFF;\n",
              "    }\n",
              "  </style>\n",
              "\n",
              "      <script>\n",
              "        const buttonEl =\n",
              "          document.querySelector('#df-34be2ee9-d808-4368-aa86-0b41a3cd47e4 button.colab-df-convert');\n",
              "        buttonEl.style.display =\n",
              "          google.colab.kernel.accessAllowed ? 'block' : 'none';\n",
              "\n",
              "        async function convertToInteractive(key) {\n",
              "          const element = document.querySelector('#df-34be2ee9-d808-4368-aa86-0b41a3cd47e4');\n",
              "          const dataTable =\n",
              "            await google.colab.kernel.invokeFunction('convertToInteractive',\n",
              "                                                     [key], {});\n",
              "          if (!dataTable) return;\n",
              "\n",
              "          const docLinkHtml = 'Like what you see? Visit the ' +\n",
              "            '<a target=\"_blank\" href=https://colab.research.google.com/notebooks/data_table.ipynb>data table notebook</a>'\n",
              "            + ' to learn more about interactive tables.';\n",
              "          element.innerHTML = '';\n",
              "          dataTable['output_type'] = 'display_data';\n",
              "          await google.colab.output.renderOutput(dataTable, element);\n",
              "          const docLink = document.createElement('div');\n",
              "          docLink.innerHTML = docLinkHtml;\n",
              "          element.appendChild(docLink);\n",
              "        }\n",
              "      </script>\n",
              "    </div>\n",
              "  </div>\n",
              "  "
            ],
            "text/plain": [
              "    Museum ID  ...    Revenue\n",
              "0  8400200098  ...   550236.0\n",
              "1  8400200117  ...  1323742.0\n",
              "2  8400200153  ...   729080.0\n",
              "3  8400200143  ...        0.0\n",
              "4  8400200027  ...   550236.0\n",
              "\n",
              "[5 rows x 25 columns]"
            ]
          },
          "metadata": {},
          "execution_count": 59
        }
      ]
    },
    {
      "cell_type": "code",
      "source": [
        "data.info()"
      ],
      "metadata": {
        "colab": {
          "base_uri": "https://localhost:8080/"
        },
        "id": "nv4RuDADnZjL",
        "outputId": "fc466958-a462-4c17-f8c5-a303009a9296"
      },
      "execution_count": 60,
      "outputs": [
        {
          "output_type": "stream",
          "name": "stdout",
          "text": [
            "<class 'pandas.core.frame.DataFrame'>\n",
            "RangeIndex: 33072 entries, 0 to 33071\n",
            "Data columns (total 25 columns):\n",
            " #   Column                                    Non-Null Count  Dtype  \n",
            "---  ------                                    --------------  -----  \n",
            " 0   Museum ID                                 33072 non-null  int64  \n",
            " 1   Museum Name                               33072 non-null  object \n",
            " 2   Legal Name                                33072 non-null  object \n",
            " 3   Alternate Name                            1927 non-null   object \n",
            " 4   Museum Type                               33072 non-null  object \n",
            " 5   Institution Name                          2749 non-null   object \n",
            " 6   Street Address (Administrative Location)  33062 non-null  object \n",
            " 7   City (Administrative Location)            33072 non-null  object \n",
            " 8   State (Administrative Location)           33072 non-null  object \n",
            " 9   Zip Code (Administrative Location)        33072 non-null  object \n",
            " 10  Street Address (Physical Location)        9216 non-null   object \n",
            " 11  City (Physical Location)                  9223 non-null   object \n",
            " 12  State (Physical Location)                 9223 non-null   object \n",
            " 13  Zip Code (Physical Location)              9221 non-null   float64\n",
            " 14  Phone Number                              22932 non-null  object \n",
            " 15  Latitude                                  33007 non-null  float64\n",
            " 16  Longitude                                 33007 non-null  float64\n",
            " 17  Locale Code (NCES)                        32995 non-null  float64\n",
            " 18  County Code (FIPS)                        30536 non-null  float64\n",
            " 19  State Code (FIPS)                         33071 non-null  float64\n",
            " 20  Region Code (AAM)                         33072 non-null  int64  \n",
            " 21  Employer ID Number                        27554 non-null  object \n",
            " 22  Tax Period                                23280 non-null  float64\n",
            " 23  Income                                    22961 non-null  float64\n",
            " 24  Revenue                                   22290 non-null  float64\n",
            "dtypes: float64(9), int64(2), object(14)\n",
            "memory usage: 6.3+ MB\n"
          ]
        }
      ]
    },
    {
      "cell_type": "code",
      "source": [
        "data[\"Museum Type\"].describe()"
      ],
      "metadata": {
        "colab": {
          "base_uri": "https://localhost:8080/"
        },
        "id": "XE7aC5g_ntGu",
        "outputId": "986d0d66-17a4-4420-bcf8-1ae101f08665"
      },
      "execution_count": 61,
      "outputs": [
        {
          "output_type": "execute_result",
          "data": {
            "text/plain": [
              "count                     33072\n",
              "unique                        9\n",
              "top       HISTORIC PRESERVATION\n",
              "freq                      14861\n",
              "Name: Museum Type, dtype: object"
            ]
          },
          "metadata": {},
          "execution_count": 61
        }
      ]
    },
    {
      "cell_type": "code",
      "source": [
        "data['Museum Type'].describe()"
      ],
      "metadata": {
        "colab": {
          "base_uri": "https://localhost:8080/"
        },
        "id": "di6y-K2zoZkQ",
        "outputId": "4a1d967d-ae88-44b8-cfa4-2bfc7e24ca9d"
      },
      "execution_count": 62,
      "outputs": [
        {
          "output_type": "execute_result",
          "data": {
            "text/plain": [
              "count                     33072\n",
              "unique                        9\n",
              "top       HISTORIC PRESERVATION\n",
              "freq                      14861\n",
              "Name: Museum Type, dtype: object"
            ]
          },
          "metadata": {},
          "execution_count": 62
        }
      ]
    },
    {
      "cell_type": "code",
      "source": [
        "data['Museum Type'].mean()"
      ],
      "metadata": {
        "id": "ML8RmKGQ9v2n"
      },
      "execution_count": null,
      "outputs": []
    },
    {
      "cell_type": "code",
      "source": [
        "data['pkts'].median()"
      ],
      "metadata": {
        "colab": {
          "base_uri": "https://localhost:8080/"
        },
        "id": "ZIMmZrnL9_KG",
        "outputId": "4164712e-0b36-4417-c801-5be8aefbab64"
      },
      "execution_count": 13,
      "outputs": [
        {
          "output_type": "execute_result",
          "data": {
            "text/plain": [
              "7.0"
            ]
          },
          "metadata": {},
          "execution_count": 13
        }
      ]
    },
    {
      "cell_type": "code",
      "source": [
        "data.plot(kind='box',vert=False,figsize=(8,8))"
      ],
      "metadata": {
        "colab": {
          "base_uri": "https://localhost:8080/",
          "height": 568
        },
        "id": "4c-WlgWG-Bn4",
        "outputId": "ad11693d-d315-42d1-a522-a21108d2cac3"
      },
      "execution_count": 66,
      "outputs": [
        {
          "output_type": "stream",
          "name": "stderr",
          "text": [
            "/usr/local/lib/python3.7/dist-packages/numpy/core/_asarray.py:83: VisibleDeprecationWarning: Creating an ndarray from ragged nested sequences (which is a list-or-tuple of lists-or-tuples-or ndarrays with different lengths or shapes) is deprecated. If you meant to do this, you must specify 'dtype=object' when creating the ndarray\n",
            "  return array(a, dtype, copy=False, order=order)\n"
          ]
        },
        {
          "output_type": "execute_result",
          "data": {
            "text/plain": [
              "<matplotlib.axes._subplots.AxesSubplot at 0x7f8f3abf9990>"
            ]
          },
          "metadata": {},
          "execution_count": 66
        },
        {
          "output_type": "display_data",
          "data": {
            "image/png": "[encoded data removed]",
            "text/plain": [
              "<Figure size 576x576 with 1 Axes>"
            ]
          },
          "metadata": {
            "needs_background": "light"
          }
        }
      ]
    },
    {
      "cell_type": "code",
      "source": [
        "pic = data['Museum Type'].plot(kind='box',vert=False,figsize=(15,5))"
      ],
      "metadata": {
        "id": "MscrT_jE_NpD"
      },
      "execution_count": null,
      "outputs": []
    },
    {
      "cell_type": "code",
      "source": [
        "def density(data2):\n",
        "  # ltime\n",
        "  data[data2].plot(kind='density', figsize=(10,10))"
      ],
      "metadata": {
        "id": "_3bzLcghOIzY"
      },
      "execution_count": 69,
      "outputs": []
    },
    {
      "cell_type": "code",
      "source": [
        "t1 = threading.Thread(target=density,args=('ltime',))\n",
        "t1.start()"
      ],
      "metadata": {
        "id": "gtqneDpdOw5s"
      },
      "execution_count": null,
      "outputs": []
    },
    {
      "cell_type": "code",
      "source": [
        "density('Museum Type')"
      ],
      "metadata": {
        "colab": {
          "base_uri": "https://localhost:8080/",
          "height": 312
        },
        "id": "89e-w-2VOWrD",
        "outputId": "991f89b9-399d-4b68-ebc9-8b5f47bac6ec"
      },
      "execution_count": 70,
      "outputs": [
        {
          "output_type": "error",
          "ename": "TypeError",
          "evalue": "ignored",
          "traceback": [
            "\u001b[0;31m---------------------------------------------------------------------------\u001b[0m",
            "\u001b[0;31mTypeError\u001b[0m                                 Traceback (most recent call last)",
            "\u001b[0;32m<ipython-input-70-f49fabfc6f35>\u001b[0m in \u001b[0;36m<module>\u001b[0;34m()\u001b[0m\n\u001b[0;32m----> 1\u001b[0;31m \u001b[0mdensity\u001b[0m\u001b[0;34m(\u001b[0m\u001b[0;34m'Museum Type'\u001b[0m\u001b[0;34m)\u001b[0m\u001b[0;34m\u001b[0m\u001b[0;34m\u001b[0m\u001b[0m\n\u001b[0m",
            "\u001b[0;32m<ipython-input-69-0e8a3c8b74a0>\u001b[0m in \u001b[0;36mdensity\u001b[0;34m(data2)\u001b[0m\n\u001b[1;32m      1\u001b[0m \u001b[0;32mdef\u001b[0m \u001b[0mdensity\u001b[0m\u001b[0;34m(\u001b[0m\u001b[0mdata2\u001b[0m\u001b[0;34m)\u001b[0m\u001b[0;34m:\u001b[0m\u001b[0;34m\u001b[0m\u001b[0;34m\u001b[0m\u001b[0m\n\u001b[1;32m      2\u001b[0m   \u001b[0;31m# ltime\u001b[0m\u001b[0;34m\u001b[0m\u001b[0;34m\u001b[0m\u001b[0;34m\u001b[0m\u001b[0m\n\u001b[0;32m----> 3\u001b[0;31m   \u001b[0mdata\u001b[0m\u001b[0;34m[\u001b[0m\u001b[0mdata2\u001b[0m\u001b[0;34m]\u001b[0m\u001b[0;34m.\u001b[0m\u001b[0mplot\u001b[0m\u001b[0;34m(\u001b[0m\u001b[0mkind\u001b[0m\u001b[0;34m=\u001b[0m\u001b[0;34m'density'\u001b[0m\u001b[0;34m,\u001b[0m \u001b[0mfigsize\u001b[0m\u001b[0;34m=\u001b[0m\u001b[0;34m(\u001b[0m\u001b[0;36m10\u001b[0m\u001b[0;34m,\u001b[0m\u001b[0;36m10\u001b[0m\u001b[0;34m)\u001b[0m\u001b[0;34m)\u001b[0m\u001b[0;34m\u001b[0m\u001b[0;34m\u001b[0m\u001b[0m\n\u001b[0m",
            "\u001b[0;32m/usr/local/lib/python3.7/dist-packages/pandas/plotting/_core.py\u001b[0m in \u001b[0;36m__call__\u001b[0;34m(self, *args, **kwargs)\u001b[0m\n\u001b[1;32m    947\u001b[0m                     \u001b[0mdata\u001b[0m\u001b[0;34m.\u001b[0m\u001b[0mcolumns\u001b[0m \u001b[0;34m=\u001b[0m \u001b[0mlabel_name\u001b[0m\u001b[0;34m\u001b[0m\u001b[0;34m\u001b[0m\u001b[0m\n\u001b[1;32m    948\u001b[0m \u001b[0;34m\u001b[0m\u001b[0m\n\u001b[0;32m--> 949\u001b[0;31m         \u001b[0;32mreturn\u001b[0m \u001b[0mplot_backend\u001b[0m\u001b[0;34m.\u001b[0m\u001b[0mplot\u001b[0m\u001b[0;34m(\u001b[0m\u001b[0mdata\u001b[0m\u001b[0;34m,\u001b[0m \u001b[0mkind\u001b[0m\u001b[0;34m=\u001b[0m\u001b[0mkind\u001b[0m\u001b[0;34m,\u001b[0m \u001b[0;34m**\u001b[0m\u001b[0mkwargs\u001b[0m\u001b[0;34m)\u001b[0m\u001b[0;34m\u001b[0m\u001b[0;34m\u001b[0m\u001b[0m\n\u001b[0m\u001b[1;32m    950\u001b[0m \u001b[0;34m\u001b[0m\u001b[0m\n\u001b[1;32m    951\u001b[0m     \u001b[0m__call__\u001b[0m\u001b[0;34m.\u001b[0m\u001b[0m__doc__\u001b[0m \u001b[0;34m=\u001b[0m \u001b[0m__doc__\u001b[0m\u001b[0;34m\u001b[0m\u001b[0;34m\u001b[0m\u001b[0m\n",
            "\u001b[0;32m/usr/local/lib/python3.7/dist-packages/pandas/plotting/_matplotlib/__init__.py\u001b[0m in \u001b[0;36mplot\u001b[0;34m(data, kind, **kwargs)\u001b[0m\n\u001b[1;32m     59\u001b[0m             \u001b[0mkwargs\u001b[0m\u001b[0;34m[\u001b[0m\u001b[0;34m\"ax\"\u001b[0m\u001b[0;34m]\u001b[0m \u001b[0;34m=\u001b[0m \u001b[0mgetattr\u001b[0m\u001b[0;34m(\u001b[0m\u001b[0max\u001b[0m\u001b[0;34m,\u001b[0m \u001b[0;34m\"left_ax\"\u001b[0m\u001b[0;34m,\u001b[0m \u001b[0max\u001b[0m\u001b[0;34m)\u001b[0m\u001b[0;34m\u001b[0m\u001b[0;34m\u001b[0m\u001b[0m\n\u001b[1;32m     60\u001b[0m     \u001b[0mplot_obj\u001b[0m \u001b[0;34m=\u001b[0m \u001b[0mPLOT_CLASSES\u001b[0m\u001b[0;34m[\u001b[0m\u001b[0mkind\u001b[0m\u001b[0;34m]\u001b[0m\u001b[0;34m(\u001b[0m\u001b[0mdata\u001b[0m\u001b[0;34m,\u001b[0m \u001b[0;34m**\u001b[0m\u001b[0mkwargs\u001b[0m\u001b[0;34m)\u001b[0m\u001b[0;34m\u001b[0m\u001b[0;34m\u001b[0m\u001b[0m\n\u001b[0;32m---> 61\u001b[0;31m     \u001b[0mplot_obj\u001b[0m\u001b[0;34m.\u001b[0m\u001b[0mgenerate\u001b[0m\u001b[0;34m(\u001b[0m\u001b[0;34m)\u001b[0m\u001b[0;34m\u001b[0m\u001b[0;34m\u001b[0m\u001b[0m\n\u001b[0m\u001b[1;32m     62\u001b[0m     \u001b[0mplot_obj\u001b[0m\u001b[0;34m.\u001b[0m\u001b[0mdraw\u001b[0m\u001b[0;34m(\u001b[0m\u001b[0;34m)\u001b[0m\u001b[0;34m\u001b[0m\u001b[0;34m\u001b[0m\u001b[0m\n\u001b[1;32m     63\u001b[0m     \u001b[0;32mreturn\u001b[0m \u001b[0mplot_obj\u001b[0m\u001b[0;34m.\u001b[0m\u001b[0mresult\u001b[0m\u001b[0;34m\u001b[0m\u001b[0;34m\u001b[0m\u001b[0m\n",
            "\u001b[0;32m/usr/local/lib/python3.7/dist-packages/pandas/plotting/_matplotlib/core.py\u001b[0m in \u001b[0;36mgenerate\u001b[0;34m(self)\u001b[0m\n\u001b[1;32m    267\u001b[0m     \u001b[0;32mdef\u001b[0m \u001b[0mgenerate\u001b[0m\u001b[0;34m(\u001b[0m\u001b[0mself\u001b[0m\u001b[0;34m)\u001b[0m\u001b[0;34m:\u001b[0m\u001b[0;34m\u001b[0m\u001b[0;34m\u001b[0m\u001b[0m\n\u001b[1;32m    268\u001b[0m         \u001b[0mself\u001b[0m\u001b[0;34m.\u001b[0m\u001b[0m_args_adjust\u001b[0m\u001b[0;34m(\u001b[0m\u001b[0;34m)\u001b[0m\u001b[0;34m\u001b[0m\u001b[0;34m\u001b[0m\u001b[0m\n\u001b[0;32m--> 269\u001b[0;31m         \u001b[0mself\u001b[0m\u001b[0;34m.\u001b[0m\u001b[0m_compute_plot_data\u001b[0m\u001b[0;34m(\u001b[0m\u001b[0;34m)\u001b[0m\u001b[0;34m\u001b[0m\u001b[0;34m\u001b[0m\u001b[0m\n\u001b[0m\u001b[1;32m    270\u001b[0m         \u001b[0mself\u001b[0m\u001b[0;34m.\u001b[0m\u001b[0m_setup_subplots\u001b[0m\u001b[0;34m(\u001b[0m\u001b[0;34m)\u001b[0m\u001b[0;34m\u001b[0m\u001b[0;34m\u001b[0m\u001b[0m\n\u001b[1;32m    271\u001b[0m         \u001b[0mself\u001b[0m\u001b[0;34m.\u001b[0m\u001b[0m_make_plot\u001b[0m\u001b[0;34m(\u001b[0m\u001b[0;34m)\u001b[0m\u001b[0;34m\u001b[0m\u001b[0;34m\u001b[0m\u001b[0m\n",
            "\u001b[0;32m/usr/local/lib/python3.7/dist-packages/pandas/plotting/_matplotlib/core.py\u001b[0m in \u001b[0;36m_compute_plot_data\u001b[0;34m(self)\u001b[0m\n\u001b[1;32m    416\u001b[0m         \u001b[0;31m# no non-numeric frames or series allowed\u001b[0m\u001b[0;34m\u001b[0m\u001b[0;34m\u001b[0m\u001b[0;34m\u001b[0m\u001b[0m\n\u001b[1;32m    417\u001b[0m         \u001b[0;32mif\u001b[0m \u001b[0mis_empty\u001b[0m\u001b[0;34m:\u001b[0m\u001b[0;34m\u001b[0m\u001b[0;34m\u001b[0m\u001b[0m\n\u001b[0;32m--> 418\u001b[0;31m             \u001b[0;32mraise\u001b[0m \u001b[0mTypeError\u001b[0m\u001b[0;34m(\u001b[0m\u001b[0;34m\"no numeric data to plot\"\u001b[0m\u001b[0;34m)\u001b[0m\u001b[0;34m\u001b[0m\u001b[0;34m\u001b[0m\u001b[0m\n\u001b[0m\u001b[1;32m    419\u001b[0m \u001b[0;34m\u001b[0m\u001b[0m\n\u001b[1;32m    420\u001b[0m         \u001b[0;31m# GH25587: cast ExtensionArray of pandas (IntegerArray, etc.) to\u001b[0m\u001b[0;34m\u001b[0m\u001b[0;34m\u001b[0m\u001b[0;34m\u001b[0m\u001b[0m\n",
            "\u001b[0;31mTypeError\u001b[0m: no numeric data to plot"
          ]
        }
      ]
    },
    {
      "cell_type": "code",
      "source": [
        "data['pkSeqID'].plot(kind='density', figsize=(10,10))"
      ],
      "metadata": {
        "colab": {
          "base_uri": "https://localhost:8080/",
          "height": 633
        },
        "id": "YLwohLyCAGAC",
        "outputId": "e0e06c66-85fd-4528-dffd-27edacb86a0f"
      },
      "execution_count": 20,
      "outputs": [
        {
          "output_type": "execute_result",
          "data": {
            "text/plain": [
              "<matplotlib.axes._subplots.AxesSubplot at 0x7f8ff9f7d810>"
            ]
          },
          "metadata": {},
          "execution_count": 20
        },
        {
          "output_type": "display_data",
          "data": {
            "image/png": "[encoded data removed]",
            "text/plain": [
              "<Figure size 720x720 with 1 Axes>"
            ]
          },
          "metadata": {
            "needs_background": "light"
          }
        }
      ]
    },
    {
      "cell_type": "code",
      "source": [
        "data['bytes'].plot(kind='hist', figsize=(10,10))"
      ],
      "metadata": {
        "colab": {
          "base_uri": "https://localhost:8080/",
          "height": 633
        },
        "id": "Tci3-m0rJVZ0",
        "outputId": "11608fcc-0402-47a5-907e-f2d05317421f"
      },
      "execution_count": 22,
      "outputs": [
        {
          "output_type": "execute_result",
          "data": {
            "text/plain": [
              "<matplotlib.axes._subplots.AxesSubplot at 0x7f8ff9eb66d0>"
            ]
          },
          "metadata": {},
          "execution_count": 22
        },
        {
          "output_type": "display_data",
          "data": {
            "image/png": "[encoded data removed]",
            "text/plain": [
              "<Figure size 720x720 with 1 Axes>"
            ]
          },
          "metadata": {
            "needs_background": "light"
          }
        }
      ]
    },
    {
      "cell_type": "code",
      "source": [
        "d = [[],[]]\n",
        "for i,j in enumerate(data['attack']):\n",
        "  if j==0:\n",
        "    d[0].append(i)\n",
        "  elif j==1:\n",
        "    d[1].append(i)\n",
        "  else:print(\"oops\")\n",
        "d"
      ],
      "metadata": {
        "id": "HCAHzuGAMJ5l"
      },
      "execution_count": null,
      "outputs": []
    },
    {
      "cell_type": "code",
      "source": [
        "ax = data['stime'].plot(kind = 'density', figsize = (14,6)) #kde\n",
        "ax.axvline(data['stime'].mean(), color = 'red')\n",
        "ax.axvline(data['stime'].median(), color = 'green')"
      ],
      "metadata": {
        "colab": {
          "base_uri": "https://localhost:8080/",
          "height": 404
        },
        "id": "ojFsEdiGB9V1",
        "outputId": "3055878f-61b0-4b0f-9194-5076a85f7093"
      },
      "execution_count": 33,
      "outputs": [
        {
          "output_type": "execute_result",
          "data": {
            "text/plain": [
              "<matplotlib.lines.Line2D at 0x7f8ff9cb0e50>"
            ]
          },
          "metadata": {},
          "execution_count": 33
        },
        {
          "output_type": "display_data",
          "data": {
            "image/png": "[encoded data removed]",
            "text/plain": [
              "<Figure size 1008x432 with 1 Axes>"
            ]
          },
          "metadata": {
            "needs_background": "light"
          }
        }
      ]
    },
    {
      "cell_type": "code",
      "source": [
        "ax = data['stime'].plot(kind = 'hist', figsize = (10,5))\n",
        "ax.set_ylabel('Number of dataes')\n",
        "ax.set_xlabel('ddd')\n",
        "ax.axvline(data['stime'].mean(), color = 'red')"
      ],
      "metadata": {
        "colab": {
          "base_uri": "https://localhost:8080/",
          "height": 362
        },
        "id": "9uHDcmjnDw4x",
        "outputId": "97176be5-7f99-4d59-8ee0-a6e268c78129"
      },
      "execution_count": 32,
      "outputs": [
        {
          "output_type": "execute_result",
          "data": {
            "text/plain": [
              "<matplotlib.lines.Line2D at 0x7f8ff9a48bd0>"
            ]
          },
          "metadata": {},
          "execution_count": 32
        },
        {
          "output_type": "display_data",
          "data": {
            "image/png": "[encoded data removed]",
            "text/plain": [
              "<Figure size 720x360 with 1 Axes>"
            ]
          },
          "metadata": {
            "needs_background": "light"
          }
        }
      ]
    },
    {
      "cell_type": "code",
      "source": [
        "data.head()"
      ],
      "metadata": {
        "colab": {
          "base_uri": "https://localhost:8080/",
          "height": 288
        },
        "id": "y2F6LnWNEuFo",
        "outputId": "23b1d306-1e0f-4031-ae8c-95e059760029"
      },
      "execution_count": 30,
      "outputs": [
        {
          "output_type": "execute_result",
          "data": {
            "text/html": [
              "\n",
              "  <div id=\"df-496986cf-0d9b-4da0-8cca-29cb03ae80e6\">\n",
              "    <div class=\"colab-df-container\">\n",
              "      <div>\n",
              "<style scoped>\n",
              "    .dataframe tbody tr th:only-of-type {\n",
              "        vertical-align: middle;\n",
              "    }\n",
              "\n",
              "    .dataframe tbody tr th {\n",
              "        vertical-align: top;\n",
              "    }\n",
              "\n",
              "    .dataframe thead th {\n",
              "        text-align: right;\n",
              "    }\n",
              "</style>\n",
              "<table border=\"1\" class=\"dataframe\">\n",
              "  <thead>\n",
              "    <tr style=\"text-align: right;\">\n",
              "      <th></th>\n",
              "      <th>Unnamed: 0</th>\n",
              "      <th>pkSeqID</th>\n",
              "      <th>stime</th>\n",
              "      <th>flgs</th>\n",
              "      <th>flgs_number</th>\n",
              "      <th>proto</th>\n",
              "      <th>proto_number</th>\n",
              "      <th>saddr</th>\n",
              "      <th>sport</th>\n",
              "      <th>daddr</th>\n",
              "      <th>dport</th>\n",
              "      <th>pkts</th>\n",
              "      <th>bytes</th>\n",
              "      <th>state</th>\n",
              "      <th>state_number</th>\n",
              "      <th>ltime</th>\n",
              "      <th>seq</th>\n",
              "      <th>dur</th>\n",
              "      <th>mean</th>\n",
              "      <th>stddev</th>\n",
              "      <th>sum</th>\n",
              "      <th>min</th>\n",
              "      <th>max</th>\n",
              "      <th>spkts</th>\n",
              "      <th>dpkts</th>\n",
              "      <th>sbytes</th>\n",
              "      <th>dbytes</th>\n",
              "      <th>rate</th>\n",
              "      <th>srate</th>\n",
              "      <th>drate</th>\n",
              "      <th>TnBPSrcIP</th>\n",
              "      <th>TnBPDstIP</th>\n",
              "      <th>TnP_PSrcIP</th>\n",
              "      <th>TnP_PDstIP</th>\n",
              "      <th>TnP_PerProto</th>\n",
              "      <th>TnP_Per_Dport</th>\n",
              "      <th>AR_P_Proto_P_SrcIP</th>\n",
              "      <th>AR_P_Proto_P_DstIP</th>\n",
              "      <th>N_IN_Conn_P_DstIP</th>\n",
              "      <th>N_IN_Conn_P_SrcIP</th>\n",
              "      <th>AR_P_Proto_P_Sport</th>\n",
              "      <th>AR_P_Proto_P_Dport</th>\n",
              "      <th>Pkts_P_State_P_Protocol_P_DestIP</th>\n",
              "      <th>Pkts_P_State_P_Protocol_P_SrcIP</th>\n",
              "      <th>attack</th>\n",
              "      <th>category</th>\n",
              "      <th>subcategory</th>\n",
              "    </tr>\n",
              "  </thead>\n",
              "  <tbody>\n",
              "    <tr>\n",
              "      <th>0</th>\n",
              "      <td>1650261</td>\n",
              "      <td>1650261</td>\n",
              "      <td>1.528103e+09</td>\n",
              "      <td>e</td>\n",
              "      <td>1</td>\n",
              "      <td>tcp</td>\n",
              "      <td>1</td>\n",
              "      <td>192.168.100.150</td>\n",
              "      <td>54110</td>\n",
              "      <td>192.168.100.3</td>\n",
              "      <td>80</td>\n",
              "      <td>10</td>\n",
              "      <td>1729</td>\n",
              "      <td>RST</td>\n",
              "      <td>1</td>\n",
              "      <td>1.528103e+09</td>\n",
              "      <td>20</td>\n",
              "      <td>6.406424</td>\n",
              "      <td>0.679473</td>\n",
              "      <td>0.544126</td>\n",
              "      <td>1.358946</td>\n",
              "      <td>0.135347</td>\n",
              "      <td>1.223599</td>\n",
              "      <td>6</td>\n",
              "      <td>4</td>\n",
              "      <td>963</td>\n",
              "      <td>766</td>\n",
              "      <td>1.404840</td>\n",
              "      <td>0.780467</td>\n",
              "      <td>0.468280</td>\n",
              "      <td>56864</td>\n",
              "      <td>59969</td>\n",
              "      <td>308</td>\n",
              "      <td>328</td>\n",
              "      <td>328</td>\n",
              "      <td>700</td>\n",
              "      <td>1.26889</td>\n",
              "      <td>1.21662</td>\n",
              "      <td>40</td>\n",
              "      <td>38</td>\n",
              "      <td>1.56093</td>\n",
              "      <td>1.21662</td>\n",
              "      <td>328</td>\n",
              "      <td>308</td>\n",
              "      <td>1</td>\n",
              "      <td>DDoS</td>\n",
              "      <td>HTTP</td>\n",
              "    </tr>\n",
              "    <tr>\n",
              "      <th>1</th>\n",
              "      <td>1650262</td>\n",
              "      <td>1650262</td>\n",
              "      <td>1.528103e+09</td>\n",
              "      <td>e</td>\n",
              "      <td>1</td>\n",
              "      <td>tcp</td>\n",
              "      <td>1</td>\n",
              "      <td>192.168.100.150</td>\n",
              "      <td>54112</td>\n",
              "      <td>192.168.100.3</td>\n",
              "      <td>80</td>\n",
              "      <td>10</td>\n",
              "      <td>1604</td>\n",
              "      <td>RST</td>\n",
              "      <td>1</td>\n",
              "      <td>1.528103e+09</td>\n",
              "      <td>21</td>\n",
              "      <td>6.405851</td>\n",
              "      <td>0.679572</td>\n",
              "      <td>0.544197</td>\n",
              "      <td>1.359144</td>\n",
              "      <td>0.135375</td>\n",
              "      <td>1.223769</td>\n",
              "      <td>6</td>\n",
              "      <td>4</td>\n",
              "      <td>838</td>\n",
              "      <td>766</td>\n",
              "      <td>1.404966</td>\n",
              "      <td>0.780536</td>\n",
              "      <td>0.468322</td>\n",
              "      <td>56864</td>\n",
              "      <td>59969</td>\n",
              "      <td>308</td>\n",
              "      <td>328</td>\n",
              "      <td>328</td>\n",
              "      <td>700</td>\n",
              "      <td>1.26889</td>\n",
              "      <td>1.21662</td>\n",
              "      <td>40</td>\n",
              "      <td>38</td>\n",
              "      <td>1.56107</td>\n",
              "      <td>1.21662</td>\n",
              "      <td>328</td>\n",
              "      <td>308</td>\n",
              "      <td>1</td>\n",
              "      <td>DDoS</td>\n",
              "      <td>HTTP</td>\n",
              "    </tr>\n",
              "    <tr>\n",
              "      <th>2</th>\n",
              "      <td>1650263</td>\n",
              "      <td>1650263</td>\n",
              "      <td>1.528103e+09</td>\n",
              "      <td>e</td>\n",
              "      <td>1</td>\n",
              "      <td>tcp</td>\n",
              "      <td>1</td>\n",
              "      <td>192.168.100.150</td>\n",
              "      <td>54114</td>\n",
              "      <td>192.168.100.3</td>\n",
              "      <td>80</td>\n",
              "      <td>8</td>\n",
              "      <td>1708</td>\n",
              "      <td>RST</td>\n",
              "      <td>1</td>\n",
              "      <td>1.528103e+09</td>\n",
              "      <td>22</td>\n",
              "      <td>6.401038</td>\n",
              "      <td>1.110847</td>\n",
              "      <td>1.110847</td>\n",
              "      <td>2.221694</td>\n",
              "      <td>0.000000</td>\n",
              "      <td>2.221694</td>\n",
              "      <td>5</td>\n",
              "      <td>3</td>\n",
              "      <td>1008</td>\n",
              "      <td>700</td>\n",
              "      <td>1.093573</td>\n",
              "      <td>0.624899</td>\n",
              "      <td>0.900214</td>\n",
              "      <td>56864</td>\n",
              "      <td>59969</td>\n",
              "      <td>308</td>\n",
              "      <td>328</td>\n",
              "      <td>328</td>\n",
              "      <td>700</td>\n",
              "      <td>1.26889</td>\n",
              "      <td>1.21662</td>\n",
              "      <td>40</td>\n",
              "      <td>38</td>\n",
              "      <td>1.24980</td>\n",
              "      <td>1.21662</td>\n",
              "      <td>328</td>\n",
              "      <td>308</td>\n",
              "      <td>1</td>\n",
              "      <td>DDoS</td>\n",
              "      <td>HTTP</td>\n",
              "    </tr>\n",
              "    <tr>\n",
              "      <th>3</th>\n",
              "      <td>1650264</td>\n",
              "      <td>1650264</td>\n",
              "      <td>1.528103e+09</td>\n",
              "      <td>e</td>\n",
              "      <td>1</td>\n",
              "      <td>tcp</td>\n",
              "      <td>1</td>\n",
              "      <td>192.168.100.150</td>\n",
              "      <td>54116</td>\n",
              "      <td>192.168.100.3</td>\n",
              "      <td>80</td>\n",
              "      <td>8</td>\n",
              "      <td>1462</td>\n",
              "      <td>RST</td>\n",
              "      <td>1</td>\n",
              "      <td>1.528103e+09</td>\n",
              "      <td>23</td>\n",
              "      <td>6.400703</td>\n",
              "      <td>1.113328</td>\n",
              "      <td>1.113328</td>\n",
              "      <td>2.226655</td>\n",
              "      <td>0.000000</td>\n",
              "      <td>2.226655</td>\n",
              "      <td>5</td>\n",
              "      <td>3</td>\n",
              "      <td>762</td>\n",
              "      <td>700</td>\n",
              "      <td>1.093630</td>\n",
              "      <td>0.624931</td>\n",
              "      <td>0.898208</td>\n",
              "      <td>56864</td>\n",
              "      <td>59969</td>\n",
              "      <td>308</td>\n",
              "      <td>328</td>\n",
              "      <td>328</td>\n",
              "      <td>700</td>\n",
              "      <td>1.26889</td>\n",
              "      <td>1.21662</td>\n",
              "      <td>40</td>\n",
              "      <td>38</td>\n",
              "      <td>1.24986</td>\n",
              "      <td>1.21662</td>\n",
              "      <td>328</td>\n",
              "      <td>308</td>\n",
              "      <td>1</td>\n",
              "      <td>DDoS</td>\n",
              "      <td>HTTP</td>\n",
              "    </tr>\n",
              "    <tr>\n",
              "      <th>4</th>\n",
              "      <td>1650265</td>\n",
              "      <td>1650265</td>\n",
              "      <td>1.528103e+09</td>\n",
              "      <td>e</td>\n",
              "      <td>1</td>\n",
              "      <td>tcp</td>\n",
              "      <td>1</td>\n",
              "      <td>192.168.100.150</td>\n",
              "      <td>54118</td>\n",
              "      <td>192.168.100.3</td>\n",
              "      <td>80</td>\n",
              "      <td>8</td>\n",
              "      <td>1296</td>\n",
              "      <td>RST</td>\n",
              "      <td>1</td>\n",
              "      <td>1.528103e+09</td>\n",
              "      <td>24</td>\n",
              "      <td>6.400472</td>\n",
              "      <td>1.113098</td>\n",
              "      <td>1.113098</td>\n",
              "      <td>2.226195</td>\n",
              "      <td>0.000000</td>\n",
              "      <td>2.226195</td>\n",
              "      <td>5</td>\n",
              "      <td>3</td>\n",
              "      <td>596</td>\n",
              "      <td>700</td>\n",
              "      <td>1.093669</td>\n",
              "      <td>0.624954</td>\n",
              "      <td>0.898394</td>\n",
              "      <td>56864</td>\n",
              "      <td>59969</td>\n",
              "      <td>308</td>\n",
              "      <td>328</td>\n",
              "      <td>328</td>\n",
              "      <td>700</td>\n",
              "      <td>1.26889</td>\n",
              "      <td>1.21662</td>\n",
              "      <td>40</td>\n",
              "      <td>38</td>\n",
              "      <td>1.24991</td>\n",
              "      <td>1.21662</td>\n",
              "      <td>328</td>\n",
              "      <td>308</td>\n",
              "      <td>1</td>\n",
              "      <td>DDoS</td>\n",
              "      <td>HTTP</td>\n",
              "    </tr>\n",
              "  </tbody>\n",
              "</table>\n",
              "</div>\n",
              "      <button class=\"colab-df-convert\" onclick=\"convertToInteractive('df-496986cf-0d9b-4da0-8cca-29cb03ae80e6')\"\n",
              "              title=\"Convert this dataframe to an interactive table.\"\n",
              "              style=\"display:none;\">\n",
              "        \n",
              "  <svg xmlns=\"http://www.w3.org/2000/svg\" height=\"24px\"viewBox=\"0 0 24 24\"\n",
              "       width=\"24px\">\n",
              "    <path d=\"M0 0h24v24H0V0z\" fill=\"none\"/>\n",
              "    <path d=\"M18.56 5.44l.94 2.06.94-2.06 2.06-.94-2.06-.94-.94-2.06-.94 2.06-2.06.94zm-11 1L8.5 8.5l.94-2.06 2.06-.94-2.06-.94L8.5 2.5l-.94 2.06-2.06.94zm10 10l.94 2.06.94-2.06 2.06-.94-2.06-.94-.94-2.06-.94 2.06-2.06.94z\"/><path d=\"M17.41 7.96l-1.37-1.37c-.4-.4-.92-.59-1.43-.59-.52 0-1.04.2-1.43.59L10.3 9.45l-7.72 7.72c-.78.78-.78 2.05 0 2.83L4 21.41c.39.39.9.59 1.41.59.51 0 1.02-.2 1.41-.59l7.78-7.78 2.81-2.81c.8-.78.8-2.07 0-2.86zM5.41 20L4 18.59l7.72-7.72 1.47 1.35L5.41 20z\"/>\n",
              "  </svg>\n",
              "      </button>\n",
              "      \n",
              "  <style>\n",
              "    .colab-df-container {\n",
              "      display:flex;\n",
              "      flex-wrap:wrap;\n",
              "      gap: 12px;\n",
              "    }\n",
              "\n",
              "    .colab-df-convert {\n",
              "      background-color: #E8F0FE;\n",
              "      border: none;\n",
              "      border-radius: 50%;\n",
              "      cursor: pointer;\n",
              "      display: none;\n",
              "      fill: #1967D2;\n",
              "      height: 32px;\n",
              "      padding: 0 0 0 0;\n",
              "      width: 32px;\n",
              "    }\n",
              "\n",
              "    .colab-df-convert:hover {\n",
              "      background-color: #E2EBFA;\n",
              "      box-shadow: 0px 1px 2px rgba(60, 64, 67, 0.3), 0px 1px 3px 1px rgba(60, 64, 67, 0.15);\n",
              "      fill: #174EA6;\n",
              "    }\n",
              "\n",
              "    [theme=dark] .colab-df-convert {\n",
              "      background-color: #3B4455;\n",
              "      fill: #D2E3FC;\n",
              "    }\n",
              "\n",
              "    [theme=dark] .colab-df-convert:hover {\n",
              "      background-color: #434B5C;\n",
              "      box-shadow: 0px 1px 3px 1px rgba(0, 0, 0, 0.15);\n",
              "      filter: drop-shadow(0px 1px 2px rgba(0, 0, 0, 0.3));\n",
              "      fill: #FFFFFF;\n",
              "    }\n",
              "  </style>\n",
              "\n",
              "      <script>\n",
              "        const buttonEl =\n",
              "          document.querySelector('#df-496986cf-0d9b-4da0-8cca-29cb03ae80e6 button.colab-df-convert');\n",
              "        buttonEl.style.display =\n",
              "          google.colab.kernel.accessAllowed ? 'block' : 'none';\n",
              "\n",
              "        async function convertToInteractive(key) {\n",
              "          const element = document.querySelector('#df-496986cf-0d9b-4da0-8cca-29cb03ae80e6');\n",
              "          const dataTable =\n",
              "            await google.colab.kernel.invokeFunction('convertToInteractive',\n",
              "                                                     [key], {});\n",
              "          if (!dataTable) return;\n",
              "\n",
              "          const docLinkHtml = 'Like what you see? Visit the ' +\n",
              "            '<a target=\"_blank\" href=https://colab.research.google.com/notebooks/data_table.ipynb>data table notebook</a>'\n",
              "            + ' to learn more about interactive tables.';\n",
              "          element.innerHTML = '';\n",
              "          dataTable['output_type'] = 'display_data';\n",
              "          await google.colab.output.renderOutput(dataTable, element);\n",
              "          const docLink = document.createElement('div');\n",
              "          docLink.innerHTML = docLinkHtml;\n",
              "          element.appendChild(docLink);\n",
              "        }\n",
              "      </script>\n",
              "    </div>\n",
              "  </div>\n",
              "  "
            ],
            "text/plain": [
              "   Unnamed: 0  pkSeqID         stime  ... attack  category subcategory\n",
              "0     1650261  1650261  1.528103e+09  ...      1      DDoS        HTTP\n",
              "1     1650262  1650262  1.528103e+09  ...      1      DDoS        HTTP\n",
              "2     1650263  1650263  1.528103e+09  ...      1      DDoS        HTTP\n",
              "3     1650264  1650264  1.528103e+09  ...      1      DDoS        HTTP\n",
              "4     1650265  1650265  1.528103e+09  ...      1      DDoS        HTTP\n",
              "\n",
              "[5 rows x 47 columns]"
            ]
          },
          "metadata": {},
          "execution_count": 30
        }
      ]
    },
    {
      "cell_type": "code",
      "source": [
        "data['Museum Type'].value_counts() #Grouping the dataes"
      ],
      "metadata": {
        "colab": {
          "base_uri": "https://localhost:8080/"
        },
        "id": "gL6aPZGkEUu6",
        "outputId": "57fc9708-caac-49f2-d622-4988933c56ef"
      },
      "execution_count": 71,
      "outputs": [
        {
          "output_type": "execute_result",
          "data": {
            "text/plain": [
              "HISTORIC PRESERVATION                            14861\n",
              "GENERAL MUSEUM                                    8699\n",
              "ART MUSEUM                                        3241\n",
              "HISTORY MUSEUM                                    2284\n",
              "ARBORETUM, BOTANICAL GARDEN, OR NATURE CENTER     1484\n",
              "SCIENCE & TECHNOLOGY MUSEUM OR PLANETARIUM        1081\n",
              "ZOO, AQUARIUM, OR WILDLIFE CONSERVATION            564\n",
              "CHILDREN'S MUSEUM                                  512\n",
              "NATURAL HISTORY MUSEUM                             346\n",
              "Name: Museum Type, dtype: int64"
            ]
          },
          "metadata": {},
          "execution_count": 71
        }
      ]
    },
    {
      "cell_type": "code",
      "source": [
        "data['Museum Type'].value_counts().plot(kind = 'pie', figsize = (6,6))"
      ],
      "metadata": {
        "colab": {
          "base_uri": "https://localhost:8080/",
          "height": 374
        },
        "id": "CBgMhdPSFTtw",
        "outputId": "47521351-cf49-431e-c424-c4b196a88eec"
      },
      "execution_count": 72,
      "outputs": [
        {
          "output_type": "execute_result",
          "data": {
            "text/plain": [
              "<matplotlib.axes._subplots.AxesSubplot at 0x7f8f3aa81710>"
            ]
          },
          "metadata": {},
          "execution_count": 72
        },
        {
          "output_type": "display_data",
          "data": {
            "image/png": "[encoded data removed]",
            "text/plain": [
              "<Figure size 432x432 with 1 Axes>"
            ]
          },
          "metadata": {}
        }
      ]
    },
    {
      "cell_type": "code",
      "source": [
        "data['Museum Type'].value_counts().plot(kind = 'bar', figsize = (12,6))"
      ],
      "metadata": {
        "colab": {
          "base_uri": "https://localhost:8080/",
          "height": 660
        },
        "id": "PMnjTI9-GE0e",
        "outputId": "dc6e2086-3f68-4667-a4b7-80eda64c2c37"
      },
      "execution_count": 73,
      "outputs": [
        {
          "output_type": "execute_result",
          "data": {
            "text/plain": [
              "<matplotlib.axes._subplots.AxesSubplot at 0x7f8f3805ebd0>"
            ]
          },
          "metadata": {},
          "execution_count": 73
        },
        {
          "output_type": "display_data",
          "data": {
            "image/png": "[encoded data removed]",
            "text/plain": [
              "<Figure size 864x432 with 1 Axes>"
            ]
          },
          "metadata": {
            "needs_background": "light"
          }
        }
      ]
    },
    {
      "cell_type": "code",
      "source": [
        "def cor():\n",
        "  print(\"getting started\")\n",
        "  corr = data.corr()\n",
        "  print(\"cor is done\")\n",
        "t1 = threading.Thread(target = cor)\n",
        "t1.start()"
      ],
      "metadata": {
        "colab": {
          "base_uri": "https://localhost:8080/"
        },
        "id": "Ao_TzuekGfGh",
        "outputId": "77b4704f-f44c-4bf8-bd4c-22da57894f50"
      },
      "execution_count": 74,
      "outputs": [
        {
          "output_type": "stream",
          "name": "stdout",
          "text": [
            "getting started"
          ]
        }
      ]
    },
    {
      "cell_type": "code",
      "source": [
        "# module imports\n",
        "import numpy as np \n",
        "import pandas as pd \n",
        "import matplotlib.pyplot as plt\n",
        "import seaborn as sns\n",
        "import itertools\n",
        "import random\n",
        "\n",
        "# model imports\n",
        "from sklearn.ensemble import RandomForestClassifier\n",
        "from sklearn.neighbors import KNeighborsClassifier\n",
        "from sklearn.linear_model import LogisticRegression\n",
        "\n",
        "# processing imports\n",
        "from sklearn.preprocessing import LabelEncoder\n",
        "from sklearn.model_selection import train_test_split\n",
        "from sklearn.model_selection import cross_val_score\n",
        "from sklearn.metrics import mean_absolute_error\n",
        "from sklearn.metrics import accuracy_score\n",
        "from sklearn.metrics import confusion_matrix\n",
        "\n",
        "print('Welcome!')"
      ],
      "metadata": {
        "colab": {
          "base_uri": "https://localhost:8080/"
        },
        "id": "dFrAmS0XRhsa",
        "outputId": "e59c596c-aecf-43c8-eff9-3d8d35116680"
      },
      "execution_count": 82,
      "outputs": [
        {
          "output_type": "stream",
          "name": "stdout",
          "text": [
            "Welcome!\n"
          ]
        }
      ]
    },
    {
      "cell_type": "code",
      "source": [
        "train = '/content/drive/MyDrive/dataset3/KDDTrain+.txt'\n",
        "df = pd.read_csv(train)"
      ],
      "metadata": {
        "id": "QtGkXhWKMh9r"
      },
      "execution_count": 84,
      "outputs": []
    },
    {
      "cell_type": "code",
      "source": [
        "# add the column labels\n",
        "columns = (['duration'\n",
        ",'protocol_type'\n",
        ",'service'\n",
        ",'flag'\n",
        ",'src_bytes'\n",
        ",'dst_bytes'\n",
        ",'land'\n",
        ",'wrong_fragment'\n",
        ",'urgent'\n",
        ",'hot'\n",
        ",'num_failed_logins'\n",
        ",'logged_in'\n",
        ",'num_compromised'\n",
        ",'root_shell'\n",
        ",'su_attempted'\n",
        ",'num_root'\n",
        ",'num_file_creations'\n",
        ",'num_shells'\n",
        ",'num_access_files'\n",
        ",'num_outbound_cmds'\n",
        ",'is_host_login'\n",
        ",'is_guest_login'\n",
        ",'count'\n",
        ",'srv_count'\n",
        ",'serror_rate'\n",
        ",'srv_serror_rate'\n",
        ",'rerror_rate'\n",
        ",'srv_rerror_rate'\n",
        ",'same_srv_rate'\n",
        ",'diff_srv_rate'\n",
        ",'srv_diff_host_rate'\n",
        ",'dst_host_count'\n",
        ",'dst_host_srv_count'\n",
        ",'dst_host_same_srv_rate'\n",
        ",'dst_host_diff_srv_rate'\n",
        ",'dst_host_same_src_port_rate'\n",
        ",'dst_host_srv_diff_host_rate'\n",
        ",'dst_host_serror_rate'\n",
        ",'dst_host_srv_serror_rate'\n",
        ",'dst_host_rerror_rate'\n",
        ",'dst_host_srv_rerror_rate'\n",
        ",'attack'\n",
        ",'level'])"
      ],
      "metadata": {
        "id": "xJR42nUYTgHS"
      },
      "execution_count": 85,
      "outputs": []
    },
    {
      "cell_type": "code",
      "source": [
        "df.columns = columns\n",
        "df.head()"
      ],
      "metadata": {
        "colab": {
          "base_uri": "https://localhost:8080/",
          "height": 270
        },
        "id": "trMapwkFTugj",
        "outputId": "d7c670df-e273-4116-a30b-db279bca3ffb"
      },
      "execution_count": 87,
      "outputs": [
        {
          "output_type": "execute_result",
          "data": {
            "text/html": [
              "\n",
              "  <div id=\"df-75f2a4b2-ef78-4d86-a16a-4067b8a80d7b\">\n",
              "    <div class=\"colab-df-container\">\n",
              "      <div>\n",
              "<style scoped>\n",
              "    .dataframe tbody tr th:only-of-type {\n",
              "        vertical-align: middle;\n",
              "    }\n",
              "\n",
              "    .dataframe tbody tr th {\n",
              "        vertical-align: top;\n",
              "    }\n",
              "\n",
              "    .dataframe thead th {\n",
              "        text-align: right;\n",
              "    }\n",
              "</style>\n",
              "<table border=\"1\" class=\"dataframe\">\n",
              "  <thead>\n",
              "    <tr style=\"text-align: right;\">\n",
              "      <th></th>\n",
              "      <th>duration</th>\n",
              "      <th>protocol_type</th>\n",
              "      <th>service</th>\n",
              "      <th>flag</th>\n",
              "      <th>src_bytes</th>\n",
              "      <th>dst_bytes</th>\n",
              "      <th>land</th>\n",
              "      <th>wrong_fragment</th>\n",
              "      <th>urgent</th>\n",
              "      <th>hot</th>\n",
              "      <th>num_failed_logins</th>\n",
              "      <th>logged_in</th>\n",
              "      <th>num_compromised</th>\n",
              "      <th>root_shell</th>\n",
              "      <th>su_attempted</th>\n",
              "      <th>num_root</th>\n",
              "      <th>num_file_creations</th>\n",
              "      <th>num_shells</th>\n",
              "      <th>num_access_files</th>\n",
              "      <th>num_outbound_cmds</th>\n",
              "      <th>is_host_login</th>\n",
              "      <th>is_guest_login</th>\n",
              "      <th>count</th>\n",
              "      <th>srv_count</th>\n",
              "      <th>serror_rate</th>\n",
              "      <th>srv_serror_rate</th>\n",
              "      <th>rerror_rate</th>\n",
              "      <th>srv_rerror_rate</th>\n",
              "      <th>same_srv_rate</th>\n",
              "      <th>diff_srv_rate</th>\n",
              "      <th>srv_diff_host_rate</th>\n",
              "      <th>dst_host_count</th>\n",
              "      <th>dst_host_srv_count</th>\n",
              "      <th>dst_host_same_srv_rate</th>\n",
              "      <th>dst_host_diff_srv_rate</th>\n",
              "      <th>dst_host_same_src_port_rate</th>\n",
              "      <th>dst_host_srv_diff_host_rate</th>\n",
              "      <th>dst_host_serror_rate</th>\n",
              "      <th>dst_host_srv_serror_rate</th>\n",
              "      <th>dst_host_rerror_rate</th>\n",
              "      <th>dst_host_srv_rerror_rate</th>\n",
              "      <th>attack</th>\n",
              "      <th>level</th>\n",
              "    </tr>\n",
              "  </thead>\n",
              "  <tbody>\n",
              "    <tr>\n",
              "      <th>0</th>\n",
              "      <td>0</td>\n",
              "      <td>udp</td>\n",
              "      <td>other</td>\n",
              "      <td>SF</td>\n",
              "      <td>146</td>\n",
              "      <td>0</td>\n",
              "      <td>0</td>\n",
              "      <td>0</td>\n",
              "      <td>0</td>\n",
              "      <td>0</td>\n",
              "      <td>0</td>\n",
              "      <td>0</td>\n",
              "      <td>0</td>\n",
              "      <td>0</td>\n",
              "      <td>0</td>\n",
              "      <td>0</td>\n",
              "      <td>0</td>\n",
              "      <td>0</td>\n",
              "      <td>0</td>\n",
              "      <td>0</td>\n",
              "      <td>0</td>\n",
              "      <td>0</td>\n",
              "      <td>13</td>\n",
              "      <td>1</td>\n",
              "      <td>0.0</td>\n",
              "      <td>0.0</td>\n",
              "      <td>0.0</td>\n",
              "      <td>0.0</td>\n",
              "      <td>0.08</td>\n",
              "      <td>0.15</td>\n",
              "      <td>0.00</td>\n",
              "      <td>255</td>\n",
              "      <td>1</td>\n",
              "      <td>0.00</td>\n",
              "      <td>0.60</td>\n",
              "      <td>0.88</td>\n",
              "      <td>0.00</td>\n",
              "      <td>0.00</td>\n",
              "      <td>0.00</td>\n",
              "      <td>0.0</td>\n",
              "      <td>0.00</td>\n",
              "      <td>normal</td>\n",
              "      <td>15</td>\n",
              "    </tr>\n",
              "    <tr>\n",
              "      <th>1</th>\n",
              "      <td>0</td>\n",
              "      <td>tcp</td>\n",
              "      <td>private</td>\n",
              "      <td>S0</td>\n",
              "      <td>0</td>\n",
              "      <td>0</td>\n",
              "      <td>0</td>\n",
              "      <td>0</td>\n",
              "      <td>0</td>\n",
              "      <td>0</td>\n",
              "      <td>0</td>\n",
              "      <td>0</td>\n",
              "      <td>0</td>\n",
              "      <td>0</td>\n",
              "      <td>0</td>\n",
              "      <td>0</td>\n",
              "      <td>0</td>\n",
              "      <td>0</td>\n",
              "      <td>0</td>\n",
              "      <td>0</td>\n",
              "      <td>0</td>\n",
              "      <td>0</td>\n",
              "      <td>123</td>\n",
              "      <td>6</td>\n",
              "      <td>1.0</td>\n",
              "      <td>1.0</td>\n",
              "      <td>0.0</td>\n",
              "      <td>0.0</td>\n",
              "      <td>0.05</td>\n",
              "      <td>0.07</td>\n",
              "      <td>0.00</td>\n",
              "      <td>255</td>\n",
              "      <td>26</td>\n",
              "      <td>0.10</td>\n",
              "      <td>0.05</td>\n",
              "      <td>0.00</td>\n",
              "      <td>0.00</td>\n",
              "      <td>1.00</td>\n",
              "      <td>1.00</td>\n",
              "      <td>0.0</td>\n",
              "      <td>0.00</td>\n",
              "      <td>neptune</td>\n",
              "      <td>19</td>\n",
              "    </tr>\n",
              "    <tr>\n",
              "      <th>2</th>\n",
              "      <td>0</td>\n",
              "      <td>tcp</td>\n",
              "      <td>http</td>\n",
              "      <td>SF</td>\n",
              "      <td>232</td>\n",
              "      <td>8153</td>\n",
              "      <td>0</td>\n",
              "      <td>0</td>\n",
              "      <td>0</td>\n",
              "      <td>0</td>\n",
              "      <td>0</td>\n",
              "      <td>1</td>\n",
              "      <td>0</td>\n",
              "      <td>0</td>\n",
              "      <td>0</td>\n",
              "      <td>0</td>\n",
              "      <td>0</td>\n",
              "      <td>0</td>\n",
              "      <td>0</td>\n",
              "      <td>0</td>\n",
              "      <td>0</td>\n",
              "      <td>0</td>\n",
              "      <td>5</td>\n",
              "      <td>5</td>\n",
              "      <td>0.2</td>\n",
              "      <td>0.2</td>\n",
              "      <td>0.0</td>\n",
              "      <td>0.0</td>\n",
              "      <td>1.00</td>\n",
              "      <td>0.00</td>\n",
              "      <td>0.00</td>\n",
              "      <td>30</td>\n",
              "      <td>255</td>\n",
              "      <td>1.00</td>\n",
              "      <td>0.00</td>\n",
              "      <td>0.03</td>\n",
              "      <td>0.04</td>\n",
              "      <td>0.03</td>\n",
              "      <td>0.01</td>\n",
              "      <td>0.0</td>\n",
              "      <td>0.01</td>\n",
              "      <td>normal</td>\n",
              "      <td>21</td>\n",
              "    </tr>\n",
              "    <tr>\n",
              "      <th>3</th>\n",
              "      <td>0</td>\n",
              "      <td>tcp</td>\n",
              "      <td>http</td>\n",
              "      <td>SF</td>\n",
              "      <td>199</td>\n",
              "      <td>420</td>\n",
              "      <td>0</td>\n",
              "      <td>0</td>\n",
              "      <td>0</td>\n",
              "      <td>0</td>\n",
              "      <td>0</td>\n",
              "      <td>1</td>\n",
              "      <td>0</td>\n",
              "      <td>0</td>\n",
              "      <td>0</td>\n",
              "      <td>0</td>\n",
              "      <td>0</td>\n",
              "      <td>0</td>\n",
              "      <td>0</td>\n",
              "      <td>0</td>\n",
              "      <td>0</td>\n",
              "      <td>0</td>\n",
              "      <td>30</td>\n",
              "      <td>32</td>\n",
              "      <td>0.0</td>\n",
              "      <td>0.0</td>\n",
              "      <td>0.0</td>\n",
              "      <td>0.0</td>\n",
              "      <td>1.00</td>\n",
              "      <td>0.00</td>\n",
              "      <td>0.09</td>\n",
              "      <td>255</td>\n",
              "      <td>255</td>\n",
              "      <td>1.00</td>\n",
              "      <td>0.00</td>\n",
              "      <td>0.00</td>\n",
              "      <td>0.00</td>\n",
              "      <td>0.00</td>\n",
              "      <td>0.00</td>\n",
              "      <td>0.0</td>\n",
              "      <td>0.00</td>\n",
              "      <td>normal</td>\n",
              "      <td>21</td>\n",
              "    </tr>\n",
              "    <tr>\n",
              "      <th>4</th>\n",
              "      <td>0</td>\n",
              "      <td>tcp</td>\n",
              "      <td>private</td>\n",
              "      <td>REJ</td>\n",
              "      <td>0</td>\n",
              "      <td>0</td>\n",
              "      <td>0</td>\n",
              "      <td>0</td>\n",
              "      <td>0</td>\n",
              "      <td>0</td>\n",
              "      <td>0</td>\n",
              "      <td>0</td>\n",
              "      <td>0</td>\n",
              "      <td>0</td>\n",
              "      <td>0</td>\n",
              "      <td>0</td>\n",
              "      <td>0</td>\n",
              "      <td>0</td>\n",
              "      <td>0</td>\n",
              "      <td>0</td>\n",
              "      <td>0</td>\n",
              "      <td>0</td>\n",
              "      <td>121</td>\n",
              "      <td>19</td>\n",
              "      <td>0.0</td>\n",
              "      <td>0.0</td>\n",
              "      <td>1.0</td>\n",
              "      <td>1.0</td>\n",
              "      <td>0.16</td>\n",
              "      <td>0.06</td>\n",
              "      <td>0.00</td>\n",
              "      <td>255</td>\n",
              "      <td>19</td>\n",
              "      <td>0.07</td>\n",
              "      <td>0.07</td>\n",
              "      <td>0.00</td>\n",
              "      <td>0.00</td>\n",
              "      <td>0.00</td>\n",
              "      <td>0.00</td>\n",
              "      <td>1.0</td>\n",
              "      <td>1.00</td>\n",
              "      <td>neptune</td>\n",
              "      <td>21</td>\n",
              "    </tr>\n",
              "  </tbody>\n",
              "</table>\n",
              "</div>\n",
              "      <button class=\"colab-df-convert\" onclick=\"convertToInteractive('df-75f2a4b2-ef78-4d86-a16a-4067b8a80d7b')\"\n",
              "              title=\"Convert this dataframe to an interactive table.\"\n",
              "              style=\"display:none;\">\n",
              "        \n",
              "  <svg xmlns=\"http://www.w3.org/2000/svg\" height=\"24px\"viewBox=\"0 0 24 24\"\n",
              "       width=\"24px\">\n",
              "    <path d=\"M0 0h24v24H0V0z\" fill=\"none\"/>\n",
              "    <path d=\"M18.56 5.44l.94 2.06.94-2.06 2.06-.94-2.06-.94-.94-2.06-.94 2.06-2.06.94zm-11 1L8.5 8.5l.94-2.06 2.06-.94-2.06-.94L8.5 2.5l-.94 2.06-2.06.94zm10 10l.94 2.06.94-2.06 2.06-.94-2.06-.94-.94-2.06-.94 2.06-2.06.94z\"/><path d=\"M17.41 7.96l-1.37-1.37c-.4-.4-.92-.59-1.43-.59-.52 0-1.04.2-1.43.59L10.3 9.45l-7.72 7.72c-.78.78-.78 2.05 0 2.83L4 21.41c.39.39.9.59 1.41.59.51 0 1.02-.2 1.41-.59l7.78-7.78 2.81-2.81c.8-.78.8-2.07 0-2.86zM5.41 20L4 18.59l7.72-7.72 1.47 1.35L5.41 20z\"/>\n",
              "  </svg>\n",
              "      </button>\n",
              "      \n",
              "  <style>\n",
              "    .colab-df-container {\n",
              "      display:flex;\n",
              "      flex-wrap:wrap;\n",
              "      gap: 12px;\n",
              "    }\n",
              "\n",
              "    .colab-df-convert {\n",
              "      background-color: #E8F0FE;\n",
              "      border: none;\n",
              "      border-radius: 50%;\n",
              "      cursor: pointer;\n",
              "      display: none;\n",
              "      fill: #1967D2;\n",
              "      height: 32px;\n",
              "      padding: 0 0 0 0;\n",
              "      width: 32px;\n",
              "    }\n",
              "\n",
              "    .colab-df-convert:hover {\n",
              "      background-color: #E2EBFA;\n",
              "      box-shadow: 0px 1px 2px rgba(60, 64, 67, 0.3), 0px 1px 3px 1px rgba(60, 64, 67, 0.15);\n",
              "      fill: #174EA6;\n",
              "    }\n",
              "\n",
              "    [theme=dark] .colab-df-convert {\n",
              "      background-color: #3B4455;\n",
              "      fill: #D2E3FC;\n",
              "    }\n",
              "\n",
              "    [theme=dark] .colab-df-convert:hover {\n",
              "      background-color: #434B5C;\n",
              "      box-shadow: 0px 1px 3px 1px rgba(0, 0, 0, 0.15);\n",
              "      filter: drop-shadow(0px 1px 2px rgba(0, 0, 0, 0.3));\n",
              "      fill: #FFFFFF;\n",
              "    }\n",
              "  </style>\n",
              "\n",
              "      <script>\n",
              "        const buttonEl =\n",
              "          document.querySelector('#df-75f2a4b2-ef78-4d86-a16a-4067b8a80d7b button.colab-df-convert');\n",
              "        buttonEl.style.display =\n",
              "          google.colab.kernel.accessAllowed ? 'block' : 'none';\n",
              "\n",
              "        async function convertToInteractive(key) {\n",
              "          const element = document.querySelector('#df-75f2a4b2-ef78-4d86-a16a-4067b8a80d7b');\n",
              "          const dataTable =\n",
              "            await google.colab.kernel.invokeFunction('convertToInteractive',\n",
              "                                                     [key], {});\n",
              "          if (!dataTable) return;\n",
              "\n",
              "          const docLinkHtml = 'Like what you see? Visit the ' +\n",
              "            '<a target=\"_blank\" href=https://colab.research.google.com/notebooks/data_table.ipynb>data table notebook</a>'\n",
              "            + ' to learn more about interactive tables.';\n",
              "          element.innerHTML = '';\n",
              "          dataTable['output_type'] = 'display_data';\n",
              "          await google.colab.output.renderOutput(dataTable, element);\n",
              "          const docLink = document.createElement('div');\n",
              "          docLink.innerHTML = docLinkHtml;\n",
              "          element.appendChild(docLink);\n",
              "        }\n",
              "      </script>\n",
              "    </div>\n",
              "  </div>\n",
              "  "
            ],
            "text/plain": [
              "   duration protocol_type  service  ... dst_host_srv_rerror_rate   attack  level\n",
              "0         0           udp    other  ...                     0.00   normal     15\n",
              "1         0           tcp  private  ...                     0.00  neptune     19\n",
              "2         0           tcp     http  ...                     0.01   normal     21\n",
              "3         0           tcp     http  ...                     0.00   normal     21\n",
              "4         0           tcp  private  ...                     1.00  neptune     21\n",
              "\n",
              "[5 rows x 43 columns]"
            ]
          },
          "metadata": {},
          "execution_count": 87
        }
      ]
    },
    {
      "cell_type": "code",
      "source": [
        "df.info()"
      ],
      "metadata": {
        "colab": {
          "base_uri": "https://localhost:8080/"
        },
        "id": "wlY-v6Q4UKpb",
        "outputId": "c119714a-23b7-487c-deaa-6f1f55b03cf6"
      },
      "execution_count": 88,
      "outputs": [
        {
          "output_type": "stream",
          "name": "stdout",
          "text": [
            "<class 'pandas.core.frame.DataFrame'>\n",
            "RangeIndex: 125972 entries, 0 to 125971\n",
            "Data columns (total 43 columns):\n",
            " #   Column                       Non-Null Count   Dtype  \n",
            "---  ------                       --------------   -----  \n",
            " 0   duration                     125972 non-null  int64  \n",
            " 1   protocol_type                125972 non-null  object \n",
            " 2   service                      125972 non-null  object \n",
            " 3   flag                         125972 non-null  object \n",
            " 4   src_bytes                    125972 non-null  int64  \n",
            " 5   dst_bytes                    125972 non-null  int64  \n",
            " 6   land                         125972 non-null  int64  \n",
            " 7   wrong_fragment               125972 non-null  int64  \n",
            " 8   urgent                       125972 non-null  int64  \n",
            " 9   hot                          125972 non-null  int64  \n",
            " 10  num_failed_logins            125972 non-null  int64  \n",
            " 11  logged_in                    125972 non-null  int64  \n",
            " 12  num_compromised              125972 non-null  int64  \n",
            " 13  root_shell                   125972 non-null  int64  \n",
            " 14  su_attempted                 125972 non-null  int64  \n",
            " 15  num_root                     125972 non-null  int64  \n",
            " 16  num_file_creations           125972 non-null  int64  \n",
            " 17  num_shells                   125972 non-null  int64  \n",
            " 18  num_access_files             125972 non-null  int64  \n",
            " 19  num_outbound_cmds            125972 non-null  int64  \n",
            " 20  is_host_login                125972 non-null  int64  \n",
            " 21  is_guest_login               125972 non-null  int64  \n",
            " 22  count                        125972 non-null  int64  \n",
            " 23  srv_count                    125972 non-null  int64  \n",
            " 24  serror_rate                  125972 non-null  float64\n",
            " 25  srv_serror_rate              125972 non-null  float64\n",
            " 26  rerror_rate                  125972 non-null  float64\n",
            " 27  srv_rerror_rate              125972 non-null  float64\n",
            " 28  same_srv_rate                125972 non-null  float64\n",
            " 29  diff_srv_rate                125972 non-null  float64\n",
            " 30  srv_diff_host_rate           125972 non-null  float64\n",
            " 31  dst_host_count               125972 non-null  int64  \n",
            " 32  dst_host_srv_count           125972 non-null  int64  \n",
            " 33  dst_host_same_srv_rate       125972 non-null  float64\n",
            " 34  dst_host_diff_srv_rate       125972 non-null  float64\n",
            " 35  dst_host_same_src_port_rate  125972 non-null  float64\n",
            " 36  dst_host_srv_diff_host_rate  125972 non-null  float64\n",
            " 37  dst_host_serror_rate         125972 non-null  float64\n",
            " 38  dst_host_srv_serror_rate     125972 non-null  float64\n",
            " 39  dst_host_rerror_rate         125972 non-null  float64\n",
            " 40  dst_host_srv_rerror_rate     125972 non-null  float64\n",
            " 41  attack                       125972 non-null  object \n",
            " 42  level                        125972 non-null  int64  \n",
            "dtypes: float64(15), int64(24), object(4)\n",
            "memory usage: 41.3+ MB\n"
          ]
        }
      ]
    },
    {
      "cell_type": "code",
      "source": [
        "df.describe()"
      ],
      "metadata": {
        "colab": {
          "base_uri": "https://localhost:8080/",
          "height": 364
        },
        "id": "x0yFqcNHUUTh",
        "outputId": "dc437f02-80c8-4b62-9e12-b5bfe4ae7b06"
      },
      "execution_count": 90,
      "outputs": [
        {
          "output_type": "execute_result",
          "data": {
            "text/html": [
              "\n",
              "  <div id=\"df-e4b2cf14-536e-458d-88dd-06cd3ef73b3d\">\n",
              "    <div class=\"colab-df-container\">\n",
              "      <div>\n",
              "<style scoped>\n",
              "    .dataframe tbody tr th:only-of-type {\n",
              "        vertical-align: middle;\n",
              "    }\n",
              "\n",
              "    .dataframe tbody tr th {\n",
              "        vertical-align: top;\n",
              "    }\n",
              "\n",
              "    .dataframe thead th {\n",
              "        text-align: right;\n",
              "    }\n",
              "</style>\n",
              "<table border=\"1\" class=\"dataframe\">\n",
              "  <thead>\n",
              "    <tr style=\"text-align: right;\">\n",
              "      <th></th>\n",
              "      <th>duration</th>\n",
              "      <th>src_bytes</th>\n",
              "      <th>dst_bytes</th>\n",
              "      <th>land</th>\n",
              "      <th>wrong_fragment</th>\n",
              "      <th>urgent</th>\n",
              "      <th>hot</th>\n",
              "      <th>num_failed_logins</th>\n",
              "      <th>logged_in</th>\n",
              "      <th>num_compromised</th>\n",
              "      <th>root_shell</th>\n",
              "      <th>su_attempted</th>\n",
              "      <th>num_root</th>\n",
              "      <th>num_file_creations</th>\n",
              "      <th>num_shells</th>\n",
              "      <th>num_access_files</th>\n",
              "      <th>num_outbound_cmds</th>\n",
              "      <th>is_host_login</th>\n",
              "      <th>is_guest_login</th>\n",
              "      <th>count</th>\n",
              "      <th>srv_count</th>\n",
              "      <th>serror_rate</th>\n",
              "      <th>srv_serror_rate</th>\n",
              "      <th>rerror_rate</th>\n",
              "      <th>srv_rerror_rate</th>\n",
              "      <th>same_srv_rate</th>\n",
              "      <th>diff_srv_rate</th>\n",
              "      <th>srv_diff_host_rate</th>\n",
              "      <th>dst_host_count</th>\n",
              "      <th>dst_host_srv_count</th>\n",
              "      <th>dst_host_same_srv_rate</th>\n",
              "      <th>dst_host_diff_srv_rate</th>\n",
              "      <th>dst_host_same_src_port_rate</th>\n",
              "      <th>dst_host_srv_diff_host_rate</th>\n",
              "      <th>dst_host_serror_rate</th>\n",
              "      <th>dst_host_srv_serror_rate</th>\n",
              "      <th>dst_host_rerror_rate</th>\n",
              "      <th>dst_host_srv_rerror_rate</th>\n",
              "      <th>level</th>\n",
              "    </tr>\n",
              "  </thead>\n",
              "  <tbody>\n",
              "    <tr>\n",
              "      <th>count</th>\n",
              "      <td>125972.000000</td>\n",
              "      <td>1.259720e+05</td>\n",
              "      <td>1.259720e+05</td>\n",
              "      <td>125972.000000</td>\n",
              "      <td>125972.000000</td>\n",
              "      <td>125972.000000</td>\n",
              "      <td>125972.000000</td>\n",
              "      <td>125972.000000</td>\n",
              "      <td>125972.000000</td>\n",
              "      <td>125972.000000</td>\n",
              "      <td>125972.000000</td>\n",
              "      <td>125972.000000</td>\n",
              "      <td>125972.000000</td>\n",
              "      <td>125972.000000</td>\n",
              "      <td>125972.000000</td>\n",
              "      <td>125972.000000</td>\n",
              "      <td>125972.0</td>\n",
              "      <td>125972.000000</td>\n",
              "      <td>125972.000000</td>\n",
              "      <td>125972.000000</td>\n",
              "      <td>125972.000000</td>\n",
              "      <td>125972.000000</td>\n",
              "      <td>125972.000000</td>\n",
              "      <td>125972.000000</td>\n",
              "      <td>125972.000000</td>\n",
              "      <td>125972.000000</td>\n",
              "      <td>125972.000000</td>\n",
              "      <td>125972.000000</td>\n",
              "      <td>125972.000000</td>\n",
              "      <td>125972.000000</td>\n",
              "      <td>125972.000000</td>\n",
              "      <td>125972.000000</td>\n",
              "      <td>125972.000000</td>\n",
              "      <td>125972.000000</td>\n",
              "      <td>125972.000000</td>\n",
              "      <td>125972.000000</td>\n",
              "      <td>125972.000000</td>\n",
              "      <td>125972.000000</td>\n",
              "      <td>125972.000000</td>\n",
              "    </tr>\n",
              "    <tr>\n",
              "      <th>mean</th>\n",
              "      <td>287.146929</td>\n",
              "      <td>4.556710e+04</td>\n",
              "      <td>1.977927e+04</td>\n",
              "      <td>0.000198</td>\n",
              "      <td>0.022688</td>\n",
              "      <td>0.000111</td>\n",
              "      <td>0.204411</td>\n",
              "      <td>0.001222</td>\n",
              "      <td>0.395739</td>\n",
              "      <td>0.279253</td>\n",
              "      <td>0.001342</td>\n",
              "      <td>0.001103</td>\n",
              "      <td>0.302194</td>\n",
              "      <td>0.012669</td>\n",
              "      <td>0.000413</td>\n",
              "      <td>0.004096</td>\n",
              "      <td>0.0</td>\n",
              "      <td>0.000008</td>\n",
              "      <td>0.009423</td>\n",
              "      <td>84.108207</td>\n",
              "      <td>27.738093</td>\n",
              "      <td>0.284487</td>\n",
              "      <td>0.282488</td>\n",
              "      <td>0.119959</td>\n",
              "      <td>0.121184</td>\n",
              "      <td>0.660925</td>\n",
              "      <td>0.063053</td>\n",
              "      <td>0.097322</td>\n",
              "      <td>182.149200</td>\n",
              "      <td>115.653725</td>\n",
              "      <td>0.521244</td>\n",
              "      <td>0.082952</td>\n",
              "      <td>0.148379</td>\n",
              "      <td>0.032543</td>\n",
              "      <td>0.284455</td>\n",
              "      <td>0.278487</td>\n",
              "      <td>0.118832</td>\n",
              "      <td>0.120241</td>\n",
              "      <td>19.504056</td>\n",
              "    </tr>\n",
              "    <tr>\n",
              "      <th>std</th>\n",
              "      <td>2604.525522</td>\n",
              "      <td>5.870354e+06</td>\n",
              "      <td>4.021285e+06</td>\n",
              "      <td>0.014086</td>\n",
              "      <td>0.253531</td>\n",
              "      <td>0.014366</td>\n",
              "      <td>2.149977</td>\n",
              "      <td>0.045239</td>\n",
              "      <td>0.489011</td>\n",
              "      <td>23.942137</td>\n",
              "      <td>0.036603</td>\n",
              "      <td>0.045155</td>\n",
              "      <td>24.399715</td>\n",
              "      <td>0.483937</td>\n",
              "      <td>0.022181</td>\n",
              "      <td>0.099370</td>\n",
              "      <td>0.0</td>\n",
              "      <td>0.002817</td>\n",
              "      <td>0.096613</td>\n",
              "      <td>114.508828</td>\n",
              "      <td>72.636092</td>\n",
              "      <td>0.446457</td>\n",
              "      <td>0.447024</td>\n",
              "      <td>0.320437</td>\n",
              "      <td>0.323648</td>\n",
              "      <td>0.439624</td>\n",
              "      <td>0.180315</td>\n",
              "      <td>0.259831</td>\n",
              "      <td>99.206565</td>\n",
              "      <td>110.702886</td>\n",
              "      <td>0.448950</td>\n",
              "      <td>0.188922</td>\n",
              "      <td>0.308998</td>\n",
              "      <td>0.112564</td>\n",
              "      <td>0.444785</td>\n",
              "      <td>0.445670</td>\n",
              "      <td>0.306559</td>\n",
              "      <td>0.319460</td>\n",
              "      <td>2.291512</td>\n",
              "    </tr>\n",
              "    <tr>\n",
              "      <th>min</th>\n",
              "      <td>0.000000</td>\n",
              "      <td>0.000000e+00</td>\n",
              "      <td>0.000000e+00</td>\n",
              "      <td>0.000000</td>\n",
              "      <td>0.000000</td>\n",
              "      <td>0.000000</td>\n",
              "      <td>0.000000</td>\n",
              "      <td>0.000000</td>\n",
              "      <td>0.000000</td>\n",
              "      <td>0.000000</td>\n",
              "      <td>0.000000</td>\n",
              "      <td>0.000000</td>\n",
              "      <td>0.000000</td>\n",
              "      <td>0.000000</td>\n",
              "      <td>0.000000</td>\n",
              "      <td>0.000000</td>\n",
              "      <td>0.0</td>\n",
              "      <td>0.000000</td>\n",
              "      <td>0.000000</td>\n",
              "      <td>0.000000</td>\n",
              "      <td>0.000000</td>\n",
              "      <td>0.000000</td>\n",
              "      <td>0.000000</td>\n",
              "      <td>0.000000</td>\n",
              "      <td>0.000000</td>\n",
              "      <td>0.000000</td>\n",
              "      <td>0.000000</td>\n",
              "      <td>0.000000</td>\n",
              "      <td>0.000000</td>\n",
              "      <td>0.000000</td>\n",
              "      <td>0.000000</td>\n",
              "      <td>0.000000</td>\n",
              "      <td>0.000000</td>\n",
              "      <td>0.000000</td>\n",
              "      <td>0.000000</td>\n",
              "      <td>0.000000</td>\n",
              "      <td>0.000000</td>\n",
              "      <td>0.000000</td>\n",
              "      <td>0.000000</td>\n",
              "    </tr>\n",
              "    <tr>\n",
              "      <th>25%</th>\n",
              "      <td>0.000000</td>\n",
              "      <td>0.000000e+00</td>\n",
              "      <td>0.000000e+00</td>\n",
              "      <td>0.000000</td>\n",
              "      <td>0.000000</td>\n",
              "      <td>0.000000</td>\n",
              "      <td>0.000000</td>\n",
              "      <td>0.000000</td>\n",
              "      <td>0.000000</td>\n",
              "      <td>0.000000</td>\n",
              "      <td>0.000000</td>\n",
              "      <td>0.000000</td>\n",
              "      <td>0.000000</td>\n",
              "      <td>0.000000</td>\n",
              "      <td>0.000000</td>\n",
              "      <td>0.000000</td>\n",
              "      <td>0.0</td>\n",
              "      <td>0.000000</td>\n",
              "      <td>0.000000</td>\n",
              "      <td>2.000000</td>\n",
              "      <td>2.000000</td>\n",
              "      <td>0.000000</td>\n",
              "      <td>0.000000</td>\n",
              "      <td>0.000000</td>\n",
              "      <td>0.000000</td>\n",
              "      <td>0.090000</td>\n",
              "      <td>0.000000</td>\n",
              "      <td>0.000000</td>\n",
              "      <td>82.000000</td>\n",
              "      <td>10.000000</td>\n",
              "      <td>0.050000</td>\n",
              "      <td>0.000000</td>\n",
              "      <td>0.000000</td>\n",
              "      <td>0.000000</td>\n",
              "      <td>0.000000</td>\n",
              "      <td>0.000000</td>\n",
              "      <td>0.000000</td>\n",
              "      <td>0.000000</td>\n",
              "      <td>18.000000</td>\n",
              "    </tr>\n",
              "    <tr>\n",
              "      <th>50%</th>\n",
              "      <td>0.000000</td>\n",
              "      <td>4.400000e+01</td>\n",
              "      <td>0.000000e+00</td>\n",
              "      <td>0.000000</td>\n",
              "      <td>0.000000</td>\n",
              "      <td>0.000000</td>\n",
              "      <td>0.000000</td>\n",
              "      <td>0.000000</td>\n",
              "      <td>0.000000</td>\n",
              "      <td>0.000000</td>\n",
              "      <td>0.000000</td>\n",
              "      <td>0.000000</td>\n",
              "      <td>0.000000</td>\n",
              "      <td>0.000000</td>\n",
              "      <td>0.000000</td>\n",
              "      <td>0.000000</td>\n",
              "      <td>0.0</td>\n",
              "      <td>0.000000</td>\n",
              "      <td>0.000000</td>\n",
              "      <td>14.000000</td>\n",
              "      <td>8.000000</td>\n",
              "      <td>0.000000</td>\n",
              "      <td>0.000000</td>\n",
              "      <td>0.000000</td>\n",
              "      <td>0.000000</td>\n",
              "      <td>1.000000</td>\n",
              "      <td>0.000000</td>\n",
              "      <td>0.000000</td>\n",
              "      <td>255.000000</td>\n",
              "      <td>63.000000</td>\n",
              "      <td>0.510000</td>\n",
              "      <td>0.020000</td>\n",
              "      <td>0.000000</td>\n",
              "      <td>0.000000</td>\n",
              "      <td>0.000000</td>\n",
              "      <td>0.000000</td>\n",
              "      <td>0.000000</td>\n",
              "      <td>0.000000</td>\n",
              "      <td>20.000000</td>\n",
              "    </tr>\n",
              "    <tr>\n",
              "      <th>75%</th>\n",
              "      <td>0.000000</td>\n",
              "      <td>2.760000e+02</td>\n",
              "      <td>5.160000e+02</td>\n",
              "      <td>0.000000</td>\n",
              "      <td>0.000000</td>\n",
              "      <td>0.000000</td>\n",
              "      <td>0.000000</td>\n",
              "      <td>0.000000</td>\n",
              "      <td>1.000000</td>\n",
              "      <td>0.000000</td>\n",
              "      <td>0.000000</td>\n",
              "      <td>0.000000</td>\n",
              "      <td>0.000000</td>\n",
              "      <td>0.000000</td>\n",
              "      <td>0.000000</td>\n",
              "      <td>0.000000</td>\n",
              "      <td>0.0</td>\n",
              "      <td>0.000000</td>\n",
              "      <td>0.000000</td>\n",
              "      <td>143.000000</td>\n",
              "      <td>18.000000</td>\n",
              "      <td>1.000000</td>\n",
              "      <td>1.000000</td>\n",
              "      <td>0.000000</td>\n",
              "      <td>0.000000</td>\n",
              "      <td>1.000000</td>\n",
              "      <td>0.060000</td>\n",
              "      <td>0.000000</td>\n",
              "      <td>255.000000</td>\n",
              "      <td>255.000000</td>\n",
              "      <td>1.000000</td>\n",
              "      <td>0.070000</td>\n",
              "      <td>0.060000</td>\n",
              "      <td>0.020000</td>\n",
              "      <td>1.000000</td>\n",
              "      <td>1.000000</td>\n",
              "      <td>0.000000</td>\n",
              "      <td>0.000000</td>\n",
              "      <td>21.000000</td>\n",
              "    </tr>\n",
              "    <tr>\n",
              "      <th>max</th>\n",
              "      <td>42908.000000</td>\n",
              "      <td>1.379964e+09</td>\n",
              "      <td>1.309937e+09</td>\n",
              "      <td>1.000000</td>\n",
              "      <td>3.000000</td>\n",
              "      <td>3.000000</td>\n",
              "      <td>77.000000</td>\n",
              "      <td>5.000000</td>\n",
              "      <td>1.000000</td>\n",
              "      <td>7479.000000</td>\n",
              "      <td>1.000000</td>\n",
              "      <td>2.000000</td>\n",
              "      <td>7468.000000</td>\n",
              "      <td>43.000000</td>\n",
              "      <td>2.000000</td>\n",
              "      <td>9.000000</td>\n",
              "      <td>0.0</td>\n",
              "      <td>1.000000</td>\n",
              "      <td>1.000000</td>\n",
              "      <td>511.000000</td>\n",
              "      <td>511.000000</td>\n",
              "      <td>1.000000</td>\n",
              "      <td>1.000000</td>\n",
              "      <td>1.000000</td>\n",
              "      <td>1.000000</td>\n",
              "      <td>1.000000</td>\n",
              "      <td>1.000000</td>\n",
              "      <td>1.000000</td>\n",
              "      <td>255.000000</td>\n",
              "      <td>255.000000</td>\n",
              "      <td>1.000000</td>\n",
              "      <td>1.000000</td>\n",
              "      <td>1.000000</td>\n",
              "      <td>1.000000</td>\n",
              "      <td>1.000000</td>\n",
              "      <td>1.000000</td>\n",
              "      <td>1.000000</td>\n",
              "      <td>1.000000</td>\n",
              "      <td>21.000000</td>\n",
              "    </tr>\n",
              "  </tbody>\n",
              "</table>\n",
              "</div>\n",
              "      <button class=\"colab-df-convert\" onclick=\"convertToInteractive('df-e4b2cf14-536e-458d-88dd-06cd3ef73b3d')\"\n",
              "              title=\"Convert this dataframe to an interactive table.\"\n",
              "              style=\"display:none;\">\n",
              "        \n",
              "  <svg xmlns=\"http://www.w3.org/2000/svg\" height=\"24px\"viewBox=\"0 0 24 24\"\n",
              "       width=\"24px\">\n",
              "    <path d=\"M0 0h24v24H0V0z\" fill=\"none\"/>\n",
              "    <path d=\"M18.56 5.44l.94 2.06.94-2.06 2.06-.94-2.06-.94-.94-2.06-.94 2.06-2.06.94zm-11 1L8.5 8.5l.94-2.06 2.06-.94-2.06-.94L8.5 2.5l-.94 2.06-2.06.94zm10 10l.94 2.06.94-2.06 2.06-.94-2.06-.94-.94-2.06-.94 2.06-2.06.94z\"/><path d=\"M17.41 7.96l-1.37-1.37c-.4-.4-.92-.59-1.43-.59-.52 0-1.04.2-1.43.59L10.3 9.45l-7.72 7.72c-.78.78-.78 2.05 0 2.83L4 21.41c.39.39.9.59 1.41.59.51 0 1.02-.2 1.41-.59l7.78-7.78 2.81-2.81c.8-.78.8-2.07 0-2.86zM5.41 20L4 18.59l7.72-7.72 1.47 1.35L5.41 20z\"/>\n",
              "  </svg>\n",
              "      </button>\n",
              "      \n",
              "  <style>\n",
              "    .colab-df-container {\n",
              "      display:flex;\n",
              "      flex-wrap:wrap;\n",
              "      gap: 12px;\n",
              "    }\n",
              "\n",
              "    .colab-df-convert {\n",
              "      background-color: #E8F0FE;\n",
              "      border: none;\n",
              "      border-radius: 50%;\n",
              "      cursor: pointer;\n",
              "      display: none;\n",
              "      fill: #1967D2;\n",
              "      height: 32px;\n",
              "      padding: 0 0 0 0;\n",
              "      width: 32px;\n",
              "    }\n",
              "\n",
              "    .colab-df-convert:hover {\n",
              "      background-color: #E2EBFA;\n",
              "      box-shadow: 0px 1px 2px rgba(60, 64, 67, 0.3), 0px 1px 3px 1px rgba(60, 64, 67, 0.15);\n",
              "      fill: #174EA6;\n",
              "    }\n",
              "\n",
              "    [theme=dark] .colab-df-convert {\n",
              "      background-color: #3B4455;\n",
              "      fill: #D2E3FC;\n",
              "    }\n",
              "\n",
              "    [theme=dark] .colab-df-convert:hover {\n",
              "      background-color: #434B5C;\n",
              "      box-shadow: 0px 1px 3px 1px rgba(0, 0, 0, 0.15);\n",
              "      filter: drop-shadow(0px 1px 2px rgba(0, 0, 0, 0.3));\n",
              "      fill: #FFFFFF;\n",
              "    }\n",
              "  </style>\n",
              "\n",
              "      <script>\n",
              "        const buttonEl =\n",
              "          document.querySelector('#df-e4b2cf14-536e-458d-88dd-06cd3ef73b3d button.colab-df-convert');\n",
              "        buttonEl.style.display =\n",
              "          google.colab.kernel.accessAllowed ? 'block' : 'none';\n",
              "\n",
              "        async function convertToInteractive(key) {\n",
              "          const element = document.querySelector('#df-e4b2cf14-536e-458d-88dd-06cd3ef73b3d');\n",
              "          const dataTable =\n",
              "            await google.colab.kernel.invokeFunction('convertToInteractive',\n",
              "                                                     [key], {});\n",
              "          if (!dataTable) return;\n",
              "\n",
              "          const docLinkHtml = 'Like what you see? Visit the ' +\n",
              "            '<a target=\"_blank\" href=https://colab.research.google.com/notebooks/data_table.ipynb>data table notebook</a>'\n",
              "            + ' to learn more about interactive tables.';\n",
              "          element.innerHTML = '';\n",
              "          dataTable['output_type'] = 'display_data';\n",
              "          await google.colab.output.renderOutput(dataTable, element);\n",
              "          const docLink = document.createElement('div');\n",
              "          docLink.innerHTML = docLinkHtml;\n",
              "          element.appendChild(docLink);\n",
              "        }\n",
              "      </script>\n",
              "    </div>\n",
              "  </div>\n",
              "  "
            ],
            "text/plain": [
              "            duration     src_bytes  ...  dst_host_srv_rerror_rate          level\n",
              "count  125972.000000  1.259720e+05  ...             125972.000000  125972.000000\n",
              "mean      287.146929  4.556710e+04  ...                  0.120241      19.504056\n",
              "std      2604.525522  5.870354e+06  ...                  0.319460       2.291512\n",
              "min         0.000000  0.000000e+00  ...                  0.000000       0.000000\n",
              "25%         0.000000  0.000000e+00  ...                  0.000000      18.000000\n",
              "50%         0.000000  4.400000e+01  ...                  0.000000      20.000000\n",
              "75%         0.000000  2.760000e+02  ...                  0.000000      21.000000\n",
              "max     42908.000000  1.379964e+09  ...                  1.000000      21.000000\n",
              "\n",
              "[8 rows x 39 columns]"
            ]
          },
          "metadata": {},
          "execution_count": 90
        }
      ]
    },
    {
      "cell_type": "code",
      "source": [
        "df['attack'].describe()"
      ],
      "metadata": {
        "colab": {
          "base_uri": "https://localhost:8080/"
        },
        "id": "e1c8OhuTUe3e",
        "outputId": "fb46401a-6e72-4dbe-d6aa-a28e384a995e"
      },
      "execution_count": 94,
      "outputs": [
        {
          "output_type": "execute_result",
          "data": {
            "text/plain": [
              "count     125972\n",
              "unique        23\n",
              "top       normal\n",
              "freq       67342\n",
              "Name: attack, dtype: object"
            ]
          },
          "metadata": {},
          "execution_count": 94
        }
      ]
    },
    {
      "cell_type": "code",
      "source": [
        "df.shape"
      ],
      "metadata": {
        "colab": {
          "base_uri": "https://localhost:8080/"
        },
        "id": "NZgzpheoUu5Z",
        "outputId": "28415399-c19c-4990-9c96-0e8f2aff3f56"
      },
      "execution_count": 95,
      "outputs": [
        {
          "output_type": "execute_result",
          "data": {
            "text/plain": [
              "(125972, 43)"
            ]
          },
          "metadata": {},
          "execution_count": 95
        }
      ]
    },
    {
      "cell_type": "code",
      "source": [
        "ax = df['duration'].plot(kind = 'box', vert = False , figsize = (6,6))\n",
        "ax.set_xlabel(\"numbers\")\n",
        "ax.set_ylabel(\"durat\")\n",
        "ax.axvline(df['duration'].mean())"
      ],
      "metadata": {
        "colab": {
          "base_uri": "https://localhost:8080/",
          "height": 405
        },
        "id": "gEXPOORkWrRK",
        "outputId": "2757bff1-5f3c-476f-82e0-678fe5d3a153"
      },
      "execution_count": 102,
      "outputs": [
        {
          "output_type": "execute_result",
          "data": {
            "text/plain": [
              "<matplotlib.lines.Line2D at 0x7f8f3503cc90>"
            ]
          },
          "metadata": {},
          "execution_count": 102
        },
        {
          "output_type": "display_data",
          "data": {
            "image/png": "[encoded data removed]",
            "text/plain": [
              "<Figure size 432x432 with 1 Axes>"
            ]
          },
          "metadata": {
            "needs_background": "light"
          }
        }
      ]
    },
    {
      "cell_type": "code",
      "source": [
        "ax = df['duration'].plot(kind = 'hist', figsize = (5,5))\n",
        "ax.axvline(df['duration'].mean())"
      ],
      "metadata": {
        "colab": {
          "base_uri": "https://localhost:8080/",
          "height": 337
        },
        "id": "vggkN1rSabbp",
        "outputId": "8403c7fc-52ae-4a58-c13a-15cdfd0b9769"
      },
      "execution_count": 104,
      "outputs": [
        {
          "output_type": "execute_result",
          "data": {
            "text/plain": [
              "<matplotlib.lines.Line2D at 0x7f8f35073fd0>"
            ]
          },
          "metadata": {},
          "execution_count": 104
        },
        {
          "output_type": "display_data",
          "data": {
            "image/png": "[encoded data removed]",
            "text/plain": [
              "<Figure size 360x360 with 1 Axes>"
            ]
          },
          "metadata": {
            "needs_background": "light"
          }
        }
      ]
    }
  ]
}