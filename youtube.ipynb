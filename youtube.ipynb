{
  "cells": [
    {
      "cell_type": "markdown",
      "metadata": {
        "id": "view-in-github",
        "colab_type": "text"
      },
      "source": [
        "<a href=\"https://colab.research.google.com/github/rizzaesh/Learning-tools/blob/main/youtube.ipynb\" target=\"_parent\"><img src=\"https://colab.research.google.com/assets/colab-badge.svg\" alt=\"Open In Colab\"/></a>"
      ]
    },
    {
      "cell_type": "markdown",
      "metadata": {
        "id": "B_zECErXb7iJ"
      },
      "source": [
        "# zeroes"
      ]
    },
    {
      "cell_type": "code",
      "execution_count": null,
      "metadata": {
        "id": "nnjyZpn39Jfw"
      },
      "outputs": [],
      "source": [
        "import os"
      ]
    },
    {
      "cell_type": "code",
      "execution_count": null,
      "metadata": {
        "id": "zx-kh9J19f2p"
      },
      "outputs": [],
      "source": [
        "link = "
      ]
    },
    {
      "cell_type": "code",
      "execution_count": null,
      "metadata": {
        "colab": {
          "base_uri": "https://localhost:8080/"
        },
        "id": "3z5xUjUq9LAk",
        "outputId": "db081f49-d8d5-406e-999e-9a0bc7dbc33d"
      },
      "outputs": [
        {
          "data": {
            "text/plain": [
              "0"
            ]
          },
          "execution_count": 41,
          "metadata": {},
          "output_type": "execute_result"
        }
      ],
      "source": [
        "os.system(f\"pytube {link}\")"
      ]
    },
    {
      "cell_type": "code",
      "execution_count": null,
      "metadata": {
        "id": "LTt8fhE_jpUt"
      },
      "outputs": [],
      "source": [
        "import requests as re\n",
        "from bs4 import BeautifulSoup as bs "
      ]
    },
    {
      "cell_type": "code",
      "execution_count": null,
      "metadata": {
        "colab": {
          "base_uri": "https://localhost:8080/"
        },
        "id": "zc3IctGlb7NT",
        "outputId": "55ff3455-6750-4ac1-dafd-40ba89d314e6"
      },
      "outputs": [
        {
          "name": "stdout",
          "output_type": "stream",
          "text": [
            "Requirement already satisfied: pytube in /usr/local/lib/python3.7/dist-packages (12.0.0)\n"
          ]
        }
      ],
      "source": [
        "!pip install pytube\n",
        "from pytube import YouTube\n"
      ]
    },
    {
      "cell_type": "code",
      "execution_count": null,
      "metadata": {
        "id": "hZBNP8dRj-Gx"
      },
      "outputs": [],
      "source": [
        "link = 'https://www.youtube.com/watch?v=8rXD5-xhemo&list=PLoROMvodv4rOhcuXMZkNm7j3fVwBBY42z&index=1'"
      ]
    },
    {
      "cell_type": "code",
      "execution_count": null,
      "metadata": {
        "id": "UbE-QxzokD4Q"
      },
      "outputs": [],
      "source": [
        "r = re.get(link)\n",
        "soup = bs(r.text,\"html.parser\")"
      ]
    },
    {
      "cell_type": "code",
      "execution_count": null,
      "metadata": {
        "id": "MWY49NXKkcZ1"
      },
      "outputs": [],
      "source": [
        "results = soup.find('div',{'id':'container'})\n",
        "res = results.findAll(\"a\")"
      ]
    },
    {
      "cell_type": "code",
      "execution_count": null,
      "metadata": {
        "colab": {
          "base_uri": "https://localhost:8080/"
        },
        "id": "Ffqlrzl3k_S9",
        "outputId": "78fc643d-1d40-4dc1-c844-dd5f5a3e19a5"
      },
      "outputs": [
        {
          "data": {
            "text/plain": [
              "[]"
            ]
          },
          "execution_count": 25,
          "metadata": {},
          "output_type": "execute_result"
        }
      ],
      "source": [
        "res"
      ]
    },
    {
      "cell_type": "code",
      "execution_count": null,
      "metadata": {
        "colab": {
          "base_uri": "https://localhost:8080/"
        },
        "id": "H1Khvcs0lStv",
        "outputId": "a924f1ac-d18b-4521-ce89-2c58eadeeb73"
      },
      "outputs": [
        {
          "data": {
            "text/plain": [
              "[<a href=\"/\" style=\"display: none;\" title=\"YouTube\"><svg class=\"external-icon\" id=\"yt-logo-updated-svg\" viewbox=\"0 0 90 20\"><g id=\"yt-logo-updated\" preserveaspectratio=\"xMidYMid meet\" viewbox=\"0 0 90 20\"><g><path d=\"M27.9727 3.12324C27.6435 1.89323 26.6768 0.926623 25.4468 0.597366C23.2197 2.24288e-07 14.285 0 14.285 0C14.285 0 5.35042 2.24288e-07 3.12323 0.597366C1.89323 0.926623 0.926623 1.89323 0.597366 3.12324C2.24288e-07 5.35042 0 10 0 10C0 10 2.24288e-07 14.6496 0.597366 16.8768C0.926623 18.1068 1.89323 19.0734 3.12323 19.4026C5.35042 20 14.285 20 14.285 20C14.285 20 23.2197 20 25.4468 19.4026C26.6768 19.0734 27.6435 18.1068 27.9727 16.8768C28.5701 14.6496 28.5701 10 28.5701 10C28.5701 10 28.5677 5.35042 27.9727 3.12324Z\" fill=\"#FF0000\"></path><path d=\"M11.4253 14.2854L18.8477 10.0004L11.4253 5.71533V14.2854Z\" fill=\"white\"></path></g><g><g id=\"youtube-paths\"><path d=\"M34.6024 13.0036L31.3945 1.41846H34.1932L35.3174 6.6701C35.6043 7.96361 35.8136 9.06662 35.95 9.97913H36.0323C36.1264 9.32532 36.3381 8.22937 36.665 6.68892L37.8291 1.41846H40.6278L37.3799 13.0036V18.561H34.6001V13.0036H34.6024Z\"></path><path d=\"M41.4697 18.1937C40.9053 17.8127 40.5031 17.22 40.2632 16.4157C40.0257 15.6114 39.9058 14.5437 39.9058 13.2078V11.3898C39.9058 10.0422 40.0422 8.95805 40.315 8.14196C40.5878 7.32588 41.0135 6.72851 41.592 6.35457C42.1706 5.98063 42.9302 5.79248 43.871 5.79248C44.7976 5.79248 45.5384 5.98298 46.0981 6.36398C46.6555 6.74497 47.0647 7.34234 47.3234 8.15137C47.5821 8.96275 47.7115 10.0422 47.7115 11.3898V13.2078C47.7115 14.5437 47.5845 15.6161 47.3329 16.4251C47.0812 17.2365 46.672 17.8292 46.1075 18.2031C45.5431 18.5771 44.7764 18.7652 43.8098 18.7652C42.8126 18.7675 42.0342 18.5747 41.4697 18.1937ZM44.6353 16.2323C44.7905 15.8231 44.8705 15.1575 44.8705 14.2309V10.3292C44.8705 9.43077 44.7929 8.77225 44.6353 8.35833C44.4777 7.94206 44.2026 7.7351 43.8074 7.7351C43.4265 7.7351 43.156 7.94206 43.0008 8.35833C42.8432 8.77461 42.7656 9.43077 42.7656 10.3292V14.2309C42.7656 15.1575 42.8408 15.8254 42.9914 16.2323C43.1419 16.6415 43.4123 16.8461 43.8074 16.8461C44.2026 16.8461 44.4777 16.6415 44.6353 16.2323Z\"></path><path d=\"M56.8154 18.5634H54.6094L54.3648 17.03H54.3037C53.7039 18.1871 52.8055 18.7656 51.6061 18.7656C50.7759 18.7656 50.1621 18.4928 49.767 17.9496C49.3719 17.4039 49.1743 16.5526 49.1743 15.3955V6.03751H51.9942V15.2308C51.9942 15.7906 52.0553 16.188 52.1776 16.4256C52.2999 16.6631 52.5045 16.783 52.7914 16.783C53.036 16.783 53.2712 16.7078 53.497 16.5573C53.7228 16.4067 53.8874 16.2162 53.9979 15.9858V6.03516H56.8154V18.5634Z\"></path><path d=\"M64.4755 3.68758H61.6768V18.5629H58.9181V3.68758H56.1194V1.42041H64.4755V3.68758Z\"></path><path d=\"M71.2768 18.5634H69.0708L68.8262 17.03H68.7651C68.1654 18.1871 67.267 18.7656 66.0675 18.7656C65.2373 18.7656 64.6235 18.4928 64.2284 17.9496C63.8333 17.4039 63.6357 16.5526 63.6357 15.3955V6.03751H66.4556V15.2308C66.4556 15.7906 66.5167 16.188 66.639 16.4256C66.7613 16.6631 66.9659 16.783 67.2529 16.783C67.4974 16.783 67.7326 16.7078 67.9584 16.5573C68.1842 16.4067 68.3488 16.2162 68.4593 15.9858V6.03516H71.2768V18.5634Z\"></path><path d=\"M80.609 8.0387C80.4373 7.24849 80.1621 6.67699 79.7812 6.32186C79.4002 5.96674 78.8757 5.79035 78.2078 5.79035C77.6904 5.79035 77.2059 5.93616 76.7567 6.23014C76.3075 6.52412 75.9594 6.90747 75.7148 7.38489H75.6937V0.785645H72.9773V18.5608H75.3056L75.5925 17.3755H75.6537C75.8724 17.7988 76.1993 18.1304 76.6344 18.3774C77.0695 18.622 77.554 18.7443 78.0855 18.7443C79.038 18.7443 79.7412 18.3045 80.1904 17.4272C80.6396 16.5476 80.8653 15.1765 80.8653 13.3092V11.3266C80.8653 9.92722 80.7783 8.82892 80.609 8.0387ZM78.0243 13.1492C78.0243 14.0617 77.9867 14.7767 77.9114 15.2941C77.8362 15.8115 77.7115 16.1808 77.5328 16.3971C77.3564 16.6158 77.1165 16.724 76.8178 16.724C76.585 16.724 76.371 16.6699 76.1734 16.5594C75.9759 16.4512 75.816 16.2866 75.6937 16.0702V8.96062C75.7877 8.6196 75.9524 8.34209 76.1852 8.12337C76.4157 7.90465 76.6697 7.79646 76.9401 7.79646C77.2271 7.79646 77.4481 7.90935 77.6034 8.13278C77.7609 8.35855 77.8691 8.73485 77.9303 9.26636C77.9914 9.79787 78.022 10.5528 78.022 11.5335V13.1492H78.0243Z\"></path><path d=\"M84.8657 13.8712C84.8657 14.6755 84.8892 15.2776 84.9363 15.6798C84.9833 16.0819 85.0821 16.3736 85.2326 16.5594C85.3831 16.7428 85.6136 16.8345 85.9264 16.8345C86.3474 16.8345 86.639 16.6699 86.7942 16.343C86.9518 16.0161 87.0365 15.4705 87.0506 14.7085L89.4824 14.8519C89.4965 14.9601 89.5035 15.1106 89.5035 15.3011C89.5035 16.4582 89.186 17.3237 88.5534 17.8952C87.9208 18.4667 87.0247 18.7536 85.8676 18.7536C84.4777 18.7536 83.504 18.3185 82.9466 17.446C82.3869 16.5735 82.1094 15.2259 82.1094 13.4008V11.2136C82.1094 9.33452 82.3987 7.96105 82.9772 7.09558C83.5558 6.2301 84.5459 5.79736 85.9499 5.79736C86.9165 5.79736 87.6597 5.97375 88.1771 6.32888C88.6945 6.684 89.059 7.23433 89.2707 7.98457C89.4824 8.7348 89.5882 9.76961 89.5882 11.0913V13.2362H84.8657V13.8712ZM85.2232 7.96811C85.0797 8.14449 84.9857 8.43377 84.9363 8.83593C84.8892 9.2381 84.8657 9.84722 84.8657 10.6657V11.5641H86.9283V10.6657C86.9283 9.86133 86.9001 9.25221 86.846 8.83593C86.7919 8.41966 86.6931 8.12803 86.5496 7.95635C86.4062 7.78702 86.1851 7.7 85.8864 7.7C85.5854 7.70235 85.3643 7.79172 85.2232 7.96811Z\"></path></g></g></g></svg></a>,\n",
              " <a href=\"/\" style=\"display: none;\" title=\"YouTube\"><svg class=\"external-icon\" id=\"yt-logo-red-updated-svg\" style=\"width: 97px;\" viewbox=\"0 0 97 20\"><g id=\"yt-logo-red-updated\" preserveaspectratio=\"xMidYMid meet\" viewbox=\"0 0 97 20\"><g><path d=\"M27.9704 3.12324C27.6411 1.89323 26.6745 0.926623 25.4445 0.597366C23.2173 2.24288e-07 14.2827 0 14.2827 0C14.2827 0 5.34807 2.24288e-07 3.12088 0.597366C1.89323 0.926623 0.924271 1.89323 0.595014 3.12324C-2.8036e-07 5.35042 0 10 0 10C0 10 -1.57002e-06 14.6496 0.597364 16.8768C0.926621 18.1068 1.89323 19.0734 3.12324 19.4026C5.35042 20 14.285 20 14.285 20C14.285 20 23.2197 20 25.4468 19.4026C26.6769 19.0734 27.6435 18.1068 27.9727 16.8768C28.5701 14.6496 28.5701 10 28.5701 10C28.5701 10 28.5677 5.35042 27.9704 3.12324Z\" fill=\"#FF0000\"></path><path d=\"M11.4275 14.2854L18.8475 10.0004L11.4275 5.71533V14.2854Z\" fill=\"white\"></path></g><g id=\"youtube-red-paths\"><path d=\"M40.0566 6.34524V7.03668C40.0566 10.4915 38.5255 12.5118 35.1742 12.5118H34.6638V18.5583H31.9263V1.42285H35.414C38.6078 1.42285 40.0566 2.7728 40.0566 6.34524ZM37.1779 6.59218C37.1779 4.09924 36.7287 3.50658 35.1765 3.50658H34.6662V10.4727H35.1365C36.6064 10.4727 37.1803 9.40968 37.1803 7.10253L37.1779 6.59218Z\"></path><path d=\"M46.5336 5.8345L46.3901 9.08238C45.2259 8.83779 44.264 9.02123 43.836 9.77382V18.5579H41.1196V6.0391H43.2857L43.5303 8.75312H43.6337C43.9183 6.77288 44.8379 5.771 46.0232 5.771C46.1949 5.7757 46.3666 5.79687 46.5336 5.8345Z\"></path><path d=\"M49.6567 13.2456V13.8782C49.6567 16.0842 49.779 16.8415 50.7198 16.8415C51.6182 16.8415 51.8228 16.1501 51.8439 14.7178L54.2734 14.8613C54.4568 17.5565 53.0481 18.763 50.6586 18.763C47.7588 18.763 46.9004 16.8627 46.9004 13.4126V11.223C46.9004 7.58707 47.8599 5.80908 50.7409 5.80908C53.6407 5.80908 54.3769 7.32131 54.3769 11.0984V13.2456H49.6567ZM49.6567 10.6703V11.5687H51.7193V10.675C51.7193 8.37258 51.5547 7.71172 50.6821 7.71172C49.8096 7.71172 49.6567 8.38669 49.6567 10.675V10.6703Z\"></path><path d=\"M68.4103 9.09902V18.5557H65.5928V9.30834C65.5928 8.28764 65.327 7.77729 64.7132 7.77729C64.2216 7.77729 63.7724 8.06186 63.4667 8.59338C63.4832 8.76271 63.4902 8.93439 63.4879 9.10373V18.5605H60.668V9.30834C60.668 8.28764 60.4022 7.77729 59.7884 7.77729C59.2969 7.77729 58.8665 8.06186 58.5631 8.57456V18.5628H55.7456V6.03929H57.9728L58.2221 7.63383H58.2621C58.8947 6.42969 59.9178 5.77588 61.1219 5.77588C62.3072 5.77588 62.9799 6.36854 63.288 7.43157C63.9418 6.34973 64.9225 5.77588 66.0443 5.77588C67.7564 5.77588 68.4103 7.00119 68.4103 9.09902Z\"></path><path d=\"M69.8191 2.8338C69.8191 1.4862 70.3106 1.09814 71.3501 1.09814C72.4132 1.09814 72.8812 1.54734 72.8812 2.8338C72.8812 4.22373 72.4108 4.57181 71.3501 4.57181C70.3106 4.56945 69.8191 4.22138 69.8191 2.8338ZM69.9837 6.03935H72.6789V18.5629H69.9837V6.03935Z\"></path><path d=\"M81.891 6.03955V18.5631H79.6849L79.4403 17.032H79.3792C78.7466 18.2573 77.827 18.7677 76.684 18.7677C75.0095 18.7677 74.2522 17.7046 74.2522 15.3975V6.0419H77.0697V15.2352C77.0697 16.3382 77.3002 16.7874 77.867 16.7874C78.3844 16.7663 78.8477 16.4582 79.0688 15.9902V6.0419H81.891V6.03955Z\"></path><path d=\"M96.1901 9.09893V18.5557H93.3726V9.30825C93.3726 8.28755 93.1068 7.7772 92.493 7.7772C92.0015 7.7772 91.5523 8.06177 91.2465 8.59329C91.263 8.76027 91.2701 8.9296 91.2677 9.09893V18.5557H88.4502V9.30825C88.4502 8.28755 88.1845 7.7772 87.5706 7.7772C87.0791 7.7772 86.6487 8.06177 86.3453 8.57447V18.5627H83.5278V6.0392H85.7527L85.9973 7.63139H86.0372C86.6699 6.42725 87.6929 5.77344 88.8971 5.77344C90.0824 5.77344 90.755 6.3661 91.0631 7.42913C91.7169 6.34729 92.6976 5.77344 93.8194 5.77344C95.541 5.77579 96.1901 7.0011 96.1901 9.09893Z\"></path><path d=\"M40.0566 6.34524V7.03668C40.0566 10.4915 38.5255 12.5118 35.1742 12.5118H34.6638V18.5583H31.9263V1.42285H35.414C38.6078 1.42285 40.0566 2.7728 40.0566 6.34524ZM37.1779 6.59218C37.1779 4.09924 36.7287 3.50658 35.1765 3.50658H34.6662V10.4727H35.1365C36.6064 10.4727 37.1803 9.40968 37.1803 7.10253L37.1779 6.59218Z\"></path></g></g></svg></a>,\n",
              " <a href=\"https://www.youtube.com/about/\" slot=\"guide-links-primary\" style=\"display: none;\">Over</a>,\n",
              " <a href=\"https://www.youtube.com/about/press/\" slot=\"guide-links-primary\" style=\"display: none;\">Pers</a>,\n",
              " <a href=\"https://www.youtube.com/about/copyright/\" slot=\"guide-links-primary\" style=\"display: none;\">Auteursrecht</a>,\n",
              " <a href=\"/t/contact_us/\" slot=\"guide-links-primary\" style=\"display: none;\">Contact</a>,\n",
              " <a href=\"https://www.youtube.com/creators/\" slot=\"guide-links-primary\" style=\"display: none;\">Creators</a>,\n",
              " <a href=\"https://www.youtube.com/ads/\" slot=\"guide-links-primary\" style=\"display: none;\">Adverteren</a>,\n",
              " <a href=\"https://developers.google.com/youtube\" slot=\"guide-links-primary\" style=\"display: none;\">Ontwikkelaars</a>,\n",
              " <a href=\"/t/terms\" slot=\"guide-links-secondary\" style=\"display: none;\">Voorwaarden</a>,\n",
              " <a href=\"/t/privacy\" slot=\"guide-links-secondary\" style=\"display: none;\">Privacy</a>,\n",
              " <a href=\"https://www.youtube.com/about/policies/\" slot=\"guide-links-secondary\" style=\"display: none;\">Beleid en veiligheid</a>,\n",
              " <a href=\"https://www.youtube.com/howyoutubeworks?utm_campaign=ytgen&amp;utm_source=ythp&amp;utm_medium=LeftNav&amp;utm_content=txt&amp;u=https%3A%2F%2Fwww.youtube.com%2Fhowyoutubeworks%3Futm_source%3Dythp%26utm_medium%3DLeftNav%26utm_campaign%3Dytgen\" slot=\"guide-links-secondary\" style=\"display: none;\">Zo werkt YouTube</a>,\n",
              " <a href=\"/new\" slot=\"guide-links-secondary\" style=\"display: none;\">Nieuwe functies testen</a>]"
            ]
          },
          "execution_count": 27,
          "metadata": {},
          "output_type": "execute_result"
        }
      ],
      "source": [
        "soup.findAll(\"a\")"
      ]
    },
    {
      "cell_type": "code",
      "execution_count": null,
      "metadata": {
        "colab": {
          "base_uri": "https://localhost:8080/"
        },
        "id": "hE3PKGIipDuj",
        "outputId": "f2e1d58f-6191-408c-82cc-3612e6700c03"
      },
      "outputs": [
        {
          "name": "stdout",
          "output_type": "stream",
          "text": [
            "Downloading...\n",
            "From: https://b2n.ir/x03517\n",
            "To: /content/x03517\n",
            "100% 309M/309M [00:03<00:00, 81.9MB/s]\n"
          ]
        }
      ],
      "source": [
        "!gdown https://b2n.ir/x03517"
      ]
    },
    {
      "cell_type": "code",
      "execution_count": null,
      "metadata": {
        "colab": {
          "base_uri": "https://localhost:8080/"
        },
        "id": "tJVOdCwqb-rE",
        "outputId": "bedde6d4-f523-470f-9558-5caa0d8eed5e"
      },
      "outputs": [
        {
          "name": "stdout",
          "output_type": "stream",
          "text": [
            "Downloading...\n",
            "From: https://b2n.ir/z47180\n",
            "To: /content/z47180\n",
            "100% 265M/265M [00:12<00:00, 21.6MB/s]\n"
          ]
        }
      ],
      "source": [
        "!gdown https://b2n.ir/z47180"
      ]
    },
    {
      "cell_type": "code",
      "execution_count": null,
      "metadata": {
        "colab": {
          "base_uri": "https://localhost:8080/",
          "height": 157
        },
        "id": "Q2AxmcuJZr-W",
        "outputId": "1c2b4648-f742-428a-e28c-4b11f0292f21"
      },
      "outputs": [
        {
          "data": {
            "application/vnd.google.colaboratory.intrinsic+json": {
              "type": "string"
            },
            "text/plain": [
              "'https://rr4---sn-5hne6nz6.googlevideo.com/videoplayback?expire=1645277600&ei=QJ0QYqvVGYnZx_AP9JG5sAc&ip=35.204.152.208&id=o-ACYJ6swpgBR_y8BuzmHzWWTSY2u4b9jFZaz8oMPjl0h5&itag=18&source=youtube&requiressl=yes&mh=Va&mm=31%2C29&mn=sn-5hne6nz6%2Csn-5hnekn7z&ms=au%2Crdu&mv=m&mvi=4&pl=21&vprv=1&mime=video%2Fmp4&gir=yes&clen=264901019&ratebypass=yes&dur=4632.218&lmt=1538652131354055&mt=1645255966&fvip=4&fexp=24001373%2C24007246&c=ANDROID&txp=5531432&sparams=expire%2Cei%2Cip%2Cid%2Citag%2Csource%2Crequiressl%2Cvprv%2Cmime%2Cgir%2Cclen%2Cratebypass%2Cdur%2Clmt&sig=AOq0QJ8wRgIhAPHg0FZnGydYxaJue6gcAa-_M1KS0emywsp02YMxqdJZAiEAuqan8rpnFaRCDhcNTYkXEvVgyWEQGCXUWhyh9VIZi2s%3D&lsparams=mh%2Cmm%2Cmn%2Cms%2Cmv%2Cmvi%2Cpl&lsig=AG3C_xAwRQIhANJSj57AV-Vehat6-8YRfw1luP5TLaPBHzPo6Hj23R99AiAQquiSSiwtJY8RkycrOph9rkJ1XrQtOX4q7jHUNHnE_g%3D%3D'"
            ]
          },
          "execution_count": 31,
          "metadata": {},
          "output_type": "execute_result"
        }
      ],
      "source": [
        "link = 'https://www.youtube.com/watch?v=GqmQg-cszw4&list=PLUl4u3cNGP62K2DjQLRxDNRi0z2IRWnNh'\n",
        "yt = YouTube(link)\n",
        "yt.streaming_data['formats'][1]['url']"
      ]
    },
    {
      "cell_type": "code",
      "execution_count": null,
      "metadata": {
        "colab": {
          "base_uri": "https://localhost:8080/"
        },
        "id": "kc1zwsKHtOlu",
        "outputId": "4c9add15-4621-47f4-f137-d8b1a7775ddd"
      },
      "outputs": [
        {
          "data": {
            "text/plain": [
              "[{'approxDurationMs': '5425481',\n",
              "  'audioChannels': 1,\n",
              "  'audioQuality': 'AUDIO_QUALITY_LOW',\n",
              "  'audioSampleRate': '22050',\n",
              "  'averageBitrate': 50745,\n",
              "  'bitrate': 50746,\n",
              "  'contentLength': '34414799',\n",
              "  'fps': 8,\n",
              "  'height': 144,\n",
              "  'itag': 17,\n",
              "  'lastModified': '1612291395931380',\n",
              "  'mimeType': 'video/3gpp; codecs=\"mp4v.20.3, mp4a.40.2\"',\n",
              "  'projectionType': 'RECTANGULAR',\n",
              "  'quality': 'small',\n",
              "  'qualityLabel': '144p',\n",
              "  'url': 'https://rr2---sn-p5qs7nsr.googlevideo.com/videoplayback?expire=1645206751&ei=f4gPYqWUIsGUhwammZCABA&ip=34.86.180.175&id=o-AGZvLdz4ulobxoVM_PnF4onmuQDFPf7z-35XshT8uwXk&itag=17&source=youtube&requiressl=yes&mh=4N&mm=31%2C29&mn=sn-p5qs7nsr%2Csn-p5qlsny6&ms=au%2Crdu&mv=m&mvi=2&pl=20&vprv=1&mime=video%2F3gpp&gir=yes&clen=34414799&dur=5425.481&lmt=1612291395931380&mt=1645184705&fvip=2&fexp=24001373%2C24007246&c=ANDROID&txp=5411222&sparams=expire%2Cei%2Cip%2Cid%2Citag%2Csource%2Crequiressl%2Cvprv%2Cmime%2Cgir%2Cclen%2Cdur%2Clmt&sig=AOq0QJ8wRQIhANynh0_RsE4lE5My57e19vV549cn3DfpixSRsQCX1ZBmAiBKFv29gdV6JKLPWyQlOf7EBgYjjIz07MpDCntCN90Vuw%3D%3D&lsparams=mh%2Cmm%2Cmn%2Cms%2Cmv%2Cmvi%2Cpl&lsig=AG3C_xAwRAIgfkUZKx6RYJaTmiynGqdEFJMEFHOz2G5BDI43IXdTqB8CIFkwJPGx5ZzS2Mliy9N4G_363oigTazlmCUgGmgfuSIl',\n",
              "  'width': 176},\n",
              " {'approxDurationMs': '5425435',\n",
              "  'audioChannels': 2,\n",
              "  'audioQuality': 'AUDIO_QUALITY_LOW',\n",
              "  'audioSampleRate': '44100',\n",
              "  'averageBitrate': 208685,\n",
              "  'bitrate': 208687,\n",
              "  'contentLength': '141525920',\n",
              "  'fps': 30,\n",
              "  'height': 360,\n",
              "  'itag': 18,\n",
              "  'lastModified': '1612196684160597',\n",
              "  'mimeType': 'video/mp4; codecs=\"avc1.42001E, mp4a.40.2\"',\n",
              "  'projectionType': 'RECTANGULAR',\n",
              "  'quality': 'medium',\n",
              "  'qualityLabel': '360p',\n",
              "  'url': 'https://rr2---sn-p5qs7nsr.googlevideo.com/videoplayback?expire=1645206751&ei=f4gPYqWUIsGUhwammZCABA&ip=34.86.180.175&id=o-AGZvLdz4ulobxoVM_PnF4onmuQDFPf7z-35XshT8uwXk&itag=18&source=youtube&requiressl=yes&mh=4N&mm=31%2C29&mn=sn-p5qs7nsr%2Csn-p5qlsny6&ms=au%2Crdu&mv=m&mvi=2&pl=20&vprv=1&mime=video%2Fmp4&gir=yes&clen=141525920&ratebypass=yes&dur=5425.435&lmt=1612196684160597&mt=1645184705&fvip=2&fexp=24001373%2C24007246&c=ANDROID&txp=6310222&sparams=expire%2Cei%2Cip%2Cid%2Citag%2Csource%2Crequiressl%2Cvprv%2Cmime%2Cgir%2Cclen%2Cratebypass%2Cdur%2Clmt&sig=AOq0QJ8wRQIge_V7_dXDsJaJIWTO-q03OrnsAZZ_lqG7SK8RP9gQPPwCIQDRC6eCC9W_TCW7p1UtIEj_jSkUmx9sJDJBTEvrjJfABw%3D%3D&lsparams=mh%2Cmm%2Cmn%2Cms%2Cmv%2Cmvi%2Cpl&lsig=AG3C_xAwRAIgfkUZKx6RYJaTmiynGqdEFJMEFHOz2G5BDI43IXdTqB8CIFkwJPGx5ZzS2Mliy9N4G_363oigTazlmCUgGmgfuSIl',\n",
              "  'width': 640},\n",
              " {'approxDurationMs': '5425435',\n",
              "  'audioChannels': 2,\n",
              "  'audioQuality': 'AUDIO_QUALITY_MEDIUM',\n",
              "  'audioSampleRate': '44100',\n",
              "  'bitrate': 455813,\n",
              "  'fps': 30,\n",
              "  'height': 720,\n",
              "  'itag': 22,\n",
              "  'lastModified': '1612291582295131',\n",
              "  'mimeType': 'video/mp4; codecs=\"avc1.64001F, mp4a.40.2\"',\n",
              "  'projectionType': 'RECTANGULAR',\n",
              "  'quality': 'hd720',\n",
              "  'qualityLabel': '720p',\n",
              "  'url': 'https://rr2---sn-p5qs7nsr.googlevideo.com/videoplayback?expire=1645206751&ei=f4gPYqWUIsGUhwammZCABA&ip=34.86.180.175&id=o-AGZvLdz4ulobxoVM_PnF4onmuQDFPf7z-35XshT8uwXk&itag=22&source=youtube&requiressl=yes&mh=4N&mm=31%2C29&mn=sn-p5qs7nsr%2Csn-p5qlsny6&ms=au%2Crdu&mv=m&mvi=2&pl=20&vprv=1&mime=video%2Fmp4&cnr=14&ratebypass=yes&dur=5425.435&lmt=1612291582295131&mt=1645184705&fvip=2&fexp=24001373%2C24007246&c=ANDROID&txp=5416222&sparams=expire%2Cei%2Cip%2Cid%2Citag%2Csource%2Crequiressl%2Cvprv%2Cmime%2Ccnr%2Cratebypass%2Cdur%2Clmt&sig=AOq0QJ8wRQIgASE35leR-_s719TUqiC7awj5P8I1G2x9wQbmEj-nab4CIQDWLRkS8WLe2-tCK6a9i9IpNw5iJL0dhWPeqfoAQ4doWQ%3D%3D&lsparams=mh%2Cmm%2Cmn%2Cms%2Cmv%2Cmvi%2Cpl&lsig=AG3C_xAwRAIgfkUZKx6RYJaTmiynGqdEFJMEFHOz2G5BDI43IXdTqB8CIFkwJPGx5ZzS2Mliy9N4G_363oigTazlmCUgGmgfuSIl',\n",
              "  'width': 1280}]"
            ]
          },
          "execution_count": 22,
          "metadata": {},
          "output_type": "execute_result"
        }
      ],
      "source": [
        "yt.streaming_data['formats']"
      ]
    },
    {
      "cell_type": "code",
      "execution_count": null,
      "metadata": {
        "id": "6mipUWJCVjnM"
      },
      "outputs": [],
      "source": [
        "import pandas as pd\n",
        "from pytube import YouTube\n",
        "# link0 = \"https://www.youtube.com/watch?v=bMknfKXIFA8\"\n",
        "\n",
        "# link1 = 'https://www.youtube.com/watch?v=0mVbNp1ol_w'\n",
        "\n",
        "# link2 = 'https://www.youtube.com/watch?v=LMagNcngvcU'\n",
        "\n",
        "# link3 = 'https://www.youtube.com/watch?v=RVFAyFWO4go'\n",
        "\n",
        "with open(\"link.txt\") as lis:\n",
        "    li = lis.readlines()\n",
        "data = pd.DataFrame(li,columns = [\"original links\"])\n",
        "lies = []\n",
        "for i in range(len(li)):\n",
        "    link = li[i].replace(\"\\n\",\"\")\n",
        "    yt = YouTube(link)\n",
        "    yt.streaming_data['formats'][2]['url']\n",
        "    lies.append(yt.streaming_data['formats'][2]['url'])\n",
        "data['dlLink'] = lies\n",
        "data.to_csv(\"data.csv\",index= False)"
      ]
    },
    {
      "cell_type": "code",
      "execution_count": null,
      "metadata": {
        "id": "-jjdeBwGZIlB"
      },
      "outputs": [],
      "source": [
        "with open(\"link.txt\") as lis:\n",
        "    li = lis.readlines()\n",
        "data = pd.DataFrame(li,columns = [\"original links\"])"
      ]
    },
    {
      "cell_type": "code",
      "execution_count": null,
      "metadata": {
        "id": "qbveqCsxcj58"
      },
      "outputs": [],
      "source": [
        "data.to_csv(\"data.csv\",index= False)"
      ]
    },
    {
      "cell_type": "code",
      "execution_count": null,
      "metadata": {
        "id": "vg304vykZL1i"
      },
      "outputs": [],
      "source": [
        "p = li[0].replace(\"\\n\",\"\")"
      ]
    },
    {
      "cell_type": "code",
      "execution_count": null,
      "metadata": {
        "id": "TpRsTPeVZX6z"
      },
      "outputs": [],
      "source": [
        "link = p\n",
        "# yt = YouTube(link)\n",
        "yt = YouTube(link)\n",
        "yt.streaming_data['formats'][2]['url']"
      ]
    },
    {
      "cell_type": "code",
      "execution_count": null,
      "metadata": {
        "id": "Uf7j8h3vb5wC"
      },
      "outputs": [],
      "source": [
        "yt.streaming_data"
      ]
    },
    {
      "cell_type": "markdown",
      "metadata": {
        "id": "kbTJCbmp5dcF"
      },
      "source": [
        "# half zeros"
      ]
    },
    {
      "cell_type": "code",
      "execution_count": 2,
      "metadata": {
        "id": "ZE9jK9TP1ELA",
        "colab": {
          "base_uri": "https://localhost:8080/",
          "height": 306
        },
        "outputId": "0aae8f98-0f27-487a-a00a-ef0d12d314c2"
      },
      "outputs": [
        {
          "output_type": "error",
          "ename": "ModuleNotFoundError",
          "evalue": "ignored",
          "traceback": [
            "\u001b[0;31m---------------------------------------------------------------------------\u001b[0m",
            "\u001b[0;31mModuleNotFoundError\u001b[0m                       Traceback (most recent call last)",
            "\u001b[0;32m<ipython-input-2-c2f66f08c331>\u001b[0m in \u001b[0;36m<module>\u001b[0;34m()\u001b[0m\n\u001b[0;32m----> 1\u001b[0;31m \u001b[0;32mfrom\u001b[0m \u001b[0mpytube\u001b[0m \u001b[0;32mimport\u001b[0m \u001b[0mPlaylist\u001b[0m\u001b[0;34m\u001b[0m\u001b[0;34m\u001b[0m\u001b[0m\n\u001b[0m",
            "\u001b[0;31mModuleNotFoundError\u001b[0m: No module named 'pytube'",
            "",
            "\u001b[0;31m---------------------------------------------------------------------------\u001b[0;32m\nNOTE: If your import is failing due to a missing package, you can\nmanually install dependencies using either !pip or !apt.\n\nTo view examples of installing some common dependencies, click the\n\"Open Examples\" button below.\n\u001b[0;31m---------------------------------------------------------------------------\u001b[0m\n"
          ],
          "errorDetails": {
            "actions": [
              {
                "action": "open_url",
                "actionText": "Open Examples",
                "url": "/notebooks/snippets/importing_libraries.ipynb"
              }
            ]
          }
        }
      ],
      "source": [
        "from pytube import Playlist"
      ]
    },
    {
      "cell_type": "code",
      "execution_count": 10,
      "metadata": {
        "id": "v9ra0CQ11Hzd",
        "colab": {
          "base_uri": "https://localhost:8080/"
        },
        "outputId": "07a203e2-f5dc-4aa6-e98c-c0f3389f11ae"
      },
      "outputs": [
        {
          "output_type": "execute_result",
          "data": {
            "text/plain": [
              "['https://www.youtube.com/watch?v=cQP8WApzIQQ', 'https://www.youtube.com/watch?v=gA4YXUJX7t8', 'https://www.youtube.com/watch?v=EpIgvowZr00', 'https://www.youtube.com/watch?v=M_teob23ZzY', 'https://www.youtube.com/watch?v=UzzcUS2OHqo', 'https://www.youtube.com/watch?v=64Zp3tzNbpE', 'https://www.youtube.com/watch?v=4r8Mz3MMivY', 'https://www.youtube.com/watch?v=pbmyrNjzdDk', 'https://www.youtube.com/watch?v=IXHzbCuADt0', 'https://www.youtube.com/watch?v=jJSh54J1s5o', 'https://www.youtube.com/watch?v=-pKNCjUhPjQ', 'https://www.youtube.com/watch?v=aDp99WDIM_4', 'https://www.youtube.com/watch?v=4eW5SWBi7vs', 'https://www.youtube.com/watch?v=Cw6Nj2evjSs', 'https://www.youtube.com/watch?v=mzIoSW-cInA', 'https://www.youtube.com/watch?v=Myp8z0ybdzM', 'https://www.youtube.com/watch?v=fR_NB714EAI', 'https://www.youtube.com/watch?v=UKdLJ7-0iFM', 'https://www.youtube.com/watch?v=K_euhRou98Y', 'https://www.youtube.com/watch?v=XvXK_vZ0BNw']"
            ]
          },
          "metadata": {},
          "execution_count": 10
        }
      ],
      "source": [
        "link = 'https://www.youtube.com/watch?v=cQP8WApzIQQ&list=PLrw6a1wE39_tb2fErI4-WkMbsvGQk9_UB'\n",
        "playlist = Playlist(link)\n",
        "playlist"
      ]
    },
    {
      "cell_type": "code",
      "execution_count": null,
      "metadata": {
        "colab": {
          "base_uri": "https://localhost:8080/"
        },
        "id": "lPJmsO0Z1Rua",
        "outputId": "dab8ebd8-f4db-44ca-d061-5ef87ad292ef"
      },
      "outputs": [
        {
          "data": {
            "text/plain": [
              "['https://www.youtube.com/watch?v=4_jiFQXPAsw', 'https://www.youtube.com/watch?v=r1YOoZKX5Ts', 'https://www.youtube.com/watch?v=C7hI-_fDFqc', 'https://www.youtube.com/watch?v=3VTUPnQTGcA', 'https://www.youtube.com/watch?v=K9_bRv2Lw9A', 'https://www.youtube.com/watch?v=5WMiEYIeF8s', 'https://www.youtube.com/watch?v=AcbmYqt8y4s', 'https://www.youtube.com/watch?v=kLnw8Pj6WSU', 'https://www.youtube.com/watch?v=sEU0qi0Q_HI', 'https://www.youtube.com/watch?v=NgXSNVxNuiE', 'https://www.youtube.com/watch?v=O0IfGAdRr7w', 'https://www.youtube.com/watch?v=JKCG9QMkn58', 'https://www.youtube.com/watch?v=QgRpwr_0Yt0', 'https://www.youtube.com/watch?v=RTMckOx4XgI', 'https://www.youtube.com/watch?v=Zxu9Gic0F88', 'https://www.youtube.com/watch?v=volRgLrUQa8', 'https://www.youtube.com/watch?v=n0JO6KojcGY', 'https://www.youtube.com/watch?v=obqAUmHmxWk', 'https://www.youtube.com/watch?v=CKPNoWtj9xU', 'https://www.youtube.com/watch?v=-QSGN5DqjJw', 'https://www.youtube.com/watch?v=XDCI9GFZ_Lc', 'https://www.youtube.com/watch?v=YQ7RIHMWA88', 'https://www.youtube.com/watch?v=oTwt38TSyE8', 'https://www.youtube.com/watch?v=o-haHQWlaPs', 'https://www.youtube.com/watch?v=lx2s5x0_7Gg', 'https://www.youtube.com/watch?v=ukoAswQmGq0', 'https://www.youtube.com/watch?v=bOKW5Xj7-No', 'https://www.youtube.com/watch?v=tMlKZZf2Kac', 'https://www.youtube.com/watch?v=GmY3LUL6GkY', 'https://www.youtube.com/watch?v=SdQREWTUO30', 'https://www.youtube.com/watch?v=4auMazU_XNM', 'https://www.youtube.com/watch?v=f8p_KWTA2iY', 'https://www.youtube.com/watch?v=DptRbduHKUw', 'https://www.youtube.com/watch?v=PBuLWYRP65Q', 'https://www.youtube.com/watch?v=rnVJMjMr9GQ', 'https://www.youtube.com/watch?v=lxOwG5NE3dg', 'https://www.youtube.com/watch?v=Y6UyXl7fNB4', 'https://www.youtube.com/watch?v=jBYg7YoaJjo', 'https://www.youtube.com/watch?v=xEQaDiAHDWk', 'https://www.youtube.com/watch?v=-CEm_ZJfRKM', 'https://www.youtube.com/watch?v=0u-Y1C1TWLs']"
            ]
          },
          "execution_count": 39,
          "metadata": {},
          "output_type": "execute_result"
        }
      ],
      "source": [
        "playlist"
      ]
    },
    {
      "cell_type": "code",
      "execution_count": 8,
      "metadata": {
        "colab": {
          "base_uri": "https://localhost:8080/",
          "height": 35
        },
        "id": "v8GH5RYz5h0A",
        "outputId": "cb572b75-11a9-4253-c4be-c3e2fc64acdd"
      },
      "outputs": [
        {
          "output_type": "execute_result",
          "data": {
            "application/vnd.google.colaboratory.intrinsic+json": {
              "type": "string"
            },
            "text/plain": [
              "'/content/drive/MyDrive/in_hand/Stanfords Sapolsky On Depression in US (Full Lecture).mp4'"
            ]
          },
          "metadata": {},
          "execution_count": 8
        }
      ],
      "source": [
        "# link = 'https://www.youtube.com/watch?v=T_ekAD7U-wU'\n",
        "# link = 'https://www.youtube.com/watch?v=D2vZmz-JsLw'\n",
        "# link = 'https://www.youtube.com/watch?v=NSSTkkKRabI'\n",
        "# link = 'https://www.youtube.com/watch?v=xZVw-9ThmSM'\n",
        "# link = 'https://www.youtube.com/watch?v=2gyxeXW_2T8'\n",
        "# link = playlist[3]\n",
        "# link = 'https://www.youtube.com/watch?v=EcMKLwVlpJk'\n",
        "link = 'http://www.youtube.com/watch?v=NOAgplgTxfc'\n",
        "yt = YouTube(link)\n",
        "ys = yt.streams.get_by_itag(\"18\")\n",
        "# print(\"this is number {} from {}\".format(i,len(deep.split(','))))\n",
        "ys.download(\"/content/drive/MyDrive/in_hand\")"
      ]
    },
    {
      "cell_type": "markdown",
      "metadata": {
        "id": "X4RkQ-Pzb_pW"
      },
      "source": [
        "# One"
      ]
    },
    {
      "cell_type": "code",
      "execution_count": 6,
      "metadata": {
        "colab": {
          "base_uri": "https://localhost:8080/"
        },
        "id": "wD_P5vXkiw-3",
        "outputId": "d4c39d87-7895-4c70-93ff-919ab2826f53"
      },
      "outputs": [
        {
          "output_type": "stream",
          "name": "stdout",
          "text": [
            "Requirement already satisfied: pytube in /usr/local/lib/python3.7/dist-packages (12.0.0)\n"
          ]
        }
      ],
      "source": [
        "!pip install pytube\n",
        "from pytube import YouTube,Playlist"
      ]
    },
    {
      "cell_type": "code",
      "execution_count": null,
      "metadata": {
        "id": "eVKbmnMIcGsp"
      },
      "outputs": [],
      "source": [
        "deep_learning = ['https://www.youtube.com/watch?v=5tvmMX8r_OM&list=PLtBw6njQRU-rwp5__7C0oIVt26ZgjG9NI&index=1','https://www.youtube.com/watch?v=qjrad0V0uJE&list=PLtBw6njQRU-rwp5__7C0oIVt26ZgjG9NI&index=2','https://www.youtube.com/watch?v=AjtX1N_VT9E&list=PLtBw6njQRU-rwp5__7C0oIVt26ZgjG9NI&index=3','https://www.youtube.com/watch?v=BUNl0To1IVw&list=PLtBw6njQRU-rwp5__7C0oIVt26ZgjG9NI&index=4','https://www.youtube.com/watch?v=93M1l_nrhpQ&list=PLtBw6njQRU-rwp5__7C0oIVt26ZgjG9NI&index=5','https://www.youtube.com/watch?v=-boCMDouF2g&list=PLtBw6njQRU-rwp5__7C0oIVt26ZgjG9NI&index=6','https://www.youtube.com/watch?v=toTcf7tZK8c&list=PLtBw6njQRU-rwp5__7C0oIVt26ZgjG9NI&index=7','https://www.youtube.com/watch?v=wmyVODy_WD8&list=PLtBw6njQRU-rwp5__7C0oIVt26ZgjG9NI&index=8','https://www.youtube.com/watch?v=WkUYsVC3hKI&list=PLtBw6njQRU-rwp5__7C0oIVt26ZgjG9NI&index=9','https://www.youtube.com/watch?v=eS-OHAHOqU0&list=PLtBw6njQRU-rwp5__7C0oIVt26ZgjG9NI&index=10','https://www.youtube.com/watch?v=lkkFcg9k9ho&list=PLtBw6njQRU-rwp5__7C0oIVt26ZgjG9NI&index=11','https://www.youtube.com/watch?v=cvXVK8oqU4Q&list=PLtBw6njQRU-rwp5__7C0oIVt26ZgjG9NI&index=12','https://www.youtube.com/watch?v=njKP3FqW3Sk&list=PLtBw6njQRU-rwp5__7C0oIVt26ZgjG9NI&index=13','https://www.youtube.com/watch?v=SEnXr6v2ifU&list=PLtBw6njQRU-rwp5__7C0oIVt26ZgjG9NI&index=14','https://www.youtube.com/watch?v=iaSUYvmCekI&list=PLtBw6njQRU-rwp5__7C0oIVt26ZgjG9NI&index=15','https://www.youtube.com/watch?v=rZufA635dq4&list=PLtBw6njQRU-rwp5__7C0oIVt26ZgjG9NI&index=16','https://www.youtube.com/watch?v=nZfaHIxDD5w&list=PLtBw6njQRU-rwp5__7C0oIVt26ZgjG9NI&index=17','https://www.youtube.com/watch?v=tfM_DdbGTLs&list=PLtBw6njQRU-rwp5__7C0oIVt26ZgjG9NI&index=18','https://www.youtube.com/watch?v=4PuuziOgSU4&list=PLtBw6njQRU-rwp5__7C0oIVt26ZgjG9NI&index=19','https://www.youtube.com/watch?v=8Kn4Gi8iSYQ&list=PLtBw6njQRU-rwp5__7C0oIVt26ZgjG9NI&index=20','https://www.youtube.com/watch?v=BCZ56MU-KhQ&list=PLtBw6njQRU-rwp5__7C0oIVt26ZgjG9NI&index=21','https://www.youtube.com/watch?v=BCZ56MU-KhQ&list=PLtBw6njQRU-rwp5__7C0oIVt26ZgjG9NI&index=21','https://www.youtube.com/watch?v=Z5Pw5eWItiw&list=PLtBw6njQRU-rwp5__7C0oIVt26ZgjG9NI&index=22']"
      ]
    },
    {
      "cell_type": "code",
      "execution_count": null,
      "metadata": {
        "id": "_Tr7Y1QOcJLy"
      },
      "outputs": [],
      "source": [
        "machine_learning = ['https://www.youtube.com/watch?v=jGwO_UgTS7I&list=PLoROMvodv4rMiGQp3WXShtMGgzqpfVfbU&index=1','https://www.youtube.com/watch?v=4b4MUYve_U8&list=PLoROMvodv4rMiGQp3WXShtMGgzqpfVfbU&index=2','https://www.youtube.com/watch?v=het9HFqo1TQ&list=PLoROMvodv4rMiGQp3WXShtMGgzqpfVfbU&index=3','https://www.youtube.com/watch?v=iZTeva0WSTQ&list=PLoROMvodv4rMiGQp3WXShtMGgzqpfVfbU&index=4','https://www.youtube.com/watch?v=nt63k3bfXS0&list=PLoROMvodv4rMiGQp3WXShtMGgzqpfVfbU&index=5','https://www.youtube.com/watch?v=nt63k3bfXS0&list=PLoROMvodv4rMiGQp3WXShtMGgzqpfVfbU&index=5','https://www.youtube.com/watch?v=lDwow4aOrtg&list=PLoROMvodv4rMiGQp3WXShtMGgzqpfVfbU&index=6','https://www.youtube.com/watch?v=8NYoQiRANpg&list=PLoROMvodv4rMiGQp3WXShtMGgzqpfVfbU&index=7','https://www.youtube.com/watch?v=rjbkWSTjHzM&list=PLoROMvodv4rMiGQp3WXShtMGgzqpfVfbU&index=8','https://www.youtube.com/watch?v=iVOxMcumR4A&list=PLoROMvodv4rMiGQp3WXShtMGgzqpfVfbU&index=9','https://www.youtube.com/watch?v=wr9gUr-eWdA&list=PLoROMvodv4rMiGQp3WXShtMGgzqpfVfbU&index=10','https://www.youtube.com/watch?v=MfIjxPh6Pys&list=PLoROMvodv4rMiGQp3WXShtMGgzqpfVfbU&index=11','https://www.youtube.com/watch?v=zUazLXZZA2U&list=PLoROMvodv4rMiGQp3WXShtMGgzqpfVfbU&index=12','https://www.youtube.com/watch?v=ORrStCArmP4&list=PLoROMvodv4rMiGQp3WXShtMGgzqpfVfbU&index=13','https://www.youtube.com/watch?v=rVfZHWTwXSA&list=PLoROMvodv4rMiGQp3WXShtMGgzqpfVfbU&index=14','https://www.youtube.com/watch?v=tw6cmL5STuY&list=PLoROMvodv4rMiGQp3WXShtMGgzqpfVfbU&index=15','https://www.youtube.com/watch?v=YQA9lLdLig8&list=PLoROMvodv4rMiGQp3WXShtMGgzqpfVfbU&index=16','https://www.youtube.com/watch?v=d5gaWTo6kDM&list=PLoROMvodv4rMiGQp3WXShtMGgzqpfVfbU&index=17','https://www.youtube.com/watch?v=QFu5nuc-S0s&list=PLoROMvodv4rMiGQp3WXShtMGgzqpfVfbU&index=18','https://www.youtube.com/watch?v=0rt2CsEQv6U&list=PLoROMvodv4rMiGQp3WXShtMGgzqpfVfbU&index=19','https://www.youtube.com/watch?v=pLhPQynL0tY&list=PLoROMvodv4rMiGQp3WXShtMGgzqpfVfbU&index=20']"
      ]
    },
    {
      "cell_type": "code",
      "execution_count": null,
      "metadata": {
        "colab": {
          "base_uri": "https://localhost:8080/",
          "height": 35
        },
        "id": "0WVat_Vjc7hb",
        "outputId": "2cff24fd-680d-45ad-ffb6-22e3b8267864"
      },
      "outputs": [
        {
          "data": {
            "application/vnd.google.colaboratory.intrinsic+json": {
              "type": "string"
            },
            "text/plain": [
              "'https://www.youtube.com/watch?v=zUazLXZZA2U&list=PLoROMvodv4rMiGQp3WXShtMGgzqpfVfbU&index=12'"
            ]
          },
          "execution_count": 3,
          "metadata": {},
          "output_type": "execute_result"
        }
      ],
      "source": [
        "machine_learning[12]"
      ]
    },
    {
      "cell_type": "code",
      "execution_count": null,
      "metadata": {
        "id": "To5zUMzkcK46"
      },
      "outputs": [],
      "source": [
        "algebra = ['https://www.youtube.com/watch?v=YiqIkSHSmyc&list=PLUl4u3cNGP63oMNUHXqIUcrkS2PivhN3k&index=3','https://www.youtube.com/watch?v=or6C4yBk_SY&list=PLUl4u3cNGP63oMNUHXqIUcrkS2PivhN3k&index=4','https://www.youtube.com/watch?v=YiqIkSHSmyc&list=PLUl4u3cNGP63oMNUHXqIUcrkS2PivhN3k&index=3','https://www.youtube.com/watch?v=Xa2jPbURTjQ&list=PLUl4u3cNGP63oMNUHXqIUcrkS2PivhN3k&index=5','https://www.youtube.com/watch?v=k095NdrHxY4&list=PLUl4u3cNGP63oMNUHXqIUcrkS2PivhN3k&index=6','https://www.youtube.com/watch?v=xsP-S7yKaRA&list=PLUl4u3cNGP63oMNUHXqIUcrkS2PivhN3k&index=7','https://www.youtube.com/watch?v=Y4f7K9XF04k&list=PLUl4u3cNGP63oMNUHXqIUcrkS2PivhN3k&index=9','https://www.youtube.com/watch?v=rYz83XPxiZo&list=PLUl4u3cNGP63oMNUHXqIUcrkS2PivhN3k&index=8','https://www.youtube.com/watch?v=NcPUI7aPFhA&list=PLUl4u3cNGP63oMNUHXqIUcrkS2PivhN3k&index=10','https://www.youtube.com/watch?v=ZUU57Q3CFOU&list=PLUl4u3cNGP63oMNUHXqIUcrkS2PivhN3k&index=11','https://www.youtube.com/watch?v=Z_5uLqcwDgM&list=PLUl4u3cNGP63oMNUHXqIUcrkS2PivhN3k&index=12','https://www.youtube.com/watch?v=MuEW9pG9oxE&list=PLUl4u3cNGP63oMNUHXqIUcrkS2PivhN3k&index=13','https://www.youtube.com/watch?v=d32WV1rKoVk&list=PLUl4u3cNGP63oMNUHXqIUcrkS2PivhN3k&index=14','https://www.youtube.com/watch?v=z0ykhV15wLw&list=PLUl4u3cNGP63oMNUHXqIUcrkS2PivhN3k&index=15','https://www.youtube.com/watch?v=z3SmljnD_nQ&list=PLUl4u3cNGP63oMNUHXqIUcrkS2PivhN3k&index=17','https://www.youtube.com/watch?v=XhSk_Lw2X_U&list=PLUl4u3cNGP63oMNUHXqIUcrkS2PivhN3k&index=16','https://www.youtube.com/watch?v=xaSL8yFgqig&list=PLUl4u3cNGP63oMNUHXqIUcrkS2PivhN3k&index=20','https://www.youtube.com/watch?v=2K7CvGnebO0&list=PLUl4u3cNGP63oMNUHXqIUcrkS2PivhN3k&index=21','https://www.youtube.com/watch?v=9BYsNpTCZGg&list=PLUl4u3cNGP63oMNUHXqIUcrkS2PivhN3k&index=19','https://www.youtube.com/watch?v=AdTvkFsqcDc&list=PLUl4u3cNGP63oMNUHXqIUcrkS2PivhN3k&index=18','https://www.youtube.com/watch?v=nrDkb2MAwSA&list=PLUl4u3cNGP63oMNUHXqIUcrkS2PivhN3k&index=22','https://www.youtube.com/watch?v=wrEcHhoJxjM&list=PLUl4u3cNGP63oMNUHXqIUcrkS2PivhN3k&index=25','https://www.youtube.com/watch?v=nvXRJIBOREc&list=PLUl4u3cNGP63oMNUHXqIUcrkS2PivhN3k&index=23','https://www.youtube.com/watch?v=AeRwohPuUHQ&list=PLUl4u3cNGP63oMNUHXqIUcrkS2PivhN3k&index=24','https://www.youtube.com/watch?v=sx00s7nYmRM&list=PLUl4u3cNGP63oMNUHXqIUcrkS2PivhN3k&index=28','','https://www.youtube.com/watch?v=sx00s7nYmRM&list=PLUl4u3cNGP63oMNUHXqIUcrkS2PivhN3k&index=28','https://www.youtube.com/watch?v=lZrIPRnoGQQ&list=PLUl4u3cNGP63oMNUHXqIUcrkS2PivhN3k&index=29','https://www.youtube.com/watch?v=p-bXJIa7QVI&list=PLUl4u3cNGP63oMNUHXqIUcrkS2PivhN3k&index=30','https://www.youtube.com/watch?v=1pFv7e9xtHo&list=PLUl4u3cNGP63oMNUHXqIUcrkS2PivhN3k&index=31','https://www.youtube.com/watch?v=hwDRfkPSXng&list=PLUl4u3cNGP63oMNUHXqIUcrkS2PivhN3k&index=32','https://www.youtube.com/watch?v=L3-WFKCW-tY&list=PLUl4u3cNGP63oMNUHXqIUcrkS2PivhN3k&index=33','https://www.youtube.com/watch?v=0Qws8BuK3RQ&list=PLUl4u3cNGP63oMNUHXqIUcrkS2PivhN3k&index=34','https://www.youtube.com/watch?v=cxTmmasBiC8&list=PLUl4u3cNGP63oMNUHXqIUcrkS2PivhN3k&index=35','https://www.youtube.com/watch?v=rZS2LGiurKY&list=PLUl4u3cNGP63oMNUHXqIUcrkS2PivhN3k&index=36']"
      ]
    },
    {
      "cell_type": "code",
      "execution_count": 9,
      "metadata": {
        "colab": {
          "base_uri": "https://localhost:8080/",
          "height": 402
        },
        "id": "e1pfPyGCcMXC",
        "outputId": "c81d2aeb-ca3a-41b2-c455-047598807d3f"
      },
      "outputs": [
        {
          "output_type": "stream",
          "name": "stdout",
          "text": [
            "['https://www.youtube.com/watch?v=cQP8WApzIQQ', 'https://www.youtube.com/watch?v=gA4YXUJX7t8', 'https://www.youtube.com/watch?v=EpIgvowZr00', 'https://www.youtube.com/watch?v=M_teob23ZzY', 'https://www.youtube.com/watch?v=UzzcUS2OHqo', 'https://www.youtube.com/watch?v=64Zp3tzNbpE', 'https://www.youtube.com/watch?v=4r8Mz3MMivY', 'https://www.youtube.com/watch?v=pbmyrNjzdDk', 'https://www.youtube.com/watch?v=IXHzbCuADt0', 'https://www.youtube.com/watch?v=jJSh54J1s5o', 'https://www.youtube.com/watch?v=-pKNCjUhPjQ', 'https://www.youtube.com/watch?v=aDp99WDIM_4', 'https://www.youtube.com/watch?v=4eW5SWBi7vs', 'https://www.youtube.com/watch?v=Cw6Nj2evjSs', 'https://www.youtube.com/watch?v=mzIoSW-cInA', 'https://www.youtube.com/watch?v=Myp8z0ybdzM', 'https://www.youtube.com/watch?v=fR_NB714EAI', 'https://www.youtube.com/watch?v=UKdLJ7-0iFM', 'https://www.youtube.com/watch?v=K_euhRou98Y', 'https://www.youtube.com/watch?v=XvXK_vZ0BNw']\n",
            "this is number 1 from 20\n"
          ]
        },
        {
          "output_type": "error",
          "ename": "KeyboardInterrupt",
          "evalue": "ignored",
          "traceback": [
            "\u001b[0;31m---------------------------------------------------------------------------\u001b[0m",
            "\u001b[0;31mKeyboardInterrupt\u001b[0m                         Traceback (most recent call last)",
            "\u001b[0;32m<ipython-input-9-4f64e7429cf5>\u001b[0m in \u001b[0;36m<module>\u001b[0;34m()\u001b[0m\n\u001b[1;32m     19\u001b[0m     \u001b[0mys\u001b[0m \u001b[0;34m=\u001b[0m \u001b[0myt\u001b[0m\u001b[0;34m.\u001b[0m\u001b[0mstreams\u001b[0m\u001b[0;34m.\u001b[0m\u001b[0mget_by_itag\u001b[0m\u001b[0;34m(\u001b[0m\u001b[0;34m\"18\"\u001b[0m\u001b[0;34m)\u001b[0m\u001b[0;34m\u001b[0m\u001b[0;34m\u001b[0m\u001b[0m\n\u001b[1;32m     20\u001b[0m     \u001b[0mprint\u001b[0m\u001b[0;34m(\u001b[0m\u001b[0;34m\"this is number {} from {}\"\u001b[0m\u001b[0;34m.\u001b[0m\u001b[0mformat\u001b[0m\u001b[0;34m(\u001b[0m\u001b[0mi\u001b[0m\u001b[0;34m,\u001b[0m\u001b[0mlen\u001b[0m\u001b[0;34m(\u001b[0m\u001b[0mplaylist\u001b[0m\u001b[0;34m)\u001b[0m\u001b[0;34m)\u001b[0m\u001b[0;34m)\u001b[0m\u001b[0;34m\u001b[0m\u001b[0;34m\u001b[0m\u001b[0m\n\u001b[0;32m---> 21\u001b[0;31m     \u001b[0mys\u001b[0m\u001b[0;34m.\u001b[0m\u001b[0mdownload\u001b[0m\u001b[0;34m(\u001b[0m\u001b[0;34m\"/content/drive/MyDrive/in_hand\"\u001b[0m\u001b[0;34m)\u001b[0m\u001b[0;34m\u001b[0m\u001b[0;34m\u001b[0m\u001b[0m\n\u001b[0m",
            "\u001b[0;32m/usr/local/lib/python3.7/dist-packages/pytube/streams.py\u001b[0m in \u001b[0;36mdownload\u001b[0;34m(self, output_path, filename, filename_prefix, skip_existing, timeout, max_retries)\u001b[0m\n\u001b[1;32m    253\u001b[0m                     \u001b[0mself\u001b[0m\u001b[0;34m.\u001b[0m\u001b[0murl\u001b[0m\u001b[0;34m,\u001b[0m\u001b[0;34m\u001b[0m\u001b[0;34m\u001b[0m\u001b[0m\n\u001b[1;32m    254\u001b[0m                     \u001b[0mtimeout\u001b[0m\u001b[0;34m=\u001b[0m\u001b[0mtimeout\u001b[0m\u001b[0;34m,\u001b[0m\u001b[0;34m\u001b[0m\u001b[0;34m\u001b[0m\u001b[0m\n\u001b[0;32m--> 255\u001b[0;31m                     \u001b[0mmax_retries\u001b[0m\u001b[0;34m=\u001b[0m\u001b[0mmax_retries\u001b[0m\u001b[0;34m\u001b[0m\u001b[0;34m\u001b[0m\u001b[0m\n\u001b[0m\u001b[1;32m    256\u001b[0m                 ):\n\u001b[1;32m    257\u001b[0m                     \u001b[0;31m# reduce the (bytes) remainder by the length of the chunk.\u001b[0m\u001b[0;34m\u001b[0m\u001b[0;34m\u001b[0m\u001b[0;34m\u001b[0m\u001b[0m\n",
            "\u001b[0;32m/usr/local/lib/python3.7/dist-packages/pytube/request.py\u001b[0m in \u001b[0;36mstream\u001b[0;34m(url, timeout, max_retries)\u001b[0m\n\u001b[1;32m    183\u001b[0m                 \u001b[0mlogger\u001b[0m\u001b[0;34m.\u001b[0m\u001b[0merror\u001b[0m\u001b[0;34m(\u001b[0m\u001b[0me\u001b[0m\u001b[0;34m)\u001b[0m\u001b[0;34m\u001b[0m\u001b[0;34m\u001b[0m\u001b[0m\n\u001b[1;32m    184\u001b[0m         \u001b[0;32mwhile\u001b[0m \u001b[0;32mTrue\u001b[0m\u001b[0;34m:\u001b[0m\u001b[0;34m\u001b[0m\u001b[0;34m\u001b[0m\u001b[0m\n\u001b[0;32m--> 185\u001b[0;31m             \u001b[0mchunk\u001b[0m \u001b[0;34m=\u001b[0m \u001b[0mresponse\u001b[0m\u001b[0;34m.\u001b[0m\u001b[0mread\u001b[0m\u001b[0;34m(\u001b[0m\u001b[0;34m)\u001b[0m\u001b[0;34m\u001b[0m\u001b[0;34m\u001b[0m\u001b[0m\n\u001b[0m\u001b[1;32m    186\u001b[0m             \u001b[0;32mif\u001b[0m \u001b[0;32mnot\u001b[0m \u001b[0mchunk\u001b[0m\u001b[0;34m:\u001b[0m\u001b[0;34m\u001b[0m\u001b[0;34m\u001b[0m\u001b[0m\n\u001b[1;32m    187\u001b[0m                 \u001b[0;32mbreak\u001b[0m\u001b[0;34m\u001b[0m\u001b[0;34m\u001b[0m\u001b[0m\n",
            "\u001b[0;32m/usr/lib/python3.7/http/client.py\u001b[0m in \u001b[0;36mread\u001b[0;34m(self, amt)\u001b[0m\n\u001b[1;32m    476\u001b[0m             \u001b[0;32melse\u001b[0m\u001b[0;34m:\u001b[0m\u001b[0;34m\u001b[0m\u001b[0;34m\u001b[0m\u001b[0m\n\u001b[1;32m    477\u001b[0m                 \u001b[0;32mtry\u001b[0m\u001b[0;34m:\u001b[0m\u001b[0;34m\u001b[0m\u001b[0;34m\u001b[0m\u001b[0m\n\u001b[0;32m--> 478\u001b[0;31m                     \u001b[0ms\u001b[0m \u001b[0;34m=\u001b[0m \u001b[0mself\u001b[0m\u001b[0;34m.\u001b[0m\u001b[0m_safe_read\u001b[0m\u001b[0;34m(\u001b[0m\u001b[0mself\u001b[0m\u001b[0;34m.\u001b[0m\u001b[0mlength\u001b[0m\u001b[0;34m)\u001b[0m\u001b[0;34m\u001b[0m\u001b[0;34m\u001b[0m\u001b[0m\n\u001b[0m\u001b[1;32m    479\u001b[0m                 \u001b[0;32mexcept\u001b[0m \u001b[0mIncompleteRead\u001b[0m\u001b[0;34m:\u001b[0m\u001b[0;34m\u001b[0m\u001b[0;34m\u001b[0m\u001b[0m\n\u001b[1;32m    480\u001b[0m                     \u001b[0mself\u001b[0m\u001b[0;34m.\u001b[0m\u001b[0m_close_conn\u001b[0m\u001b[0;34m(\u001b[0m\u001b[0;34m)\u001b[0m\u001b[0;34m\u001b[0m\u001b[0;34m\u001b[0m\u001b[0m\n",
            "\u001b[0;32m/usr/lib/python3.7/http/client.py\u001b[0m in \u001b[0;36m_safe_read\u001b[0;34m(self, amt)\u001b[0m\n\u001b[1;32m    626\u001b[0m         \u001b[0ms\u001b[0m \u001b[0;34m=\u001b[0m \u001b[0;34m[\u001b[0m\u001b[0;34m]\u001b[0m\u001b[0;34m\u001b[0m\u001b[0;34m\u001b[0m\u001b[0m\n\u001b[1;32m    627\u001b[0m         \u001b[0;32mwhile\u001b[0m \u001b[0mamt\u001b[0m \u001b[0;34m>\u001b[0m \u001b[0;36m0\u001b[0m\u001b[0;34m:\u001b[0m\u001b[0;34m\u001b[0m\u001b[0;34m\u001b[0m\u001b[0m\n\u001b[0;32m--> 628\u001b[0;31m             \u001b[0mchunk\u001b[0m \u001b[0;34m=\u001b[0m \u001b[0mself\u001b[0m\u001b[0;34m.\u001b[0m\u001b[0mfp\u001b[0m\u001b[0;34m.\u001b[0m\u001b[0mread\u001b[0m\u001b[0;34m(\u001b[0m\u001b[0mmin\u001b[0m\u001b[0;34m(\u001b[0m\u001b[0mamt\u001b[0m\u001b[0;34m,\u001b[0m \u001b[0mMAXAMOUNT\u001b[0m\u001b[0;34m)\u001b[0m\u001b[0;34m)\u001b[0m\u001b[0;34m\u001b[0m\u001b[0;34m\u001b[0m\u001b[0m\n\u001b[0m\u001b[1;32m    629\u001b[0m             \u001b[0;32mif\u001b[0m \u001b[0;32mnot\u001b[0m \u001b[0mchunk\u001b[0m\u001b[0;34m:\u001b[0m\u001b[0;34m\u001b[0m\u001b[0;34m\u001b[0m\u001b[0m\n\u001b[1;32m    630\u001b[0m                 \u001b[0;32mraise\u001b[0m \u001b[0mIncompleteRead\u001b[0m\u001b[0;34m(\u001b[0m\u001b[0;34mb''\u001b[0m\u001b[0;34m.\u001b[0m\u001b[0mjoin\u001b[0m\u001b[0;34m(\u001b[0m\u001b[0ms\u001b[0m\u001b[0;34m)\u001b[0m\u001b[0;34m,\u001b[0m \u001b[0mamt\u001b[0m\u001b[0;34m)\u001b[0m\u001b[0;34m\u001b[0m\u001b[0;34m\u001b[0m\u001b[0m\n",
            "\u001b[0;32m/usr/lib/python3.7/socket.py\u001b[0m in \u001b[0;36mreadinto\u001b[0;34m(self, b)\u001b[0m\n\u001b[1;32m    587\u001b[0m         \u001b[0;32mwhile\u001b[0m \u001b[0;32mTrue\u001b[0m\u001b[0;34m:\u001b[0m\u001b[0;34m\u001b[0m\u001b[0;34m\u001b[0m\u001b[0m\n\u001b[1;32m    588\u001b[0m             \u001b[0;32mtry\u001b[0m\u001b[0;34m:\u001b[0m\u001b[0;34m\u001b[0m\u001b[0;34m\u001b[0m\u001b[0m\n\u001b[0;32m--> 589\u001b[0;31m                 \u001b[0;32mreturn\u001b[0m \u001b[0mself\u001b[0m\u001b[0;34m.\u001b[0m\u001b[0m_sock\u001b[0m\u001b[0;34m.\u001b[0m\u001b[0mrecv_into\u001b[0m\u001b[0;34m(\u001b[0m\u001b[0mb\u001b[0m\u001b[0;34m)\u001b[0m\u001b[0;34m\u001b[0m\u001b[0;34m\u001b[0m\u001b[0m\n\u001b[0m\u001b[1;32m    590\u001b[0m             \u001b[0;32mexcept\u001b[0m \u001b[0mtimeout\u001b[0m\u001b[0;34m:\u001b[0m\u001b[0;34m\u001b[0m\u001b[0;34m\u001b[0m\u001b[0m\n\u001b[1;32m    591\u001b[0m                 \u001b[0mself\u001b[0m\u001b[0;34m.\u001b[0m\u001b[0m_timeout_occurred\u001b[0m \u001b[0;34m=\u001b[0m \u001b[0;32mTrue\u001b[0m\u001b[0;34m\u001b[0m\u001b[0;34m\u001b[0m\u001b[0m\n",
            "\u001b[0;32m/usr/lib/python3.7/ssl.py\u001b[0m in \u001b[0;36mrecv_into\u001b[0;34m(self, buffer, nbytes, flags)\u001b[0m\n\u001b[1;32m   1069\u001b[0m                   \u001b[0;34m\"non-zero flags not allowed in calls to recv_into() on %s\"\u001b[0m \u001b[0;34m%\u001b[0m\u001b[0;34m\u001b[0m\u001b[0;34m\u001b[0m\u001b[0m\n\u001b[1;32m   1070\u001b[0m                   self.__class__)\n\u001b[0;32m-> 1071\u001b[0;31m             \u001b[0;32mreturn\u001b[0m \u001b[0mself\u001b[0m\u001b[0;34m.\u001b[0m\u001b[0mread\u001b[0m\u001b[0;34m(\u001b[0m\u001b[0mnbytes\u001b[0m\u001b[0;34m,\u001b[0m \u001b[0mbuffer\u001b[0m\u001b[0;34m)\u001b[0m\u001b[0;34m\u001b[0m\u001b[0;34m\u001b[0m\u001b[0m\n\u001b[0m\u001b[1;32m   1072\u001b[0m         \u001b[0;32melse\u001b[0m\u001b[0;34m:\u001b[0m\u001b[0;34m\u001b[0m\u001b[0;34m\u001b[0m\u001b[0m\n\u001b[1;32m   1073\u001b[0m             \u001b[0;32mreturn\u001b[0m \u001b[0msuper\u001b[0m\u001b[0;34m(\u001b[0m\u001b[0;34m)\u001b[0m\u001b[0;34m.\u001b[0m\u001b[0mrecv_into\u001b[0m\u001b[0;34m(\u001b[0m\u001b[0mbuffer\u001b[0m\u001b[0;34m,\u001b[0m \u001b[0mnbytes\u001b[0m\u001b[0;34m,\u001b[0m \u001b[0mflags\u001b[0m\u001b[0;34m)\u001b[0m\u001b[0;34m\u001b[0m\u001b[0;34m\u001b[0m\u001b[0m\n",
            "\u001b[0;32m/usr/lib/python3.7/ssl.py\u001b[0m in \u001b[0;36mread\u001b[0;34m(self, len, buffer)\u001b[0m\n\u001b[1;32m    927\u001b[0m         \u001b[0;32mtry\u001b[0m\u001b[0;34m:\u001b[0m\u001b[0;34m\u001b[0m\u001b[0;34m\u001b[0m\u001b[0m\n\u001b[1;32m    928\u001b[0m             \u001b[0;32mif\u001b[0m \u001b[0mbuffer\u001b[0m \u001b[0;32mis\u001b[0m \u001b[0;32mnot\u001b[0m \u001b[0;32mNone\u001b[0m\u001b[0;34m:\u001b[0m\u001b[0;34m\u001b[0m\u001b[0;34m\u001b[0m\u001b[0m\n\u001b[0;32m--> 929\u001b[0;31m                 \u001b[0;32mreturn\u001b[0m \u001b[0mself\u001b[0m\u001b[0;34m.\u001b[0m\u001b[0m_sslobj\u001b[0m\u001b[0;34m.\u001b[0m\u001b[0mread\u001b[0m\u001b[0;34m(\u001b[0m\u001b[0mlen\u001b[0m\u001b[0;34m,\u001b[0m \u001b[0mbuffer\u001b[0m\u001b[0;34m)\u001b[0m\u001b[0;34m\u001b[0m\u001b[0;34m\u001b[0m\u001b[0m\n\u001b[0m\u001b[1;32m    930\u001b[0m             \u001b[0;32melse\u001b[0m\u001b[0;34m:\u001b[0m\u001b[0;34m\u001b[0m\u001b[0;34m\u001b[0m\u001b[0m\n\u001b[1;32m    931\u001b[0m                 \u001b[0;32mreturn\u001b[0m \u001b[0mself\u001b[0m\u001b[0;34m.\u001b[0m\u001b[0m_sslobj\u001b[0m\u001b[0;34m.\u001b[0m\u001b[0mread\u001b[0m\u001b[0;34m(\u001b[0m\u001b[0mlen\u001b[0m\u001b[0;34m)\u001b[0m\u001b[0;34m\u001b[0m\u001b[0;34m\u001b[0m\u001b[0m\n",
            "\u001b[0;31mKeyboardInterrupt\u001b[0m: "
          ]
        }
      ],
      "source": [
        "# link = \"https://www.youtube.com/watch?v=qjrad0V0uJE&list=PLtBw6njQRU-rwp5__7C0oIVt26ZgjG9NI&index=2 ---22\"\n",
        "# yt = YouTube(link)\n",
        "# link_ = 'https://www.youtube.com/watch?v=4_jiFQXPAsw&list=PLdkTDauaUnQpzuOCZyUUZc0lxf4-PXNR5'\n",
        "# convex_one = 'https://www.youtube.com/watch?v=Rhe7JG7NaIM&list=PL8WsPW41L6l7rviIGvIkY0-jn-tM3YSNi&index=1'\n",
        "# link_ = convex_one\n",
        "# convex_3 = 'https://www.youtube.com/watch?v=C1lhuz6pZC0&list=PLUl4u3cNGP619EG1wp0kT-7rDE_Az5TNd'\n",
        "# link_ = convex_3 \n",
        "# complex_system = 'https://www.youtube.com/watch?v=C1lhuz6pZC0&list=PLUl4u3cNGP619EG1wp0kT-7rDE_Az5TNd'\n",
        "# link_ = complex_system\n",
        "# psychology = 'https://www.youtube.com/watch?v=NNnIGh9g6fA&list=PL848F2368C90DDC3D'\n",
        "# link_ = psychology\n",
        "link_ = 'https://www.youtube.com/watch?v=cQP8WApzIQQ&list=PLrw6a1wE39_tb2fErI4-WkMbsvGQk9_UB'\n",
        "playlist = Playlist(link_)\n",
        "print(playlist)\n",
        "i = 0\n",
        "for link in playlist:\n",
        "    i += 1\n",
        "    yt = YouTube(link)\n",
        "    ys = yt.streams.get_by_itag(\"18\")\n",
        "    print(\"this is number {} from {}\".format(i,len(playlist)))\n",
        "    ys.download(\"/content/drive/MyDrive/in_hand\")"
      ]
    },
    {
      "cell_type": "code",
      "execution_count": 14,
      "metadata": {
        "colab": {
          "base_uri": "https://localhost:8080/"
        },
        "id": "D-I-I9hmOv2r",
        "outputId": "714bbcf5-c5a9-46b1-a8eb-d675b18c689e"
      },
      "outputs": [
        {
          "output_type": "stream",
          "name": "stdout",
          "text": [
            "<Stream: itag=\"17\" mime_type=\"video/3gpp\" res=\"144p\" fps=\"7fps\" vcodec=\"mp4v.20.3\" acodec=\"mp4a.40.2\" progressive=\"True\" type=\"video\">\n",
            "<Stream: itag=\"18\" mime_type=\"video/mp4\" res=\"360p\" fps=\"30fps\" vcodec=\"avc1.42001E\" acodec=\"mp4a.40.2\" progressive=\"True\" type=\"video\">\n",
            "<Stream: itag=\"134\" mime_type=\"video/mp4\" res=\"360p\" fps=\"30fps\" vcodec=\"avc1.4d401e\" progressive=\"False\" type=\"video\">\n",
            "<Stream: itag=\"243\" mime_type=\"video/webm\" res=\"360p\" fps=\"30fps\" vcodec=\"vp9\" progressive=\"False\" type=\"video\">\n",
            "<Stream: itag=\"396\" mime_type=\"video/mp4\" res=\"360p\" fps=\"30fps\" vcodec=\"av01.0.01M.08.0.110.06.01.06.0\" progressive=\"False\" type=\"video\">\n",
            "<Stream: itag=\"133\" mime_type=\"video/mp4\" res=\"240p\" fps=\"30fps\" vcodec=\"avc1.4d4015\" progressive=\"False\" type=\"video\">\n",
            "<Stream: itag=\"242\" mime_type=\"video/webm\" res=\"240p\" fps=\"30fps\" vcodec=\"vp9\" progressive=\"False\" type=\"video\">\n",
            "<Stream: itag=\"395\" mime_type=\"video/mp4\" res=\"240p\" fps=\"30fps\" vcodec=\"av01.0.00M.08.0.110.06.01.06.0\" progressive=\"False\" type=\"video\">\n",
            "<Stream: itag=\"160\" mime_type=\"video/mp4\" res=\"144p\" fps=\"30fps\" vcodec=\"avc1.4d400c\" progressive=\"False\" type=\"video\">\n",
            "<Stream: itag=\"278\" mime_type=\"video/webm\" res=\"144p\" fps=\"30fps\" vcodec=\"vp9\" progressive=\"False\" type=\"video\">\n",
            "<Stream: itag=\"394\" mime_type=\"video/mp4\" res=\"144p\" fps=\"30fps\" vcodec=\"av01.0.00M.08.0.110.06.01.06.0\" progressive=\"False\" type=\"video\">\n",
            "<Stream: itag=\"139\" mime_type=\"audio/mp4\" abr=\"48kbps\" acodec=\"mp4a.40.5\" progressive=\"False\" type=\"audio\">\n",
            "<Stream: itag=\"140\" mime_type=\"audio/mp4\" abr=\"128kbps\" acodec=\"mp4a.40.2\" progressive=\"False\" type=\"audio\">\n",
            "<Stream: itag=\"249\" mime_type=\"audio/webm\" abr=\"50kbps\" acodec=\"opus\" progressive=\"False\" type=\"audio\">\n",
            "<Stream: itag=\"250\" mime_type=\"audio/webm\" abr=\"70kbps\" acodec=\"opus\" progressive=\"False\" type=\"audio\">\n",
            "<Stream: itag=\"251\" mime_type=\"audio/webm\" abr=\"160kbps\" acodec=\"opus\" progressive=\"False\" type=\"audio\">\n"
          ]
        }
      ],
      "source": [
        "for i in yt.streams:\n",
        "    print(i)"
      ]
    },
    {
      "cell_type": "code",
      "execution_count": null,
      "metadata": {
        "colab": {
          "base_uri": "https://localhost:8080/"
        },
        "id": "CjHRVhmfCb_q",
        "outputId": "d52d777c-7f47-4e98-ce34-ba64be5469df"
      },
      "outputs": [
        {
          "name": "stdout",
          "output_type": "stream",
          "text": [
            " 1   https://www.youtube.com/watch?v=NNnIGh9g6fA\n",
            " 2   https://www.youtube.com/watch?v=Y0Oa4Lp5fLE\n",
            " 3   https://www.youtube.com/watch?v=oKNAzl-XN4I\n",
            " 4   https://www.youtube.com/watch?v=_dRXA1_e30o\n",
            " 5   https://www.youtube.com/watch?v=dFILgg9_hrU\n",
            " 6   https://www.youtube.com/watch?v=e0WZx7lUOrY\n",
            " 7   https://www.youtube.com/watch?v=RG5fN6KrDJE\n",
            " 8   https://www.youtube.com/watch?v=P388gUPSq_I\n",
            " 9   https://www.youtube.com/watch?v=ISVaoLlW104\n",
            "10   https://www.youtube.com/watch?v=5031rWXgdYo\n",
            "11   https://www.youtube.com/watch?v=uqU9lmFztOU\n",
            "12   https://www.youtube.com/watch?v=yETVsV4zfFw\n",
            "13   https://www.youtube.com/watch?v=kAfz0yAcOyQ\n",
            "14   https://www.youtube.com/watch?v=CAOnSbDSaOw\n",
            "15   https://www.youtube.com/watch?v=LOY3QH_jOtE\n",
            "16   https://www.youtube.com/watch?v=95OP9rSjxzw\n",
            "17   https://www.youtube.com/watch?v=JPYmarGO5jM\n",
            "18   https://www.youtube.com/watch?v=wLE71i4JJiM\n",
            "19   https://www.youtube.com/watch?v=EtVfoIkVSu8\n",
            "20   https://www.youtube.com/watch?v=BqP4_4kr7-0\n",
            "21   https://www.youtube.com/watch?v=_njf8jwEGRo\n",
            "22   https://www.youtube.com/watch?v=o_ZuWbX-CyE\n",
            "23   https://www.youtube.com/watch?v=SIOQgY1tqrU\n",
            "24   https://www.youtube.com/watch?v=nEnklxGAmak\n",
            "25   https://www.youtube.com/watch?v=-PpDq1WUtAw\n"
          ]
        }
      ],
      "source": [
        "for i in range(len(playlist)):\n",
        "    print(\"{:>2}   {:>3}\".format(i+1,playlist[i]))\n",
        "# playlist[2]"
      ]
    },
    {
      "cell_type": "code",
      "execution_count": null,
      "metadata": {
        "id": "XlqWHCUIg_Jk"
      },
      "outputs": [],
      "source": [
        "l = 'https://www.youtube.com/watch?v=K_euhRou98Y,https://www.youtube.com/watch?v=XvXK_vZ0BNw,https://www.youtube.com/watch?v=UKdLJ7-0iFM,https://www.youtube.com/watch?v=fR_NB714EAI,https://www.youtube.com/watch?v=Myp8z0ybdzM,https://www.youtube.com/watch?v=mzIoSW-cInA,https://www.youtube.com/watch?v=Cw6Nj2evjSs,https://www.youtube.com/watch?v=4eW5SWBi7vs,https://www.youtube.com/watch?v=aDp99WDIM_4,https://www.youtube.com/watch?v=-pKNCjUhPjQ,https://www.youtube.com/watch?v=jJSh54J1s5o,https://www.youtube.com/watch?v=Cw6Nj2evjSs,https://www.youtube.com/watch?v=pbmyrNjzdDk,https://i.ytimg.com/an_webp/IXHzbCuADt0/mqdefault_6s.webp?du=3000&sqp=CNSKyJAG&rs=AOn4CLAJPRKOTWOhx36NmiqanWythkuWAA,https://www.youtube.com/watch?v=4r8Mz3MMivY,https://www.youtube.com/watch?v=64Zp3tzNbpE,https://www.youtube.com/watch?v=UzzcUS2OHqo,https://www.youtube.com/watch?v=M_teob23ZzY,https://www.youtube.com/watch?v=EpIgvowZr00,https://www.youtube.com/watch?v=gA4YXUJX7t8,https://www.youtube.com/watch?v=cQP8WApzIQQ&t=169s'"
      ]
    },
    {
      "cell_type": "code",
      "execution_count": null,
      "metadata": {
        "id": "9V2NJEx_hjV2"
      },
      "outputs": [],
      "source": [
        "distributed_system =l.split(\",\")"
      ]
    },
    {
      "cell_type": "code",
      "execution_count": null,
      "metadata": {
        "id": "SDc0KQyW_-41"
      },
      "outputs": [],
      "source": [
        "deep = 'https://www.youtube.com/watch?v=PySo_6S4ZAg&list=PLoROMvodv4rOABXSygHTsbvUz4G_YQhOb&index=1,https://www.youtube.com/watch?v=AwQHqWyHRpU&list=PLoROMvodv4rOABXSygHTsbvUz4G_YQhOb&index=2,https://www.youtube.com/watch?v=JUJNGv_sb4Y&list=PLoROMvodv4rOABXSygHTsbvUz4G_YQhOb&index=3,https://www.youtube.com/watch?v=ANszao6YQuM&list=PLoROMvodv4rOABXSygHTsbvUz4G_YQhOb&index=4,https://www.youtube.com/watch?v=IM9ANAbufYM&list=PLoROMvodv4rOABXSygHTsbvUz4G_YQhOb&index=5,https://www.youtube.com/watch?v=G5FNYxbW_Qw&list=PLoROMvodv4rOABXSygHTsbvUz4G_YQhOb&index=6,https://www.youtube.com/watch?v=gCJCgQW_LKc&list=PLoROMvodv4rOABXSygHTsbvUz4G_YQhOb&index=7,https://www.youtube.com/watch?v=733m6qBH-jI&list=PLoROMvodv4rOABXSygHTsbvUz4G_YQhOb&index=8,https://www.youtube.com/watch?v=NP2XqpgTJyo&list=PLoROMvodv4rOABXSygHTsbvUz4G_YQhOb&index=9,https://www.youtube.com/watch?v=IFLstgCNOA4&list=PLoROMvodv4rOABXSygHTsbvUz4G_YQhOb&index=10'"
      ]
    },
    {
      "cell_type": "code",
      "execution_count": null,
      "metadata": {
        "id": "Ji2XosSr_-tZ"
      },
      "outputs": [],
      "source": [
        "machine_not_nag = 'https://www.youtube.com/watch?v=MrLPzBxG95I&list=PLl8OlHZGYOQ7bkVbuRthEsaLr7bONzbXS'"
      ]
    },
    {
      "cell_type": "code",
      "execution_count": null,
      "metadata": {
        "id": "J-poC0js_-AA"
      },
      "outputs": [],
      "source": [
        "semi = 'https://www.youtube.com/watch?v=vtIzMaLkCaM&list=PLT9dtLV29xu8NkipEERDB2I62tLyhTJym&index=1,https://www.youtube.com/watch?v=aFwVf5a3pZM&list=PLT9dtLV29xu8NkipEERDB2I62tLyhTJym&index=2'"
      ]
    },
    {
      "cell_type": "code",
      "execution_count": null,
      "metadata": {
        "id": "vIu2gm5QCQJE"
      },
      "outputs": [],
      "source": [
        "convex = 'https://www.youtube.com/watch?v=Rhe7JG7NaIM&list=PL8WsPW41L6l7rviIGvIkY0-jn-tM3YSNi&index=1,https://www.youtube.com/watch?v=SsqlMPSX7tk&list=PL8WsPW41L6l7rviIGvIkY0-jn-tM3YSNi&index=2,https://www.youtube.com/watch?v=3zfv4k6Sl0o&list=PL8WsPW41L6l7rviIGvIkY0-jn-tM3YSNi&index=3,https://www.youtube.com/watch?v=vMmFPkRonak&list=PL8WsPW41L6l7rviIGvIkY0-jn-tM3YSNi&index=4,https://www.youtube.com/watch?v=DMI8unIWvMc&list=PL8WsPW41L6l7rviIGvIkY0-jn-tM3YSNi&index=5,https://www.youtube.com/watch?v=01K05vT2R2s&list=PL8WsPW41L6l7rviIGvIkY0-jn-tM3YSNi&index=6,https://www.youtube.com/watch?v=rbrwIGzEOSw&list=PL8WsPW41L6l7rviIGvIkY0-jn-tM3YSNi&index=7,https://www.youtube.com/watch?v=XGDO6J2BMMY&list=PL8WsPW41L6l7rviIGvIkY0-jn-tM3YSNi&index=8,https://www.youtube.com/watch?v=AwYjuN3yYT8&list=PL8WsPW41L6l7rviIGvIkY0-jn-tM3YSNi&index=9,https://www.youtube.com/watch?v=cYSxa12zJuk&list=PL8WsPW41L6l7rviIGvIkY0-jn-tM3YSNi&index=10,https://www.youtube.com/watch?v=rx_08XsMIkk&list=PL8WsPW41L6l7rviIGvIkY0-jn-tM3YSNi&index=11,https://www.youtube.com/watch?v=ALQNXXN0t1k&list=PL8WsPW41L6l7rviIGvIkY0-jn-tM3YSNi&index=12,https://www.youtube.com/watch?v=Ke-kbu3Fn5c&list=PL8WsPW41L6l7rviIGvIkY0-jn-tM3YSNi&index=13'"
      ]
    },
    {
      "cell_type": "code",
      "execution_count": null,
      "metadata": {
        "id": "Z2F4YbphCv6l"
      },
      "outputs": [],
      "source": [
        "optim2 = 'https://www.youtube.com/watch?v=C1lhuz6pZC0&list=PLUl4u3cNGP619EG1wp0kT-7rDE_Az5TNd'"
      ]
    },
    {
      "cell_type": "code",
      "execution_count": null,
      "metadata": {
        "colab": {
          "base_uri": "https://localhost:8080/"
        },
        "id": "mcmUwyZzDJl9",
        "outputId": "5b09f830-ca9b-4a93-d119-a9de78930e37"
      },
      "outputs": [
        {
          "name": "stdout",
          "output_type": "stream",
          "text": [
            "Downloading...\n",
            "From: https://mu-link.herokuapp.com/dl/0/%5B%40AttackOnTitan%5DShingeki%20No%20Kyojin%20S4E23%281080p%C3%97265%29.mkv\n",
            "To: /content/%5B%40AttackOnTitan%5DShingeki%20No%20Kyojin%20S4E23%281080p%C3%97265%29.mkv\n",
            "100% 167M/167M [00:03<00:00, 46.4MB/s]\n"
          ]
        }
      ],
      "source": [
        "!gdown https://mu-link.herokuapp.com/dl/0/%5B%40AttackOnTitan%5DShingeki%20No%20Kyojin%20S4E23%281080p%C3%97265%29.mkv"
      ]
    },
    {
      "cell_type": "markdown",
      "metadata": {
        "id": "su2txcHuxsZT"
      },
      "source": [
        "# youtube list"
      ]
    },
    {
      "cell_type": "code",
      "execution_count": null,
      "metadata": {
        "colab": {
          "base_uri": "https://localhost:8080/"
        },
        "id": "iIycoAxOxvwI",
        "outputId": "ca4bd1cf-5328-4fdf-fec1-5235b6ceb093"
      },
      "outputs": [
        {
          "name": "stdout",
          "output_type": "stream",
          "text": [
            "im in 1\n"
          ]
        }
      ],
      "source": [
        "# Importing libraries\n",
        "import bs4 as bs\n",
        "import sys\n",
        "import urllib.request\n",
        "# from PyQt5.QtWebEngineWidgets import QWebEnginePage\n",
        "# from PyQt5.QtWidgets import QApplication\n",
        "# from PyQt5.QtCore import QUrl\n",
        "import pytube # library for downloading youtube videos\n",
        "import requests as re\n",
        "\n",
        "# class Page(QWebEnginePage):\n",
        "# \tdef __init__(self, url):\n",
        "# \t\tself.app = QApplication(sys.argv)\n",
        "# \t\tQWebEnginePage.__init__(self)\n",
        "# \t\tself.html = ''\n",
        "# \t\tself.loadFinished.connect(self._on_load_finished)\n",
        "# \t\tself.load(QUrl(url))\n",
        "# \t\tself.app.exec_()\n",
        "\n",
        "# \tdef _on_load_finished(self):\n",
        "# \t\tself.html = self.toHtml(self.Callable)\n",
        "# \t\tprint('Load finished')\n",
        "\n",
        "# \tdef Callable(self, html_str):\n",
        "# \t\tself.html = html_str\n",
        "# \t\tself.app.quit()\n",
        "\n",
        "\n",
        "links = []\n",
        "\n",
        "\n",
        "def exact_link(link):\n",
        "\tvid_id = link.split('=')\n",
        "\t# print(vid_id)\n",
        "\tstr = \"\"\n",
        "\tfor i in vid_id[0:2]:\n",
        "\t\tstr += i + \"=\"\n",
        "\n",
        "\tstr_new = str[0:len(str) - 1]\n",
        "\tindex = str_new.find(\"&\")\n",
        "\n",
        "\tnew_link = \"https://www.youtube.com\" + str_new[0:index]\n",
        "\treturn new_link\n",
        "\n",
        "\n",
        "url = \"https://www.youtube.com/watch?v=4_jiFQXPAsw&list=PLdkTDauaUnQpzuOCZyUUZc0lxf4-PXNR5\"\n",
        "# Scraping and extracting the video\n",
        "# links from the given playlist url\n",
        "page = re.get(url)\n",
        "count = 0\n",
        "print(\"im in 1\")\n",
        "soup = bs.BeautifulSoup(page.text, 'html.parser')\n",
        "for link in soup.find_all('a', id='thumbnail'):\n",
        "    print(link)\n",
        "    # print('d')\n",
        "# \t# not using first link because it is\n",
        "# \t# playlist link not particular video link\n",
        "# \tif count == 0:\n",
        "# \t\tcount += 1\n",
        "# \t\tcontinue\n",
        "# \telse:\n",
        "# \t\ttry:\n",
        "# \t\t\t# Prevents error for links with no href.\n",
        "# \t\t\tvid_src = link['href']\n",
        "# \t\t\tprint(vid_src)\n",
        "# \t\t\t# keeping the format of link to be\n",
        "# \t\t\t# given to pytube otherwise in some cases\n",
        "# \t\t\tnew_link = exact_link(vid_src)\n",
        "\n",
        "# \t\t\t# error might occur due to this\n",
        "# \t\t\t# print(new_link)\n",
        "\n",
        "# \t\t\t# appending the link to the links array\n",
        "# \t\t\tlinks.append(new_link)\n",
        "# \t\texcept Exception as exp:\n",
        "# \t\t\tpass # No function necessary for invalid <a> tags.\n",
        "\n",
        "# print(links)\n",
        "\n",
        "# # # downloading each video from\n",
        "# # # the link in the links array\n",
        "# # for link in links:\n",
        "# # \tyt = pytube.YouTube(link)\n",
        "\n",
        "# # \t# Downloaded video will be the best quality video\n",
        "# # \tstream = yt.streams.filter(progressive=True,\n",
        "# # \t\t\t\t\t\t\tfile_extension='mp4').order_by(\n",
        "# # \t\t'resolution').desc().first()\n",
        "# # \ttry:\n",
        "# # \t\tstream.download()\n",
        "# # \t\t# printing the links downloaded\n",
        "# # \t\tprint(\"Downloaded: \", link)\n",
        "# # \texcept:\n",
        "# # \t\tprint('Some error in downloading: ', link)\n"
      ]
    },
    {
      "cell_type": "code",
      "execution_count": null,
      "metadata": {
        "colab": {
          "base_uri": "https://localhost:8080/"
        },
        "id": "N2nxHm4Sy_3-",
        "outputId": "2adae838-94c0-4c02-da1c-4c1f0948e616"
      },
      "outputs": [
        {
          "data": {
            "text/plain": [
              "[]"
            ]
          },
          "execution_count": 22,
          "metadata": {},
          "output_type": "execute_result"
        }
      ],
      "source": [
        "links"
      ]
    },
    {
      "cell_type": "markdown",
      "metadata": {
        "id": "aH2sJv94fQL4"
      },
      "source": [
        "# web"
      ]
    },
    {
      "cell_type": "code",
      "execution_count": null,
      "metadata": {
        "id": "BEEWo6ZxfS27"
      },
      "outputs": [],
      "source": [
        "lin = 'https://www.youtube.com/channel/UC_7WrbZTCODu1o_kfUMq88g/videos'"
      ]
    },
    {
      "cell_type": "code",
      "execution_count": null,
      "metadata": {
        "id": "yC2LGe8wfVRv"
      },
      "outputs": [],
      "source": [
        "import requests as re\n",
        "from bs4 import BeautifulSoup as bs"
      ]
    },
    {
      "cell_type": "code",
      "execution_count": null,
      "metadata": {
        "id": "AbgzkRJdfcqp"
      },
      "outputs": [],
      "source": [
        "r = re.get(lin)\n",
        "result = bs(r.text,\"html.parser\")\n",
        "result"
      ]
    },
    {
      "cell_type": "code",
      "execution_count": null,
      "metadata": {
        "id": "H7-o66fnfsXX"
      },
      "outputs": [],
      "source": [
        "e = result.find('div',{\"id\":\"primary\"})\n",
        "e"
      ]
    },
    {
      "cell_type": "markdown",
      "metadata": {
        "id": "PiqItoLEO-6k"
      },
      "source": [
        "# what?"
      ]
    }
  ],
  "metadata": {
    "colab": {
      "collapsed_sections": [],
      "name": "youtube.ipynb",
      "provenance": [],
      "mount_file_id": "18uI0vCUy1032b4-EFr5gTfDUtIIlphER",
      "authorship_tag": "ABX9TyOpS5+wlEry53QPtVVlReiS",
      "include_colab_link": true
    },
    "kernelspec": {
      "display_name": "Python 3",
      "name": "python3"
    },
    "language_info": {
      "name": "python"
    }
  },
  "nbformat": 4,
  "nbformat_minor": 0
}